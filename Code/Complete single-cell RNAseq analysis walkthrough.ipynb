{
 "cells": [
  {
   "cell_type": "code",
   "execution_count": 8,
   "id": "8bdf9a4a",
   "metadata": {},
   "outputs": [],
   "source": [
    "import scanpy as sc\n",
    "import pandas as pd\n",
    "import scvi\n",
    "import os\n",
    "import numpy as np\n",
    "import pandas as pd\n",
    "import seaborn as sns"
   ]
  },
  {
   "cell_type": "code",
   "execution_count": 2,
   "id": "ec853635",
   "metadata": {},
   "outputs": [
    {
     "data": {
      "text/plain": [
       "'C:\\\\Na\\\\DFU_Project\\\\Code'"
      ]
     },
     "execution_count": 2,
     "metadata": {},
     "output_type": "execute_result"
    }
   ],
   "source": [
    "pwd"
   ]
  },
  {
   "cell_type": "code",
   "execution_count": 69,
   "id": "637a3961",
   "metadata": {},
   "outputs": [
    {
     "data": {
      "text/plain": [
       "AnnData object with n_obs × n_vars = 3951 × 18099"
      ]
     },
     "execution_count": 69,
     "metadata": {},
     "output_type": "execute_result"
    }
   ],
   "source": [
    "adata=sc.read_csv('C:\\\\Na\\\\DFU_Project\\\\Data\\\\Foot skin\\\\GSM5050523_DFU- healer.csv').T\n",
    "adata"
   ]
  },
  {
   "cell_type": "code",
   "execution_count": 70,
   "id": "cbc11f03",
   "metadata": {},
   "outputs": [
    {
     "data": {
      "text/html": [
       "<div>\n",
       "<style scoped>\n",
       "    .dataframe tbody tr th:only-of-type {\n",
       "        vertical-align: middle;\n",
       "    }\n",
       "\n",
       "    .dataframe tbody tr th {\n",
       "        vertical-align: top;\n",
       "    }\n",
       "\n",
       "    .dataframe thead th {\n",
       "        text-align: right;\n",
       "    }\n",
       "</style>\n",
       "<table border=\"1\" class=\"dataframe\">\n",
       "  <thead>\n",
       "    <tr style=\"text-align: right;\">\n",
       "      <th></th>\n",
       "    </tr>\n",
       "  </thead>\n",
       "  <tbody>\n",
       "    <tr>\n",
       "      <th>AAACCTGAGGCAGGTT</th>\n",
       "    </tr>\n",
       "    <tr>\n",
       "      <th>AAACCTGAGGGAACGG</th>\n",
       "    </tr>\n",
       "    <tr>\n",
       "      <th>AAACCTGAGGTGATTA</th>\n",
       "    </tr>\n",
       "    <tr>\n",
       "      <th>AAACCTGAGTTAACGA</th>\n",
       "    </tr>\n",
       "    <tr>\n",
       "      <th>AAACCTGCATGTTGAC</th>\n",
       "    </tr>\n",
       "    <tr>\n",
       "      <th>...</th>\n",
       "    </tr>\n",
       "    <tr>\n",
       "      <th>TTTGTCAGTCAATGTC</th>\n",
       "    </tr>\n",
       "    <tr>\n",
       "      <th>TTTGTCAGTCATATCG</th>\n",
       "    </tr>\n",
       "    <tr>\n",
       "      <th>TTTGTCAGTGAGGGAG</th>\n",
       "    </tr>\n",
       "    <tr>\n",
       "      <th>TTTGTCATCATCTGTT</th>\n",
       "    </tr>\n",
       "    <tr>\n",
       "      <th>TTTGTCATCATTGCGA</th>\n",
       "    </tr>\n",
       "  </tbody>\n",
       "</table>\n",
       "<p>3951 rows × 0 columns</p>\n",
       "</div>"
      ],
      "text/plain": [
       "Empty DataFrame\n",
       "Columns: []\n",
       "Index: [AAACCTGAGGCAGGTT, AAACCTGAGGGAACGG, AAACCTGAGGTGATTA, AAACCTGAGTTAACGA, AAACCTGCATGTTGAC, AAACCTGGTGACTCAT, AAACCTGGTTCAGTAC, AAACCTGGTTGGACCC, AAACCTGTCCGCATAA, AAACCTGTCGGAAACG, AAACCTGTCGGAAATA, AAACGGGAGGTAAACT, AAACGGGAGTAGGTGC, AAACGGGCAATAGCGG, AAACGGGCACAAGACG, AAACGGGCATCGATGT, AAACGGGCATCGGGTC, AAACGGGGTAAGTGGC, AAACGGGGTACTTGAC, AAACGGGTCAACACCA, AAACGGGTCGCTTAGA, AAACGGGTCGGTTCGG, AAAGATGAGAATTGTG, AAAGATGAGAGTAAGG, AAAGATGAGGAATTAC, AAAGATGAGGAGCGTT, AAAGATGCAAGAAGAG, AAAGATGCACGGACAA, AAAGATGCAGCCTATA, AAAGATGGTTCAGGCC, AAAGATGTCCTAGAAC, AAAGATGTCGTTTAGG, AAAGATGTCTTCGAGA, AAAGCAAAGCTCCCAG, AAAGCAAAGTGAATTG, AAAGCAACACATTTCT, AAAGCAACATGCAATC, AAAGCAACATTAGCCA, AAAGCAAGTACCGCTG, AAAGCAAGTATCAGTC, AAAGCAAGTCTTGATG, AAAGCAAGTCTTGCGG, AAAGCAAGTGTGGCTC, AAAGCAAGTTCACGGC, AAAGCAATCTGACCTC, AAAGCAATCTGAGGGA, AAAGTAGAGACTAAGT, AAAGTAGAGGCGACAT, AAAGTAGCAGGTGCCT, AAAGTAGGTCCAACTA, AAAGTAGGTCCGTTAA, AAAGTAGGTCTTCGTC, AAAGTAGGTGTAATGA, AAAGTAGGTTAGGGTG, AAAGTAGTCAGTGTTG, AAATGCCAGTGATCGG, AAATGCCAGTTGAGTA, AAATGCCAGTTGTAGA, AAATGCCCAAACCTAC, AAATGCCCAGGTGGAT, AAATGCCGTACCGTTA, AAATGCCGTCTAGTGT, AAATGCCGTGTGGTTT, AAATGCCGTTCCCTTG, AAATGCCTCACCGGGT, AAATGCCTCCGAATGT, AACACGTAGAATTGTG, AACACGTAGACTTGAA, AACACGTAGGATGCGT, AACACGTAGTAGCGGT, AACACGTAGTTTAGGA, AACACGTCAAGCGTAG, AACACGTGTAGCAAAT, AACACGTGTCAATACC, AACACGTGTTTGTTTC, AACACGTTCATAGCAC, AACCATGAGTCTCGGC, AACCATGCAAACGTGG, AACCATGGTCGGCTCA, AACCATGTCATCGATG, AACCATGTCCAAACTG, AACCATGTCCAAAGTC, AACCGCGCAATCACAC, AACCGCGCAGCGAACA, AACCGCGTCCGTTGCT, AACCGCGTCGCTTAGA, AACGTTGAGACAGGCT, AACGTTGAGCTCCTTC, AACGTTGAGGTTACCT, AACGTTGAGTGTGGCA, AACGTTGCAAGCGATG, AACGTTGCAAGTCATC, AACGTTGGTACCGGCT, AACGTTGGTCCAGTGC, AACGTTGGTCGTTGTA, AACGTTGGTTGCTCCT, AACGTTGTCACGGTTA, AACGTTGTCAGAGACG, AACGTTGTCCTTAATC, AACTCAGAGGGTTCCC, ...]\n",
       "\n",
       "[3951 rows x 0 columns]"
      ]
     },
     "execution_count": 70,
     "metadata": {},
     "output_type": "execute_result"
    }
   ],
   "source": [
    "adata.obs"
   ]
  },
  {
   "cell_type": "code",
   "execution_count": 71,
   "id": "dd9e95aa",
   "metadata": {
    "scrolled": true
   },
   "outputs": [
    {
     "data": {
      "text/plain": [
       "(3951, 18099)"
      ]
     },
     "execution_count": 71,
     "metadata": {},
     "output_type": "execute_result"
    }
   ],
   "source": [
    "adata.X.shape"
   ]
  },
  {
   "cell_type": "markdown",
   "id": "5b603662",
   "metadata": {},
   "source": [
    "## Doublet removal- optional but preferred"
   ]
  },
  {
   "cell_type": "code",
   "execution_count": 72,
   "id": "17870109",
   "metadata": {},
   "outputs": [],
   "source": [
    "import scvi"
   ]
  },
  {
   "cell_type": "code",
   "execution_count": 7,
   "id": "4ab84c79",
   "metadata": {},
   "outputs": [
    {
     "data": {
      "text/plain": [
       "AnnData object with n_obs × n_vars = 3951 × 18099"
      ]
     },
     "execution_count": 7,
     "metadata": {},
     "output_type": "execute_result"
    }
   ],
   "source": [
    "adata"
   ]
  },
  {
   "cell_type": "code",
   "execution_count": 73,
   "id": "1e49ed20",
   "metadata": {},
   "outputs": [],
   "source": [
    "sc.pp.filter_genes(adata, min_cells = 10)"
   ]
  },
  {
   "cell_type": "code",
   "execution_count": 74,
   "id": "b26e62f0",
   "metadata": {},
   "outputs": [],
   "source": [
    "sc.pp.highly_variable_genes(adata, n_top_genes = 2000, subset = True, flavor = 'seurat_v3')"
   ]
  },
  {
   "cell_type": "code",
   "execution_count": 75,
   "id": "931c49d7",
   "metadata": {},
   "outputs": [],
   "source": [
    "sc.pp.highly_variable_genes(adata, n_top_genes = 2000, subset = True, flavor = 'seurat_v3')"
   ]
  },
  {
   "cell_type": "code",
   "execution_count": 76,
   "id": "77d299c6",
   "metadata": {
    "scrolled": true
   },
   "outputs": [
    {
     "name": "stderr",
     "output_type": "stream",
     "text": [
      "GPU available: False, used: False\n",
      "TPU available: False, using: 0 TPU cores\n",
      "IPU available: False, using: 0 IPUs\n",
      "HPU available: False, using: 0 HPUs\n"
     ]
    },
    {
     "name": "stdout",
     "output_type": "stream",
     "text": [
      "Epoch 400/400: 100%|█████████████| 400/400 [09:36<00:00,  1.56s/it, v_num=1, train_loss_step=587, train_loss_epoch=647]"
     ]
    },
    {
     "name": "stderr",
     "output_type": "stream",
     "text": [
      "`Trainer.fit` stopped: `max_epochs=400` reached.\n"
     ]
    },
    {
     "name": "stdout",
     "output_type": "stream",
     "text": [
      "Epoch 400/400: 100%|█████████████| 400/400 [09:36<00:00,  1.44s/it, v_num=1, train_loss_step=587, train_loss_epoch=647]\n"
     ]
    }
   ],
   "source": [
    "scvi.model.SCVI.setup_anndata(adata)\n",
    "vae = scvi.model.SCVI(adata)\n",
    "vae.train()"
   ]
  },
  {
   "cell_type": "code",
   "execution_count": 77,
   "id": "082f9d85",
   "metadata": {},
   "outputs": [
    {
     "name": "stdout",
     "output_type": "stream",
     "text": [
      "\u001b[34mINFO    \u001b[0m Creating doublets, preparing SOLO model.                                                                  \n"
     ]
    },
    {
     "name": "stderr",
     "output_type": "stream",
     "text": [
      "GPU available: False, used: False\n",
      "TPU available: False, using: 0 TPU cores\n",
      "IPU available: False, using: 0 IPUs\n",
      "HPU available: False, using: 0 HPUs\n"
     ]
    },
    {
     "name": "stdout",
     "output_type": "stream",
     "text": [
      "Epoch 319/400:  80%|███████▏ | 319/400 [01:32<00:23,  3.46it/s, v_num=1, train_loss_step=0.399, train_loss_epoch=0.301]\n",
      "Monitored metric validation_loss did not improve in the last 30 records. Best score: 0.290. Signaling Trainer to stop.\n"
     ]
    }
   ],
   "source": [
    "solo = scvi.external.SOLO.from_scvi_model(vae)\n",
    "solo.train()"
   ]
  },
  {
   "cell_type": "code",
   "execution_count": 78,
   "id": "5c6463ab",
   "metadata": {},
   "outputs": [
    {
     "data": {
      "text/html": [
       "<div>\n",
       "<style scoped>\n",
       "    .dataframe tbody tr th:only-of-type {\n",
       "        vertical-align: middle;\n",
       "    }\n",
       "\n",
       "    .dataframe tbody tr th {\n",
       "        vertical-align: top;\n",
       "    }\n",
       "\n",
       "    .dataframe thead th {\n",
       "        text-align: right;\n",
       "    }\n",
       "</style>\n",
       "<table border=\"1\" class=\"dataframe\">\n",
       "  <thead>\n",
       "    <tr style=\"text-align: right;\">\n",
       "      <th></th>\n",
       "      <th>doublet</th>\n",
       "      <th>singlet</th>\n",
       "      <th>prediction</th>\n",
       "    </tr>\n",
       "  </thead>\n",
       "  <tbody>\n",
       "    <tr>\n",
       "      <th>AAACCTGAGGCAGGTT</th>\n",
       "      <td>-1.572482</td>\n",
       "      <td>1.775799</td>\n",
       "      <td>singlet</td>\n",
       "    </tr>\n",
       "    <tr>\n",
       "      <th>AAACCTGAGGGAACGG</th>\n",
       "      <td>-0.640120</td>\n",
       "      <td>0.874390</td>\n",
       "      <td>singlet</td>\n",
       "    </tr>\n",
       "    <tr>\n",
       "      <th>AAACCTGAGGTGATTA</th>\n",
       "      <td>-1.773188</td>\n",
       "      <td>1.454741</td>\n",
       "      <td>singlet</td>\n",
       "    </tr>\n",
       "    <tr>\n",
       "      <th>AAACCTGAGTTAACGA</th>\n",
       "      <td>-1.628611</td>\n",
       "      <td>1.449625</td>\n",
       "      <td>singlet</td>\n",
       "    </tr>\n",
       "    <tr>\n",
       "      <th>AAACCTGCATGTTGAC</th>\n",
       "      <td>-1.404709</td>\n",
       "      <td>1.014220</td>\n",
       "      <td>singlet</td>\n",
       "    </tr>\n",
       "    <tr>\n",
       "      <th>...</th>\n",
       "      <td>...</td>\n",
       "      <td>...</td>\n",
       "      <td>...</td>\n",
       "    </tr>\n",
       "    <tr>\n",
       "      <th>TTTGTCAGTCAATGTC</th>\n",
       "      <td>-0.058641</td>\n",
       "      <td>0.941521</td>\n",
       "      <td>singlet</td>\n",
       "    </tr>\n",
       "    <tr>\n",
       "      <th>TTTGTCAGTCATATCG</th>\n",
       "      <td>-1.332050</td>\n",
       "      <td>1.019151</td>\n",
       "      <td>singlet</td>\n",
       "    </tr>\n",
       "    <tr>\n",
       "      <th>TTTGTCAGTGAGGGAG</th>\n",
       "      <td>-0.611355</td>\n",
       "      <td>0.500164</td>\n",
       "      <td>singlet</td>\n",
       "    </tr>\n",
       "    <tr>\n",
       "      <th>TTTGTCATCATCTGTT</th>\n",
       "      <td>-0.718379</td>\n",
       "      <td>0.541062</td>\n",
       "      <td>singlet</td>\n",
       "    </tr>\n",
       "    <tr>\n",
       "      <th>TTTGTCATCATTGCGA</th>\n",
       "      <td>-0.233713</td>\n",
       "      <td>-0.245788</td>\n",
       "      <td>doublet</td>\n",
       "    </tr>\n",
       "  </tbody>\n",
       "</table>\n",
       "<p>3951 rows × 3 columns</p>\n",
       "</div>"
      ],
      "text/plain": [
       "                   doublet   singlet prediction\n",
       "AAACCTGAGGCAGGTT -1.572482  1.775799    singlet\n",
       "AAACCTGAGGGAACGG -0.640120  0.874390    singlet\n",
       "AAACCTGAGGTGATTA -1.773188  1.454741    singlet\n",
       "AAACCTGAGTTAACGA -1.628611  1.449625    singlet\n",
       "AAACCTGCATGTTGAC -1.404709  1.014220    singlet\n",
       "...                    ...       ...        ...\n",
       "TTTGTCAGTCAATGTC -0.058641  0.941521    singlet\n",
       "TTTGTCAGTCATATCG -1.332050  1.019151    singlet\n",
       "TTTGTCAGTGAGGGAG -0.611355  0.500164    singlet\n",
       "TTTGTCATCATCTGTT -0.718379  0.541062    singlet\n",
       "TTTGTCATCATTGCGA -0.233713 -0.245788    doublet\n",
       "\n",
       "[3951 rows x 3 columns]"
      ]
     },
     "execution_count": 78,
     "metadata": {},
     "output_type": "execute_result"
    }
   ],
   "source": [
    "df = solo.predict()\n",
    "df['prediction'] = solo.predict(soft = False)\n",
    "df\n"
   ]
  },
  {
   "cell_type": "code",
   "execution_count": 79,
   "id": "a272a0b7",
   "metadata": {},
   "outputs": [
    {
     "data": {
      "text/html": [
       "<div>\n",
       "<style scoped>\n",
       "    .dataframe tbody tr th:only-of-type {\n",
       "        vertical-align: middle;\n",
       "    }\n",
       "\n",
       "    .dataframe tbody tr th {\n",
       "        vertical-align: top;\n",
       "    }\n",
       "\n",
       "    .dataframe thead th {\n",
       "        text-align: right;\n",
       "    }\n",
       "</style>\n",
       "<table border=\"1\" class=\"dataframe\">\n",
       "  <thead>\n",
       "    <tr style=\"text-align: right;\">\n",
       "      <th></th>\n",
       "      <th>doublet</th>\n",
       "      <th>singlet</th>\n",
       "    </tr>\n",
       "    <tr>\n",
       "      <th>prediction</th>\n",
       "      <th></th>\n",
       "      <th></th>\n",
       "    </tr>\n",
       "  </thead>\n",
       "  <tbody>\n",
       "    <tr>\n",
       "      <th>doublet</th>\n",
       "      <td>436</td>\n",
       "      <td>436</td>\n",
       "    </tr>\n",
       "    <tr>\n",
       "      <th>singlet</th>\n",
       "      <td>3515</td>\n",
       "      <td>3515</td>\n",
       "    </tr>\n",
       "  </tbody>\n",
       "</table>\n",
       "</div>"
      ],
      "text/plain": [
       "            doublet  singlet\n",
       "prediction                  \n",
       "doublet         436      436\n",
       "singlet        3515     3515"
      ]
     },
     "execution_count": 79,
     "metadata": {},
     "output_type": "execute_result"
    }
   ],
   "source": [
    "df.groupby('prediction').count()"
   ]
  },
  {
   "cell_type": "code",
   "execution_count": 80,
   "id": "67386c87",
   "metadata": {},
   "outputs": [
    {
     "data": {
      "text/html": [
       "<div>\n",
       "<style scoped>\n",
       "    .dataframe tbody tr th:only-of-type {\n",
       "        vertical-align: middle;\n",
       "    }\n",
       "\n",
       "    .dataframe tbody tr th {\n",
       "        vertical-align: top;\n",
       "    }\n",
       "\n",
       "    .dataframe thead th {\n",
       "        text-align: right;\n",
       "    }\n",
       "</style>\n",
       "<table border=\"1\" class=\"dataframe\">\n",
       "  <thead>\n",
       "    <tr style=\"text-align: right;\">\n",
       "      <th></th>\n",
       "      <th>doublet</th>\n",
       "      <th>singlet</th>\n",
       "      <th>prediction</th>\n",
       "      <th>dif</th>\n",
       "    </tr>\n",
       "  </thead>\n",
       "  <tbody>\n",
       "    <tr>\n",
       "      <th>AAACCTGAGGCAGGTT</th>\n",
       "      <td>-1.572482</td>\n",
       "      <td>1.775799</td>\n",
       "      <td>singlet</td>\n",
       "      <td>-3.348281</td>\n",
       "    </tr>\n",
       "    <tr>\n",
       "      <th>AAACCTGAGGGAACGG</th>\n",
       "      <td>-0.640120</td>\n",
       "      <td>0.874390</td>\n",
       "      <td>singlet</td>\n",
       "      <td>-1.514511</td>\n",
       "    </tr>\n",
       "    <tr>\n",
       "      <th>AAACCTGAGGTGATTA</th>\n",
       "      <td>-1.773188</td>\n",
       "      <td>1.454741</td>\n",
       "      <td>singlet</td>\n",
       "      <td>-3.227929</td>\n",
       "    </tr>\n",
       "    <tr>\n",
       "      <th>AAACCTGAGTTAACGA</th>\n",
       "      <td>-1.628611</td>\n",
       "      <td>1.449625</td>\n",
       "      <td>singlet</td>\n",
       "      <td>-3.078237</td>\n",
       "    </tr>\n",
       "    <tr>\n",
       "      <th>AAACCTGCATGTTGAC</th>\n",
       "      <td>-1.404709</td>\n",
       "      <td>1.014220</td>\n",
       "      <td>singlet</td>\n",
       "      <td>-2.418929</td>\n",
       "    </tr>\n",
       "    <tr>\n",
       "      <th>...</th>\n",
       "      <td>...</td>\n",
       "      <td>...</td>\n",
       "      <td>...</td>\n",
       "      <td>...</td>\n",
       "    </tr>\n",
       "    <tr>\n",
       "      <th>TTTGTCAGTCAATGTC</th>\n",
       "      <td>-0.058641</td>\n",
       "      <td>0.941521</td>\n",
       "      <td>singlet</td>\n",
       "      <td>-1.000162</td>\n",
       "    </tr>\n",
       "    <tr>\n",
       "      <th>TTTGTCAGTCATATCG</th>\n",
       "      <td>-1.332050</td>\n",
       "      <td>1.019151</td>\n",
       "      <td>singlet</td>\n",
       "      <td>-2.351202</td>\n",
       "    </tr>\n",
       "    <tr>\n",
       "      <th>TTTGTCAGTGAGGGAG</th>\n",
       "      <td>-0.611355</td>\n",
       "      <td>0.500164</td>\n",
       "      <td>singlet</td>\n",
       "      <td>-1.111519</td>\n",
       "    </tr>\n",
       "    <tr>\n",
       "      <th>TTTGTCATCATCTGTT</th>\n",
       "      <td>-0.718379</td>\n",
       "      <td>0.541062</td>\n",
       "      <td>singlet</td>\n",
       "      <td>-1.259442</td>\n",
       "    </tr>\n",
       "    <tr>\n",
       "      <th>TTTGTCATCATTGCGA</th>\n",
       "      <td>-0.233713</td>\n",
       "      <td>-0.245788</td>\n",
       "      <td>doublet</td>\n",
       "      <td>0.012076</td>\n",
       "    </tr>\n",
       "  </tbody>\n",
       "</table>\n",
       "<p>3951 rows × 4 columns</p>\n",
       "</div>"
      ],
      "text/plain": [
       "                   doublet   singlet prediction       dif\n",
       "AAACCTGAGGCAGGTT -1.572482  1.775799    singlet -3.348281\n",
       "AAACCTGAGGGAACGG -0.640120  0.874390    singlet -1.514511\n",
       "AAACCTGAGGTGATTA -1.773188  1.454741    singlet -3.227929\n",
       "AAACCTGAGTTAACGA -1.628611  1.449625    singlet -3.078237\n",
       "AAACCTGCATGTTGAC -1.404709  1.014220    singlet -2.418929\n",
       "...                    ...       ...        ...       ...\n",
       "TTTGTCAGTCAATGTC -0.058641  0.941521    singlet -1.000162\n",
       "TTTGTCAGTCATATCG -1.332050  1.019151    singlet -2.351202\n",
       "TTTGTCAGTGAGGGAG -0.611355  0.500164    singlet -1.111519\n",
       "TTTGTCATCATCTGTT -0.718379  0.541062    singlet -1.259442\n",
       "TTTGTCATCATTGCGA -0.233713 -0.245788    doublet  0.012076\n",
       "\n",
       "[3951 rows x 4 columns]"
      ]
     },
     "execution_count": 80,
     "metadata": {},
     "output_type": "execute_result"
    }
   ],
   "source": [
    "df['dif'] = df.doublet - df.singlet\n",
    "df"
   ]
  },
  {
   "cell_type": "code",
   "execution_count": 82,
   "id": "1f5776e9",
   "metadata": {},
   "outputs": [
    {
     "name": "stderr",
     "output_type": "stream",
     "text": [
      "C:\\Users\\thoca\\anaconda3\\envs\\scRNAseq_Env2\\lib\\site-packages\\seaborn\\axisgrid.py:118: UserWarning: The figure layout has changed to tight\n",
      "  self._figure.tight_layout(*args, **kwargs)\n"
     ]
    },
    {
     "data": {
      "text/plain": [
       "<seaborn.axisgrid.FacetGrid at 0x2099b6c6c40>"
      ]
     },
     "execution_count": 82,
     "metadata": {},
     "output_type": "execute_result"
    },
    {
     "data": {
      "image/png": "[encoded data removed]",
      "text/plain": [
       "<Figure size 500x500 with 1 Axes>"
      ]
     },
     "metadata": {},
     "output_type": "display_data"
    }
   ],
   "source": [
    "sns.displot(df[df.prediction == 'doublet'], x = 'dif')"
   ]
  },
  {
   "cell_type": "code",
   "execution_count": 83,
   "id": "ee29495e",
   "metadata": {},
   "outputs": [
    {
     "data": {
      "text/html": [
       "<div>\n",
       "<style scoped>\n",
       "    .dataframe tbody tr th:only-of-type {\n",
       "        vertical-align: middle;\n",
       "    }\n",
       "\n",
       "    .dataframe tbody tr th {\n",
       "        vertical-align: top;\n",
       "    }\n",
       "\n",
       "    .dataframe thead th {\n",
       "        text-align: right;\n",
       "    }\n",
       "</style>\n",
       "<table border=\"1\" class=\"dataframe\">\n",
       "  <thead>\n",
       "    <tr style=\"text-align: right;\">\n",
       "      <th></th>\n",
       "      <th>doublet</th>\n",
       "      <th>singlet</th>\n",
       "      <th>prediction</th>\n",
       "      <th>dif</th>\n",
       "    </tr>\n",
       "  </thead>\n",
       "  <tbody>\n",
       "    <tr>\n",
       "      <th>AAACGGGTCAACACCA</th>\n",
       "      <td>1.303689</td>\n",
       "      <td>-0.605795</td>\n",
       "      <td>doublet</td>\n",
       "      <td>1.909483</td>\n",
       "    </tr>\n",
       "    <tr>\n",
       "      <th>AAAGATGGTTCAGGCC</th>\n",
       "      <td>0.515669</td>\n",
       "      <td>-0.496778</td>\n",
       "      <td>doublet</td>\n",
       "      <td>1.012447</td>\n",
       "    </tr>\n",
       "    <tr>\n",
       "      <th>AAAGCAAGTGTGGCTC</th>\n",
       "      <td>1.942930</td>\n",
       "      <td>-1.570364</td>\n",
       "      <td>doublet</td>\n",
       "      <td>3.513295</td>\n",
       "    </tr>\n",
       "    <tr>\n",
       "      <th>AAAGTAGGTGTAATGA</th>\n",
       "      <td>0.275609</td>\n",
       "      <td>-0.725987</td>\n",
       "      <td>doublet</td>\n",
       "      <td>1.001596</td>\n",
       "    </tr>\n",
       "    <tr>\n",
       "      <th>AACTCTTCAATGAATG</th>\n",
       "      <td>1.926197</td>\n",
       "      <td>-1.291628</td>\n",
       "      <td>doublet</td>\n",
       "      <td>3.217825</td>\n",
       "    </tr>\n",
       "    <tr>\n",
       "      <th>...</th>\n",
       "      <td>...</td>\n",
       "      <td>...</td>\n",
       "      <td>...</td>\n",
       "      <td>...</td>\n",
       "    </tr>\n",
       "    <tr>\n",
       "      <th>TTGTAGGCAGATCGGA</th>\n",
       "      <td>0.827962</td>\n",
       "      <td>-0.403626</td>\n",
       "      <td>doublet</td>\n",
       "      <td>1.231588</td>\n",
       "    </tr>\n",
       "    <tr>\n",
       "      <th>TTTACTGAGACTTGAA</th>\n",
       "      <td>1.669833</td>\n",
       "      <td>-1.862783</td>\n",
       "      <td>doublet</td>\n",
       "      <td>3.532616</td>\n",
       "    </tr>\n",
       "    <tr>\n",
       "      <th>TTTCCTCAGACAGACC</th>\n",
       "      <td>0.917351</td>\n",
       "      <td>-0.385091</td>\n",
       "      <td>doublet</td>\n",
       "      <td>1.302442</td>\n",
       "    </tr>\n",
       "    <tr>\n",
       "      <th>TTTCCTCTCAAACGGG</th>\n",
       "      <td>0.822521</td>\n",
       "      <td>-0.243079</td>\n",
       "      <td>doublet</td>\n",
       "      <td>1.065599</td>\n",
       "    </tr>\n",
       "    <tr>\n",
       "      <th>TTTGGTTCACGAAATA</th>\n",
       "      <td>1.123939</td>\n",
       "      <td>-0.681378</td>\n",
       "      <td>doublet</td>\n",
       "      <td>1.805316</td>\n",
       "    </tr>\n",
       "  </tbody>\n",
       "</table>\n",
       "<p>176 rows × 4 columns</p>\n",
       "</div>"
      ],
      "text/plain": [
       "                   doublet   singlet prediction       dif\n",
       "AAACGGGTCAACACCA  1.303689 -0.605795    doublet  1.909483\n",
       "AAAGATGGTTCAGGCC  0.515669 -0.496778    doublet  1.012447\n",
       "AAAGCAAGTGTGGCTC  1.942930 -1.570364    doublet  3.513295\n",
       "AAAGTAGGTGTAATGA  0.275609 -0.725987    doublet  1.001596\n",
       "AACTCTTCAATGAATG  1.926197 -1.291628    doublet  3.217825\n",
       "...                    ...       ...        ...       ...\n",
       "TTGTAGGCAGATCGGA  0.827962 -0.403626    doublet  1.231588\n",
       "TTTACTGAGACTTGAA  1.669833 -1.862783    doublet  3.532616\n",
       "TTTCCTCAGACAGACC  0.917351 -0.385091    doublet  1.302442\n",
       "TTTCCTCTCAAACGGG  0.822521 -0.243079    doublet  1.065599\n",
       "TTTGGTTCACGAAATA  1.123939 -0.681378    doublet  1.805316\n",
       "\n",
       "[176 rows x 4 columns]"
      ]
     },
     "execution_count": 83,
     "metadata": {},
     "output_type": "execute_result"
    }
   ],
   "source": [
    "doublets = df[(df.prediction == 'doublet') & (df.dif > 1)]\n",
    "doublets"
   ]
  },
  {
   "cell_type": "code",
   "execution_count": 84,
   "id": "934e79c7",
   "metadata": {},
   "outputs": [
    {
     "data": {
      "text/plain": [
       "AnnData object with n_obs × n_vars = 3951 × 2000\n",
       "    obs: '_scvi_batch', '_scvi_labels'\n",
       "    var: 'n_cells', 'highly_variable', 'highly_variable_rank', 'means', 'variances', 'variances_norm'\n",
       "    uns: 'hvg', '_scvi_uuid', '_scvi_manager_uuid'"
      ]
     },
     "execution_count": 84,
     "metadata": {},
     "output_type": "execute_result"
    }
   ],
   "source": [
    "adata"
   ]
  },
  {
   "cell_type": "code",
   "execution_count": 85,
   "id": "7bf014fb",
   "metadata": {},
   "outputs": [],
   "source": [
    "adata_reLoad=sc.read_csv('C:\\\\Na\\\\DFU_Project\\\\Data\\\\Foot skin\\\\GSM5050523_DFU- healer.csv').T"
   ]
  },
  {
   "cell_type": "code",
   "execution_count": 86,
   "id": "86b329c7",
   "metadata": {},
   "outputs": [],
   "source": [
    "adata_reLoad.obs['doublet'] = adata.obs.index.isin(doublets.index)"
   ]
  },
  {
   "cell_type": "code",
   "execution_count": 87,
   "id": "927cba68",
   "metadata": {},
   "outputs": [
    {
     "data": {
      "text/html": [
       "<div>\n",
       "<style scoped>\n",
       "    .dataframe tbody tr th:only-of-type {\n",
       "        vertical-align: middle;\n",
       "    }\n",
       "\n",
       "    .dataframe tbody tr th {\n",
       "        vertical-align: top;\n",
       "    }\n",
       "\n",
       "    .dataframe thead th {\n",
       "        text-align: right;\n",
       "    }\n",
       "</style>\n",
       "<table border=\"1\" class=\"dataframe\">\n",
       "  <thead>\n",
       "    <tr style=\"text-align: right;\">\n",
       "      <th></th>\n",
       "      <th>doublet</th>\n",
       "    </tr>\n",
       "  </thead>\n",
       "  <tbody>\n",
       "    <tr>\n",
       "      <th>AAACCTGAGGCAGGTT</th>\n",
       "      <td>False</td>\n",
       "    </tr>\n",
       "    <tr>\n",
       "      <th>AAACCTGAGGGAACGG</th>\n",
       "      <td>False</td>\n",
       "    </tr>\n",
       "    <tr>\n",
       "      <th>AAACCTGAGGTGATTA</th>\n",
       "      <td>False</td>\n",
       "    </tr>\n",
       "    <tr>\n",
       "      <th>AAACCTGAGTTAACGA</th>\n",
       "      <td>False</td>\n",
       "    </tr>\n",
       "    <tr>\n",
       "      <th>AAACCTGCATGTTGAC</th>\n",
       "      <td>False</td>\n",
       "    </tr>\n",
       "    <tr>\n",
       "      <th>...</th>\n",
       "      <td>...</td>\n",
       "    </tr>\n",
       "    <tr>\n",
       "      <th>TTTGTCAGTCAATGTC</th>\n",
       "      <td>False</td>\n",
       "    </tr>\n",
       "    <tr>\n",
       "      <th>TTTGTCAGTCATATCG</th>\n",
       "      <td>False</td>\n",
       "    </tr>\n",
       "    <tr>\n",
       "      <th>TTTGTCAGTGAGGGAG</th>\n",
       "      <td>False</td>\n",
       "    </tr>\n",
       "    <tr>\n",
       "      <th>TTTGTCATCATCTGTT</th>\n",
       "      <td>False</td>\n",
       "    </tr>\n",
       "    <tr>\n",
       "      <th>TTTGTCATCATTGCGA</th>\n",
       "      <td>False</td>\n",
       "    </tr>\n",
       "  </tbody>\n",
       "</table>\n",
       "<p>3951 rows × 1 columns</p>\n",
       "</div>"
      ],
      "text/plain": [
       "                  doublet\n",
       "AAACCTGAGGCAGGTT    False\n",
       "AAACCTGAGGGAACGG    False\n",
       "AAACCTGAGGTGATTA    False\n",
       "AAACCTGAGTTAACGA    False\n",
       "AAACCTGCATGTTGAC    False\n",
       "...                   ...\n",
       "TTTGTCAGTCAATGTC    False\n",
       "TTTGTCAGTCATATCG    False\n",
       "TTTGTCAGTGAGGGAG    False\n",
       "TTTGTCATCATCTGTT    False\n",
       "TTTGTCATCATTGCGA    False\n",
       "\n",
       "[3951 rows x 1 columns]"
      ]
     },
     "execution_count": 87,
     "metadata": {},
     "output_type": "execute_result"
    }
   ],
   "source": [
    "adata_reLoad.obs"
   ]
  },
  {
   "cell_type": "code",
   "execution_count": 88,
   "id": "af5bbabf",
   "metadata": {},
   "outputs": [],
   "source": [
    "adata_reMoveDoublet = adata_reLoad[~adata_reLoad.obs.doublet] #the~ mean you keep the False"
   ]
  },
  {
   "cell_type": "code",
   "execution_count": 90,
   "id": "9ce77944-3004-49d0-a729-fcbf793baf65",
   "metadata": {},
   "outputs": [
    {
     "data": {
      "text/plain": [
       "AnnData object with n_obs × n_vars = 3951 × 18099\n",
       "    obs: 'doublet'"
      ]
     },
     "execution_count": 90,
     "metadata": {},
     "output_type": "execute_result"
    }
   ],
   "source": [
    "adata_reLoad"
   ]
  },
  {
   "cell_type": "code",
   "execution_count": 89,
   "id": "eca08db0",
   "metadata": {},
   "outputs": [
    {
     "data": {
      "text/plain": [
       "View of AnnData object with n_obs × n_vars = 3775 × 18099\n",
       "    obs: 'doublet'"
      ]
     },
     "execution_count": 89,
     "metadata": {},
     "output_type": "execute_result"
    }
   ],
   "source": [
    "adata_reMoveDoublet"
   ]
  },
  {
   "cell_type": "markdown",
   "id": "3926a02c",
   "metadata": {},
   "source": [
    "# # Preprocessing"
   ]
  },
  {
   "cell_type": "code",
   "execution_count": 91,
   "id": "57997b13",
   "metadata": {},
   "outputs": [
    {
     "data": {
      "text/html": [
       "<div>\n",
       "<style scoped>\n",
       "    .dataframe tbody tr th:only-of-type {\n",
       "        vertical-align: middle;\n",
       "    }\n",
       "\n",
       "    .dataframe tbody tr th {\n",
       "        vertical-align: top;\n",
       "    }\n",
       "\n",
       "    .dataframe thead th {\n",
       "        text-align: right;\n",
       "    }\n",
       "</style>\n",
       "<table border=\"1\" class=\"dataframe\">\n",
       "  <thead>\n",
       "    <tr style=\"text-align: right;\">\n",
       "      <th></th>\n",
       "    </tr>\n",
       "  </thead>\n",
       "  <tbody>\n",
       "    <tr>\n",
       "      <th>MT-ND1</th>\n",
       "    </tr>\n",
       "    <tr>\n",
       "      <th>MT-ND2</th>\n",
       "    </tr>\n",
       "    <tr>\n",
       "      <th>MT-CO1</th>\n",
       "    </tr>\n",
       "    <tr>\n",
       "      <th>MT-CO2</th>\n",
       "    </tr>\n",
       "    <tr>\n",
       "      <th>MT-ATP8</th>\n",
       "    </tr>\n",
       "    <tr>\n",
       "      <th>MT-ATP6</th>\n",
       "    </tr>\n",
       "    <tr>\n",
       "      <th>MT-CO3</th>\n",
       "    </tr>\n",
       "    <tr>\n",
       "      <th>MT-ND3</th>\n",
       "    </tr>\n",
       "    <tr>\n",
       "      <th>MT-ND4L</th>\n",
       "    </tr>\n",
       "    <tr>\n",
       "      <th>MT-ND4</th>\n",
       "    </tr>\n",
       "    <tr>\n",
       "      <th>MT-ND5</th>\n",
       "    </tr>\n",
       "    <tr>\n",
       "      <th>MT-ND6</th>\n",
       "    </tr>\n",
       "    <tr>\n",
       "      <th>MT-CYB</th>\n",
       "    </tr>\n",
       "  </tbody>\n",
       "</table>\n",
       "</div>"
      ],
      "text/plain": [
       "Empty DataFrame\n",
       "Columns: []\n",
       "Index: [MT-ND1, MT-ND2, MT-CO1, MT-CO2, MT-ATP8, MT-ATP6, MT-CO3, MT-ND3, MT-ND4L, MT-ND4, MT-ND5, MT-ND6, MT-CYB]"
      ]
     },
     "execution_count": 91,
     "metadata": {},
     "output_type": "execute_result"
    }
   ],
   "source": [
    "adata_reMoveDoublet.var[adata_reMoveDoublet.var.index.str.startswith('MT-')] #gene name"
   ]
  },
  {
   "cell_type": "code",
   "execution_count": 108,
   "id": "77f3991b",
   "metadata": {},
   "outputs": [
    {
     "data": {
      "text/html": [
       "<div>\n",
       "<style scoped>\n",
       "    .dataframe tbody tr th:only-of-type {\n",
       "        vertical-align: middle;\n",
       "    }\n",
       "\n",
       "    .dataframe tbody tr th {\n",
       "        vertical-align: top;\n",
       "    }\n",
       "\n",
       "    .dataframe thead th {\n",
       "        text-align: right;\n",
       "    }\n",
       "</style>\n",
       "<table border=\"1\" class=\"dataframe\">\n",
       "  <thead>\n",
       "    <tr style=\"text-align: right;\">\n",
       "      <th></th>\n",
       "      <th>MT</th>\n",
       "      <th>ribo</th>\n",
       "      <th>n_cells_by_counts</th>\n",
       "      <th>mean_counts</th>\n",
       "      <th>pct_dropout_by_counts</th>\n",
       "      <th>total_counts</th>\n",
       "      <th>n_cells</th>\n",
       "      <th>mt</th>\n",
       "    </tr>\n",
       "  </thead>\n",
       "  <tbody>\n",
       "    <tr>\n",
       "      <th>AL627309.1</th>\n",
       "      <td>False</td>\n",
       "      <td>False</td>\n",
       "      <td>3</td>\n",
       "      <td>0.000795</td>\n",
       "      <td>99.920530</td>\n",
       "      <td>3.0</td>\n",
       "      <td>3</td>\n",
       "      <td>False</td>\n",
       "    </tr>\n",
       "    <tr>\n",
       "      <th>AL669831.5</th>\n",
       "      <td>False</td>\n",
       "      <td>False</td>\n",
       "      <td>148</td>\n",
       "      <td>0.041589</td>\n",
       "      <td>96.079470</td>\n",
       "      <td>157.0</td>\n",
       "      <td>148</td>\n",
       "      <td>False</td>\n",
       "    </tr>\n",
       "    <tr>\n",
       "      <th>FAM87B</th>\n",
       "      <td>False</td>\n",
       "      <td>False</td>\n",
       "      <td>10</td>\n",
       "      <td>0.002649</td>\n",
       "      <td>99.735099</td>\n",
       "      <td>10.0</td>\n",
       "      <td>10</td>\n",
       "      <td>False</td>\n",
       "    </tr>\n",
       "    <tr>\n",
       "      <th>LINC00115</th>\n",
       "      <td>False</td>\n",
       "      <td>False</td>\n",
       "      <td>35</td>\n",
       "      <td>0.009272</td>\n",
       "      <td>99.072848</td>\n",
       "      <td>35.0</td>\n",
       "      <td>35</td>\n",
       "      <td>False</td>\n",
       "    </tr>\n",
       "    <tr>\n",
       "      <th>FAM41C</th>\n",
       "      <td>False</td>\n",
       "      <td>False</td>\n",
       "      <td>22</td>\n",
       "      <td>0.005828</td>\n",
       "      <td>99.417219</td>\n",
       "      <td>22.0</td>\n",
       "      <td>22</td>\n",
       "      <td>False</td>\n",
       "    </tr>\n",
       "    <tr>\n",
       "      <th>...</th>\n",
       "      <td>...</td>\n",
       "      <td>...</td>\n",
       "      <td>...</td>\n",
       "      <td>...</td>\n",
       "      <td>...</td>\n",
       "      <td>...</td>\n",
       "      <td>...</td>\n",
       "      <td>...</td>\n",
       "    </tr>\n",
       "    <tr>\n",
       "      <th>AL592183.1</th>\n",
       "      <td>False</td>\n",
       "      <td>False</td>\n",
       "      <td>37</td>\n",
       "      <td>0.009801</td>\n",
       "      <td>99.019868</td>\n",
       "      <td>37.0</td>\n",
       "      <td>37</td>\n",
       "      <td>False</td>\n",
       "    </tr>\n",
       "    <tr>\n",
       "      <th>AC007325.4</th>\n",
       "      <td>False</td>\n",
       "      <td>False</td>\n",
       "      <td>218</td>\n",
       "      <td>0.063311</td>\n",
       "      <td>94.225166</td>\n",
       "      <td>239.0</td>\n",
       "      <td>218</td>\n",
       "      <td>False</td>\n",
       "    </tr>\n",
       "    <tr>\n",
       "      <th>AL354822.1</th>\n",
       "      <td>False</td>\n",
       "      <td>False</td>\n",
       "      <td>9</td>\n",
       "      <td>0.002384</td>\n",
       "      <td>99.761589</td>\n",
       "      <td>9.0</td>\n",
       "      <td>9</td>\n",
       "      <td>False</td>\n",
       "    </tr>\n",
       "    <tr>\n",
       "      <th>AC004556.1</th>\n",
       "      <td>False</td>\n",
       "      <td>False</td>\n",
       "      <td>585</td>\n",
       "      <td>0.197616</td>\n",
       "      <td>84.503311</td>\n",
       "      <td>746.0</td>\n",
       "      <td>585</td>\n",
       "      <td>False</td>\n",
       "    </tr>\n",
       "    <tr>\n",
       "      <th>AC240274.1</th>\n",
       "      <td>False</td>\n",
       "      <td>False</td>\n",
       "      <td>88</td>\n",
       "      <td>0.025166</td>\n",
       "      <td>97.668874</td>\n",
       "      <td>95.0</td>\n",
       "      <td>88</td>\n",
       "      <td>False</td>\n",
       "    </tr>\n",
       "  </tbody>\n",
       "</table>\n",
       "<p>17799 rows × 8 columns</p>\n",
       "</div>"
      ],
      "text/plain": [
       "               MT   ribo  n_cells_by_counts  mean_counts  \\\n",
       "AL627309.1  False  False                  3     0.000795   \n",
       "AL669831.5  False  False                148     0.041589   \n",
       "FAM87B      False  False                 10     0.002649   \n",
       "LINC00115   False  False                 35     0.009272   \n",
       "FAM41C      False  False                 22     0.005828   \n",
       "...           ...    ...                ...          ...   \n",
       "AL592183.1  False  False                 37     0.009801   \n",
       "AC007325.4  False  False                218     0.063311   \n",
       "AL354822.1  False  False                  9     0.002384   \n",
       "AC004556.1  False  False                585     0.197616   \n",
       "AC240274.1  False  False                 88     0.025166   \n",
       "\n",
       "            pct_dropout_by_counts  total_counts  n_cells     mt  \n",
       "AL627309.1              99.920530           3.0        3  False  \n",
       "AL669831.5              96.079470         157.0      148  False  \n",
       "FAM87B                  99.735099          10.0       10  False  \n",
       "LINC00115               99.072848          35.0       35  False  \n",
       "FAM41C                  99.417219          22.0       22  False  \n",
       "...                           ...           ...      ...    ...  \n",
       "AL592183.1              99.019868          37.0       37  False  \n",
       "AC007325.4              94.225166         239.0      218  False  \n",
       "AL354822.1              99.761589           9.0        9  False  \n",
       "AC004556.1              84.503311         746.0      585  False  \n",
       "AC240274.1              97.668874          95.0       88  False  \n",
       "\n",
       "[17799 rows x 8 columns]"
      ]
     },
     "execution_count": 108,
     "metadata": {},
     "output_type": "execute_result"
    }
   ],
   "source": [
    "adata_reMoveDoublet.var['mt'] = adata_reMoveDoublet.var.index.str.startswith('MT-') #mitochondria\n",
    "adata_reMoveDoublet.var"
   ]
  },
  {
   "cell_type": "code",
   "execution_count": 5,
   "id": "06e63ed0",
   "metadata": {},
   "outputs": [],
   "source": [
    "ribo_url = \"http://software.broadinstitute.org/gsea/msigdb/download_geneset.jsp?geneSetName=KEGG_RIBOSOME&fileType=txt\"\n",
    "ribo_genes = pd.read_table(ribo_url, skiprows=2, header = None)\n",
    "ribo_genes"
   ]
  },
  {
   "cell_type": "code",
   "execution_count": 6,
   "id": "2aef0a45",
   "metadata": {},
   "outputs": [
    {
     "data": {
      "text/html": [
       "<div>\n",
       "<style scoped>\n",
       "    .dataframe tbody tr th:only-of-type {\n",
       "        vertical-align: middle;\n",
       "    }\n",
       "\n",
       "    .dataframe tbody tr th {\n",
       "        vertical-align: top;\n",
       "    }\n",
       "\n",
       "    .dataframe thead th {\n",
       "        text-align: right;\n",
       "    }\n",
       "</style>\n",
       "<table border=\"1\" class=\"dataframe\">\n",
       "  <thead>\n",
       "    <tr style=\"text-align: right;\">\n",
       "      <th></th>\n",
       "      <th>0</th>\n",
       "    </tr>\n",
       "  </thead>\n",
       "  <tbody>\n",
       "    <tr>\n",
       "      <th>0</th>\n",
       "      <td>FAU</td>\n",
       "    </tr>\n",
       "    <tr>\n",
       "      <th>1</th>\n",
       "      <td>MRPL13</td>\n",
       "    </tr>\n",
       "    <tr>\n",
       "      <th>2</th>\n",
       "      <td>RPL10</td>\n",
       "    </tr>\n",
       "    <tr>\n",
       "      <th>3</th>\n",
       "      <td>RPL10A</td>\n",
       "    </tr>\n",
       "    <tr>\n",
       "      <th>4</th>\n",
       "      <td>RPL10L</td>\n",
       "    </tr>\n",
       "    <tr>\n",
       "      <th>...</th>\n",
       "      <td>...</td>\n",
       "    </tr>\n",
       "    <tr>\n",
       "      <th>83</th>\n",
       "      <td>RPS9</td>\n",
       "    </tr>\n",
       "    <tr>\n",
       "      <th>84</th>\n",
       "      <td>RPSA</td>\n",
       "    </tr>\n",
       "    <tr>\n",
       "      <th>85</th>\n",
       "      <td>RSL24D1</td>\n",
       "    </tr>\n",
       "    <tr>\n",
       "      <th>86</th>\n",
       "      <td>RSL24D1P11</td>\n",
       "    </tr>\n",
       "    <tr>\n",
       "      <th>87</th>\n",
       "      <td>UBA52</td>\n",
       "    </tr>\n",
       "  </tbody>\n",
       "</table>\n",
       "<p>88 rows × 1 columns</p>\n",
       "</div>"
      ],
      "text/plain": [
       "             0\n",
       "0          FAU\n",
       "1       MRPL13\n",
       "2        RPL10\n",
       "3       RPL10A\n",
       "4       RPL10L\n",
       "..         ...\n",
       "83        RPS9\n",
       "84        RPSA\n",
       "85     RSL24D1\n",
       "86  RSL24D1P11\n",
       "87       UBA52\n",
       "\n",
       "[88 rows x 1 columns]"
      ]
     },
     "execution_count": 6,
     "metadata": {},
     "output_type": "execute_result"
    }
   ],
   "source": [
    "ribo_genes = pd.read_table(ribo_url, skiprows=2, header = None)\n",
    "ribo_genes"
   ]
  },
  {
   "cell_type": "code",
   "execution_count": 111,
   "id": "4c0656ff",
   "metadata": {},
   "outputs": [],
   "source": [
    "adata_reMoveDoublet.var['ribo'] = adata_reMoveDoublet.var_names.isin(ribo_genes[0].values)\n"
   ]
  },
  {
   "cell_type": "code",
   "execution_count": 112,
   "id": "ee306de6",
   "metadata": {},
   "outputs": [
    {
     "data": {
      "text/html": [
       "<div>\n",
       "<style scoped>\n",
       "    .dataframe tbody tr th:only-of-type {\n",
       "        vertical-align: middle;\n",
       "    }\n",
       "\n",
       "    .dataframe tbody tr th {\n",
       "        vertical-align: top;\n",
       "    }\n",
       "\n",
       "    .dataframe thead th {\n",
       "        text-align: right;\n",
       "    }\n",
       "</style>\n",
       "<table border=\"1\" class=\"dataframe\">\n",
       "  <thead>\n",
       "    <tr style=\"text-align: right;\">\n",
       "      <th></th>\n",
       "      <th>MT</th>\n",
       "      <th>ribo</th>\n",
       "      <th>n_cells_by_counts</th>\n",
       "      <th>mean_counts</th>\n",
       "      <th>pct_dropout_by_counts</th>\n",
       "      <th>total_counts</th>\n",
       "      <th>n_cells</th>\n",
       "      <th>mt</th>\n",
       "    </tr>\n",
       "  </thead>\n",
       "  <tbody>\n",
       "    <tr>\n",
       "      <th>AL627309.1</th>\n",
       "      <td>False</td>\n",
       "      <td>False</td>\n",
       "      <td>3</td>\n",
       "      <td>0.000795</td>\n",
       "      <td>99.920530</td>\n",
       "      <td>3.0</td>\n",
       "      <td>3</td>\n",
       "      <td>False</td>\n",
       "    </tr>\n",
       "    <tr>\n",
       "      <th>AL669831.5</th>\n",
       "      <td>False</td>\n",
       "      <td>False</td>\n",
       "      <td>148</td>\n",
       "      <td>0.041589</td>\n",
       "      <td>96.079470</td>\n",
       "      <td>157.0</td>\n",
       "      <td>148</td>\n",
       "      <td>False</td>\n",
       "    </tr>\n",
       "    <tr>\n",
       "      <th>FAM87B</th>\n",
       "      <td>False</td>\n",
       "      <td>False</td>\n",
       "      <td>10</td>\n",
       "      <td>0.002649</td>\n",
       "      <td>99.735099</td>\n",
       "      <td>10.0</td>\n",
       "      <td>10</td>\n",
       "      <td>False</td>\n",
       "    </tr>\n",
       "    <tr>\n",
       "      <th>LINC00115</th>\n",
       "      <td>False</td>\n",
       "      <td>False</td>\n",
       "      <td>35</td>\n",
       "      <td>0.009272</td>\n",
       "      <td>99.072848</td>\n",
       "      <td>35.0</td>\n",
       "      <td>35</td>\n",
       "      <td>False</td>\n",
       "    </tr>\n",
       "    <tr>\n",
       "      <th>FAM41C</th>\n",
       "      <td>False</td>\n",
       "      <td>False</td>\n",
       "      <td>22</td>\n",
       "      <td>0.005828</td>\n",
       "      <td>99.417219</td>\n",
       "      <td>22.0</td>\n",
       "      <td>22</td>\n",
       "      <td>False</td>\n",
       "    </tr>\n",
       "    <tr>\n",
       "      <th>...</th>\n",
       "      <td>...</td>\n",
       "      <td>...</td>\n",
       "      <td>...</td>\n",
       "      <td>...</td>\n",
       "      <td>...</td>\n",
       "      <td>...</td>\n",
       "      <td>...</td>\n",
       "      <td>...</td>\n",
       "    </tr>\n",
       "    <tr>\n",
       "      <th>AL592183.1</th>\n",
       "      <td>False</td>\n",
       "      <td>False</td>\n",
       "      <td>37</td>\n",
       "      <td>0.009801</td>\n",
       "      <td>99.019868</td>\n",
       "      <td>37.0</td>\n",
       "      <td>37</td>\n",
       "      <td>False</td>\n",
       "    </tr>\n",
       "    <tr>\n",
       "      <th>AC007325.4</th>\n",
       "      <td>False</td>\n",
       "      <td>False</td>\n",
       "      <td>218</td>\n",
       "      <td>0.063311</td>\n",
       "      <td>94.225166</td>\n",
       "      <td>239.0</td>\n",
       "      <td>218</td>\n",
       "      <td>False</td>\n",
       "    </tr>\n",
       "    <tr>\n",
       "      <th>AL354822.1</th>\n",
       "      <td>False</td>\n",
       "      <td>False</td>\n",
       "      <td>9</td>\n",
       "      <td>0.002384</td>\n",
       "      <td>99.761589</td>\n",
       "      <td>9.0</td>\n",
       "      <td>9</td>\n",
       "      <td>False</td>\n",
       "    </tr>\n",
       "    <tr>\n",
       "      <th>AC004556.1</th>\n",
       "      <td>False</td>\n",
       "      <td>False</td>\n",
       "      <td>585</td>\n",
       "      <td>0.197616</td>\n",
       "      <td>84.503311</td>\n",
       "      <td>746.0</td>\n",
       "      <td>585</td>\n",
       "      <td>False</td>\n",
       "    </tr>\n",
       "    <tr>\n",
       "      <th>AC240274.1</th>\n",
       "      <td>False</td>\n",
       "      <td>False</td>\n",
       "      <td>88</td>\n",
       "      <td>0.025166</td>\n",
       "      <td>97.668874</td>\n",
       "      <td>95.0</td>\n",
       "      <td>88</td>\n",
       "      <td>False</td>\n",
       "    </tr>\n",
       "  </tbody>\n",
       "</table>\n",
       "<p>17799 rows × 8 columns</p>\n",
       "</div>"
      ],
      "text/plain": [
       "               MT   ribo  n_cells_by_counts  mean_counts  \\\n",
       "AL627309.1  False  False                  3     0.000795   \n",
       "AL669831.5  False  False                148     0.041589   \n",
       "FAM87B      False  False                 10     0.002649   \n",
       "LINC00115   False  False                 35     0.009272   \n",
       "FAM41C      False  False                 22     0.005828   \n",
       "...           ...    ...                ...          ...   \n",
       "AL592183.1  False  False                 37     0.009801   \n",
       "AC007325.4  False  False                218     0.063311   \n",
       "AL354822.1  False  False                  9     0.002384   \n",
       "AC004556.1  False  False                585     0.197616   \n",
       "AC240274.1  False  False                 88     0.025166   \n",
       "\n",
       "            pct_dropout_by_counts  total_counts  n_cells     mt  \n",
       "AL627309.1              99.920530           3.0        3  False  \n",
       "AL669831.5              96.079470         157.0      148  False  \n",
       "FAM87B                  99.735099          10.0       10  False  \n",
       "LINC00115               99.072848          35.0       35  False  \n",
       "FAM41C                  99.417219          22.0       22  False  \n",
       "...                           ...           ...      ...    ...  \n",
       "AL592183.1              99.019868          37.0       37  False  \n",
       "AC007325.4              94.225166         239.0      218  False  \n",
       "AL354822.1              99.761589           9.0        9  False  \n",
       "AC004556.1              84.503311         746.0      585  False  \n",
       "AC240274.1              97.668874          95.0       88  False  \n",
       "\n",
       "[17799 rows x 8 columns]"
      ]
     },
     "execution_count": 112,
     "metadata": {},
     "output_type": "execute_result"
    }
   ],
   "source": [
    "adata_reMoveDoublet.var"
   ]
  },
  {
   "cell_type": "code",
   "execution_count": 113,
   "id": "1b06e86f",
   "metadata": {},
   "outputs": [
    {
     "data": {
      "text/html": [
       "<div>\n",
       "<style scoped>\n",
       "    .dataframe tbody tr th:only-of-type {\n",
       "        vertical-align: middle;\n",
       "    }\n",
       "\n",
       "    .dataframe tbody tr th {\n",
       "        vertical-align: top;\n",
       "    }\n",
       "\n",
       "    .dataframe thead th {\n",
       "        text-align: right;\n",
       "    }\n",
       "</style>\n",
       "<table border=\"1\" class=\"dataframe\">\n",
       "  <thead>\n",
       "    <tr style=\"text-align: right;\">\n",
       "      <th></th>\n",
       "      <th>doublet</th>\n",
       "      <th>n_genes_by_counts</th>\n",
       "      <th>total_counts</th>\n",
       "      <th>total_counts_MT</th>\n",
       "      <th>pct_counts_MT</th>\n",
       "      <th>total_counts_ribo</th>\n",
       "      <th>pct_counts_ribo</th>\n",
       "    </tr>\n",
       "  </thead>\n",
       "  <tbody>\n",
       "    <tr>\n",
       "      <th>AAACCTGAGGCAGGTT</th>\n",
       "      <td>False</td>\n",
       "      <td>1016</td>\n",
       "      <td>2224.0</td>\n",
       "      <td>93.0</td>\n",
       "      <td>4.181655</td>\n",
       "      <td>325.0</td>\n",
       "      <td>14.613310</td>\n",
       "    </tr>\n",
       "    <tr>\n",
       "      <th>AAACCTGAGGGAACGG</th>\n",
       "      <td>False</td>\n",
       "      <td>1460</td>\n",
       "      <td>3218.0</td>\n",
       "      <td>167.0</td>\n",
       "      <td>5.189559</td>\n",
       "      <td>604.0</td>\n",
       "      <td>18.769423</td>\n",
       "    </tr>\n",
       "    <tr>\n",
       "      <th>AAACCTGAGGTGATTA</th>\n",
       "      <td>False</td>\n",
       "      <td>966</td>\n",
       "      <td>1785.0</td>\n",
       "      <td>81.0</td>\n",
       "      <td>4.537815</td>\n",
       "      <td>297.0</td>\n",
       "      <td>16.638657</td>\n",
       "    </tr>\n",
       "    <tr>\n",
       "      <th>AAACCTGAGTTAACGA</th>\n",
       "      <td>False</td>\n",
       "      <td>1367</td>\n",
       "      <td>2545.0</td>\n",
       "      <td>90.0</td>\n",
       "      <td>3.536346</td>\n",
       "      <td>312.0</td>\n",
       "      <td>12.259332</td>\n",
       "    </tr>\n",
       "    <tr>\n",
       "      <th>AAACCTGCATGTTGAC</th>\n",
       "      <td>False</td>\n",
       "      <td>972</td>\n",
       "      <td>2019.0</td>\n",
       "      <td>82.0</td>\n",
       "      <td>4.061417</td>\n",
       "      <td>440.0</td>\n",
       "      <td>21.792967</td>\n",
       "    </tr>\n",
       "    <tr>\n",
       "      <th>...</th>\n",
       "      <td>...</td>\n",
       "      <td>...</td>\n",
       "      <td>...</td>\n",
       "      <td>...</td>\n",
       "      <td>...</td>\n",
       "      <td>...</td>\n",
       "      <td>...</td>\n",
       "    </tr>\n",
       "    <tr>\n",
       "      <th>TTTGTCAGTCAATGTC</th>\n",
       "      <td>False</td>\n",
       "      <td>3301</td>\n",
       "      <td>19059.0</td>\n",
       "      <td>639.0</td>\n",
       "      <td>3.352747</td>\n",
       "      <td>6311.0</td>\n",
       "      <td>33.112965</td>\n",
       "    </tr>\n",
       "    <tr>\n",
       "      <th>TTTGTCAGTCATATCG</th>\n",
       "      <td>False</td>\n",
       "      <td>1098</td>\n",
       "      <td>2021.0</td>\n",
       "      <td>72.0</td>\n",
       "      <td>3.562593</td>\n",
       "      <td>278.0</td>\n",
       "      <td>13.755566</td>\n",
       "    </tr>\n",
       "    <tr>\n",
       "      <th>TTTGTCAGTGAGGGAG</th>\n",
       "      <td>False</td>\n",
       "      <td>2109</td>\n",
       "      <td>6162.0</td>\n",
       "      <td>142.0</td>\n",
       "      <td>2.304447</td>\n",
       "      <td>1056.0</td>\n",
       "      <td>17.137293</td>\n",
       "    </tr>\n",
       "    <tr>\n",
       "      <th>TTTGTCATCATCTGTT</th>\n",
       "      <td>False</td>\n",
       "      <td>2484</td>\n",
       "      <td>7150.0</td>\n",
       "      <td>137.0</td>\n",
       "      <td>1.916084</td>\n",
       "      <td>1210.0</td>\n",
       "      <td>16.923077</td>\n",
       "    </tr>\n",
       "    <tr>\n",
       "      <th>TTTGTCATCATTGCGA</th>\n",
       "      <td>False</td>\n",
       "      <td>2858</td>\n",
       "      <td>8321.0</td>\n",
       "      <td>269.0</td>\n",
       "      <td>3.232785</td>\n",
       "      <td>1335.0</td>\n",
       "      <td>16.043745</td>\n",
       "    </tr>\n",
       "  </tbody>\n",
       "</table>\n",
       "<p>3775 rows × 7 columns</p>\n",
       "</div>"
      ],
      "text/plain": [
       "                  doublet  n_genes_by_counts  total_counts  total_counts_MT  \\\n",
       "AAACCTGAGGCAGGTT    False               1016        2224.0             93.0   \n",
       "AAACCTGAGGGAACGG    False               1460        3218.0            167.0   \n",
       "AAACCTGAGGTGATTA    False                966        1785.0             81.0   \n",
       "AAACCTGAGTTAACGA    False               1367        2545.0             90.0   \n",
       "AAACCTGCATGTTGAC    False                972        2019.0             82.0   \n",
       "...                   ...                ...           ...              ...   \n",
       "TTTGTCAGTCAATGTC    False               3301       19059.0            639.0   \n",
       "TTTGTCAGTCATATCG    False               1098        2021.0             72.0   \n",
       "TTTGTCAGTGAGGGAG    False               2109        6162.0            142.0   \n",
       "TTTGTCATCATCTGTT    False               2484        7150.0            137.0   \n",
       "TTTGTCATCATTGCGA    False               2858        8321.0            269.0   \n",
       "\n",
       "                  pct_counts_MT  total_counts_ribo  pct_counts_ribo  \n",
       "AAACCTGAGGCAGGTT       4.181655              325.0        14.613310  \n",
       "AAACCTGAGGGAACGG       5.189559              604.0        18.769423  \n",
       "AAACCTGAGGTGATTA       4.537815              297.0        16.638657  \n",
       "AAACCTGAGTTAACGA       3.536346              312.0        12.259332  \n",
       "AAACCTGCATGTTGAC       4.061417              440.0        21.792967  \n",
       "...                         ...                ...              ...  \n",
       "TTTGTCAGTCAATGTC       3.352747             6311.0        33.112965  \n",
       "TTTGTCAGTCATATCG       3.562593              278.0        13.755566  \n",
       "TTTGTCAGTGAGGGAG       2.304447             1056.0        17.137293  \n",
       "TTTGTCATCATCTGTT       1.916084             1210.0        16.923077  \n",
       "TTTGTCATCATTGCGA       3.232785             1335.0        16.043745  \n",
       "\n",
       "[3775 rows x 7 columns]"
      ]
     },
     "execution_count": 113,
     "metadata": {},
     "output_type": "execute_result"
    }
   ],
   "source": [
    "adata_reMoveDoublet.obs"
   ]
  },
  {
   "cell_type": "code",
   "execution_count": 114,
   "id": "c29e5d8d",
   "metadata": {},
   "outputs": [],
   "source": [
    "sc.pp.calculate_qc_metrics(adata_reMoveDoublet, qc_vars=['mt', 'ribo'], percent_top=None, log1p=False, inplace=True) #callacular qc matrix\n"
   ]
  },
  {
   "cell_type": "code",
   "execution_count": 115,
   "id": "898ce482",
   "metadata": {},
   "outputs": [
    {
     "data": {
      "text/html": [
       "<div>\n",
       "<style scoped>\n",
       "    .dataframe tbody tr th:only-of-type {\n",
       "        vertical-align: middle;\n",
       "    }\n",
       "\n",
       "    .dataframe tbody tr th {\n",
       "        vertical-align: top;\n",
       "    }\n",
       "\n",
       "    .dataframe thead th {\n",
       "        text-align: right;\n",
       "    }\n",
       "</style>\n",
       "<table border=\"1\" class=\"dataframe\">\n",
       "  <thead>\n",
       "    <tr style=\"text-align: right;\">\n",
       "      <th></th>\n",
       "      <th>MT</th>\n",
       "      <th>ribo</th>\n",
       "      <th>n_cells_by_counts</th>\n",
       "      <th>mean_counts</th>\n",
       "      <th>pct_dropout_by_counts</th>\n",
       "      <th>total_counts</th>\n",
       "      <th>n_cells</th>\n",
       "      <th>mt</th>\n",
       "    </tr>\n",
       "  </thead>\n",
       "  <tbody>\n",
       "    <tr>\n",
       "      <th>AL627309.1</th>\n",
       "      <td>False</td>\n",
       "      <td>False</td>\n",
       "      <td>3</td>\n",
       "      <td>0.000795</td>\n",
       "      <td>99.920530</td>\n",
       "      <td>3.0</td>\n",
       "      <td>3</td>\n",
       "      <td>False</td>\n",
       "    </tr>\n",
       "    <tr>\n",
       "      <th>LINC00276</th>\n",
       "      <td>False</td>\n",
       "      <td>False</td>\n",
       "      <td>3</td>\n",
       "      <td>0.000795</td>\n",
       "      <td>99.920530</td>\n",
       "      <td>3.0</td>\n",
       "      <td>3</td>\n",
       "      <td>False</td>\n",
       "    </tr>\n",
       "    <tr>\n",
       "      <th>AL031775.2</th>\n",
       "      <td>False</td>\n",
       "      <td>False</td>\n",
       "      <td>3</td>\n",
       "      <td>0.000795</td>\n",
       "      <td>99.920530</td>\n",
       "      <td>3.0</td>\n",
       "      <td>3</td>\n",
       "      <td>False</td>\n",
       "    </tr>\n",
       "    <tr>\n",
       "      <th>AC073133.2</th>\n",
       "      <td>False</td>\n",
       "      <td>False</td>\n",
       "      <td>3</td>\n",
       "      <td>0.000795</td>\n",
       "      <td>99.920530</td>\n",
       "      <td>3.0</td>\n",
       "      <td>3</td>\n",
       "      <td>False</td>\n",
       "    </tr>\n",
       "    <tr>\n",
       "      <th>PIPOX</th>\n",
       "      <td>False</td>\n",
       "      <td>False</td>\n",
       "      <td>3</td>\n",
       "      <td>0.000795</td>\n",
       "      <td>99.920530</td>\n",
       "      <td>3.0</td>\n",
       "      <td>3</td>\n",
       "      <td>False</td>\n",
       "    </tr>\n",
       "    <tr>\n",
       "      <th>...</th>\n",
       "      <td>...</td>\n",
       "      <td>...</td>\n",
       "      <td>...</td>\n",
       "      <td>...</td>\n",
       "      <td>...</td>\n",
       "      <td>...</td>\n",
       "      <td>...</td>\n",
       "      <td>...</td>\n",
       "    </tr>\n",
       "    <tr>\n",
       "      <th>RPL41</th>\n",
       "      <td>False</td>\n",
       "      <td>True</td>\n",
       "      <td>3751</td>\n",
       "      <td>35.978542</td>\n",
       "      <td>0.635762</td>\n",
       "      <td>135819.0</td>\n",
       "      <td>3751</td>\n",
       "      <td>False</td>\n",
       "    </tr>\n",
       "    <tr>\n",
       "      <th>RPLP1</th>\n",
       "      <td>False</td>\n",
       "      <td>True</td>\n",
       "      <td>3756</td>\n",
       "      <td>34.356823</td>\n",
       "      <td>0.503311</td>\n",
       "      <td>129697.0</td>\n",
       "      <td>3756</td>\n",
       "      <td>False</td>\n",
       "    </tr>\n",
       "    <tr>\n",
       "      <th>RPL10</th>\n",
       "      <td>False</td>\n",
       "      <td>True</td>\n",
       "      <td>3762</td>\n",
       "      <td>41.468346</td>\n",
       "      <td>0.344371</td>\n",
       "      <td>156543.0</td>\n",
       "      <td>3762</td>\n",
       "      <td>False</td>\n",
       "    </tr>\n",
       "    <tr>\n",
       "      <th>B2M</th>\n",
       "      <td>False</td>\n",
       "      <td>False</td>\n",
       "      <td>3762</td>\n",
       "      <td>38.600796</td>\n",
       "      <td>0.344371</td>\n",
       "      <td>145718.0</td>\n",
       "      <td>3762</td>\n",
       "      <td>False</td>\n",
       "    </tr>\n",
       "    <tr>\n",
       "      <th>TMSB4X</th>\n",
       "      <td>False</td>\n",
       "      <td>False</td>\n",
       "      <td>3769</td>\n",
       "      <td>58.272053</td>\n",
       "      <td>0.158940</td>\n",
       "      <td>219977.0</td>\n",
       "      <td>3769</td>\n",
       "      <td>False</td>\n",
       "    </tr>\n",
       "  </tbody>\n",
       "</table>\n",
       "<p>17799 rows × 8 columns</p>\n",
       "</div>"
      ],
      "text/plain": [
       "               MT   ribo  n_cells_by_counts  mean_counts  \\\n",
       "AL627309.1  False  False                  3     0.000795   \n",
       "LINC00276   False  False                  3     0.000795   \n",
       "AL031775.2  False  False                  3     0.000795   \n",
       "AC073133.2  False  False                  3     0.000795   \n",
       "PIPOX       False  False                  3     0.000795   \n",
       "...           ...    ...                ...          ...   \n",
       "RPL41       False   True               3751    35.978542   \n",
       "RPLP1       False   True               3756    34.356823   \n",
       "RPL10       False   True               3762    41.468346   \n",
       "B2M         False  False               3762    38.600796   \n",
       "TMSB4X      False  False               3769    58.272053   \n",
       "\n",
       "            pct_dropout_by_counts  total_counts  n_cells     mt  \n",
       "AL627309.1              99.920530           3.0        3  False  \n",
       "LINC00276               99.920530           3.0        3  False  \n",
       "AL031775.2              99.920530           3.0        3  False  \n",
       "AC073133.2              99.920530           3.0        3  False  \n",
       "PIPOX                   99.920530           3.0        3  False  \n",
       "...                           ...           ...      ...    ...  \n",
       "RPL41                    0.635762      135819.0     3751  False  \n",
       "RPLP1                    0.503311      129697.0     3756  False  \n",
       "RPL10                    0.344371      156543.0     3762  False  \n",
       "B2M                      0.344371      145718.0     3762  False  \n",
       "TMSB4X                   0.158940      219977.0     3769  False  \n",
       "\n",
       "[17799 rows x 8 columns]"
      ]
     },
     "execution_count": 115,
     "metadata": {},
     "output_type": "execute_result"
    }
   ],
   "source": [
    "adata_reMoveDoublet.var.sort_values('n_cells_by_counts')"
   ]
  },
  {
   "cell_type": "code",
   "execution_count": 116,
   "id": "de212a58",
   "metadata": {},
   "outputs": [
    {
     "data": {
      "text/html": [
       "<div>\n",
       "<style scoped>\n",
       "    .dataframe tbody tr th:only-of-type {\n",
       "        vertical-align: middle;\n",
       "    }\n",
       "\n",
       "    .dataframe tbody tr th {\n",
       "        vertical-align: top;\n",
       "    }\n",
       "\n",
       "    .dataframe thead th {\n",
       "        text-align: right;\n",
       "    }\n",
       "</style>\n",
       "<table border=\"1\" class=\"dataframe\">\n",
       "  <thead>\n",
       "    <tr style=\"text-align: right;\">\n",
       "      <th></th>\n",
       "      <th>doublet</th>\n",
       "      <th>n_genes_by_counts</th>\n",
       "      <th>total_counts</th>\n",
       "      <th>total_counts_MT</th>\n",
       "      <th>pct_counts_MT</th>\n",
       "      <th>total_counts_ribo</th>\n",
       "      <th>pct_counts_ribo</th>\n",
       "      <th>total_counts_mt</th>\n",
       "      <th>pct_counts_mt</th>\n",
       "    </tr>\n",
       "  </thead>\n",
       "  <tbody>\n",
       "    <tr>\n",
       "      <th>AAACCTGAGGCAGGTT</th>\n",
       "      <td>False</td>\n",
       "      <td>1016</td>\n",
       "      <td>2224.0</td>\n",
       "      <td>93.0</td>\n",
       "      <td>4.181655</td>\n",
       "      <td>325.0</td>\n",
       "      <td>14.613310</td>\n",
       "      <td>93.0</td>\n",
       "      <td>4.181655</td>\n",
       "    </tr>\n",
       "    <tr>\n",
       "      <th>AAACCTGAGGGAACGG</th>\n",
       "      <td>False</td>\n",
       "      <td>1460</td>\n",
       "      <td>3218.0</td>\n",
       "      <td>167.0</td>\n",
       "      <td>5.189559</td>\n",
       "      <td>604.0</td>\n",
       "      <td>18.769423</td>\n",
       "      <td>167.0</td>\n",
       "      <td>5.189559</td>\n",
       "    </tr>\n",
       "    <tr>\n",
       "      <th>AAACCTGAGGTGATTA</th>\n",
       "      <td>False</td>\n",
       "      <td>966</td>\n",
       "      <td>1785.0</td>\n",
       "      <td>81.0</td>\n",
       "      <td>4.537815</td>\n",
       "      <td>297.0</td>\n",
       "      <td>16.638657</td>\n",
       "      <td>81.0</td>\n",
       "      <td>4.537815</td>\n",
       "    </tr>\n",
       "    <tr>\n",
       "      <th>AAACCTGAGTTAACGA</th>\n",
       "      <td>False</td>\n",
       "      <td>1367</td>\n",
       "      <td>2545.0</td>\n",
       "      <td>90.0</td>\n",
       "      <td>3.536346</td>\n",
       "      <td>312.0</td>\n",
       "      <td>12.259332</td>\n",
       "      <td>90.0</td>\n",
       "      <td>3.536346</td>\n",
       "    </tr>\n",
       "    <tr>\n",
       "      <th>AAACCTGCATGTTGAC</th>\n",
       "      <td>False</td>\n",
       "      <td>972</td>\n",
       "      <td>2019.0</td>\n",
       "      <td>82.0</td>\n",
       "      <td>4.061417</td>\n",
       "      <td>440.0</td>\n",
       "      <td>21.792967</td>\n",
       "      <td>82.0</td>\n",
       "      <td>4.061417</td>\n",
       "    </tr>\n",
       "    <tr>\n",
       "      <th>...</th>\n",
       "      <td>...</td>\n",
       "      <td>...</td>\n",
       "      <td>...</td>\n",
       "      <td>...</td>\n",
       "      <td>...</td>\n",
       "      <td>...</td>\n",
       "      <td>...</td>\n",
       "      <td>...</td>\n",
       "      <td>...</td>\n",
       "    </tr>\n",
       "    <tr>\n",
       "      <th>TTTGTCAGTCAATGTC</th>\n",
       "      <td>False</td>\n",
       "      <td>3300</td>\n",
       "      <td>19058.0</td>\n",
       "      <td>639.0</td>\n",
       "      <td>3.352747</td>\n",
       "      <td>6311.0</td>\n",
       "      <td>33.114700</td>\n",
       "      <td>639.0</td>\n",
       "      <td>3.352923</td>\n",
       "    </tr>\n",
       "    <tr>\n",
       "      <th>TTTGTCAGTCATATCG</th>\n",
       "      <td>False</td>\n",
       "      <td>1098</td>\n",
       "      <td>2021.0</td>\n",
       "      <td>72.0</td>\n",
       "      <td>3.562593</td>\n",
       "      <td>278.0</td>\n",
       "      <td>13.755566</td>\n",
       "      <td>72.0</td>\n",
       "      <td>3.562593</td>\n",
       "    </tr>\n",
       "    <tr>\n",
       "      <th>TTTGTCAGTGAGGGAG</th>\n",
       "      <td>False</td>\n",
       "      <td>2109</td>\n",
       "      <td>6162.0</td>\n",
       "      <td>142.0</td>\n",
       "      <td>2.304447</td>\n",
       "      <td>1056.0</td>\n",
       "      <td>17.137293</td>\n",
       "      <td>142.0</td>\n",
       "      <td>2.304447</td>\n",
       "    </tr>\n",
       "    <tr>\n",
       "      <th>TTTGTCATCATCTGTT</th>\n",
       "      <td>False</td>\n",
       "      <td>2483</td>\n",
       "      <td>7149.0</td>\n",
       "      <td>137.0</td>\n",
       "      <td>1.916084</td>\n",
       "      <td>1210.0</td>\n",
       "      <td>16.925444</td>\n",
       "      <td>137.0</td>\n",
       "      <td>1.916352</td>\n",
       "    </tr>\n",
       "    <tr>\n",
       "      <th>TTTGTCATCATTGCGA</th>\n",
       "      <td>False</td>\n",
       "      <td>2858</td>\n",
       "      <td>8321.0</td>\n",
       "      <td>269.0</td>\n",
       "      <td>3.232785</td>\n",
       "      <td>1335.0</td>\n",
       "      <td>16.043745</td>\n",
       "      <td>269.0</td>\n",
       "      <td>3.232785</td>\n",
       "    </tr>\n",
       "  </tbody>\n",
       "</table>\n",
       "<p>3775 rows × 9 columns</p>\n",
       "</div>"
      ],
      "text/plain": [
       "                  doublet  n_genes_by_counts  total_counts  total_counts_MT  \\\n",
       "AAACCTGAGGCAGGTT    False               1016        2224.0             93.0   \n",
       "AAACCTGAGGGAACGG    False               1460        3218.0            167.0   \n",
       "AAACCTGAGGTGATTA    False                966        1785.0             81.0   \n",
       "AAACCTGAGTTAACGA    False               1367        2545.0             90.0   \n",
       "AAACCTGCATGTTGAC    False                972        2019.0             82.0   \n",
       "...                   ...                ...           ...              ...   \n",
       "TTTGTCAGTCAATGTC    False               3300       19058.0            639.0   \n",
       "TTTGTCAGTCATATCG    False               1098        2021.0             72.0   \n",
       "TTTGTCAGTGAGGGAG    False               2109        6162.0            142.0   \n",
       "TTTGTCATCATCTGTT    False               2483        7149.0            137.0   \n",
       "TTTGTCATCATTGCGA    False               2858        8321.0            269.0   \n",
       "\n",
       "                  pct_counts_MT  total_counts_ribo  pct_counts_ribo  \\\n",
       "AAACCTGAGGCAGGTT       4.181655              325.0        14.613310   \n",
       "AAACCTGAGGGAACGG       5.189559              604.0        18.769423   \n",
       "AAACCTGAGGTGATTA       4.537815              297.0        16.638657   \n",
       "AAACCTGAGTTAACGA       3.536346              312.0        12.259332   \n",
       "AAACCTGCATGTTGAC       4.061417              440.0        21.792967   \n",
       "...                         ...                ...              ...   \n",
       "TTTGTCAGTCAATGTC       3.352747             6311.0        33.114700   \n",
       "TTTGTCAGTCATATCG       3.562593              278.0        13.755566   \n",
       "TTTGTCAGTGAGGGAG       2.304447             1056.0        17.137293   \n",
       "TTTGTCATCATCTGTT       1.916084             1210.0        16.925444   \n",
       "TTTGTCATCATTGCGA       3.232785             1335.0        16.043745   \n",
       "\n",
       "                  total_counts_mt  pct_counts_mt  \n",
       "AAACCTGAGGCAGGTT             93.0       4.181655  \n",
       "AAACCTGAGGGAACGG            167.0       5.189559  \n",
       "AAACCTGAGGTGATTA             81.0       4.537815  \n",
       "AAACCTGAGTTAACGA             90.0       3.536346  \n",
       "AAACCTGCATGTTGAC             82.0       4.061417  \n",
       "...                           ...            ...  \n",
       "TTTGTCAGTCAATGTC            639.0       3.352923  \n",
       "TTTGTCAGTCATATCG             72.0       3.562593  \n",
       "TTTGTCAGTGAGGGAG            142.0       2.304447  \n",
       "TTTGTCATCATCTGTT            137.0       1.916352  \n",
       "TTTGTCATCATTGCGA            269.0       3.232785  \n",
       "\n",
       "[3775 rows x 9 columns]"
      ]
     },
     "execution_count": 116,
     "metadata": {},
     "output_type": "execute_result"
    }
   ],
   "source": [
    "adata_reMoveDoublet.obs"
   ]
  },
  {
   "cell_type": "code",
   "execution_count": 117,
   "id": "72744889",
   "metadata": {},
   "outputs": [
    {
     "data": {
      "text/html": [
       "<div>\n",
       "<style scoped>\n",
       "    .dataframe tbody tr th:only-of-type {\n",
       "        vertical-align: middle;\n",
       "    }\n",
       "\n",
       "    .dataframe tbody tr th {\n",
       "        vertical-align: top;\n",
       "    }\n",
       "\n",
       "    .dataframe thead th {\n",
       "        text-align: right;\n",
       "    }\n",
       "</style>\n",
       "<table border=\"1\" class=\"dataframe\">\n",
       "  <thead>\n",
       "    <tr style=\"text-align: right;\">\n",
       "      <th></th>\n",
       "      <th>MT</th>\n",
       "      <th>ribo</th>\n",
       "      <th>n_cells_by_counts</th>\n",
       "      <th>mean_counts</th>\n",
       "      <th>pct_dropout_by_counts</th>\n",
       "      <th>total_counts</th>\n",
       "      <th>n_cells</th>\n",
       "      <th>mt</th>\n",
       "    </tr>\n",
       "  </thead>\n",
       "  <tbody>\n",
       "    <tr>\n",
       "      <th>AL627309.1</th>\n",
       "      <td>False</td>\n",
       "      <td>False</td>\n",
       "      <td>3</td>\n",
       "      <td>0.000795</td>\n",
       "      <td>99.920530</td>\n",
       "      <td>3.0</td>\n",
       "      <td>3</td>\n",
       "      <td>False</td>\n",
       "    </tr>\n",
       "    <tr>\n",
       "      <th>LINC00276</th>\n",
       "      <td>False</td>\n",
       "      <td>False</td>\n",
       "      <td>3</td>\n",
       "      <td>0.000795</td>\n",
       "      <td>99.920530</td>\n",
       "      <td>3.0</td>\n",
       "      <td>3</td>\n",
       "      <td>False</td>\n",
       "    </tr>\n",
       "    <tr>\n",
       "      <th>AL031775.2</th>\n",
       "      <td>False</td>\n",
       "      <td>False</td>\n",
       "      <td>3</td>\n",
       "      <td>0.000795</td>\n",
       "      <td>99.920530</td>\n",
       "      <td>3.0</td>\n",
       "      <td>3</td>\n",
       "      <td>False</td>\n",
       "    </tr>\n",
       "    <tr>\n",
       "      <th>AC073133.2</th>\n",
       "      <td>False</td>\n",
       "      <td>False</td>\n",
       "      <td>3</td>\n",
       "      <td>0.000795</td>\n",
       "      <td>99.920530</td>\n",
       "      <td>3.0</td>\n",
       "      <td>3</td>\n",
       "      <td>False</td>\n",
       "    </tr>\n",
       "    <tr>\n",
       "      <th>PIPOX</th>\n",
       "      <td>False</td>\n",
       "      <td>False</td>\n",
       "      <td>3</td>\n",
       "      <td>0.000795</td>\n",
       "      <td>99.920530</td>\n",
       "      <td>3.0</td>\n",
       "      <td>3</td>\n",
       "      <td>False</td>\n",
       "    </tr>\n",
       "    <tr>\n",
       "      <th>...</th>\n",
       "      <td>...</td>\n",
       "      <td>...</td>\n",
       "      <td>...</td>\n",
       "      <td>...</td>\n",
       "      <td>...</td>\n",
       "      <td>...</td>\n",
       "      <td>...</td>\n",
       "      <td>...</td>\n",
       "    </tr>\n",
       "    <tr>\n",
       "      <th>RPL41</th>\n",
       "      <td>False</td>\n",
       "      <td>True</td>\n",
       "      <td>3751</td>\n",
       "      <td>35.978542</td>\n",
       "      <td>0.635762</td>\n",
       "      <td>135819.0</td>\n",
       "      <td>3751</td>\n",
       "      <td>False</td>\n",
       "    </tr>\n",
       "    <tr>\n",
       "      <th>RPLP1</th>\n",
       "      <td>False</td>\n",
       "      <td>True</td>\n",
       "      <td>3756</td>\n",
       "      <td>34.356823</td>\n",
       "      <td>0.503311</td>\n",
       "      <td>129697.0</td>\n",
       "      <td>3756</td>\n",
       "      <td>False</td>\n",
       "    </tr>\n",
       "    <tr>\n",
       "      <th>RPL10</th>\n",
       "      <td>False</td>\n",
       "      <td>True</td>\n",
       "      <td>3762</td>\n",
       "      <td>41.468346</td>\n",
       "      <td>0.344371</td>\n",
       "      <td>156543.0</td>\n",
       "      <td>3762</td>\n",
       "      <td>False</td>\n",
       "    </tr>\n",
       "    <tr>\n",
       "      <th>B2M</th>\n",
       "      <td>False</td>\n",
       "      <td>False</td>\n",
       "      <td>3762</td>\n",
       "      <td>38.600796</td>\n",
       "      <td>0.344371</td>\n",
       "      <td>145718.0</td>\n",
       "      <td>3762</td>\n",
       "      <td>False</td>\n",
       "    </tr>\n",
       "    <tr>\n",
       "      <th>TMSB4X</th>\n",
       "      <td>False</td>\n",
       "      <td>False</td>\n",
       "      <td>3769</td>\n",
       "      <td>58.272053</td>\n",
       "      <td>0.158940</td>\n",
       "      <td>219977.0</td>\n",
       "      <td>3769</td>\n",
       "      <td>False</td>\n",
       "    </tr>\n",
       "  </tbody>\n",
       "</table>\n",
       "<p>17799 rows × 8 columns</p>\n",
       "</div>"
      ],
      "text/plain": [
       "               MT   ribo  n_cells_by_counts  mean_counts  \\\n",
       "AL627309.1  False  False                  3     0.000795   \n",
       "LINC00276   False  False                  3     0.000795   \n",
       "AL031775.2  False  False                  3     0.000795   \n",
       "AC073133.2  False  False                  3     0.000795   \n",
       "PIPOX       False  False                  3     0.000795   \n",
       "...           ...    ...                ...          ...   \n",
       "RPL41       False   True               3751    35.978542   \n",
       "RPLP1       False   True               3756    34.356823   \n",
       "RPL10       False   True               3762    41.468346   \n",
       "B2M         False  False               3762    38.600796   \n",
       "TMSB4X      False  False               3769    58.272053   \n",
       "\n",
       "            pct_dropout_by_counts  total_counts  n_cells     mt  \n",
       "AL627309.1              99.920530           3.0        3  False  \n",
       "LINC00276               99.920530           3.0        3  False  \n",
       "AL031775.2              99.920530           3.0        3  False  \n",
       "AC073133.2              99.920530           3.0        3  False  \n",
       "PIPOX                   99.920530           3.0        3  False  \n",
       "...                           ...           ...      ...    ...  \n",
       "RPL41                    0.635762      135819.0     3751  False  \n",
       "RPLP1                    0.503311      129697.0     3756  False  \n",
       "RPL10                    0.344371      156543.0     3762  False  \n",
       "B2M                      0.344371      145718.0     3762  False  \n",
       "TMSB4X                   0.158940      219977.0     3769  False  \n",
       "\n",
       "[17799 rows x 8 columns]"
      ]
     },
     "execution_count": 117,
     "metadata": {},
     "output_type": "execute_result"
    }
   ],
   "source": [
    "adata_reMoveDoublet.var.sort_values('n_cells_by_counts')\n"
   ]
  },
  {
   "cell_type": "code",
   "execution_count": 118,
   "id": "719b92db",
   "metadata": {},
   "outputs": [],
   "source": [
    "sc.pp.filter_genes(adata_reMoveDoublet, min_cells=3)"
   ]
  },
  {
   "cell_type": "code",
   "execution_count": 119,
   "id": "6a2c2dfc",
   "metadata": {},
   "outputs": [
    {
     "data": {
      "text/html": [
       "<div>\n",
       "<style scoped>\n",
       "    .dataframe tbody tr th:only-of-type {\n",
       "        vertical-align: middle;\n",
       "    }\n",
       "\n",
       "    .dataframe tbody tr th {\n",
       "        vertical-align: top;\n",
       "    }\n",
       "\n",
       "    .dataframe thead th {\n",
       "        text-align: right;\n",
       "    }\n",
       "</style>\n",
       "<table border=\"1\" class=\"dataframe\">\n",
       "  <thead>\n",
       "    <tr style=\"text-align: right;\">\n",
       "      <th></th>\n",
       "      <th>doublet</th>\n",
       "      <th>n_genes_by_counts</th>\n",
       "      <th>total_counts</th>\n",
       "      <th>total_counts_MT</th>\n",
       "      <th>pct_counts_MT</th>\n",
       "      <th>total_counts_ribo</th>\n",
       "      <th>pct_counts_ribo</th>\n",
       "      <th>total_counts_mt</th>\n",
       "      <th>pct_counts_mt</th>\n",
       "    </tr>\n",
       "  </thead>\n",
       "  <tbody>\n",
       "    <tr>\n",
       "      <th>AAACCTGAGGCAGGTT</th>\n",
       "      <td>False</td>\n",
       "      <td>1016</td>\n",
       "      <td>2224.0</td>\n",
       "      <td>93.0</td>\n",
       "      <td>4.181655</td>\n",
       "      <td>325.0</td>\n",
       "      <td>14.613310</td>\n",
       "      <td>93.0</td>\n",
       "      <td>4.181655</td>\n",
       "    </tr>\n",
       "    <tr>\n",
       "      <th>AAACCTGAGGGAACGG</th>\n",
       "      <td>False</td>\n",
       "      <td>1460</td>\n",
       "      <td>3218.0</td>\n",
       "      <td>167.0</td>\n",
       "      <td>5.189559</td>\n",
       "      <td>604.0</td>\n",
       "      <td>18.769423</td>\n",
       "      <td>167.0</td>\n",
       "      <td>5.189559</td>\n",
       "    </tr>\n",
       "    <tr>\n",
       "      <th>AAACCTGAGGTGATTA</th>\n",
       "      <td>False</td>\n",
       "      <td>966</td>\n",
       "      <td>1785.0</td>\n",
       "      <td>81.0</td>\n",
       "      <td>4.537815</td>\n",
       "      <td>297.0</td>\n",
       "      <td>16.638657</td>\n",
       "      <td>81.0</td>\n",
       "      <td>4.537815</td>\n",
       "    </tr>\n",
       "    <tr>\n",
       "      <th>AAACCTGAGTTAACGA</th>\n",
       "      <td>False</td>\n",
       "      <td>1367</td>\n",
       "      <td>2545.0</td>\n",
       "      <td>90.0</td>\n",
       "      <td>3.536346</td>\n",
       "      <td>312.0</td>\n",
       "      <td>12.259332</td>\n",
       "      <td>90.0</td>\n",
       "      <td>3.536346</td>\n",
       "    </tr>\n",
       "    <tr>\n",
       "      <th>AAACCTGCATGTTGAC</th>\n",
       "      <td>False</td>\n",
       "      <td>972</td>\n",
       "      <td>2019.0</td>\n",
       "      <td>82.0</td>\n",
       "      <td>4.061417</td>\n",
       "      <td>440.0</td>\n",
       "      <td>21.792967</td>\n",
       "      <td>82.0</td>\n",
       "      <td>4.061417</td>\n",
       "    </tr>\n",
       "    <tr>\n",
       "      <th>...</th>\n",
       "      <td>...</td>\n",
       "      <td>...</td>\n",
       "      <td>...</td>\n",
       "      <td>...</td>\n",
       "      <td>...</td>\n",
       "      <td>...</td>\n",
       "      <td>...</td>\n",
       "      <td>...</td>\n",
       "      <td>...</td>\n",
       "    </tr>\n",
       "    <tr>\n",
       "      <th>TTTGTCAGTCAATGTC</th>\n",
       "      <td>False</td>\n",
       "      <td>3300</td>\n",
       "      <td>19058.0</td>\n",
       "      <td>639.0</td>\n",
       "      <td>3.352747</td>\n",
       "      <td>6311.0</td>\n",
       "      <td>33.114700</td>\n",
       "      <td>639.0</td>\n",
       "      <td>3.352923</td>\n",
       "    </tr>\n",
       "    <tr>\n",
       "      <th>TTTGTCAGTCATATCG</th>\n",
       "      <td>False</td>\n",
       "      <td>1098</td>\n",
       "      <td>2021.0</td>\n",
       "      <td>72.0</td>\n",
       "      <td>3.562593</td>\n",
       "      <td>278.0</td>\n",
       "      <td>13.755566</td>\n",
       "      <td>72.0</td>\n",
       "      <td>3.562593</td>\n",
       "    </tr>\n",
       "    <tr>\n",
       "      <th>TTTGTCAGTGAGGGAG</th>\n",
       "      <td>False</td>\n",
       "      <td>2109</td>\n",
       "      <td>6162.0</td>\n",
       "      <td>142.0</td>\n",
       "      <td>2.304447</td>\n",
       "      <td>1056.0</td>\n",
       "      <td>17.137293</td>\n",
       "      <td>142.0</td>\n",
       "      <td>2.304447</td>\n",
       "    </tr>\n",
       "    <tr>\n",
       "      <th>TTTGTCATCATCTGTT</th>\n",
       "      <td>False</td>\n",
       "      <td>2483</td>\n",
       "      <td>7149.0</td>\n",
       "      <td>137.0</td>\n",
       "      <td>1.916084</td>\n",
       "      <td>1210.0</td>\n",
       "      <td>16.925444</td>\n",
       "      <td>137.0</td>\n",
       "      <td>1.916352</td>\n",
       "    </tr>\n",
       "    <tr>\n",
       "      <th>TTTGTCATCATTGCGA</th>\n",
       "      <td>False</td>\n",
       "      <td>2858</td>\n",
       "      <td>8321.0</td>\n",
       "      <td>269.0</td>\n",
       "      <td>3.232785</td>\n",
       "      <td>1335.0</td>\n",
       "      <td>16.043745</td>\n",
       "      <td>269.0</td>\n",
       "      <td>3.232785</td>\n",
       "    </tr>\n",
       "  </tbody>\n",
       "</table>\n",
       "<p>3775 rows × 9 columns</p>\n",
       "</div>"
      ],
      "text/plain": [
       "                  doublet  n_genes_by_counts  total_counts  total_counts_MT  \\\n",
       "AAACCTGAGGCAGGTT    False               1016        2224.0             93.0   \n",
       "AAACCTGAGGGAACGG    False               1460        3218.0            167.0   \n",
       "AAACCTGAGGTGATTA    False                966        1785.0             81.0   \n",
       "AAACCTGAGTTAACGA    False               1367        2545.0             90.0   \n",
       "AAACCTGCATGTTGAC    False                972        2019.0             82.0   \n",
       "...                   ...                ...           ...              ...   \n",
       "TTTGTCAGTCAATGTC    False               3300       19058.0            639.0   \n",
       "TTTGTCAGTCATATCG    False               1098        2021.0             72.0   \n",
       "TTTGTCAGTGAGGGAG    False               2109        6162.0            142.0   \n",
       "TTTGTCATCATCTGTT    False               2483        7149.0            137.0   \n",
       "TTTGTCATCATTGCGA    False               2858        8321.0            269.0   \n",
       "\n",
       "                  pct_counts_MT  total_counts_ribo  pct_counts_ribo  \\\n",
       "AAACCTGAGGCAGGTT       4.181655              325.0        14.613310   \n",
       "AAACCTGAGGGAACGG       5.189559              604.0        18.769423   \n",
       "AAACCTGAGGTGATTA       4.537815              297.0        16.638657   \n",
       "AAACCTGAGTTAACGA       3.536346              312.0        12.259332   \n",
       "AAACCTGCATGTTGAC       4.061417              440.0        21.792967   \n",
       "...                         ...                ...              ...   \n",
       "TTTGTCAGTCAATGTC       3.352747             6311.0        33.114700   \n",
       "TTTGTCAGTCATATCG       3.562593              278.0        13.755566   \n",
       "TTTGTCAGTGAGGGAG       2.304447             1056.0        17.137293   \n",
       "TTTGTCATCATCTGTT       1.916084             1210.0        16.925444   \n",
       "TTTGTCATCATTGCGA       3.232785             1335.0        16.043745   \n",
       "\n",
       "                  total_counts_mt  pct_counts_mt  \n",
       "AAACCTGAGGCAGGTT             93.0       4.181655  \n",
       "AAACCTGAGGGAACGG            167.0       5.189559  \n",
       "AAACCTGAGGTGATTA             81.0       4.537815  \n",
       "AAACCTGAGTTAACGA             90.0       3.536346  \n",
       "AAACCTGCATGTTGAC             82.0       4.061417  \n",
       "...                           ...            ...  \n",
       "TTTGTCAGTCAATGTC            639.0       3.352923  \n",
       "TTTGTCAGTCATATCG             72.0       3.562593  \n",
       "TTTGTCAGTGAGGGAG            142.0       2.304447  \n",
       "TTTGTCATCATCTGTT            137.0       1.916352  \n",
       "TTTGTCATCATTGCGA            269.0       3.232785  \n",
       "\n",
       "[3775 rows x 9 columns]"
      ]
     },
     "execution_count": 119,
     "metadata": {},
     "output_type": "execute_result"
    }
   ],
   "source": [
    "adata_reMoveDoublet.obs"
   ]
  },
  {
   "cell_type": "code",
   "execution_count": 120,
   "id": "1e1c4b70-ed4c-4bb1-a651-321156f9f1dd",
   "metadata": {},
   "outputs": [
    {
     "data": {
      "text/html": [
       "<div>\n",
       "<style scoped>\n",
       "    .dataframe tbody tr th:only-of-type {\n",
       "        vertical-align: middle;\n",
       "    }\n",
       "\n",
       "    .dataframe tbody tr th {\n",
       "        vertical-align: top;\n",
       "    }\n",
       "\n",
       "    .dataframe thead th {\n",
       "        text-align: right;\n",
       "    }\n",
       "</style>\n",
       "<table border=\"1\" class=\"dataframe\">\n",
       "  <thead>\n",
       "    <tr style=\"text-align: right;\">\n",
       "      <th></th>\n",
       "      <th>MT</th>\n",
       "      <th>ribo</th>\n",
       "      <th>n_cells_by_counts</th>\n",
       "      <th>mean_counts</th>\n",
       "      <th>pct_dropout_by_counts</th>\n",
       "      <th>total_counts</th>\n",
       "      <th>n_cells</th>\n",
       "      <th>mt</th>\n",
       "    </tr>\n",
       "  </thead>\n",
       "  <tbody>\n",
       "    <tr>\n",
       "      <th>AL627309.1</th>\n",
       "      <td>False</td>\n",
       "      <td>False</td>\n",
       "      <td>3</td>\n",
       "      <td>0.000795</td>\n",
       "      <td>99.920530</td>\n",
       "      <td>3.0</td>\n",
       "      <td>3</td>\n",
       "      <td>False</td>\n",
       "    </tr>\n",
       "    <tr>\n",
       "      <th>LINC00276</th>\n",
       "      <td>False</td>\n",
       "      <td>False</td>\n",
       "      <td>3</td>\n",
       "      <td>0.000795</td>\n",
       "      <td>99.920530</td>\n",
       "      <td>3.0</td>\n",
       "      <td>3</td>\n",
       "      <td>False</td>\n",
       "    </tr>\n",
       "    <tr>\n",
       "      <th>AL031775.2</th>\n",
       "      <td>False</td>\n",
       "      <td>False</td>\n",
       "      <td>3</td>\n",
       "      <td>0.000795</td>\n",
       "      <td>99.920530</td>\n",
       "      <td>3.0</td>\n",
       "      <td>3</td>\n",
       "      <td>False</td>\n",
       "    </tr>\n",
       "    <tr>\n",
       "      <th>AC073133.2</th>\n",
       "      <td>False</td>\n",
       "      <td>False</td>\n",
       "      <td>3</td>\n",
       "      <td>0.000795</td>\n",
       "      <td>99.920530</td>\n",
       "      <td>3.0</td>\n",
       "      <td>3</td>\n",
       "      <td>False</td>\n",
       "    </tr>\n",
       "    <tr>\n",
       "      <th>PIPOX</th>\n",
       "      <td>False</td>\n",
       "      <td>False</td>\n",
       "      <td>3</td>\n",
       "      <td>0.000795</td>\n",
       "      <td>99.920530</td>\n",
       "      <td>3.0</td>\n",
       "      <td>3</td>\n",
       "      <td>False</td>\n",
       "    </tr>\n",
       "    <tr>\n",
       "      <th>...</th>\n",
       "      <td>...</td>\n",
       "      <td>...</td>\n",
       "      <td>...</td>\n",
       "      <td>...</td>\n",
       "      <td>...</td>\n",
       "      <td>...</td>\n",
       "      <td>...</td>\n",
       "      <td>...</td>\n",
       "    </tr>\n",
       "    <tr>\n",
       "      <th>RPL41</th>\n",
       "      <td>False</td>\n",
       "      <td>True</td>\n",
       "      <td>3751</td>\n",
       "      <td>35.978542</td>\n",
       "      <td>0.635762</td>\n",
       "      <td>135819.0</td>\n",
       "      <td>3751</td>\n",
       "      <td>False</td>\n",
       "    </tr>\n",
       "    <tr>\n",
       "      <th>RPLP1</th>\n",
       "      <td>False</td>\n",
       "      <td>True</td>\n",
       "      <td>3756</td>\n",
       "      <td>34.356823</td>\n",
       "      <td>0.503311</td>\n",
       "      <td>129697.0</td>\n",
       "      <td>3756</td>\n",
       "      <td>False</td>\n",
       "    </tr>\n",
       "    <tr>\n",
       "      <th>RPL10</th>\n",
       "      <td>False</td>\n",
       "      <td>True</td>\n",
       "      <td>3762</td>\n",
       "      <td>41.468346</td>\n",
       "      <td>0.344371</td>\n",
       "      <td>156543.0</td>\n",
       "      <td>3762</td>\n",
       "      <td>False</td>\n",
       "    </tr>\n",
       "    <tr>\n",
       "      <th>B2M</th>\n",
       "      <td>False</td>\n",
       "      <td>False</td>\n",
       "      <td>3762</td>\n",
       "      <td>38.600796</td>\n",
       "      <td>0.344371</td>\n",
       "      <td>145718.0</td>\n",
       "      <td>3762</td>\n",
       "      <td>False</td>\n",
       "    </tr>\n",
       "    <tr>\n",
       "      <th>TMSB4X</th>\n",
       "      <td>False</td>\n",
       "      <td>False</td>\n",
       "      <td>3769</td>\n",
       "      <td>58.272053</td>\n",
       "      <td>0.158940</td>\n",
       "      <td>219977.0</td>\n",
       "      <td>3769</td>\n",
       "      <td>False</td>\n",
       "    </tr>\n",
       "  </tbody>\n",
       "</table>\n",
       "<p>17799 rows × 8 columns</p>\n",
       "</div>"
      ],
      "text/plain": [
       "               MT   ribo  n_cells_by_counts  mean_counts  \\\n",
       "AL627309.1  False  False                  3     0.000795   \n",
       "LINC00276   False  False                  3     0.000795   \n",
       "AL031775.2  False  False                  3     0.000795   \n",
       "AC073133.2  False  False                  3     0.000795   \n",
       "PIPOX       False  False                  3     0.000795   \n",
       "...           ...    ...                ...          ...   \n",
       "RPL41       False   True               3751    35.978542   \n",
       "RPLP1       False   True               3756    34.356823   \n",
       "RPL10       False   True               3762    41.468346   \n",
       "B2M         False  False               3762    38.600796   \n",
       "TMSB4X      False  False               3769    58.272053   \n",
       "\n",
       "            pct_dropout_by_counts  total_counts  n_cells     mt  \n",
       "AL627309.1              99.920530           3.0        3  False  \n",
       "LINC00276               99.920530           3.0        3  False  \n",
       "AL031775.2              99.920530           3.0        3  False  \n",
       "AC073133.2              99.920530           3.0        3  False  \n",
       "PIPOX                   99.920530           3.0        3  False  \n",
       "...                           ...           ...      ...    ...  \n",
       "RPL41                    0.635762      135819.0     3751  False  \n",
       "RPLP1                    0.503311      129697.0     3756  False  \n",
       "RPL10                    0.344371      156543.0     3762  False  \n",
       "B2M                      0.344371      145718.0     3762  False  \n",
       "TMSB4X                   0.158940      219977.0     3769  False  \n",
       "\n",
       "[17799 rows x 8 columns]"
      ]
     },
     "execution_count": 120,
     "metadata": {},
     "output_type": "execute_result"
    }
   ],
   "source": [
    "adata_reMoveDoublet.var.sort_values('n_cells_by_counts')\n",
    "# adata_reMoveDoublet.obs.sort_values('pct_counts_ribo')\n"
   ]
  },
  {
   "cell_type": "code",
   "execution_count": 122,
   "id": "114fe35a-d6aa-4373-918c-1104b3b676f9",
   "metadata": {},
   "outputs": [
    {
     "data": {
      "text/html": [
       "<div>\n",
       "<style scoped>\n",
       "    .dataframe tbody tr th:only-of-type {\n",
       "        vertical-align: middle;\n",
       "    }\n",
       "\n",
       "    .dataframe tbody tr th {\n",
       "        vertical-align: top;\n",
       "    }\n",
       "\n",
       "    .dataframe thead th {\n",
       "        text-align: right;\n",
       "    }\n",
       "</style>\n",
       "<table border=\"1\" class=\"dataframe\">\n",
       "  <thead>\n",
       "    <tr style=\"text-align: right;\">\n",
       "      <th></th>\n",
       "      <th>doublet</th>\n",
       "      <th>n_genes_by_counts</th>\n",
       "      <th>total_counts</th>\n",
       "      <th>total_counts_MT</th>\n",
       "      <th>pct_counts_MT</th>\n",
       "      <th>total_counts_ribo</th>\n",
       "      <th>pct_counts_ribo</th>\n",
       "      <th>total_counts_mt</th>\n",
       "      <th>pct_counts_mt</th>\n",
       "    </tr>\n",
       "  </thead>\n",
       "  <tbody>\n",
       "    <tr>\n",
       "      <th>GTACTCCGTAAAGTCA</th>\n",
       "      <td>False</td>\n",
       "      <td>330</td>\n",
       "      <td>501.0</td>\n",
       "      <td>0.0</td>\n",
       "      <td>0.000000</td>\n",
       "      <td>150.0</td>\n",
       "      <td>29.940119</td>\n",
       "      <td>0.0</td>\n",
       "      <td>0.000000</td>\n",
       "    </tr>\n",
       "    <tr>\n",
       "      <th>ATTGGACTCTCAAACG</th>\n",
       "      <td>False</td>\n",
       "      <td>366</td>\n",
       "      <td>501.0</td>\n",
       "      <td>0.0</td>\n",
       "      <td>0.000000</td>\n",
       "      <td>80.0</td>\n",
       "      <td>15.968063</td>\n",
       "      <td>0.0</td>\n",
       "      <td>0.000000</td>\n",
       "    </tr>\n",
       "    <tr>\n",
       "      <th>CGGCTAGTCTGCCAGG</th>\n",
       "      <td>False</td>\n",
       "      <td>299</td>\n",
       "      <td>506.0</td>\n",
       "      <td>24.0</td>\n",
       "      <td>4.743083</td>\n",
       "      <td>74.0</td>\n",
       "      <td>14.624506</td>\n",
       "      <td>24.0</td>\n",
       "      <td>4.743083</td>\n",
       "    </tr>\n",
       "    <tr>\n",
       "      <th>GGTATTGTCGTAGGAG</th>\n",
       "      <td>False</td>\n",
       "      <td>345</td>\n",
       "      <td>514.0</td>\n",
       "      <td>5.0</td>\n",
       "      <td>0.972763</td>\n",
       "      <td>89.0</td>\n",
       "      <td>17.315174</td>\n",
       "      <td>5.0</td>\n",
       "      <td>0.972763</td>\n",
       "    </tr>\n",
       "    <tr>\n",
       "      <th>CTGATCCCAGCTCGAC</th>\n",
       "      <td>False</td>\n",
       "      <td>322</td>\n",
       "      <td>516.0</td>\n",
       "      <td>38.0</td>\n",
       "      <td>7.364341</td>\n",
       "      <td>83.0</td>\n",
       "      <td>16.085272</td>\n",
       "      <td>38.0</td>\n",
       "      <td>7.364341</td>\n",
       "    </tr>\n",
       "    <tr>\n",
       "      <th>...</th>\n",
       "      <td>...</td>\n",
       "      <td>...</td>\n",
       "      <td>...</td>\n",
       "      <td>...</td>\n",
       "      <td>...</td>\n",
       "      <td>...</td>\n",
       "      <td>...</td>\n",
       "      <td>...</td>\n",
       "      <td>...</td>\n",
       "    </tr>\n",
       "    <tr>\n",
       "      <th>TCGTAGACACGTGAGA</th>\n",
       "      <td>False</td>\n",
       "      <td>4862</td>\n",
       "      <td>45457.0</td>\n",
       "      <td>1439.0</td>\n",
       "      <td>3.165629</td>\n",
       "      <td>12844.0</td>\n",
       "      <td>28.255276</td>\n",
       "      <td>1439.0</td>\n",
       "      <td>3.165629</td>\n",
       "    </tr>\n",
       "    <tr>\n",
       "      <th>CGAGCACAGGCTATCT</th>\n",
       "      <td>False</td>\n",
       "      <td>5095</td>\n",
       "      <td>45752.0</td>\n",
       "      <td>1469.0</td>\n",
       "      <td>3.210719</td>\n",
       "      <td>14300.0</td>\n",
       "      <td>31.255463</td>\n",
       "      <td>1469.0</td>\n",
       "      <td>3.210788</td>\n",
       "    </tr>\n",
       "    <tr>\n",
       "      <th>ATCATGGCACTATCTT</th>\n",
       "      <td>False</td>\n",
       "      <td>4772</td>\n",
       "      <td>52176.0</td>\n",
       "      <td>1613.0</td>\n",
       "      <td>3.091400</td>\n",
       "      <td>20356.0</td>\n",
       "      <td>39.014107</td>\n",
       "      <td>1613.0</td>\n",
       "      <td>3.091460</td>\n",
       "    </tr>\n",
       "    <tr>\n",
       "      <th>ACGGCCAGTCAACATC</th>\n",
       "      <td>False</td>\n",
       "      <td>4958</td>\n",
       "      <td>52898.0</td>\n",
       "      <td>1918.0</td>\n",
       "      <td>3.625846</td>\n",
       "      <td>14226.0</td>\n",
       "      <td>26.893267</td>\n",
       "      <td>1918.0</td>\n",
       "      <td>3.625846</td>\n",
       "    </tr>\n",
       "    <tr>\n",
       "      <th>TGCTGCTTCGCCCTTA</th>\n",
       "      <td>False</td>\n",
       "      <td>5258</td>\n",
       "      <td>58675.0</td>\n",
       "      <td>1555.0</td>\n",
       "      <td>2.650146</td>\n",
       "      <td>11840.0</td>\n",
       "      <td>20.178951</td>\n",
       "      <td>1555.0</td>\n",
       "      <td>2.650192</td>\n",
       "    </tr>\n",
       "  </tbody>\n",
       "</table>\n",
       "<p>3775 rows × 9 columns</p>\n",
       "</div>"
      ],
      "text/plain": [
       "                  doublet  n_genes_by_counts  total_counts  total_counts_MT  \\\n",
       "GTACTCCGTAAAGTCA    False                330         501.0              0.0   \n",
       "ATTGGACTCTCAAACG    False                366         501.0              0.0   \n",
       "CGGCTAGTCTGCCAGG    False                299         506.0             24.0   \n",
       "GGTATTGTCGTAGGAG    False                345         514.0              5.0   \n",
       "CTGATCCCAGCTCGAC    False                322         516.0             38.0   \n",
       "...                   ...                ...           ...              ...   \n",
       "TCGTAGACACGTGAGA    False               4862       45457.0           1439.0   \n",
       "CGAGCACAGGCTATCT    False               5095       45752.0           1469.0   \n",
       "ATCATGGCACTATCTT    False               4772       52176.0           1613.0   \n",
       "ACGGCCAGTCAACATC    False               4958       52898.0           1918.0   \n",
       "TGCTGCTTCGCCCTTA    False               5258       58675.0           1555.0   \n",
       "\n",
       "                  pct_counts_MT  total_counts_ribo  pct_counts_ribo  \\\n",
       "GTACTCCGTAAAGTCA       0.000000              150.0        29.940119   \n",
       "ATTGGACTCTCAAACG       0.000000               80.0        15.968063   \n",
       "CGGCTAGTCTGCCAGG       4.743083               74.0        14.624506   \n",
       "GGTATTGTCGTAGGAG       0.972763               89.0        17.315174   \n",
       "CTGATCCCAGCTCGAC       7.364341               83.0        16.085272   \n",
       "...                         ...                ...              ...   \n",
       "TCGTAGACACGTGAGA       3.165629            12844.0        28.255276   \n",
       "CGAGCACAGGCTATCT       3.210719            14300.0        31.255463   \n",
       "ATCATGGCACTATCTT       3.091400            20356.0        39.014107   \n",
       "ACGGCCAGTCAACATC       3.625846            14226.0        26.893267   \n",
       "TGCTGCTTCGCCCTTA       2.650146            11840.0        20.178951   \n",
       "\n",
       "                  total_counts_mt  pct_counts_mt  \n",
       "GTACTCCGTAAAGTCA              0.0       0.000000  \n",
       "ATTGGACTCTCAAACG              0.0       0.000000  \n",
       "CGGCTAGTCTGCCAGG             24.0       4.743083  \n",
       "GGTATTGTCGTAGGAG              5.0       0.972763  \n",
       "CTGATCCCAGCTCGAC             38.0       7.364341  \n",
       "...                           ...            ...  \n",
       "TCGTAGACACGTGAGA           1439.0       3.165629  \n",
       "CGAGCACAGGCTATCT           1469.0       3.210788  \n",
       "ATCATGGCACTATCTT           1613.0       3.091460  \n",
       "ACGGCCAGTCAACATC           1918.0       3.625846  \n",
       "TGCTGCTTCGCCCTTA           1555.0       2.650192  \n",
       "\n",
       "[3775 rows x 9 columns]"
      ]
     },
     "execution_count": 122,
     "metadata": {},
     "output_type": "execute_result"
    }
   ],
   "source": [
    "adata_reMoveDoublet.obs.sort_values('total_counts')"
   ]
  },
  {
   "cell_type": "code",
   "execution_count": 41,
   "id": "4a6b9399",
   "metadata": {},
   "outputs": [],
   "source": [
    "#sc.pp.filter_cells(adata, min_genes=200)"
   ]
  },
  {
   "cell_type": "code",
   "execution_count": 123,
   "id": "f78bed7c",
   "metadata": {
    "scrolled": true
   },
   "outputs": [
    {
     "name": "stderr",
     "output_type": "stream",
     "text": [
      "C:\\Users\\thoca\\anaconda3\\envs\\scRNAseq_Env2\\lib\\site-packages\\seaborn\\axisgrid.py:118: UserWarning: The figure layout has changed to tight\n",
      "  self._figure.tight_layout(*args, **kwargs)\n"
     ]
    },
    {
     "data": {
      "image/png": "[encoded data removed]",
      "text/plain": [
       "<Figure size 2000x500 with 4 Axes>"
      ]
     },
     "metadata": {},
     "output_type": "display_data"
    }
   ],
   "source": [
    "sc.pl.violin(adata_reMoveDoublet, ['n_genes_by_counts', 'total_counts', 'pct_counts_MT', 'pct_counts_ribo'], \n",
    "             jitter=0.4, multi_panel=True) #QC"
   ]
  },
  {
   "cell_type": "markdown",
   "id": "06324b51-d464-4a51-9b8c-22d98f8e1eca",
   "metadata": {},
   "source": [
    "## import numpy as np"
   ]
  },
  {
   "cell_type": "code",
   "execution_count": 126,
   "id": "88cf323e",
   "metadata": {},
   "outputs": [],
   "source": [
    "upper_lim = np.quantile(adata_reMoveDoublet.obs.n_genes_by_counts.values, .98)\n",
    "#upper_lim = 3000"
   ]
  },
  {
   "cell_type": "code",
   "execution_count": 127,
   "id": "ee061c76",
   "metadata": {},
   "outputs": [
    {
     "data": {
      "text/plain": [
       "4350.36"
      ]
     },
     "execution_count": 127,
     "metadata": {},
     "output_type": "execute_result"
    }
   ],
   "source": [
    "upper_lim"
   ]
  },
  {
   "cell_type": "code",
   "execution_count": 128,
   "id": "731a2905",
   "metadata": {},
   "outputs": [],
   "source": [
    "adata_lim = adata_reMoveDoublet[adata_reMoveDoublet.obs.n_genes_by_counts < upper_lim]"
   ]
  },
  {
   "cell_type": "code",
   "execution_count": 129,
   "id": "c4790ee4",
   "metadata": {},
   "outputs": [
    {
     "data": {
      "text/html": [
       "<div>\n",
       "<style scoped>\n",
       "    .dataframe tbody tr th:only-of-type {\n",
       "        vertical-align: middle;\n",
       "    }\n",
       "\n",
       "    .dataframe tbody tr th {\n",
       "        vertical-align: top;\n",
       "    }\n",
       "\n",
       "    .dataframe thead th {\n",
       "        text-align: right;\n",
       "    }\n",
       "</style>\n",
       "<table border=\"1\" class=\"dataframe\">\n",
       "  <thead>\n",
       "    <tr style=\"text-align: right;\">\n",
       "      <th></th>\n",
       "      <th>doublet</th>\n",
       "      <th>n_genes_by_counts</th>\n",
       "      <th>total_counts</th>\n",
       "      <th>total_counts_MT</th>\n",
       "      <th>pct_counts_MT</th>\n",
       "      <th>total_counts_ribo</th>\n",
       "      <th>pct_counts_ribo</th>\n",
       "      <th>total_counts_mt</th>\n",
       "      <th>pct_counts_mt</th>\n",
       "    </tr>\n",
       "  </thead>\n",
       "  <tbody>\n",
       "    <tr>\n",
       "      <th>AAACCTGAGGCAGGTT</th>\n",
       "      <td>False</td>\n",
       "      <td>1016</td>\n",
       "      <td>2224.0</td>\n",
       "      <td>93.0</td>\n",
       "      <td>4.181655</td>\n",
       "      <td>325.0</td>\n",
       "      <td>14.613310</td>\n",
       "      <td>93.0</td>\n",
       "      <td>4.181655</td>\n",
       "    </tr>\n",
       "    <tr>\n",
       "      <th>AAACCTGAGGGAACGG</th>\n",
       "      <td>False</td>\n",
       "      <td>1460</td>\n",
       "      <td>3218.0</td>\n",
       "      <td>167.0</td>\n",
       "      <td>5.189559</td>\n",
       "      <td>604.0</td>\n",
       "      <td>18.769423</td>\n",
       "      <td>167.0</td>\n",
       "      <td>5.189559</td>\n",
       "    </tr>\n",
       "    <tr>\n",
       "      <th>AAACCTGAGGTGATTA</th>\n",
       "      <td>False</td>\n",
       "      <td>966</td>\n",
       "      <td>1785.0</td>\n",
       "      <td>81.0</td>\n",
       "      <td>4.537815</td>\n",
       "      <td>297.0</td>\n",
       "      <td>16.638657</td>\n",
       "      <td>81.0</td>\n",
       "      <td>4.537815</td>\n",
       "    </tr>\n",
       "    <tr>\n",
       "      <th>AAACCTGAGTTAACGA</th>\n",
       "      <td>False</td>\n",
       "      <td>1367</td>\n",
       "      <td>2545.0</td>\n",
       "      <td>90.0</td>\n",
       "      <td>3.536346</td>\n",
       "      <td>312.0</td>\n",
       "      <td>12.259332</td>\n",
       "      <td>90.0</td>\n",
       "      <td>3.536346</td>\n",
       "    </tr>\n",
       "    <tr>\n",
       "      <th>AAACCTGCATGTTGAC</th>\n",
       "      <td>False</td>\n",
       "      <td>972</td>\n",
       "      <td>2019.0</td>\n",
       "      <td>82.0</td>\n",
       "      <td>4.061417</td>\n",
       "      <td>440.0</td>\n",
       "      <td>21.792967</td>\n",
       "      <td>82.0</td>\n",
       "      <td>4.061417</td>\n",
       "    </tr>\n",
       "    <tr>\n",
       "      <th>...</th>\n",
       "      <td>...</td>\n",
       "      <td>...</td>\n",
       "      <td>...</td>\n",
       "      <td>...</td>\n",
       "      <td>...</td>\n",
       "      <td>...</td>\n",
       "      <td>...</td>\n",
       "      <td>...</td>\n",
       "      <td>...</td>\n",
       "    </tr>\n",
       "    <tr>\n",
       "      <th>TTTGTCAGTCAATGTC</th>\n",
       "      <td>False</td>\n",
       "      <td>3300</td>\n",
       "      <td>19058.0</td>\n",
       "      <td>639.0</td>\n",
       "      <td>3.352747</td>\n",
       "      <td>6311.0</td>\n",
       "      <td>33.114700</td>\n",
       "      <td>639.0</td>\n",
       "      <td>3.352923</td>\n",
       "    </tr>\n",
       "    <tr>\n",
       "      <th>TTTGTCAGTCATATCG</th>\n",
       "      <td>False</td>\n",
       "      <td>1098</td>\n",
       "      <td>2021.0</td>\n",
       "      <td>72.0</td>\n",
       "      <td>3.562593</td>\n",
       "      <td>278.0</td>\n",
       "      <td>13.755566</td>\n",
       "      <td>72.0</td>\n",
       "      <td>3.562593</td>\n",
       "    </tr>\n",
       "    <tr>\n",
       "      <th>TTTGTCAGTGAGGGAG</th>\n",
       "      <td>False</td>\n",
       "      <td>2109</td>\n",
       "      <td>6162.0</td>\n",
       "      <td>142.0</td>\n",
       "      <td>2.304447</td>\n",
       "      <td>1056.0</td>\n",
       "      <td>17.137293</td>\n",
       "      <td>142.0</td>\n",
       "      <td>2.304447</td>\n",
       "    </tr>\n",
       "    <tr>\n",
       "      <th>TTTGTCATCATCTGTT</th>\n",
       "      <td>False</td>\n",
       "      <td>2483</td>\n",
       "      <td>7149.0</td>\n",
       "      <td>137.0</td>\n",
       "      <td>1.916084</td>\n",
       "      <td>1210.0</td>\n",
       "      <td>16.925444</td>\n",
       "      <td>137.0</td>\n",
       "      <td>1.916352</td>\n",
       "    </tr>\n",
       "    <tr>\n",
       "      <th>TTTGTCATCATTGCGA</th>\n",
       "      <td>False</td>\n",
       "      <td>2858</td>\n",
       "      <td>8321.0</td>\n",
       "      <td>269.0</td>\n",
       "      <td>3.232785</td>\n",
       "      <td>1335.0</td>\n",
       "      <td>16.043745</td>\n",
       "      <td>269.0</td>\n",
       "      <td>3.232785</td>\n",
       "    </tr>\n",
       "  </tbody>\n",
       "</table>\n",
       "<p>3699 rows × 9 columns</p>\n",
       "</div>"
      ],
      "text/plain": [
       "                  doublet  n_genes_by_counts  total_counts  total_counts_MT  \\\n",
       "AAACCTGAGGCAGGTT    False               1016        2224.0             93.0   \n",
       "AAACCTGAGGGAACGG    False               1460        3218.0            167.0   \n",
       "AAACCTGAGGTGATTA    False                966        1785.0             81.0   \n",
       "AAACCTGAGTTAACGA    False               1367        2545.0             90.0   \n",
       "AAACCTGCATGTTGAC    False                972        2019.0             82.0   \n",
       "...                   ...                ...           ...              ...   \n",
       "TTTGTCAGTCAATGTC    False               3300       19058.0            639.0   \n",
       "TTTGTCAGTCATATCG    False               1098        2021.0             72.0   \n",
       "TTTGTCAGTGAGGGAG    False               2109        6162.0            142.0   \n",
       "TTTGTCATCATCTGTT    False               2483        7149.0            137.0   \n",
       "TTTGTCATCATTGCGA    False               2858        8321.0            269.0   \n",
       "\n",
       "                  pct_counts_MT  total_counts_ribo  pct_counts_ribo  \\\n",
       "AAACCTGAGGCAGGTT       4.181655              325.0        14.613310   \n",
       "AAACCTGAGGGAACGG       5.189559              604.0        18.769423   \n",
       "AAACCTGAGGTGATTA       4.537815              297.0        16.638657   \n",
       "AAACCTGAGTTAACGA       3.536346              312.0        12.259332   \n",
       "AAACCTGCATGTTGAC       4.061417              440.0        21.792967   \n",
       "...                         ...                ...              ...   \n",
       "TTTGTCAGTCAATGTC       3.352747             6311.0        33.114700   \n",
       "TTTGTCAGTCATATCG       3.562593              278.0        13.755566   \n",
       "TTTGTCAGTGAGGGAG       2.304447             1056.0        17.137293   \n",
       "TTTGTCATCATCTGTT       1.916084             1210.0        16.925444   \n",
       "TTTGTCATCATTGCGA       3.232785             1335.0        16.043745   \n",
       "\n",
       "                  total_counts_mt  pct_counts_mt  \n",
       "AAACCTGAGGCAGGTT             93.0       4.181655  \n",
       "AAACCTGAGGGAACGG            167.0       5.189559  \n",
       "AAACCTGAGGTGATTA             81.0       4.537815  \n",
       "AAACCTGAGTTAACGA             90.0       3.536346  \n",
       "AAACCTGCATGTTGAC             82.0       4.061417  \n",
       "...                           ...            ...  \n",
       "TTTGTCAGTCAATGTC            639.0       3.352923  \n",
       "TTTGTCAGTCATATCG             72.0       3.562593  \n",
       "TTTGTCAGTGAGGGAG            142.0       2.304447  \n",
       "TTTGTCATCATCTGTT            137.0       1.916352  \n",
       "TTTGTCATCATTGCGA            269.0       3.232785  \n",
       "\n",
       "[3699 rows x 9 columns]"
      ]
     },
     "execution_count": 129,
     "metadata": {},
     "output_type": "execute_result"
    }
   ],
   "source": [
    "adata_lim.obs"
   ]
  },
  {
   "cell_type": "code",
   "execution_count": 131,
   "id": "2fa8ceaf",
   "metadata": {},
   "outputs": [],
   "source": [
    "adata_mt_filter_20 = adata_lim[adata_lim.obs.pct_counts_MT < 20]"
   ]
  },
  {
   "cell_type": "code",
   "execution_count": 136,
   "id": "7621d487",
   "metadata": {},
   "outputs": [],
   "source": [
    "#adata_ribo_filter_2 = adata_lim[adata_lim.obs.pct_counts_ribo < 2]"
   ]
  },
  {
   "cell_type": "markdown",
   "id": "b4ffb69c",
   "metadata": {},
   "source": [
    "# # Normalization"
   ]
  },
  {
   "cell_type": "code",
   "execution_count": 137,
   "id": "25bdf855",
   "metadata": {},
   "outputs": [
    {
     "data": {
      "text/plain": [
       "array([2224., 3218., 1785., ..., 6162., 7149., 8321.], dtype=float32)"
      ]
     },
     "execution_count": 137,
     "metadata": {},
     "output_type": "execute_result"
    }
   ],
   "source": [
    "adata_mt_filter_20.X.sum(axis=1)"
   ]
  },
  {
   "cell_type": "code",
   "execution_count": 138,
   "id": "520d215d",
   "metadata": {},
   "outputs": [
    {
     "name": "stderr",
     "output_type": "stream",
     "text": [
      "C:\\Users\\thoca\\anaconda3\\envs\\scRNAseq_Env2\\lib\\site-packages\\scanpy\\preprocessing\\_normalization.py:169: UserWarning: Received a view of an AnnData. Making a copy.\n",
      "  view_to_actual(adata)\n"
     ]
    }
   ],
   "source": [
    "sc.pp.normalize_total(adata_mt_filter_20, target_sum=1e4) #normalize every cell to 10,000 UMI"
   ]
  },
  {
   "cell_type": "code",
   "execution_count": 139,
   "id": "821fbe58",
   "metadata": {},
   "outputs": [
    {
     "data": {
      "text/plain": [
       "array([10000.001, 10000.   , 10000.   , ..., 10000.   ,  9999.999,\n",
       "       10000.   ], dtype=float32)"
      ]
     },
     "execution_count": 139,
     "metadata": {},
     "output_type": "execute_result"
    }
   ],
   "source": [
    "adata_mt_filter_20.X.sum(axis = 1)"
   ]
  },
  {
   "cell_type": "code",
   "execution_count": 140,
   "id": "fdb256aa",
   "metadata": {},
   "outputs": [],
   "source": [
    "sc.pp.log1p(adata_mt_filter_20) #change to log counts"
   ]
  },
  {
   "cell_type": "code",
   "execution_count": 141,
   "id": "8d4ab1a4",
   "metadata": {},
   "outputs": [
    {
     "data": {
      "text/plain": [
       "array([2056.609 , 2531.324 , 2096.538 , ..., 2835.4844, 3042.7869,\n",
       "       3245.9573], dtype=float32)"
      ]
     },
     "execution_count": 141,
     "metadata": {},
     "output_type": "execute_result"
    }
   ],
   "source": [
    "adata_mt_filter_20.X.sum(axis = 1)"
   ]
  },
  {
   "cell_type": "code",
   "execution_count": 142,
   "id": "73c832d5",
   "metadata": {},
   "outputs": [],
   "source": [
    "adata_raw = adata_mt_filter_20"
   ]
  },
  {
   "cell_type": "markdown",
   "id": "9d28aeeb",
   "metadata": {},
   "source": [
    "## Clustering: you can skip to intergration if you have more than one sample, but there is still some useful infor "
   ]
  },
  {
   "cell_type": "code",
   "execution_count": 143,
   "id": "360b151c",
   "metadata": {},
   "outputs": [],
   "source": [
    "sc.pp.highly_variable_genes(adata_raw, n_top_genes = 2000)\n"
   ]
  },
  {
   "cell_type": "code",
   "execution_count": 144,
   "id": "84f2f7e5",
   "metadata": {},
   "outputs": [
    {
     "data": {
      "text/html": [
       "<div>\n",
       "<style scoped>\n",
       "    .dataframe tbody tr th:only-of-type {\n",
       "        vertical-align: middle;\n",
       "    }\n",
       "\n",
       "    .dataframe tbody tr th {\n",
       "        vertical-align: top;\n",
       "    }\n",
       "\n",
       "    .dataframe thead th {\n",
       "        text-align: right;\n",
       "    }\n",
       "</style>\n",
       "<table border=\"1\" class=\"dataframe\">\n",
       "  <thead>\n",
       "    <tr style=\"text-align: right;\">\n",
       "      <th></th>\n",
       "      <th>MT</th>\n",
       "      <th>ribo</th>\n",
       "      <th>n_cells_by_counts</th>\n",
       "      <th>mean_counts</th>\n",
       "      <th>pct_dropout_by_counts</th>\n",
       "      <th>total_counts</th>\n",
       "      <th>n_cells</th>\n",
       "      <th>mt</th>\n",
       "      <th>highly_variable</th>\n",
       "      <th>means</th>\n",
       "      <th>dispersions</th>\n",
       "      <th>dispersions_norm</th>\n",
       "    </tr>\n",
       "  </thead>\n",
       "  <tbody>\n",
       "    <tr>\n",
       "      <th>AL627309.1</th>\n",
       "      <td>False</td>\n",
       "      <td>False</td>\n",
       "      <td>3</td>\n",
       "      <td>0.000795</td>\n",
       "      <td>99.920530</td>\n",
       "      <td>3.0</td>\n",
       "      <td>3</td>\n",
       "      <td>False</td>\n",
       "      <td>False</td>\n",
       "      <td>0.001041</td>\n",
       "      <td>0.368500</td>\n",
       "      <td>-1.729651</td>\n",
       "    </tr>\n",
       "    <tr>\n",
       "      <th>AL669831.5</th>\n",
       "      <td>False</td>\n",
       "      <td>False</td>\n",
       "      <td>148</td>\n",
       "      <td>0.041589</td>\n",
       "      <td>96.079470</td>\n",
       "      <td>157.0</td>\n",
       "      <td>148</td>\n",
       "      <td>False</td>\n",
       "      <td>False</td>\n",
       "      <td>0.088011</td>\n",
       "      <td>1.120388</td>\n",
       "      <td>-0.255902</td>\n",
       "    </tr>\n",
       "    <tr>\n",
       "      <th>FAM87B</th>\n",
       "      <td>False</td>\n",
       "      <td>False</td>\n",
       "      <td>10</td>\n",
       "      <td>0.002649</td>\n",
       "      <td>99.735099</td>\n",
       "      <td>10.0</td>\n",
       "      <td>10</td>\n",
       "      <td>False</td>\n",
       "      <td>False</td>\n",
       "      <td>0.005696</td>\n",
       "      <td>0.994727</td>\n",
       "      <td>-0.502207</td>\n",
       "    </tr>\n",
       "    <tr>\n",
       "      <th>LINC00115</th>\n",
       "      <td>False</td>\n",
       "      <td>False</td>\n",
       "      <td>35</td>\n",
       "      <td>0.009272</td>\n",
       "      <td>99.072848</td>\n",
       "      <td>35.0</td>\n",
       "      <td>35</td>\n",
       "      <td>False</td>\n",
       "      <td>False</td>\n",
       "      <td>0.019101</td>\n",
       "      <td>1.546762</td>\n",
       "      <td>0.579819</td>\n",
       "    </tr>\n",
       "    <tr>\n",
       "      <th>FAM41C</th>\n",
       "      <td>False</td>\n",
       "      <td>False</td>\n",
       "      <td>22</td>\n",
       "      <td>0.005828</td>\n",
       "      <td>99.417219</td>\n",
       "      <td>22.0</td>\n",
       "      <td>22</td>\n",
       "      <td>False</td>\n",
       "      <td>False</td>\n",
       "      <td>0.009169</td>\n",
       "      <td>0.807808</td>\n",
       "      <td>-0.868580</td>\n",
       "    </tr>\n",
       "    <tr>\n",
       "      <th>...</th>\n",
       "      <td>...</td>\n",
       "      <td>...</td>\n",
       "      <td>...</td>\n",
       "      <td>...</td>\n",
       "      <td>...</td>\n",
       "      <td>...</td>\n",
       "      <td>...</td>\n",
       "      <td>...</td>\n",
       "      <td>...</td>\n",
       "      <td>...</td>\n",
       "      <td>...</td>\n",
       "      <td>...</td>\n",
       "    </tr>\n",
       "    <tr>\n",
       "      <th>AL592183.1</th>\n",
       "      <td>False</td>\n",
       "      <td>False</td>\n",
       "      <td>37</td>\n",
       "      <td>0.009801</td>\n",
       "      <td>99.019868</td>\n",
       "      <td>37.0</td>\n",
       "      <td>37</td>\n",
       "      <td>False</td>\n",
       "      <td>False</td>\n",
       "      <td>0.021235</td>\n",
       "      <td>1.246039</td>\n",
       "      <td>-0.009618</td>\n",
       "    </tr>\n",
       "    <tr>\n",
       "      <th>AC007325.4</th>\n",
       "      <td>False</td>\n",
       "      <td>False</td>\n",
       "      <td>218</td>\n",
       "      <td>0.063311</td>\n",
       "      <td>94.225166</td>\n",
       "      <td>239.0</td>\n",
       "      <td>218</td>\n",
       "      <td>False</td>\n",
       "      <td>False</td>\n",
       "      <td>0.107460</td>\n",
       "      <td>1.232803</td>\n",
       "      <td>-0.035561</td>\n",
       "    </tr>\n",
       "    <tr>\n",
       "      <th>AL354822.1</th>\n",
       "      <td>False</td>\n",
       "      <td>False</td>\n",
       "      <td>9</td>\n",
       "      <td>0.002384</td>\n",
       "      <td>99.761589</td>\n",
       "      <td>9.0</td>\n",
       "      <td>9</td>\n",
       "      <td>False</td>\n",
       "      <td>False</td>\n",
       "      <td>0.003012</td>\n",
       "      <td>0.815815</td>\n",
       "      <td>-0.852886</td>\n",
       "    </tr>\n",
       "    <tr>\n",
       "      <th>AC004556.1</th>\n",
       "      <td>False</td>\n",
       "      <td>False</td>\n",
       "      <td>585</td>\n",
       "      <td>0.197616</td>\n",
       "      <td>84.503311</td>\n",
       "      <td>746.0</td>\n",
       "      <td>585</td>\n",
       "      <td>False</td>\n",
       "      <td>False</td>\n",
       "      <td>0.249548</td>\n",
       "      <td>1.102285</td>\n",
       "      <td>-0.291386</td>\n",
       "    </tr>\n",
       "    <tr>\n",
       "      <th>AC240274.1</th>\n",
       "      <td>False</td>\n",
       "      <td>False</td>\n",
       "      <td>88</td>\n",
       "      <td>0.025166</td>\n",
       "      <td>97.668874</td>\n",
       "      <td>95.0</td>\n",
       "      <td>88</td>\n",
       "      <td>False</td>\n",
       "      <td>False</td>\n",
       "      <td>0.042018</td>\n",
       "      <td>1.174227</td>\n",
       "      <td>-0.150375</td>\n",
       "    </tr>\n",
       "  </tbody>\n",
       "</table>\n",
       "<p>17799 rows × 12 columns</p>\n",
       "</div>"
      ],
      "text/plain": [
       "               MT   ribo  n_cells_by_counts  mean_counts  \\\n",
       "AL627309.1  False  False                  3     0.000795   \n",
       "AL669831.5  False  False                148     0.041589   \n",
       "FAM87B      False  False                 10     0.002649   \n",
       "LINC00115   False  False                 35     0.009272   \n",
       "FAM41C      False  False                 22     0.005828   \n",
       "...           ...    ...                ...          ...   \n",
       "AL592183.1  False  False                 37     0.009801   \n",
       "AC007325.4  False  False                218     0.063311   \n",
       "AL354822.1  False  False                  9     0.002384   \n",
       "AC004556.1  False  False                585     0.197616   \n",
       "AC240274.1  False  False                 88     0.025166   \n",
       "\n",
       "            pct_dropout_by_counts  total_counts  n_cells     mt  \\\n",
       "AL627309.1              99.920530           3.0        3  False   \n",
       "AL669831.5              96.079470         157.0      148  False   \n",
       "FAM87B                  99.735099          10.0       10  False   \n",
       "LINC00115               99.072848          35.0       35  False   \n",
       "FAM41C                  99.417219          22.0       22  False   \n",
       "...                           ...           ...      ...    ...   \n",
       "AL592183.1              99.019868          37.0       37  False   \n",
       "AC007325.4              94.225166         239.0      218  False   \n",
       "AL354822.1              99.761589           9.0        9  False   \n",
       "AC004556.1              84.503311         746.0      585  False   \n",
       "AC240274.1              97.668874          95.0       88  False   \n",
       "\n",
       "            highly_variable     means  dispersions  dispersions_norm  \n",
       "AL627309.1            False  0.001041     0.368500         -1.729651  \n",
       "AL669831.5            False  0.088011     1.120388         -0.255902  \n",
       "FAM87B                False  0.005696     0.994727         -0.502207  \n",
       "LINC00115             False  0.019101     1.546762          0.579819  \n",
       "FAM41C                False  0.009169     0.807808         -0.868580  \n",
       "...                     ...       ...          ...               ...  \n",
       "AL592183.1            False  0.021235     1.246039         -0.009618  \n",
       "AC007325.4            False  0.107460     1.232803         -0.035561  \n",
       "AL354822.1            False  0.003012     0.815815         -0.852886  \n",
       "AC004556.1            False  0.249548     1.102285         -0.291386  \n",
       "AC240274.1            False  0.042018     1.174227         -0.150375  \n",
       "\n",
       "[17799 rows x 12 columns]"
      ]
     },
     "execution_count": 144,
     "metadata": {},
     "output_type": "execute_result"
    }
   ],
   "source": [
    "adata_raw.var"
   ]
  },
  {
   "cell_type": "code",
   "execution_count": 145,
   "id": "8ce08580",
   "metadata": {},
   "outputs": [
    {
     "data": {
      "image/png": "[encoded data removed]",
      "text/plain": [
       "<Figure size 1280x480 with 2 Axes>"
      ]
     },
     "metadata": {},
     "output_type": "display_data"
    }
   ],
   "source": [
    "sc.pl.highly_variable_genes(adata_raw)"
   ]
  },
  {
   "cell_type": "code",
   "execution_count": 147,
   "id": "5489d1a5",
   "metadata": {},
   "outputs": [],
   "source": [
    "adata_top_gene = adata_raw[:, adata_raw.var.highly_variable]"
   ]
  },
  {
   "cell_type": "code",
   "execution_count": 148,
   "id": "3b63e846",
   "metadata": {},
   "outputs": [],
   "source": [
    "sc.pp.regress_out(adata_top_gene, ['total_counts', 'pct_counts_MT', 'pct_counts_ribo'])\n"
   ]
  },
  {
   "cell_type": "code",
   "execution_count": 149,
   "id": "45133f51",
   "metadata": {},
   "outputs": [],
   "source": [
    "sc.pp.scale(adata_top_gene, max_value=10)\n"
   ]
  },
  {
   "cell_type": "code",
   "execution_count": 150,
   "id": "1e2f4c32",
   "metadata": {},
   "outputs": [],
   "source": [
    "sc.tl.pca(adata_top_gene, svd_solver='arpack')\n"
   ]
  },
  {
   "cell_type": "code",
   "execution_count": 151,
   "id": "b3c217dd",
   "metadata": {},
   "outputs": [
    {
     "data": {
      "image/png": "[encoded data removed]",
      "text/plain": [
       "<Figure size 640x480 with 1 Axes>"
      ]
     },
     "metadata": {},
     "output_type": "display_data"
    }
   ],
   "source": [
    "sc.pl.pca_variance_ratio(adata_top_gene, log=True, n_pcs = 50)\n"
   ]
  },
  {
   "cell_type": "code",
   "execution_count": 152,
   "id": "6f8af94d",
   "metadata": {},
   "outputs": [
    {
     "name": "stderr",
     "output_type": "stream",
     "text": [
      "C:\\Users\\thoca\\anaconda3\\envs\\scRNAseq_Env2\\lib\\site-packages\\umap\\distances.py:1063: NumbaDeprecationWarning: \u001b[1mThe 'nopython' keyword argument was not supplied to the 'numba.jit' decorator. The implicit default value for this argument is currently False, but it will be changed to True in Numba 0.59.0. See https://numba.readthedocs.io/en/stable/reference/deprecation.html#deprecation-of-object-mode-fall-back-behaviour-when-using-jit for details.\u001b[0m\n",
      "  @numba.jit()\n",
      "C:\\Users\\thoca\\anaconda3\\envs\\scRNAseq_Env2\\lib\\site-packages\\umap\\distances.py:1071: NumbaDeprecationWarning: \u001b[1mThe 'nopython' keyword argument was not supplied to the 'numba.jit' decorator. The implicit default value for this argument is currently False, but it will be changed to True in Numba 0.59.0. See https://numba.readthedocs.io/en/stable/reference/deprecation.html#deprecation-of-object-mode-fall-back-behaviour-when-using-jit for details.\u001b[0m\n",
      "  @numba.jit()\n",
      "C:\\Users\\thoca\\anaconda3\\envs\\scRNAseq_Env2\\lib\\site-packages\\umap\\distances.py:1086: NumbaDeprecationWarning: \u001b[1mThe 'nopython' keyword argument was not supplied to the 'numba.jit' decorator. The implicit default value for this argument is currently False, but it will be changed to True in Numba 0.59.0. See https://numba.readthedocs.io/en/stable/reference/deprecation.html#deprecation-of-object-mode-fall-back-behaviour-when-using-jit for details.\u001b[0m\n",
      "  @numba.jit()\n",
      "C:\\Users\\thoca\\anaconda3\\envs\\scRNAseq_Env2\\lib\\site-packages\\umap\\umap_.py:660: NumbaDeprecationWarning: \u001b[1mThe 'nopython' keyword argument was not supplied to the 'numba.jit' decorator. The implicit default value for this argument is currently False, but it will be changed to True in Numba 0.59.0. See https://numba.readthedocs.io/en/stable/reference/deprecation.html#deprecation-of-object-mode-fall-back-behaviour-when-using-jit for details.\u001b[0m\n",
      "  @numba.jit()\n"
     ]
    }
   ],
   "source": [
    "sc.pp.neighbors(adata_top_gene, n_pcs = 30)"
   ]
  },
  {
   "cell_type": "code",
   "execution_count": 153,
   "id": "0fee4b5b",
   "metadata": {},
   "outputs": [
    {
     "data": {
      "text/plain": [
       "array([[0., 0., 0., ..., 0., 0., 0.],\n",
       "       [0., 0., 0., ..., 0., 0., 0.],\n",
       "       [0., 0., 0., ..., 0., 0., 0.],\n",
       "       ...,\n",
       "       [0., 0., 0., ..., 0., 0., 0.],\n",
       "       [0., 0., 0., ..., 0., 0., 0.],\n",
       "       [0., 0., 0., ..., 0., 0., 0.]])"
      ]
     },
     "execution_count": 153,
     "metadata": {},
     "output_type": "execute_result"
    }
   ],
   "source": [
    "adata_top_gene.obsp['distances'].toarray()"
   ]
  },
  {
   "cell_type": "code",
   "execution_count": 154,
   "id": "21cdd072",
   "metadata": {},
   "outputs": [],
   "source": [
    "sc.tl.umap(adata_top_gene)"
   ]
  },
  {
   "cell_type": "code",
   "execution_count": 160,
   "id": "2d4951e6",
   "metadata": {},
   "outputs": [
    {
     "name": "stderr",
     "output_type": "stream",
     "text": [
      "C:\\Users\\thoca\\anaconda3\\envs\\scRNAseq_Env2\\lib\\site-packages\\scanpy\\plotting\\_tools\\scatterplots.py:391: UserWarning: No data for colormapping provided via 'c'. Parameters 'cmap', 'norm' will be ignored\n",
      "  cax = scatter(\n"
     ]
    },
    {
     "data": {
      "image/png": "[encoded data removed]",
      "text/plain": [
       "<Figure size 640x480 with 1 Axes>"
      ]
     },
     "metadata": {},
     "output_type": "display_data"
    }
   ],
   "source": [
    "sc.pl.umap(adata_top_gene)"
   ]
  },
  {
   "cell_type": "code",
   "execution_count": 159,
   "id": "9b1e9a90",
   "metadata": {},
   "outputs": [],
   "source": [
    "sc.tl.leiden(adata_top_gene, resolution = 0.5)"
   ]
  },
  {
   "cell_type": "code",
   "execution_count": 158,
   "id": "0f17f5ed",
   "metadata": {},
   "outputs": [
    {
     "data": {
      "text/html": [
       "<div>\n",
       "<style scoped>\n",
       "    .dataframe tbody tr th:only-of-type {\n",
       "        vertical-align: middle;\n",
       "    }\n",
       "\n",
       "    .dataframe tbody tr th {\n",
       "        vertical-align: top;\n",
       "    }\n",
       "\n",
       "    .dataframe thead th {\n",
       "        text-align: right;\n",
       "    }\n",
       "</style>\n",
       "<table border=\"1\" class=\"dataframe\">\n",
       "  <thead>\n",
       "    <tr style=\"text-align: right;\">\n",
       "      <th></th>\n",
       "      <th>doublet</th>\n",
       "      <th>n_genes_by_counts</th>\n",
       "      <th>total_counts</th>\n",
       "      <th>total_counts_MT</th>\n",
       "      <th>pct_counts_MT</th>\n",
       "      <th>total_counts_ribo</th>\n",
       "      <th>pct_counts_ribo</th>\n",
       "      <th>total_counts_mt</th>\n",
       "      <th>pct_counts_mt</th>\n",
       "      <th>leiden</th>\n",
       "    </tr>\n",
       "  </thead>\n",
       "  <tbody>\n",
       "    <tr>\n",
       "      <th>AAACCTGAGGCAGGTT</th>\n",
       "      <td>False</td>\n",
       "      <td>1016</td>\n",
       "      <td>2224.0</td>\n",
       "      <td>93.0</td>\n",
       "      <td>4.181655</td>\n",
       "      <td>325.0</td>\n",
       "      <td>14.613310</td>\n",
       "      <td>93.0</td>\n",
       "      <td>4.181655</td>\n",
       "      <td>0</td>\n",
       "    </tr>\n",
       "    <tr>\n",
       "      <th>AAACCTGAGGGAACGG</th>\n",
       "      <td>False</td>\n",
       "      <td>1460</td>\n",
       "      <td>3218.0</td>\n",
       "      <td>167.0</td>\n",
       "      <td>5.189559</td>\n",
       "      <td>604.0</td>\n",
       "      <td>18.769423</td>\n",
       "      <td>167.0</td>\n",
       "      <td>5.189559</td>\n",
       "      <td>4</td>\n",
       "    </tr>\n",
       "    <tr>\n",
       "      <th>AAACCTGAGGTGATTA</th>\n",
       "      <td>False</td>\n",
       "      <td>966</td>\n",
       "      <td>1785.0</td>\n",
       "      <td>81.0</td>\n",
       "      <td>4.537815</td>\n",
       "      <td>297.0</td>\n",
       "      <td>16.638657</td>\n",
       "      <td>81.0</td>\n",
       "      <td>4.537815</td>\n",
       "      <td>2</td>\n",
       "    </tr>\n",
       "    <tr>\n",
       "      <th>AAACCTGAGTTAACGA</th>\n",
       "      <td>False</td>\n",
       "      <td>1367</td>\n",
       "      <td>2545.0</td>\n",
       "      <td>90.0</td>\n",
       "      <td>3.536346</td>\n",
       "      <td>312.0</td>\n",
       "      <td>12.259332</td>\n",
       "      <td>90.0</td>\n",
       "      <td>3.536346</td>\n",
       "      <td>0</td>\n",
       "    </tr>\n",
       "    <tr>\n",
       "      <th>AAACCTGCATGTTGAC</th>\n",
       "      <td>False</td>\n",
       "      <td>972</td>\n",
       "      <td>2019.0</td>\n",
       "      <td>82.0</td>\n",
       "      <td>4.061417</td>\n",
       "      <td>440.0</td>\n",
       "      <td>21.792967</td>\n",
       "      <td>82.0</td>\n",
       "      <td>4.061417</td>\n",
       "      <td>2</td>\n",
       "    </tr>\n",
       "    <tr>\n",
       "      <th>...</th>\n",
       "      <td>...</td>\n",
       "      <td>...</td>\n",
       "      <td>...</td>\n",
       "      <td>...</td>\n",
       "      <td>...</td>\n",
       "      <td>...</td>\n",
       "      <td>...</td>\n",
       "      <td>...</td>\n",
       "      <td>...</td>\n",
       "      <td>...</td>\n",
       "    </tr>\n",
       "    <tr>\n",
       "      <th>TTTGTCAGTCAATGTC</th>\n",
       "      <td>False</td>\n",
       "      <td>3300</td>\n",
       "      <td>19058.0</td>\n",
       "      <td>639.0</td>\n",
       "      <td>3.352747</td>\n",
       "      <td>6311.0</td>\n",
       "      <td>33.114700</td>\n",
       "      <td>639.0</td>\n",
       "      <td>3.352923</td>\n",
       "      <td>10</td>\n",
       "    </tr>\n",
       "    <tr>\n",
       "      <th>TTTGTCAGTCATATCG</th>\n",
       "      <td>False</td>\n",
       "      <td>1098</td>\n",
       "      <td>2021.0</td>\n",
       "      <td>72.0</td>\n",
       "      <td>3.562593</td>\n",
       "      <td>278.0</td>\n",
       "      <td>13.755566</td>\n",
       "      <td>72.0</td>\n",
       "      <td>3.562593</td>\n",
       "      <td>2</td>\n",
       "    </tr>\n",
       "    <tr>\n",
       "      <th>TTTGTCAGTGAGGGAG</th>\n",
       "      <td>False</td>\n",
       "      <td>2109</td>\n",
       "      <td>6162.0</td>\n",
       "      <td>142.0</td>\n",
       "      <td>2.304447</td>\n",
       "      <td>1056.0</td>\n",
       "      <td>17.137293</td>\n",
       "      <td>142.0</td>\n",
       "      <td>2.304447</td>\n",
       "      <td>2</td>\n",
       "    </tr>\n",
       "    <tr>\n",
       "      <th>TTTGTCATCATCTGTT</th>\n",
       "      <td>False</td>\n",
       "      <td>2483</td>\n",
       "      <td>7149.0</td>\n",
       "      <td>137.0</td>\n",
       "      <td>1.916084</td>\n",
       "      <td>1210.0</td>\n",
       "      <td>16.925444</td>\n",
       "      <td>137.0</td>\n",
       "      <td>1.916352</td>\n",
       "      <td>2</td>\n",
       "    </tr>\n",
       "    <tr>\n",
       "      <th>TTTGTCATCATTGCGA</th>\n",
       "      <td>False</td>\n",
       "      <td>2858</td>\n",
       "      <td>8321.0</td>\n",
       "      <td>269.0</td>\n",
       "      <td>3.232785</td>\n",
       "      <td>1335.0</td>\n",
       "      <td>16.043745</td>\n",
       "      <td>269.0</td>\n",
       "      <td>3.232785</td>\n",
       "      <td>4</td>\n",
       "    </tr>\n",
       "  </tbody>\n",
       "</table>\n",
       "<p>3699 rows × 10 columns</p>\n",
       "</div>"
      ],
      "text/plain": [
       "                  doublet  n_genes_by_counts  total_counts  total_counts_MT  \\\n",
       "AAACCTGAGGCAGGTT    False               1016        2224.0             93.0   \n",
       "AAACCTGAGGGAACGG    False               1460        3218.0            167.0   \n",
       "AAACCTGAGGTGATTA    False                966        1785.0             81.0   \n",
       "AAACCTGAGTTAACGA    False               1367        2545.0             90.0   \n",
       "AAACCTGCATGTTGAC    False                972        2019.0             82.0   \n",
       "...                   ...                ...           ...              ...   \n",
       "TTTGTCAGTCAATGTC    False               3300       19058.0            639.0   \n",
       "TTTGTCAGTCATATCG    False               1098        2021.0             72.0   \n",
       "TTTGTCAGTGAGGGAG    False               2109        6162.0            142.0   \n",
       "TTTGTCATCATCTGTT    False               2483        7149.0            137.0   \n",
       "TTTGTCATCATTGCGA    False               2858        8321.0            269.0   \n",
       "\n",
       "                  pct_counts_MT  total_counts_ribo  pct_counts_ribo  \\\n",
       "AAACCTGAGGCAGGTT       4.181655              325.0        14.613310   \n",
       "AAACCTGAGGGAACGG       5.189559              604.0        18.769423   \n",
       "AAACCTGAGGTGATTA       4.537815              297.0        16.638657   \n",
       "AAACCTGAGTTAACGA       3.536346              312.0        12.259332   \n",
       "AAACCTGCATGTTGAC       4.061417              440.0        21.792967   \n",
       "...                         ...                ...              ...   \n",
       "TTTGTCAGTCAATGTC       3.352747             6311.0        33.114700   \n",
       "TTTGTCAGTCATATCG       3.562593              278.0        13.755566   \n",
       "TTTGTCAGTGAGGGAG       2.304447             1056.0        17.137293   \n",
       "TTTGTCATCATCTGTT       1.916084             1210.0        16.925444   \n",
       "TTTGTCATCATTGCGA       3.232785             1335.0        16.043745   \n",
       "\n",
       "                  total_counts_mt  pct_counts_mt leiden  \n",
       "AAACCTGAGGCAGGTT             93.0       4.181655      0  \n",
       "AAACCTGAGGGAACGG            167.0       5.189559      4  \n",
       "AAACCTGAGGTGATTA             81.0       4.537815      2  \n",
       "AAACCTGAGTTAACGA             90.0       3.536346      0  \n",
       "AAACCTGCATGTTGAC             82.0       4.061417      2  \n",
       "...                           ...            ...    ...  \n",
       "TTTGTCAGTCAATGTC            639.0       3.352923     10  \n",
       "TTTGTCAGTCATATCG             72.0       3.562593      2  \n",
       "TTTGTCAGTGAGGGAG            142.0       2.304447      2  \n",
       "TTTGTCATCATCTGTT            137.0       1.916352      2  \n",
       "TTTGTCATCATTGCGA            269.0       3.232785      4  \n",
       "\n",
       "[3699 rows x 10 columns]"
      ]
     },
     "execution_count": 158,
     "metadata": {},
     "output_type": "execute_result"
    }
   ],
   "source": [
    "adata_top_gene.obs"
   ]
  },
  {
   "cell_type": "code",
   "execution_count": 161,
   "id": "12275f5a",
   "metadata": {},
   "outputs": [
    {
     "name": "stderr",
     "output_type": "stream",
     "text": [
      "C:\\Users\\thoca\\anaconda3\\envs\\scRNAseq_Env2\\lib\\site-packages\\scanpy\\plotting\\_tools\\scatterplots.py:391: UserWarning: No data for colormapping provided via 'c'. Parameters 'cmap' will be ignored\n",
      "  cax = scatter(\n"
     ]
    },
    {
     "data": {
      "image/png": "[encoded data removed]",
      "text/plain": [
       "<Figure size 640x480 with 1 Axes>"
      ]
     },
     "metadata": {},
     "output_type": "display_data"
    }
   ],
   "source": [
    "sc.pl.umap(adata_top_gene,color=['leiden'])"
   ]
  },
  {
   "cell_type": "code",
   "execution_count": 2,
   "id": "1a947cf5",
   "metadata": {},
   "outputs": [],
   "source": [
    "def pp(csv_path):\n",
    "    new_adata = sc.read_csv(csv_path).T\n",
    "    sc.pp.filter_genes(new_adata, min_cells = 10)\n",
    "    sc.pp.highly_variable_genes(new_adata, n_top_genes = 2000, subset = True, flavor = 'seurat_v3')\n",
    "    scvi.model.SCVI.setup_anndata(new_adata)\n",
    "    vae = scvi.model.SCVI(new_adata)\n",
    "    vae.train()\n",
    "    solo = scvi.external.SOLO.from_scvi_model(vae)\n",
    "    solo.train()\n",
    "    df = solo.predict()\n",
    "    df['prediction'] = solo.predict(soft = False)\n",
    "    df.index = df.index.map(lambda x: x[:-2])\n",
    "    df['dif'] = df.doublet - df.singlet\n",
    "    doublets = df[(df.prediction == 'doublet') & (df.dif > 1)]\n",
    "    \n",
    "    new_adata = sc.read_csv(csv_path).T\n",
    "    new_adata.obs['Sample'] = csv_path.split('_')[2] #'raw_counts/GSM5226574_C51ctr_raw_counts.csv'\n",
    "    \n",
    "    new_adata.obs['doublet'] = new_adata.obs.index.isin(doublets.index)\n",
    "    new_adata = new_adata[~new_adata.obs.doublet]\n",
    "    \n",
    "    \n",
    "    sc.pp.filter_cells(new_adata, min_genes=200) #get rid of cells with fewer than 200 genes\n",
    "    #sc.pp.filter_genes(new_adata, min_cells=3) #get rid of genes that are found in fewer than 3 cells\n",
    "    new_adata.var['mt'] = new_adata.var_names.str.startswith('mt-')  # annotate the group of mitochondrial genes as 'mt'\n",
    "    new_adata.var['ribo'] = new_adata.var_names.isin(ribo_genes[0].values)\n",
    "    sc.pp.calculate_qc_metrics(new_adata, qc_vars=['mt', 'ribo'], percent_top=None, log1p=False, inplace=True)\n",
    "    upper_lim = np.quantile(new_adata.obs.n_genes_by_counts.values, .98)\n",
    "    new_adata = new_adata[new_adata.obs.n_genes_by_counts < upper_lim]\n",
    "    new_adata = new_adata[new_adata.obs.pct_counts_mt < 20]\n",
    "\n",
    "    return new_adata"
   ]
  },
  {
   "cell_type": "code",
   "execution_count": 9,
   "id": "7efc0ab4",
   "metadata": {},
   "outputs": [
    {
     "name": "stderr",
     "output_type": "stream",
     "text": [
      "GPU available: False, used: False\n",
      "TPU available: False, using: 0 TPU cores\n",
      "IPU available: False, using: 0 IPUs\n",
      "HPU available: False, using: 0 HPUs\n",
      "C:\\Users\\thoca\\anaconda3\\envs\\scRNAseq_Env2\\lib\\site-packages\\lightning\\pytorch\\loops\\fit_loop.py:281: PossibleUserWarning: The number of training batches (7) is smaller than the logging interval Trainer(log_every_n_steps=10). Set a lower value for log_every_n_steps if you want to see logs for the training epoch.\n",
      "  rank_zero_warn(\n"
     ]
    },
    {
     "name": "stdout",
     "output_type": "stream",
     "text": [
      "Epoch 400/400: 100%|█████████████| 400/400 [02:42<00:00,  2.47it/s, v_num=1, train_loss_step=681, train_loss_epoch=671]"
     ]
    },
    {
     "name": "stderr",
     "output_type": "stream",
     "text": [
      "`Trainer.fit` stopped: `max_epochs=400` reached.\n"
     ]
    },
    {
     "name": "stdout",
     "output_type": "stream",
     "text": [
      "Epoch 400/400: 100%|█████████████| 400/400 [02:42<00:00,  2.46it/s, v_num=1, train_loss_step=681, train_loss_epoch=671]\n",
      "\u001b[34mINFO    \u001b[0m Creating doublets, preparing SOLO model.                                                                  \n"
     ]
    },
    {
     "name": "stderr",
     "output_type": "stream",
     "text": [
      "GPU available: False, used: False\n",
      "TPU available: False, using: 0 TPU cores\n",
      "IPU available: False, using: 0 IPUs\n",
      "HPU available: False, using: 0 HPUs\n"
     ]
    },
    {
     "name": "stdout",
     "output_type": "stream",
     "text": [
      "Epoch 303/400:  76%|██████▊  | 303/400 [00:22<00:07, 13.42it/s, v_num=1, train_loss_step=0.353, train_loss_epoch=0.272]\n",
      "Monitored metric validation_loss did not improve in the last 30 records. Best score: 0.330. Signaling Trainer to stop.\n"
     ]
    },
    {
     "name": "stderr",
     "output_type": "stream",
     "text": [
      "C:\\Users\\thoca\\anaconda3\\envs\\scRNAseq_Env2\\lib\\site-packages\\scanpy\\preprocessing\\_simple.py:139: ImplicitModificationWarning: Trying to modify attribute `.obs` of view, initializing view as actual.\n",
      "  adata.obs['n_genes'] = number\n",
      "GPU available: False, used: False\n",
      "TPU available: False, using: 0 TPU cores\n",
      "IPU available: False, using: 0 IPUs\n",
      "HPU available: False, using: 0 HPUs\n"
     ]
    },
    {
     "name": "stdout",
     "output_type": "stream",
     "text": [
      "Epoch 400/400: 100%|█████████████| 400/400 [09:53<00:00,  1.51s/it, v_num=1, train_loss_step=668, train_loss_epoch=639]"
     ]
    },
    {
     "name": "stderr",
     "output_type": "stream",
     "text": [
      "`Trainer.fit` stopped: `max_epochs=400` reached.\n"
     ]
    },
    {
     "name": "stdout",
     "output_type": "stream",
     "text": [
      "Epoch 400/400: 100%|█████████████| 400/400 [09:53<00:00,  1.48s/it, v_num=1, train_loss_step=668, train_loss_epoch=639]\n",
      "\u001b[34mINFO    \u001b[0m Creating doublets, preparing SOLO model.                                                                  \n"
     ]
    },
    {
     "name": "stderr",
     "output_type": "stream",
     "text": [
      "GPU available: False, used: False\n",
      "TPU available: False, using: 0 TPU cores\n",
      "IPU available: False, using: 0 IPUs\n",
      "HPU available: False, using: 0 HPUs\n"
     ]
    },
    {
     "name": "stdout",
     "output_type": "stream",
     "text": [
      "Epoch 391/400:  98%|████████▊| 391/400 [01:47<00:02,  3.62it/s, v_num=1, train_loss_step=0.187, train_loss_epoch=0.304]\n",
      "Monitored metric validation_loss did not improve in the last 30 records. Best score: 0.285. Signaling Trainer to stop.\n"
     ]
    },
    {
     "name": "stderr",
     "output_type": "stream",
     "text": [
      "C:\\Users\\thoca\\anaconda3\\envs\\scRNAseq_Env2\\lib\\site-packages\\scanpy\\preprocessing\\_simple.py:139: ImplicitModificationWarning: Trying to modify attribute `.obs` of view, initializing view as actual.\n",
      "  adata.obs['n_genes'] = number\n",
      "GPU available: False, used: False\n",
      "TPU available: False, using: 0 TPU cores\n",
      "IPU available: False, using: 0 IPUs\n",
      "HPU available: False, using: 0 HPUs\n",
      "C:\\Users\\thoca\\anaconda3\\envs\\scRNAseq_Env2\\lib\\site-packages\\lightning\\pytorch\\loops\\fit_loop.py:281: PossibleUserWarning: The number of training batches (4) is smaller than the logging interval Trainer(log_every_n_steps=10). Set a lower value for log_every_n_steps if you want to see logs for the training epoch.\n",
      "  rank_zero_warn(\n"
     ]
    },
    {
     "name": "stdout",
     "output_type": "stream",
     "text": [
      "Epoch 400/400: 100%|█████████████| 400/400 [01:23<00:00,  4.46it/s, v_num=1, train_loss_step=734, train_loss_epoch=772]"
     ]
    },
    {
     "name": "stderr",
     "output_type": "stream",
     "text": [
      "`Trainer.fit` stopped: `max_epochs=400` reached.\n"
     ]
    },
    {
     "name": "stdout",
     "output_type": "stream",
     "text": [
      "Epoch 400/400: 100%|█████████████| 400/400 [01:23<00:00,  4.79it/s, v_num=1, train_loss_step=734, train_loss_epoch=772]\n",
      "\u001b[34mINFO    \u001b[0m Creating doublets, preparing SOLO model.                                                                  \n"
     ]
    },
    {
     "name": "stderr",
     "output_type": "stream",
     "text": [
      "GPU available: False, used: False\n",
      "TPU available: False, using: 0 TPU cores\n",
      "IPU available: False, using: 0 IPUs\n",
      "HPU available: False, using: 0 HPUs\n"
     ]
    },
    {
     "name": "stdout",
     "output_type": "stream",
     "text": [
      "Epoch 123/400:  31%|██▊      | 123/400 [00:05<00:11, 23.16it/s, v_num=1, train_loss_step=0.399, train_loss_epoch=0.306]\n",
      "Monitored metric validation_loss did not improve in the last 30 records. Best score: 0.309. Signaling Trainer to stop.\n"
     ]
    },
    {
     "name": "stderr",
     "output_type": "stream",
     "text": [
      "C:\\Users\\thoca\\anaconda3\\envs\\scRNAseq_Env2\\lib\\site-packages\\scanpy\\preprocessing\\_simple.py:139: ImplicitModificationWarning: Trying to modify attribute `.obs` of view, initializing view as actual.\n",
      "  adata.obs['n_genes'] = number\n",
      "GPU available: False, used: False\n",
      "TPU available: False, using: 0 TPU cores\n",
      "IPU available: False, using: 0 IPUs\n",
      "HPU available: False, using: 0 HPUs\n"
     ]
    },
    {
     "name": "stdout",
     "output_type": "stream",
     "text": [
      "Epoch 400/400: 100%|█████████████| 400/400 [07:07<00:00,  1.07s/it, v_num=1, train_loss_step=756, train_loss_epoch=730]"
     ]
    },
    {
     "name": "stderr",
     "output_type": "stream",
     "text": [
      "`Trainer.fit` stopped: `max_epochs=400` reached.\n"
     ]
    },
    {
     "name": "stdout",
     "output_type": "stream",
     "text": [
      "Epoch 400/400: 100%|█████████████| 400/400 [07:07<00:00,  1.07s/it, v_num=1, train_loss_step=756, train_loss_epoch=730]\n",
      "\u001b[34mINFO    \u001b[0m Creating doublets, preparing SOLO model.                                                                  \n"
     ]
    },
    {
     "name": "stderr",
     "output_type": "stream",
     "text": [
      "GPU available: False, used: False\n",
      "TPU available: False, using: 0 TPU cores\n",
      "IPU available: False, using: 0 IPUs\n",
      "HPU available: False, using: 0 HPUs\n"
     ]
    },
    {
     "name": "stdout",
     "output_type": "stream",
     "text": [
      "Epoch 375/400:  94%|████████▍| 375/400 [01:12<00:04,  5.21it/s, v_num=1, train_loss_step=0.243, train_loss_epoch=0.295]\n",
      "Monitored metric validation_loss did not improve in the last 30 records. Best score: 0.297. Signaling Trainer to stop.\n"
     ]
    },
    {
     "name": "stderr",
     "output_type": "stream",
     "text": [
      "C:\\Users\\thoca\\anaconda3\\envs\\scRNAseq_Env2\\lib\\site-packages\\scanpy\\preprocessing\\_simple.py:139: ImplicitModificationWarning: Trying to modify attribute `.obs` of view, initializing view as actual.\n",
      "  adata.obs['n_genes'] = number\n",
      "GPU available: False, used: False\n",
      "TPU available: False, using: 0 TPU cores\n",
      "IPU available: False, using: 0 IPUs\n",
      "HPU available: False, using: 0 HPUs\n"
     ]
    },
    {
     "name": "stdout",
     "output_type": "stream",
     "text": [
      "Epoch 400/400: 100%|█████████████| 400/400 [05:47<00:00,  1.14it/s, v_num=1, train_loss_step=755, train_loss_epoch=590]"
     ]
    },
    {
     "name": "stderr",
     "output_type": "stream",
     "text": [
      "`Trainer.fit` stopped: `max_epochs=400` reached.\n"
     ]
    },
    {
     "name": "stdout",
     "output_type": "stream",
     "text": [
      "Epoch 400/400: 100%|█████████████| 400/400 [05:47<00:00,  1.15it/s, v_num=1, train_loss_step=755, train_loss_epoch=590]\n",
      "\u001b[34mINFO    \u001b[0m Creating doublets, preparing SOLO model.                                                                  \n"
     ]
    },
    {
     "name": "stderr",
     "output_type": "stream",
     "text": [
      "GPU available: False, used: False\n",
      "TPU available: False, using: 0 TPU cores\n",
      "IPU available: False, using: 0 IPUs\n",
      "HPU available: False, using: 0 HPUs\n"
     ]
    },
    {
     "name": "stdout",
     "output_type": "stream",
     "text": [
      "Epoch 245/400:  61%|█████▌   | 245/400 [00:37<00:23,  6.52it/s, v_num=1, train_loss_step=0.402, train_loss_epoch=0.323]\n",
      "Monitored metric validation_loss did not improve in the last 30 records. Best score: 0.286. Signaling Trainer to stop.\n"
     ]
    },
    {
     "name": "stderr",
     "output_type": "stream",
     "text": [
      "C:\\Users\\thoca\\anaconda3\\envs\\scRNAseq_Env2\\lib\\site-packages\\scanpy\\preprocessing\\_simple.py:139: ImplicitModificationWarning: Trying to modify attribute `.obs` of view, initializing view as actual.\n",
      "  adata.obs['n_genes'] = number\n",
      "GPU available: False, used: False\n",
      "TPU available: False, using: 0 TPU cores\n",
      "IPU available: False, using: 0 IPUs\n",
      "HPU available: False, using: 0 HPUs\n"
     ]
    },
    {
     "name": "stdout",
     "output_type": "stream",
     "text": [
      "Epoch 400/400: 100%|█████████████| 400/400 [11:18<00:00,  1.70s/it, v_num=1, train_loss_step=644, train_loss_epoch=670]"
     ]
    },
    {
     "name": "stderr",
     "output_type": "stream",
     "text": [
      "`Trainer.fit` stopped: `max_epochs=400` reached.\n"
     ]
    },
    {
     "name": "stdout",
     "output_type": "stream",
     "text": [
      "Epoch 400/400: 100%|█████████████| 400/400 [11:18<00:00,  1.70s/it, v_num=1, train_loss_step=644, train_loss_epoch=670]\n",
      "\u001b[34mINFO    \u001b[0m Creating doublets, preparing SOLO model.                                                                  \n"
     ]
    },
    {
     "name": "stderr",
     "output_type": "stream",
     "text": [
      "GPU available: False, used: False\n",
      "TPU available: False, using: 0 TPU cores\n",
      "IPU available: False, using: 0 IPUs\n",
      "HPU available: False, using: 0 HPUs\n"
     ]
    },
    {
     "name": "stdout",
     "output_type": "stream",
     "text": [
      "Epoch 321/400:  80%|███████▏ | 321/400 [01:39<00:24,  3.24it/s, v_num=1, train_loss_step=0.155, train_loss_epoch=0.269]\n",
      "Monitored metric validation_loss did not improve in the last 30 records. Best score: 0.260. Signaling Trainer to stop.\n"
     ]
    },
    {
     "name": "stderr",
     "output_type": "stream",
     "text": [
      "C:\\Users\\thoca\\anaconda3\\envs\\scRNAseq_Env2\\lib\\site-packages\\scanpy\\preprocessing\\_simple.py:139: ImplicitModificationWarning: Trying to modify attribute `.obs` of view, initializing view as actual.\n",
      "  adata.obs['n_genes'] = number\n",
      "GPU available: False, used: False\n",
      "TPU available: False, using: 0 TPU cores\n",
      "IPU available: False, using: 0 IPUs\n",
      "HPU available: False, using: 0 HPUs\n"
     ]
    },
    {
     "name": "stdout",
     "output_type": "stream",
     "text": [
      "Epoch 400/400: 100%|█████████████| 400/400 [12:22<00:00,  1.83s/it, v_num=1, train_loss_step=553, train_loss_epoch=605]"
     ]
    },
    {
     "name": "stderr",
     "output_type": "stream",
     "text": [
      "`Trainer.fit` stopped: `max_epochs=400` reached.\n"
     ]
    },
    {
     "name": "stdout",
     "output_type": "stream",
     "text": [
      "Epoch 400/400: 100%|█████████████| 400/400 [12:22<00:00,  1.86s/it, v_num=1, train_loss_step=553, train_loss_epoch=605]\n",
      "\u001b[34mINFO    \u001b[0m Creating doublets, preparing SOLO model.                                                                  \n"
     ]
    },
    {
     "name": "stderr",
     "output_type": "stream",
     "text": [
      "GPU available: False, used: False\n",
      "TPU available: False, using: 0 TPU cores\n",
      "IPU available: False, using: 0 IPUs\n",
      "HPU available: False, using: 0 HPUs\n"
     ]
    },
    {
     "name": "stdout",
     "output_type": "stream",
     "text": [
      "Epoch 290/400:  72%|███████▎  | 290/400 [01:38<00:37,  2.94it/s, v_num=1, train_loss_step=0.35, train_loss_epoch=0.267]\n",
      "Monitored metric validation_loss did not improve in the last 30 records. Best score: 0.256. Signaling Trainer to stop.\n"
     ]
    },
    {
     "name": "stderr",
     "output_type": "stream",
     "text": [
      "C:\\Users\\thoca\\anaconda3\\envs\\scRNAseq_Env2\\lib\\site-packages\\scanpy\\preprocessing\\_simple.py:139: ImplicitModificationWarning: Trying to modify attribute `.obs` of view, initializing view as actual.\n",
      "  adata.obs['n_genes'] = number\n",
      "GPU available: False, used: False\n",
      "TPU available: False, using: 0 TPU cores\n",
      "IPU available: False, using: 0 IPUs\n",
      "HPU available: False, using: 0 HPUs\n"
     ]
    },
    {
     "name": "stdout",
     "output_type": "stream",
     "text": [
      "Epoch 400/400: 100%|█████████████| 400/400 [14:44<00:00,  2.25s/it, v_num=1, train_loss_step=573, train_loss_epoch=594]"
     ]
    },
    {
     "name": "stderr",
     "output_type": "stream",
     "text": [
      "`Trainer.fit` stopped: `max_epochs=400` reached.\n"
     ]
    },
    {
     "name": "stdout",
     "output_type": "stream",
     "text": [
      "Epoch 400/400: 100%|█████████████| 400/400 [14:44<00:00,  2.21s/it, v_num=1, train_loss_step=573, train_loss_epoch=594]\n",
      "\u001b[34mINFO    \u001b[0m Creating doublets, preparing SOLO model.                                                                  \n"
     ]
    },
    {
     "name": "stderr",
     "output_type": "stream",
     "text": [
      "GPU available: False, used: False\n",
      "TPU available: False, using: 0 TPU cores\n",
      "IPU available: False, using: 0 IPUs\n",
      "HPU available: False, using: 0 HPUs\n"
     ]
    },
    {
     "name": "stdout",
     "output_type": "stream",
     "text": [
      "Epoch 287/400:  72%|██████▍  | 287/400 [01:50<00:43,  2.59it/s, v_num=1, train_loss_step=0.186, train_loss_epoch=0.242]\n",
      "Monitored metric validation_loss did not improve in the last 30 records. Best score: 0.210. Signaling Trainer to stop.\n"
     ]
    },
    {
     "name": "stderr",
     "output_type": "stream",
     "text": [
      "C:\\Users\\thoca\\anaconda3\\envs\\scRNAseq_Env2\\lib\\site-packages\\scanpy\\preprocessing\\_simple.py:139: ImplicitModificationWarning: Trying to modify attribute `.obs` of view, initializing view as actual.\n",
      "  adata.obs['n_genes'] = number\n"
     ]
    }
   ],
   "source": [
    "out = []\n",
    "file_path = 'C:\\\\Na\\\\DFU_Project\\\\Data\\\\TestIntegrationSmallData\\\\'\n",
    "for file in os.listdir(file_path):\n",
    "    out.append(pp( file_path + file))"
   ]
  },
  {
   "cell_type": "code",
   "execution_count": 10,
   "id": "bbfa9eb9-41eb-4dea-a966-8867b52f57c9",
   "metadata": {},
   "outputs": [
    {
     "data": {
      "text/plain": [
       "View of AnnData object with n_obs × n_vars = 965 × 14364\n",
       "    obs: 'Sample', 'doublet', 'n_genes', 'n_genes_by_counts', 'total_counts', 'total_counts_mt', 'pct_counts_mt', 'total_counts_ribo', 'pct_counts_ribo'\n",
       "    var: 'mt', 'ribo', 'n_cells_by_counts', 'mean_counts', 'pct_dropout_by_counts', 'total_counts'"
      ]
     },
     "execution_count": 10,
     "metadata": {},
     "output_type": "execute_result"
    }
   ],
   "source": [
    "out [0]"
   ]
  },
  {
   "cell_type": "code",
   "execution_count": 11,
   "id": "dabe8a82-b6c5-42ff-8473-a2182ae18860",
   "metadata": {},
   "outputs": [
    {
     "name": "stderr",
     "output_type": "stream",
     "text": [
      "C:\\Users\\thoca\\anaconda3\\envs\\scRNAseq_Env2\\lib\\site-packages\\anndata\\_core\\anndata.py:1838: UserWarning: Observation names are not unique. To make them unique, call `.obs_names_make_unique`.\n",
      "  utils.warn_names_duplicates(\"obs\")\n"
     ]
    }
   ],
   "source": [
    "adata_integrate = sc.concat(out)"
   ]
  },
  {
   "cell_type": "code",
   "execution_count": 12,
   "id": "3370f237-53c3-4dae-8600-78aa178277db",
   "metadata": {},
   "outputs": [
    {
     "data": {
      "text/plain": [
       "AnnData object with n_obs × n_vars = 24630 × 12168\n",
       "    obs: 'Sample', 'doublet', 'n_genes', 'n_genes_by_counts', 'total_counts', 'total_counts_mt', 'pct_counts_mt', 'total_counts_ribo', 'pct_counts_ribo'"
      ]
     },
     "execution_count": 12,
     "metadata": {},
     "output_type": "execute_result"
    }
   ],
   "source": [
    "adata_integrate"
   ]
  },
  {
   "cell_type": "code",
   "execution_count": 13,
   "id": "5e38e5b7-99b3-4f84-a209-8d1ad4a789ca",
   "metadata": {},
   "outputs": [
    {
     "name": "stderr",
     "output_type": "stream",
     "text": [
      "C:\\Users\\thoca\\anaconda3\\envs\\scRNAseq_Env2\\lib\\site-packages\\anndata\\_core\\anndata.py:1838: UserWarning: Observation names are not unique. To make them unique, call `.obs_names_make_unique`.\n",
      "  utils.warn_names_duplicates(\"obs\")\n"
     ]
    }
   ],
   "source": [
    "sc.pp.filter_genes(adata_integrate, min_cells = 10)"
   ]
  },
  {
   "cell_type": "code",
   "execution_count": 14,
   "id": "882f6b7a-fd4b-4e8e-942c-ebbc5b8debb4",
   "metadata": {},
   "outputs": [
    {
     "data": {
      "text/plain": [
       "array([[0., 0., 0., ..., 0., 0., 0.],\n",
       "       [0., 0., 0., ..., 1., 0., 0.],\n",
       "       [0., 0., 0., ..., 0., 0., 0.],\n",
       "       ...,\n",
       "       [0., 0., 0., ..., 0., 0., 0.],\n",
       "       [0., 0., 0., ..., 0., 0., 0.],\n",
       "       [0., 0., 2., ..., 0., 0., 0.]], dtype=float32)"
      ]
     },
     "execution_count": 14,
     "metadata": {},
     "output_type": "execute_result"
    }
   ],
   "source": [
    "adata_integrate.X"
   ]
  },
  {
   "cell_type": "code",
   "execution_count": 15,
   "id": "29f4c73f-8f41-4024-9f5b-f043270b6f43",
   "metadata": {},
   "outputs": [],
   "source": [
    "from scipy.sparse import csr_matrix"
   ]
  },
  {
   "cell_type": "code",
   "execution_count": 16,
   "id": "a120b422-8b94-4f9c-a8c6-e9687f8547c2",
   "metadata": {},
   "outputs": [],
   "source": [
    "adata_integrate.X = csr_matrix(adata_integrate.X)"
   ]
  },
  {
   "cell_type": "code",
   "execution_count": 17,
   "id": "e19ced9e-473d-4635-acf2-d5e996ceeab7",
   "metadata": {},
   "outputs": [
    {
     "data": {
      "text/plain": [
       "<24630x12168 sparse matrix of type '<class 'numpy.float32'>'\n",
       "\twith 40115534 stored elements in Compressed Sparse Row format>"
      ]
     },
     "execution_count": 17,
     "metadata": {},
     "output_type": "execute_result"
    }
   ],
   "source": [
    "adata_integrate.X\n"
   ]
  },
  {
   "cell_type": "code",
   "execution_count": 18,
   "id": "50e1f920-b1ad-4085-b967-9cc54948ad45",
   "metadata": {},
   "outputs": [],
   "source": [
    "adata_integrate.write_h5ad('combined.h5ad')"
   ]
  },
  {
   "cell_type": "code",
   "execution_count": null,
   "id": "28cf485a-edd0-4376-8d2e-0a5d544840ef",
   "metadata": {},
   "outputs": [],
   "source": [
    "import scanpy as sc\n",
    "import scvi\n",
    "import seaborn as sns\n",
    "import numpy as np\n",
    "import pandas as pd"
   ]
  },
  {
   "cell_type": "code",
   "execution_count": 19,
   "id": "f6a56f8b-f7ae-4c7c-b304-ee47054eca74",
   "metadata": {},
   "outputs": [
    {
     "name": "stderr",
     "output_type": "stream",
     "text": [
      "C:\\Users\\thoca\\anaconda3\\envs\\scRNAseq_Env2\\lib\\site-packages\\anndata\\_core\\anndata.py:1838: UserWarning: Observation names are not unique. To make them unique, call `.obs_names_make_unique`.\n",
      "  utils.warn_names_duplicates(\"obs\")\n"
     ]
    }
   ],
   "source": [
    "adata_integrate = sc.read_h5ad('combined.h5ad')"
   ]
  },
  {
   "cell_type": "code",
   "execution_count": 20,
   "id": "3ca13730-7331-4225-9db9-86a384e7d15e",
   "metadata": {},
   "outputs": [
    {
     "data": {
      "text/html": [
       "<div>\n",
       "<style scoped>\n",
       "    .dataframe tbody tr th:only-of-type {\n",
       "        vertical-align: middle;\n",
       "    }\n",
       "\n",
       "    .dataframe tbody tr th {\n",
       "        vertical-align: top;\n",
       "    }\n",
       "\n",
       "    .dataframe thead th {\n",
       "        text-align: right;\n",
       "    }\n",
       "</style>\n",
       "<table border=\"1\" class=\"dataframe\">\n",
       "  <thead>\n",
       "    <tr style=\"text-align: right;\">\n",
       "      <th></th>\n",
       "      <th>doublet</th>\n",
       "      <th>n_genes</th>\n",
       "      <th>n_genes_by_counts</th>\n",
       "      <th>total_counts</th>\n",
       "      <th>total_counts_mt</th>\n",
       "      <th>pct_counts_mt</th>\n",
       "      <th>total_counts_ribo</th>\n",
       "      <th>pct_counts_ribo</th>\n",
       "    </tr>\n",
       "    <tr>\n",
       "      <th>Sample</th>\n",
       "      <th></th>\n",
       "      <th></th>\n",
       "      <th></th>\n",
       "      <th></th>\n",
       "      <th></th>\n",
       "      <th></th>\n",
       "      <th></th>\n",
       "      <th></th>\n",
       "    </tr>\n",
       "  </thead>\n",
       "  <tbody>\n",
       "    <tr>\n",
       "      <th>Small</th>\n",
       "      <td>24630</td>\n",
       "      <td>24630</td>\n",
       "      <td>24630</td>\n",
       "      <td>24630</td>\n",
       "      <td>24630</td>\n",
       "      <td>24630</td>\n",
       "      <td>24630</td>\n",
       "      <td>24630</td>\n",
       "    </tr>\n",
       "  </tbody>\n",
       "</table>\n",
       "</div>"
      ],
      "text/plain": [
       "        doublet  n_genes  n_genes_by_counts  total_counts  total_counts_mt  \\\n",
       "Sample                                                                       \n",
       "Small     24630    24630              24630         24630            24630   \n",
       "\n",
       "        pct_counts_mt  total_counts_ribo  pct_counts_ribo  \n",
       "Sample                                                     \n",
       "Small           24630              24630            24630  "
      ]
     },
     "execution_count": 20,
     "metadata": {},
     "output_type": "execute_result"
    }
   ],
   "source": [
    "adata_integrate.obs.groupby('Sample').count()"
   ]
  },
  {
   "cell_type": "code",
   "execution_count": 21,
   "id": "1f8c4003-1cb2-457f-9401-0d54e583f809",
   "metadata": {},
   "outputs": [
    {
     "name": "stderr",
     "output_type": "stream",
     "text": [
      "C:\\Users\\thoca\\anaconda3\\envs\\scRNAseq_Env2\\lib\\site-packages\\anndata\\_core\\anndata.py:1838: UserWarning: Observation names are not unique. To make them unique, call `.obs_names_make_unique`.\n",
      "  utils.warn_names_duplicates(\"obs\")\n"
     ]
    }
   ],
   "source": [
    "sc.pp.filter_genes(adata_integrate, min_cells = 100)"
   ]
  },
  {
   "cell_type": "code",
   "execution_count": 22,
   "id": "c333d8f4-312d-4eb1-98ef-4018bc4e2a09",
   "metadata": {},
   "outputs": [
    {
     "data": {
      "text/plain": [
       "AnnData object with n_obs × n_vars = 24630 × 12115\n",
       "    obs: 'Sample', 'doublet', 'n_genes', 'n_genes_by_counts', 'total_counts', 'total_counts_mt', 'pct_counts_mt', 'total_counts_ribo', 'pct_counts_ribo'\n",
       "    var: 'n_cells'"
      ]
     },
     "execution_count": 22,
     "metadata": {},
     "output_type": "execute_result"
    }
   ],
   "source": [
    "adata_integrate"
   ]
  },
  {
   "cell_type": "code",
   "execution_count": 23,
   "id": "6ec61275-468a-46d2-b551-6f8b378e9bb4",
   "metadata": {},
   "outputs": [],
   "source": [
    "adata_integrate.layers['counts'] = adata_integrate.X.copy()"
   ]
  },
  {
   "cell_type": "code",
   "execution_count": 24,
   "id": "3ad82eee-afae-444f-99b2-151313669618",
   "metadata": {},
   "outputs": [],
   "source": [
    "sc.pp.normalize_total(adata_integrate, target_sum = 1e4)\n",
    "sc.pp.log1p(adata_integrate)\n",
    "adata_integrate.raw = adata_integrate"
   ]
  },
  {
   "cell_type": "code",
   "execution_count": 25,
   "id": "30b23451-c405-4ab3-8f15-24c2f0b19779",
   "metadata": {},
   "outputs": [
    {
     "data": {
      "text/html": [
       "<div>\n",
       "<style scoped>\n",
       "    .dataframe tbody tr th:only-of-type {\n",
       "        vertical-align: middle;\n",
       "    }\n",
       "\n",
       "    .dataframe tbody tr th {\n",
       "        vertical-align: top;\n",
       "    }\n",
       "\n",
       "    .dataframe thead th {\n",
       "        text-align: right;\n",
       "    }\n",
       "</style>\n",
       "<table border=\"1\" class=\"dataframe\">\n",
       "  <thead>\n",
       "    <tr style=\"text-align: right;\">\n",
       "      <th></th>\n",
       "      <th>Sample</th>\n",
       "      <th>doublet</th>\n",
       "      <th>n_genes</th>\n",
       "      <th>n_genes_by_counts</th>\n",
       "      <th>total_counts</th>\n",
       "      <th>total_counts_mt</th>\n",
       "      <th>pct_counts_mt</th>\n",
       "      <th>total_counts_ribo</th>\n",
       "      <th>pct_counts_ribo</th>\n",
       "    </tr>\n",
       "  </thead>\n",
       "  <tbody>\n",
       "    <tr>\n",
       "      <th>AAACCTGCATGTAAGA</th>\n",
       "      <td>Small</td>\n",
       "      <td>False</td>\n",
       "      <td>1109</td>\n",
       "      <td>1109</td>\n",
       "      <td>2493.0</td>\n",
       "      <td>0.0</td>\n",
       "      <td>0.0</td>\n",
       "      <td>575.0</td>\n",
       "      <td>23.064581</td>\n",
       "    </tr>\n",
       "    <tr>\n",
       "      <th>AAACCTGGTGTGACGA</th>\n",
       "      <td>Small</td>\n",
       "      <td>False</td>\n",
       "      <td>832</td>\n",
       "      <td>832</td>\n",
       "      <td>1487.0</td>\n",
       "      <td>0.0</td>\n",
       "      <td>0.0</td>\n",
       "      <td>297.0</td>\n",
       "      <td>19.973101</td>\n",
       "    </tr>\n",
       "    <tr>\n",
       "      <th>AAACGGGAGGCTACGA</th>\n",
       "      <td>Small</td>\n",
       "      <td>False</td>\n",
       "      <td>2730</td>\n",
       "      <td>2730</td>\n",
       "      <td>9072.0</td>\n",
       "      <td>0.0</td>\n",
       "      <td>0.0</td>\n",
       "      <td>1387.0</td>\n",
       "      <td>15.288800</td>\n",
       "    </tr>\n",
       "    <tr>\n",
       "      <th>AAACGGGTCTTGTTTG</th>\n",
       "      <td>Small</td>\n",
       "      <td>False</td>\n",
       "      <td>1501</td>\n",
       "      <td>1501</td>\n",
       "      <td>3134.0</td>\n",
       "      <td>0.0</td>\n",
       "      <td>0.0</td>\n",
       "      <td>772.0</td>\n",
       "      <td>24.633057</td>\n",
       "    </tr>\n",
       "    <tr>\n",
       "      <th>AAAGATGGTCAGAGGT</th>\n",
       "      <td>Small</td>\n",
       "      <td>False</td>\n",
       "      <td>1078</td>\n",
       "      <td>1078</td>\n",
       "      <td>2467.0</td>\n",
       "      <td>0.0</td>\n",
       "      <td>0.0</td>\n",
       "      <td>523.0</td>\n",
       "      <td>21.199837</td>\n",
       "    </tr>\n",
       "  </tbody>\n",
       "</table>\n",
       "</div>"
      ],
      "text/plain": [
       "                 Sample  doublet  n_genes  n_genes_by_counts  total_counts  \\\n",
       "AAACCTGCATGTAAGA  Small    False     1109               1109        2493.0   \n",
       "AAACCTGGTGTGACGA  Small    False      832                832        1487.0   \n",
       "AAACGGGAGGCTACGA  Small    False     2730               2730        9072.0   \n",
       "AAACGGGTCTTGTTTG  Small    False     1501               1501        3134.0   \n",
       "AAAGATGGTCAGAGGT  Small    False     1078               1078        2467.0   \n",
       "\n",
       "                  total_counts_mt  pct_counts_mt  total_counts_ribo  \\\n",
       "AAACCTGCATGTAAGA              0.0            0.0              575.0   \n",
       "AAACCTGGTGTGACGA              0.0            0.0              297.0   \n",
       "AAACGGGAGGCTACGA              0.0            0.0             1387.0   \n",
       "AAACGGGTCTTGTTTG              0.0            0.0              772.0   \n",
       "AAAGATGGTCAGAGGT              0.0            0.0              523.0   \n",
       "\n",
       "                  pct_counts_ribo  \n",
       "AAACCTGCATGTAAGA        23.064581  \n",
       "AAACCTGGTGTGACGA        19.973101  \n",
       "AAACGGGAGGCTACGA        15.288800  \n",
       "AAACGGGTCTTGTTTG        24.633057  \n",
       "AAAGATGGTCAGAGGT        21.199837  "
      ]
     },
     "execution_count": 25,
     "metadata": {},
     "output_type": "execute_result"
    }
   ],
   "source": [
    "adata_integrate.obs.head()"
   ]
  },
  {
   "cell_type": "code",
   "execution_count": 26,
   "id": "e9c3b48e-fb24-458e-9f3c-9da14dc0077f",
   "metadata": {},
   "outputs": [
    {
     "data": {
      "text/plain": [
       "AnnData object with n_obs × n_vars = 24630 × 12115\n",
       "    obs: 'Sample', 'doublet', 'n_genes', 'n_genes_by_counts', 'total_counts', 'total_counts_mt', 'pct_counts_mt', 'total_counts_ribo', 'pct_counts_ribo'\n",
       "    var: 'n_cells'\n",
       "    uns: 'log1p'\n",
       "    layers: 'counts'"
      ]
     },
     "execution_count": 26,
     "metadata": {},
     "output_type": "execute_result"
    }
   ],
   "source": [
    "adata_integrate"
   ]
  },
  {
   "cell_type": "code",
   "execution_count": 27,
   "id": "f1973606-4cb0-4bde-a3a3-591058e46694",
   "metadata": {},
   "outputs": [],
   "source": [
    "scvi.model.SCVI.setup_anndata(adata_integrate, layer = \"counts\",\n",
    "                             categorical_covariate_keys=[\"Sample\"],\n",
    "                             continuous_covariate_keys=['pct_counts_mt', 'total_counts', 'pct_counts_ribo'])"
   ]
  },
  {
   "cell_type": "code",
   "execution_count": 28,
   "id": "b77ce156-8a65-4c70-ab55-20a4e636a16b",
   "metadata": {},
   "outputs": [],
   "source": [
    "model = scvi.model.SCVI(adata_integrate)"
   ]
  },
  {
   "cell_type": "code",
   "execution_count": 30,
   "id": "fe1aad35-2f03-4494-949f-38d4773c4e0b",
   "metadata": {},
   "outputs": [
    {
     "name": "stderr",
     "output_type": "stream",
     "text": [
      "GPU available: False, used: False\n",
      "TPU available: False, using: 0 TPU cores\n",
      "IPU available: False, using: 0 IPUs\n",
      "HPU available: False, using: 0 HPUs\n"
     ]
    },
    {
     "name": "stdout",
     "output_type": "stream",
     "text": [
      "Epoch 1/325:   0%|                                                                             | 0/325 [00:00<?, ?it/s]"
     ]
    },
    {
     "name": "stderr",
     "output_type": "stream",
     "text": [
      "C:\\Users\\thoca\\anaconda3\\envs\\scRNAseq_Env2\\lib\\site-packages\\lightning\\pytorch\\trainer\\call.py:53: UserWarning: Detected KeyboardInterrupt, attempting graceful shutdown...\n",
      "  rank_zero_warn(\"Detected KeyboardInterrupt, attempting graceful shutdown...\")\n"
     ]
    }
   ],
   "source": [
    "model.train() #may take a while without GPU"
   ]
  },
  {
   "cell_type": "code",
   "execution_count": null,
   "id": "784a6e16-e836-4d57-81a9-13b1e1cf3ce5",
   "metadata": {},
   "outputs": [],
   "source": []
  },
  {
   "cell_type": "code",
   "execution_count": null,
   "id": "16d2582f-155f-43b5-aedb-d6066e88b19b",
   "metadata": {},
   "outputs": [],
   "source": []
  },
  {
   "cell_type": "code",
   "execution_count": null,
   "id": "66a9f180-f074-4991-9d1e-f46df008c676",
   "metadata": {},
   "outputs": [],
   "source": []
  },
  {
   "cell_type": "code",
   "execution_count": null,
   "id": "f9aa65a6-fe35-4dee-a1d1-d88f584b27d8",
   "metadata": {},
   "outputs": [],
   "source": []
  },
  {
   "cell_type": "code",
   "execution_count": null,
   "id": "4c718566-bf88-488f-ac70-916342e91c35",
   "metadata": {},
   "outputs": [],
   "source": []
  },
  {
   "cell_type": "code",
   "execution_count": null,
   "id": "abe92dc3-88d6-498b-be09-6fe61cb5acf3",
   "metadata": {},
   "outputs": [],
   "source": []
  },
  {
   "cell_type": "code",
   "execution_count": null,
   "id": "9bba7b69-f521-4ddc-a702-24e62a85b76e",
   "metadata": {},
   "outputs": [],
   "source": []
  },
  {
   "cell_type": "code",
   "execution_count": null,
   "id": "c07a75d1-5732-42c6-83b9-6e86c512b7ba",
   "metadata": {},
   "outputs": [],
   "source": []
  },
  {
   "cell_type": "code",
   "execution_count": null,
   "id": "6a73f0b7-6577-47b7-8fef-0a7ea29a9360",
   "metadata": {},
   "outputs": [],
   "source": []
  },
  {
   "cell_type": "code",
   "execution_count": null,
   "id": "fc1c3a2a-ca9a-4ce5-9d78-61a2957b9516",
   "metadata": {},
   "outputs": [],
   "source": []
  },
  {
   "cell_type": "code",
   "execution_count": null,
   "id": "9103a36c-66ca-41ca-bd7c-2e67b1b20a7a",
   "metadata": {},
   "outputs": [],
   "source": []
  },
  {
   "cell_type": "code",
   "execution_count": null,
   "id": "255beb39-1c6b-477d-be68-3cf35b131d3f",
   "metadata": {},
   "outputs": [],
   "source": []
  }
 ],
 "metadata": {
  "kernelspec": {
   "display_name": "Python 3 (ipykernel)",
   "language": "python",
   "name": "python3"
  },
  "language_info": {
   "codemirror_mode": {
    "name": "ipython",
    "version": 3
   },
   "file_extension": ".py",
   "mimetype": "text/x-python",
   "name": "python",
   "nbconvert_exporter": "python",
   "pygments_lexer": "ipython3",
   "version": "3.9.18"
  }
 },
 "nbformat": 4,
 "nbformat_minor": 5
}
