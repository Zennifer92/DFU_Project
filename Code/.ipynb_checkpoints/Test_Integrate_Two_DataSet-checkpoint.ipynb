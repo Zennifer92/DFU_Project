{
 "cells": [
  {
   "cell_type": "code",
   "execution_count": 3,
   "id": "5348ecde-a124-44c9-a64a-766c45c94ef9",
   "metadata": {},
   "outputs": [
    {
     "name": "stderr",
     "output_type": "stream",
     "text": [
      "Updating HTML index of packages in '.Library'\n",
      "\n",
      "Making 'packages.html' ...\n",
      " done\n",
      "\n"
     ]
    }
   ],
   "source": [
    "library(Seurat)\n",
    "install.packages(\"hdf5r\")"
   ]
  },
  {
   "cell_type": "code",
   "execution_count": 21,
   "id": "a7c98dda-2d17-4e41-b09b-70ae1ac4ad46",
   "metadata": {},
   "outputs": [],
   "source": [
    "folder_path <- \"/data2/ZenNa/DFU_Project/Data/SubSet_FootSkin\""
   ]
  },
  {
   "cell_type": "code",
   "execution_count": 27,
   "id": "cfc96193-726c-4db6-aea4-a27b83e5cd6c",
   "metadata": {},
   "outputs": [
    {
     "data": {
      "text/html": [],
      "text/latex": [],
      "text/markdown": [],
      "text/plain": [
       "character(0)"
      ]
     },
     "metadata": {},
     "output_type": "display_data"
    }
   ],
   "source": [
    "# List all CSV files in the folder\n",
    "csv_files <- list.files(path = folder_path, pattern = \"\\\\.csv$\", full.names = TRUE)\n",
    "csv_files"
   ]
  },
  {
   "cell_type": "code",
   "execution_count": 23,
   "id": "58a48e89-5e30-49a1-a843-969b6db3f14e",
   "metadata": {},
   "outputs": [],
   "source": [
    "# Create an empty list to store the data frames\n",
    "data_frames <- list()"
   ]
  },
  {
   "cell_type": "code",
   "execution_count": 24,
   "id": "23c9db2c-3de2-41dc-a04b-dbf1d0b85ffc",
   "metadata": {},
   "outputs": [],
   "source": [
    "# Loop through the CSV files and read them into data frames\n",
    "for (csv_file in csv_files) {\n",
    "  data <- read.csv(csv_file)\n",
    "  data_frames[[csv_file]] <- data\n",
    "}"
   ]
  },
  {
   "cell_type": "code",
   "execution_count": 25,
   "id": "b1e6a521-c159-4cc7-b60d-6c99842ae899",
   "metadata": {},
   "outputs": [],
   "source": [
    "bm280k.data <- do.call(rbind, data_frames)"
   ]
  },
  {
   "cell_type": "code",
   "execution_count": 26,
   "id": "575bdf10-58f4-493f-a2fa-9af1d611ccf3",
   "metadata": {},
   "outputs": [
    {
     "ename": "ERROR",
     "evalue": "Error in CreateAssayObject(counts = counts, min.cells = min.cells, min.features = min.features, : No cell names (colnames) names present in the input matrix\n",
     "output_type": "error",
     "traceback": [
      "Error in CreateAssayObject(counts = counts, min.cells = min.cells, min.features = min.features, : No cell names (colnames) names present in the input matrix\nTraceback:\n",
      "1. CreateSeuratObject(counts = bm280k.data, min.cells = 3, min.features = 200)",
      "2. CreateSeuratObject.default(counts = bm280k.data, min.cells = 3, \n .     min.features = 200)",
      "3. CreateAssayObject(counts = counts, min.cells = min.cells, min.features = min.features, \n .     row.names = row.names)",
      "4. stop(\"No cell names (colnames) names present in the input matrix\")"
     ]
    }
   ],
   "source": [
    "bm280k <- CreateSeuratObject(counts = bm280k.data, min.cells = 3, min.features = 200)"
   ]
  },
  {
   "cell_type": "code",
   "execution_count": 9,
   "id": "24b34208-0a13-4677-a229-4851c3c69f79",
   "metadata": {},
   "outputs": [],
   "source": []
  },
  {
   "cell_type": "code",
   "execution_count": 10,
   "id": "ce20b730-742d-4394-b33a-90207e5ba96b",
   "metadata": {},
   "outputs": [],
   "source": []
  },
  {
   "cell_type": "code",
   "execution_count": 11,
   "id": "491e982f-d9c5-4437-8b9e-4a103d51a675",
   "metadata": {},
   "outputs": [],
   "source": []
  },
  {
   "cell_type": "markdown",
   "id": "f9fd6cf6-5710-44d1-96ca-425e459f0d40",
   "metadata": {},
   "source": [
    "# Next, select features for downstream integration, and run PCA on each object in the list, which is required for running the alternative reciprocal PCA workflow."
   ]
  },
  {
   "cell_type": "code",
   "execution_count": 12,
   "id": "da10683f-2441-4c12-808d-9127c4a36e57",
   "metadata": {},
   "outputs": [],
   "source": []
  },
  {
   "cell_type": "code",
   "execution_count": 14,
   "id": "90f022e9-dd9b-4d89-8480-e0dbe53915bc",
   "metadata": {},
   "outputs": [],
   "source": []
  },
  {
   "cell_type": "code",
   "execution_count": null,
   "id": "a8fa1cc3-3ccc-4633-ac50-4da524623aa2",
   "metadata": {},
   "outputs": [],
   "source": []
  },
  {
   "cell_type": "code",
   "execution_count": null,
   "id": "9175ec1d-9699-4742-aa31-c91916230a7c",
   "metadata": {},
   "outputs": [],
   "source": []
  }
 ],
 "metadata": {
  "kernelspec": {
   "display_name": "R",
   "language": "R",
   "name": "ir"
  },
  "language_info": {
   "codemirror_mode": "r",
   "file_extension": ".r",
   "mimetype": "text/x-r-source",
   "name": "R",
   "pygments_lexer": "r",
   "version": "4.2.3"
  }
 },
 "nbformat": 4,
 "nbformat_minor": 5
}
