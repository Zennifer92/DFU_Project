{
 "cells": [
  {
   "cell_type": "code",
   "execution_count": 35,
   "id": "178ef445-92ea-4984-b7e3-9472b9935c25",
   "metadata": {},
   "outputs": [],
   "source": [
    "import scanpy as sc\n",
    "import pandas as pd\n",
    "import scvi\n",
    "import numpy as np\n",
    "import pandas as pd\n",
    "import seaborn as sns"
   ]
  },
  {
   "cell_type": "code",
   "execution_count": 36,
   "id": "40caa10c-ef9f-4f61-b3ad-3ce21fa802fc",
   "metadata": {},
   "outputs": [
    {
     "data": {
      "text/plain": [
       "AnnData object with n_obs × n_vars = 985 × 14364"
      ]
     },
     "execution_count": 36,
     "metadata": {},
     "output_type": "execute_result"
    }
   ],
   "source": [
    "adata=sc.read_csv('/data2/ZenNa/DFU_Project/Data/Footskin/GSM5050522_Diabetic.csv').T\n",
    "adata"
   ]
  },
  {
   "cell_type": "code",
   "execution_count": 37,
   "id": "c042cb11-8cc3-4376-8c3d-9bdf7735bbe7",
   "metadata": {},
   "outputs": [
    {
     "data": {
      "text/plain": [
       "'/data2/ZenNa/DFU_Project/Code'"
      ]
     },
     "execution_count": 37,
     "metadata": {},
     "output_type": "execute_result"
    }
   ],
   "source": [
    "pwd"
   ]
  },
  {
   "cell_type": "code",
   "execution_count": 38,
   "id": "16adf1e8-38ac-4df7-babc-0a96c244d0f0",
   "metadata": {},
   "outputs": [
    {
     "data": {
      "text/html": [
       "<div>\n",
       "<style scoped>\n",
       "    .dataframe tbody tr th:only-of-type {\n",
       "        vertical-align: middle;\n",
       "    }\n",
       "\n",
       "    .dataframe tbody tr th {\n",
       "        vertical-align: top;\n",
       "    }\n",
       "\n",
       "    .dataframe thead th {\n",
       "        text-align: right;\n",
       "    }\n",
       "</style>\n",
       "<table border=\"1\" class=\"dataframe\">\n",
       "  <thead>\n",
       "    <tr style=\"text-align: right;\">\n",
       "      <th></th>\n",
       "    </tr>\n",
       "  </thead>\n",
       "  <tbody>\n",
       "    <tr>\n",
       "      <th>AAACCTGCATGTAAGA</th>\n",
       "    </tr>\n",
       "    <tr>\n",
       "      <th>AAACCTGGTGTGACGA</th>\n",
       "    </tr>\n",
       "    <tr>\n",
       "      <th>AAACGGGAGGCTACGA</th>\n",
       "    </tr>\n",
       "    <tr>\n",
       "      <th>AAACGGGTCTTGTTTG</th>\n",
       "    </tr>\n",
       "    <tr>\n",
       "      <th>AAAGATGGTCAGAGGT</th>\n",
       "    </tr>\n",
       "    <tr>\n",
       "      <th>...</th>\n",
       "    </tr>\n",
       "    <tr>\n",
       "      <th>TTTGGTTAGGGCTTGA</th>\n",
       "    </tr>\n",
       "    <tr>\n",
       "      <th>TTTGGTTGTGAGTGAC</th>\n",
       "    </tr>\n",
       "    <tr>\n",
       "      <th>TTTGTCAAGATGTCGG</th>\n",
       "    </tr>\n",
       "    <tr>\n",
       "      <th>TTTGTCACAAGCCGTC</th>\n",
       "    </tr>\n",
       "    <tr>\n",
       "      <th>TTTGTCATCTTCGAGA</th>\n",
       "    </tr>\n",
       "  </tbody>\n",
       "</table>\n",
       "<p>985 rows × 0 columns</p>\n",
       "</div>"
      ],
      "text/plain": [
       "Empty DataFrame\n",
       "Columns: []\n",
       "Index: [AAACCTGCATGTAAGA, AAACCTGGTGTGACGA, AAACGGGAGGCTACGA, AAACGGGTCTTGTTTG, AAAGATGGTCAGAGGT, AAAGATGGTCCAAGTT, AAAGCAAAGCGTTTAC, AAAGCAAAGTAGTGCG, AAAGCAAGTCGATTGT, AAAGCAATCCTATGTT, AAAGTAGAGTTGCAGG, AAATGCCCACTTCTGC, AAATGCCCATCTCCCA, AAATGCCGTCTAAAGA, AACACGTCAAAGGCGT, AACACGTCACAGATTC, AACACGTTCCCAACGG, AACACGTTCTAAGCCA, AACCATGAGATGCCTT, AACCATGCAGTTCCCT, AACCGCGGTATAGGGC, AACGTTGAGATGTGGC, AACTCAGAGCGAGAAA, AACTCAGAGTCGTACT, AACTCAGAGTGTTGAA, AACTCCCCAACACCCG, AACTCCCGTCGCTTTC, AACTCTTAGTCCATAC, AACTCTTGTGAGGGAG, AACTCTTGTGTGAAAT, AACTCTTTCTGAGGGA, AACTGGTTCCGAAGAG, AACTTTCCAGCTATTG, AACTTTCTCTTACCTA, AAGGAGCAGGGTTCCC, AAGGTTCAGCGTAGTG, AAGGTTCGTGTGGCTC, AAGTCTGCATTACCTT, AATCCAGAGGGAGTAA, AATCCAGCAGCCTTGG, AATCCAGTCAATCTCT, AATCGGTCACCCATGG, ACACCAAAGAAGGCCT, ACACCAAAGAGTGACC, ACACCAAGTAAGTGGC, ACACCCTGTCATCGGC, ACACCCTTCGCGCCAA, ACACCGGAGGAATTAC, ACACCGGCATCGATGT, ACACCGGGTAATCACC, ACACTGACAGGATCGA, ACACTGAGTCAGAAGC, ACACTGAGTTAAGTAG, ACAGCCGAGTGAACGC, ACAGCCGTCAGTTCGA, ACAGCCGTCTGGCGAC, ACAGCTACAAGTCATC, ACAGCTATCGCCTGTT, ACATACGAGAATGTGT, ACATACGGTATGAATG, ACATACGGTGTCGCTG, ACATCAGAGCACCGCT, ACATGGTCAGGATTGG, ACATGGTGTAGCTTGT, ACCAGTATCGTGGGAA, ACCGTAAGTAATCGTC, ACCTTTAGTAGCTAAA, ACGAGCCCATTTGCCC, ACGAGCCGTGTTTGTG, ACGAGGATCATAACCG, ACGAGGATCGGCTTGG, ACGATACAGCTAGTCT, ACGATACAGGACCACA, ACGATACGTTCCATGA, ACGATACGTTGTACAC, ACGATGTAGCTATGCT, ACGATGTGTCCGTCAG, ACGCAGCCACCCAGTG, ACGCCAGAGATAGCAT, ACGCCAGGTGATGTGG, ACGCCGAAGCTGATAA, ACGCCGAGTCGAACAG, ACGCCGATCAGTTGAC, ACGCCGATCCTGCCAT, ACGGAGACACACAGAG, ACGGAGAGTCTGATCA, ACGGCCAAGCTACCGC, ACGGCCACATTCTTAC, ACGGGCTGTCGCTTCT, ACGGGTCAGGTGTGGT, ACGGGTCTCAGCATGT, ACGTCAAAGCTTCGCG, ACGTCAAGTGGCGAAT, ACTATCTCACACTGCG, ACTATCTGTCCCTTGT, ACTGAACAGATCTGAA, ACTGAACAGGCCCTCA, ACTGAGTAGCTAGTCT, ACTGAGTCACCGGAAA, ACTGAGTCAGCTGGCT, ...]\n",
       "\n",
       "[985 rows x 0 columns]"
      ]
     },
     "execution_count": 38,
     "metadata": {},
     "output_type": "execute_result"
    }
   ],
   "source": [
    "adata.obs"
   ]
  },
  {
   "cell_type": "code",
   "execution_count": 39,
   "id": "95303ca8-f0ad-46d1-857b-f5040c863124",
   "metadata": {},
   "outputs": [
    {
     "name": "stderr",
     "output_type": "stream",
     "text": [
      "/data1/tools/anaconda3/envs/zennaenv/lib/python3.9/site-packages/anndata/_core/anndata.py:1113: FutureWarning: is_categorical_dtype is deprecated and will be removed in a future version. Use isinstance(dtype, CategoricalDtype) instead\n",
      "  if not is_categorical_dtype(df_full[k]):\n"
     ]
    }
   ],
   "source": [
    "sc.pp.filter_genes(adata, min_cells = 3)"
   ]
  },
  {
   "cell_type": "code",
   "execution_count": 40,
   "id": "0863f8c8-a3d3-4759-b986-0a90f37d10ea",
   "metadata": {},
   "outputs": [
    {
     "name": "stderr",
     "output_type": "stream",
     "text": [
      "/data1/tools/anaconda3/envs/zennaenv/lib/python3.9/site-packages/anndata/_core/anndata.py:1113: FutureWarning: is_categorical_dtype is deprecated and will be removed in a future version. Use isinstance(dtype, CategoricalDtype) instead\n",
      "  if not is_categorical_dtype(df_full[k]):\n"
     ]
    }
   ],
   "source": [
    "sc.pp.highly_variable_genes(adata, n_top_genes = 2000, subset = True, flavor = 'seurat_v3')"
   ]
  },
  {
   "cell_type": "code",
   "execution_count": 41,
   "id": "ee993de7-323d-45d2-9d5c-b572217467cb",
   "metadata": {},
   "outputs": [
    {
     "name": "stderr",
     "output_type": "stream",
     "text": [
      "/data1/tools/anaconda3/envs/zennaenv/lib/python3.9/site-packages/anndata/_core/anndata.py:1113: FutureWarning: is_categorical_dtype is deprecated and will be removed in a future version. Use isinstance(dtype, CategoricalDtype) instead\n",
      "  if not is_categorical_dtype(df_full[k]):\n"
     ]
    }
   ],
   "source": [
    "sc.pp.highly_variable_genes(adata, n_top_genes = 2000, subset = True, flavor = 'seurat_v3')"
   ]
  },
  {
   "cell_type": "code",
   "execution_count": 42,
   "id": "95de94cb-3e9c-46b7-97cc-5e694e2d5ee0",
   "metadata": {},
   "outputs": [
    {
     "name": "stderr",
     "output_type": "stream",
     "text": [
      "/data1/tools/anaconda3/envs/zennaenv/lib/python3.9/site-packages/scvi/train/_trainrunner.py:76: UserWarning: `use_gpu` is deprecated in v1.0 and will be removed in v1.1. Please use `accelerator` and `devices` instead.\n",
      "  accelerator, lightning_devices, device = parse_device_args(\n",
      "GPU available: True (cuda), used: True\n",
      "TPU available: False, using: 0 TPU cores\n",
      "IPU available: False, using: 0 IPUs\n",
      "HPU available: False, using: 0 HPUs\n",
      "LOCAL_RANK: 0 - CUDA_VISIBLE_DEVICES: [0]\n",
      "/data1/tools/anaconda3/envs/zennaenv/lib/python3.9/site-packages/lightning/pytorch/loops/fit_loop.py:281: PossibleUserWarning: The number of training batches (7) is smaller than the logging interval Trainer(log_every_n_steps=10). Set a lower value for log_every_n_steps if you want to see logs for the training epoch.\n",
      "  rank_zero_warn(\n"
     ]
    },
    {
     "name": "stdout",
     "output_type": "stream",
     "text": [
      "Epoch 400/400: 100%|█| 400/400 [00:17<00:00, 22.36it/s, v_num=1, train_loss_step"
     ]
    },
    {
     "name": "stderr",
     "output_type": "stream",
     "text": [
      "`Trainer.fit` stopped: `max_epochs=400` reached.\n"
     ]
    },
    {
     "name": "stdout",
     "output_type": "stream",
     "text": [
      "Epoch 400/400: 100%|█| 400/400 [00:17<00:00, 23.33it/s, v_num=1, train_loss_step\n"
     ]
    }
   ],
   "source": [
    "scvi.model.SCVI.setup_anndata(adata)\n",
    "vae = scvi.model.SCVI(adata)\n",
    "vae.train(use_gpu=True)"
   ]
  },
  {
   "cell_type": "code",
   "execution_count": 43,
   "id": "0de4e6b5-a917-43b0-8b2a-955e7eb656bf",
   "metadata": {},
   "outputs": [
    {
     "name": "stdout",
     "output_type": "stream",
     "text": [
      "\u001b[34mINFO    \u001b[0m Creating doublets, preparing SOLO model.                                                                  \n"
     ]
    },
    {
     "name": "stderr",
     "output_type": "stream",
     "text": [
      "/data1/tools/anaconda3/envs/zennaenv/lib/python3.9/site-packages/anndata/_core/merge.py:217: FutureWarning: is_categorical_dtype is deprecated and will be removed in a future version. Use isinstance(dtype, CategoricalDtype) instead\n",
      "  if pd.api.types.is_categorical_dtype(dtype):\n",
      "GPU available: True (cuda), used: True\n",
      "TPU available: False, using: 0 TPU cores\n",
      "IPU available: False, using: 0 IPUs\n",
      "HPU available: False, using: 0 HPUs\n",
      "LOCAL_RANK: 0 - CUDA_VISIBLE_DEVICES: [0]\n"
     ]
    },
    {
     "name": "stdout",
     "output_type": "stream",
     "text": [
      "Epoch 353/400:  88%|▉| 353/400 [00:13<00:01, 25.89it/s, v_num=1, train_loss_step\n",
      "Monitored metric validation_loss did not improve in the last 30 records. Best score: 0.304. Signaling Trainer to stop.\n"
     ]
    }
   ],
   "source": [
    "solo = scvi.external.SOLO.from_scvi_model(vae)\n",
    "solo.train()"
   ]
  },
  {
   "cell_type": "code",
   "execution_count": 44,
   "id": "76735197-19c1-47fc-aa12-8f423bddc14d",
   "metadata": {},
   "outputs": [
    {
     "data": {
      "text/html": [
       "<div>\n",
       "<style scoped>\n",
       "    .dataframe tbody tr th:only-of-type {\n",
       "        vertical-align: middle;\n",
       "    }\n",
       "\n",
       "    .dataframe tbody tr th {\n",
       "        vertical-align: top;\n",
       "    }\n",
       "\n",
       "    .dataframe thead th {\n",
       "        text-align: right;\n",
       "    }\n",
       "</style>\n",
       "<table border=\"1\" class=\"dataframe\">\n",
       "  <thead>\n",
       "    <tr style=\"text-align: right;\">\n",
       "      <th></th>\n",
       "      <th>doublet</th>\n",
       "      <th>singlet</th>\n",
       "      <th>prediction</th>\n",
       "    </tr>\n",
       "  </thead>\n",
       "  <tbody>\n",
       "    <tr>\n",
       "      <th>AAACCTGCATGTAAGA</th>\n",
       "      <td>-1.348736</td>\n",
       "      <td>2.168592</td>\n",
       "      <td>singlet</td>\n",
       "    </tr>\n",
       "    <tr>\n",
       "      <th>AAACCTGGTGTGACGA</th>\n",
       "      <td>-2.820619</td>\n",
       "      <td>2.438396</td>\n",
       "      <td>singlet</td>\n",
       "    </tr>\n",
       "    <tr>\n",
       "      <th>AAACGGGAGGCTACGA</th>\n",
       "      <td>-0.707830</td>\n",
       "      <td>0.229821</td>\n",
       "      <td>singlet</td>\n",
       "    </tr>\n",
       "    <tr>\n",
       "      <th>AAACGGGTCTTGTTTG</th>\n",
       "      <td>-0.746796</td>\n",
       "      <td>0.818365</td>\n",
       "      <td>singlet</td>\n",
       "    </tr>\n",
       "    <tr>\n",
       "      <th>AAAGATGGTCAGAGGT</th>\n",
       "      <td>-1.645193</td>\n",
       "      <td>0.866078</td>\n",
       "      <td>singlet</td>\n",
       "    </tr>\n",
       "    <tr>\n",
       "      <th>...</th>\n",
       "      <td>...</td>\n",
       "      <td>...</td>\n",
       "      <td>...</td>\n",
       "    </tr>\n",
       "    <tr>\n",
       "      <th>TTTGGTTAGGGCTTGA</th>\n",
       "      <td>-0.445806</td>\n",
       "      <td>0.202800</td>\n",
       "      <td>singlet</td>\n",
       "    </tr>\n",
       "    <tr>\n",
       "      <th>TTTGGTTGTGAGTGAC</th>\n",
       "      <td>-2.962606</td>\n",
       "      <td>3.862343</td>\n",
       "      <td>singlet</td>\n",
       "    </tr>\n",
       "    <tr>\n",
       "      <th>TTTGTCAAGATGTCGG</th>\n",
       "      <td>-0.826216</td>\n",
       "      <td>0.580806</td>\n",
       "      <td>singlet</td>\n",
       "    </tr>\n",
       "    <tr>\n",
       "      <th>TTTGTCACAAGCCGTC</th>\n",
       "      <td>0.817549</td>\n",
       "      <td>-0.773044</td>\n",
       "      <td>doublet</td>\n",
       "    </tr>\n",
       "    <tr>\n",
       "      <th>TTTGTCATCTTCGAGA</th>\n",
       "      <td>-0.019534</td>\n",
       "      <td>-0.262729</td>\n",
       "      <td>doublet</td>\n",
       "    </tr>\n",
       "  </tbody>\n",
       "</table>\n",
       "<p>985 rows × 3 columns</p>\n",
       "</div>"
      ],
      "text/plain": [
       "                   doublet   singlet prediction\n",
       "AAACCTGCATGTAAGA -1.348736  2.168592    singlet\n",
       "AAACCTGGTGTGACGA -2.820619  2.438396    singlet\n",
       "AAACGGGAGGCTACGA -0.707830  0.229821    singlet\n",
       "AAACGGGTCTTGTTTG -0.746796  0.818365    singlet\n",
       "AAAGATGGTCAGAGGT -1.645193  0.866078    singlet\n",
       "...                    ...       ...        ...\n",
       "TTTGGTTAGGGCTTGA -0.445806  0.202800    singlet\n",
       "TTTGGTTGTGAGTGAC -2.962606  3.862343    singlet\n",
       "TTTGTCAAGATGTCGG -0.826216  0.580806    singlet\n",
       "TTTGTCACAAGCCGTC  0.817549 -0.773044    doublet\n",
       "TTTGTCATCTTCGAGA -0.019534 -0.262729    doublet\n",
       "\n",
       "[985 rows x 3 columns]"
      ]
     },
     "execution_count": 44,
     "metadata": {},
     "output_type": "execute_result"
    }
   ],
   "source": [
    "df = solo.predict()\n",
    "df['prediction'] = solo.predict(soft = False)\n",
    "df"
   ]
  },
  {
   "cell_type": "code",
   "execution_count": 45,
   "id": "d4b1a237-b960-48d2-8e57-2d4fd24cf76a",
   "metadata": {},
   "outputs": [
    {
     "data": {
      "text/html": [
       "<div>\n",
       "<style scoped>\n",
       "    .dataframe tbody tr th:only-of-type {\n",
       "        vertical-align: middle;\n",
       "    }\n",
       "\n",
       "    .dataframe tbody tr th {\n",
       "        vertical-align: top;\n",
       "    }\n",
       "\n",
       "    .dataframe thead th {\n",
       "        text-align: right;\n",
       "    }\n",
       "</style>\n",
       "<table border=\"1\" class=\"dataframe\">\n",
       "  <thead>\n",
       "    <tr style=\"text-align: right;\">\n",
       "      <th></th>\n",
       "      <th>doublet</th>\n",
       "      <th>singlet</th>\n",
       "    </tr>\n",
       "    <tr>\n",
       "      <th>prediction</th>\n",
       "      <th></th>\n",
       "      <th></th>\n",
       "    </tr>\n",
       "  </thead>\n",
       "  <tbody>\n",
       "    <tr>\n",
       "      <th>doublet</th>\n",
       "      <td>198</td>\n",
       "      <td>198</td>\n",
       "    </tr>\n",
       "    <tr>\n",
       "      <th>singlet</th>\n",
       "      <td>787</td>\n",
       "      <td>787</td>\n",
       "    </tr>\n",
       "  </tbody>\n",
       "</table>\n",
       "</div>"
      ],
      "text/plain": [
       "            doublet  singlet\n",
       "prediction                  \n",
       "doublet         198      198\n",
       "singlet         787      787"
      ]
     },
     "execution_count": 45,
     "metadata": {},
     "output_type": "execute_result"
    }
   ],
   "source": [
    "df.groupby('prediction').count()"
   ]
  },
  {
   "cell_type": "code",
   "execution_count": 46,
   "id": "e27f3b02-9bbd-46db-bac5-a0e6985dc0d3",
   "metadata": {},
   "outputs": [
    {
     "data": {
      "text/html": [
       "<div>\n",
       "<style scoped>\n",
       "    .dataframe tbody tr th:only-of-type {\n",
       "        vertical-align: middle;\n",
       "    }\n",
       "\n",
       "    .dataframe tbody tr th {\n",
       "        vertical-align: top;\n",
       "    }\n",
       "\n",
       "    .dataframe thead th {\n",
       "        text-align: right;\n",
       "    }\n",
       "</style>\n",
       "<table border=\"1\" class=\"dataframe\">\n",
       "  <thead>\n",
       "    <tr style=\"text-align: right;\">\n",
       "      <th></th>\n",
       "      <th>doublet</th>\n",
       "      <th>singlet</th>\n",
       "      <th>prediction</th>\n",
       "      <th>dif</th>\n",
       "    </tr>\n",
       "  </thead>\n",
       "  <tbody>\n",
       "    <tr>\n",
       "      <th>AAACCTGCATGTAAGA</th>\n",
       "      <td>-1.348736</td>\n",
       "      <td>2.168592</td>\n",
       "      <td>singlet</td>\n",
       "      <td>-3.517329</td>\n",
       "    </tr>\n",
       "    <tr>\n",
       "      <th>AAACCTGGTGTGACGA</th>\n",
       "      <td>-2.820619</td>\n",
       "      <td>2.438396</td>\n",
       "      <td>singlet</td>\n",
       "      <td>-5.259015</td>\n",
       "    </tr>\n",
       "    <tr>\n",
       "      <th>AAACGGGAGGCTACGA</th>\n",
       "      <td>-0.707830</td>\n",
       "      <td>0.229821</td>\n",
       "      <td>singlet</td>\n",
       "      <td>-0.937651</td>\n",
       "    </tr>\n",
       "    <tr>\n",
       "      <th>AAACGGGTCTTGTTTG</th>\n",
       "      <td>-0.746796</td>\n",
       "      <td>0.818365</td>\n",
       "      <td>singlet</td>\n",
       "      <td>-1.565161</td>\n",
       "    </tr>\n",
       "    <tr>\n",
       "      <th>AAAGATGGTCAGAGGT</th>\n",
       "      <td>-1.645193</td>\n",
       "      <td>0.866078</td>\n",
       "      <td>singlet</td>\n",
       "      <td>-2.511271</td>\n",
       "    </tr>\n",
       "    <tr>\n",
       "      <th>...</th>\n",
       "      <td>...</td>\n",
       "      <td>...</td>\n",
       "      <td>...</td>\n",
       "      <td>...</td>\n",
       "    </tr>\n",
       "    <tr>\n",
       "      <th>TTTGGTTAGGGCTTGA</th>\n",
       "      <td>-0.445806</td>\n",
       "      <td>0.202800</td>\n",
       "      <td>singlet</td>\n",
       "      <td>-0.648606</td>\n",
       "    </tr>\n",
       "    <tr>\n",
       "      <th>TTTGGTTGTGAGTGAC</th>\n",
       "      <td>-2.962606</td>\n",
       "      <td>3.862343</td>\n",
       "      <td>singlet</td>\n",
       "      <td>-6.824949</td>\n",
       "    </tr>\n",
       "    <tr>\n",
       "      <th>TTTGTCAAGATGTCGG</th>\n",
       "      <td>-0.826216</td>\n",
       "      <td>0.580806</td>\n",
       "      <td>singlet</td>\n",
       "      <td>-1.407022</td>\n",
       "    </tr>\n",
       "    <tr>\n",
       "      <th>TTTGTCACAAGCCGTC</th>\n",
       "      <td>0.817549</td>\n",
       "      <td>-0.773044</td>\n",
       "      <td>doublet</td>\n",
       "      <td>1.590593</td>\n",
       "    </tr>\n",
       "    <tr>\n",
       "      <th>TTTGTCATCTTCGAGA</th>\n",
       "      <td>-0.019534</td>\n",
       "      <td>-0.262729</td>\n",
       "      <td>doublet</td>\n",
       "      <td>0.243195</td>\n",
       "    </tr>\n",
       "  </tbody>\n",
       "</table>\n",
       "<p>985 rows × 4 columns</p>\n",
       "</div>"
      ],
      "text/plain": [
       "                   doublet   singlet prediction       dif\n",
       "AAACCTGCATGTAAGA -1.348736  2.168592    singlet -3.517329\n",
       "AAACCTGGTGTGACGA -2.820619  2.438396    singlet -5.259015\n",
       "AAACGGGAGGCTACGA -0.707830  0.229821    singlet -0.937651\n",
       "AAACGGGTCTTGTTTG -0.746796  0.818365    singlet -1.565161\n",
       "AAAGATGGTCAGAGGT -1.645193  0.866078    singlet -2.511271\n",
       "...                    ...       ...        ...       ...\n",
       "TTTGGTTAGGGCTTGA -0.445806  0.202800    singlet -0.648606\n",
       "TTTGGTTGTGAGTGAC -2.962606  3.862343    singlet -6.824949\n",
       "TTTGTCAAGATGTCGG -0.826216  0.580806    singlet -1.407022\n",
       "TTTGTCACAAGCCGTC  0.817549 -0.773044    doublet  1.590593\n",
       "TTTGTCATCTTCGAGA -0.019534 -0.262729    doublet  0.243195\n",
       "\n",
       "[985 rows x 4 columns]"
      ]
     },
     "execution_count": 46,
     "metadata": {},
     "output_type": "execute_result"
    }
   ],
   "source": [
    "df['dif'] = df.doublet - df.singlet\n",
    "df"
   ]
  },
  {
   "cell_type": "code",
   "execution_count": 47,
   "id": "c01819f1-1346-4a15-9591-adf26ae43f0d",
   "metadata": {},
   "outputs": [
    {
     "name": "stderr",
     "output_type": "stream",
     "text": [
      "/data1/tools/anaconda3/envs/zennaenv/lib/python3.9/site-packages/seaborn/_oldcore.py:1498: FutureWarning: is_categorical_dtype is deprecated and will be removed in a future version. Use isinstance(dtype, CategoricalDtype) instead\n",
      "  if pd.api.types.is_categorical_dtype(vector):\n",
      "/data1/tools/anaconda3/envs/zennaenv/lib/python3.9/site-packages/seaborn/_oldcore.py:1119: FutureWarning: use_inf_as_na option is deprecated and will be removed in a future version. Convert inf values to NaN before operating instead.\n",
      "  with pd.option_context('mode.use_inf_as_na', True):\n"
     ]
    },
    {
     "data": {
      "text/plain": [
       "<seaborn.axisgrid.FacetGrid at 0x7f1a957d0370>"
      ]
     },
     "execution_count": 47,
     "metadata": {},
     "output_type": "execute_result"
    },
    {
     "data": {
      "image/png": "[encoded data removed]",
      "text/plain": [
       "<Figure size 500x500 with 1 Axes>"
      ]
     },
     "metadata": {},
     "output_type": "display_data"
    }
   ],
   "source": [
    "sns.displot(df[df.prediction == 'doublet'], x = 'dif')"
   ]
  },
  {
   "cell_type": "code",
   "execution_count": 48,
   "id": "121313c8-f22c-4022-845b-aedd9b889827",
   "metadata": {},
   "outputs": [
    {
     "data": {
      "text/html": [
       "<div>\n",
       "<style scoped>\n",
       "    .dataframe tbody tr th:only-of-type {\n",
       "        vertical-align: middle;\n",
       "    }\n",
       "\n",
       "    .dataframe tbody tr th {\n",
       "        vertical-align: top;\n",
       "    }\n",
       "\n",
       "    .dataframe thead th {\n",
       "        text-align: right;\n",
       "    }\n",
       "</style>\n",
       "<table border=\"1\" class=\"dataframe\">\n",
       "  <thead>\n",
       "    <tr style=\"text-align: right;\">\n",
       "      <th></th>\n",
       "      <th>doublet</th>\n",
       "      <th>singlet</th>\n",
       "      <th>prediction</th>\n",
       "      <th>dif</th>\n",
       "    </tr>\n",
       "  </thead>\n",
       "  <tbody>\n",
       "    <tr>\n",
       "      <th>AACCATGCAGTTCCCT</th>\n",
       "      <td>1.163542</td>\n",
       "      <td>-1.205831</td>\n",
       "      <td>doublet</td>\n",
       "      <td>2.369373</td>\n",
       "    </tr>\n",
       "    <tr>\n",
       "      <th>AACTCTTAGTCCATAC</th>\n",
       "      <td>0.349097</td>\n",
       "      <td>-1.101866</td>\n",
       "      <td>doublet</td>\n",
       "      <td>1.450963</td>\n",
       "    </tr>\n",
       "    <tr>\n",
       "      <th>AACTCTTGTGAGGGAG</th>\n",
       "      <td>0.804939</td>\n",
       "      <td>-1.151227</td>\n",
       "      <td>doublet</td>\n",
       "      <td>1.956166</td>\n",
       "    </tr>\n",
       "    <tr>\n",
       "      <th>ACGAGGATCGGCTTGG</th>\n",
       "      <td>1.603971</td>\n",
       "      <td>-0.775785</td>\n",
       "      <td>doublet</td>\n",
       "      <td>2.379756</td>\n",
       "    </tr>\n",
       "    <tr>\n",
       "      <th>ACGGGTCAGGTGTGGT</th>\n",
       "      <td>1.073684</td>\n",
       "      <td>-1.343269</td>\n",
       "      <td>doublet</td>\n",
       "      <td>2.416953</td>\n",
       "    </tr>\n",
       "    <tr>\n",
       "      <th>...</th>\n",
       "      <td>...</td>\n",
       "      <td>...</td>\n",
       "      <td>...</td>\n",
       "      <td>...</td>\n",
       "    </tr>\n",
       "    <tr>\n",
       "      <th>TTCTCCTCACTGAAGG</th>\n",
       "      <td>0.892835</td>\n",
       "      <td>-0.790165</td>\n",
       "      <td>doublet</td>\n",
       "      <td>1.683000</td>\n",
       "    </tr>\n",
       "    <tr>\n",
       "      <th>TTGAACGGTTATGTGC</th>\n",
       "      <td>2.283777</td>\n",
       "      <td>-0.978314</td>\n",
       "      <td>doublet</td>\n",
       "      <td>3.262091</td>\n",
       "    </tr>\n",
       "    <tr>\n",
       "      <th>TTGACTTAGAATGTTG</th>\n",
       "      <td>0.596701</td>\n",
       "      <td>-1.040335</td>\n",
       "      <td>doublet</td>\n",
       "      <td>1.637036</td>\n",
       "    </tr>\n",
       "    <tr>\n",
       "      <th>TTTACTGCAAGTACCT</th>\n",
       "      <td>1.245567</td>\n",
       "      <td>-0.448335</td>\n",
       "      <td>doublet</td>\n",
       "      <td>1.693902</td>\n",
       "    </tr>\n",
       "    <tr>\n",
       "      <th>TTTGTCACAAGCCGTC</th>\n",
       "      <td>0.817549</td>\n",
       "      <td>-0.773044</td>\n",
       "      <td>doublet</td>\n",
       "      <td>1.590593</td>\n",
       "    </tr>\n",
       "  </tbody>\n",
       "</table>\n",
       "<p>78 rows × 4 columns</p>\n",
       "</div>"
      ],
      "text/plain": [
       "                   doublet   singlet prediction       dif\n",
       "AACCATGCAGTTCCCT  1.163542 -1.205831    doublet  2.369373\n",
       "AACTCTTAGTCCATAC  0.349097 -1.101866    doublet  1.450963\n",
       "AACTCTTGTGAGGGAG  0.804939 -1.151227    doublet  1.956166\n",
       "ACGAGGATCGGCTTGG  1.603971 -0.775785    doublet  2.379756\n",
       "ACGGGTCAGGTGTGGT  1.073684 -1.343269    doublet  2.416953\n",
       "...                    ...       ...        ...       ...\n",
       "TTCTCCTCACTGAAGG  0.892835 -0.790165    doublet  1.683000\n",
       "TTGAACGGTTATGTGC  2.283777 -0.978314    doublet  3.262091\n",
       "TTGACTTAGAATGTTG  0.596701 -1.040335    doublet  1.637036\n",
       "TTTACTGCAAGTACCT  1.245567 -0.448335    doublet  1.693902\n",
       "TTTGTCACAAGCCGTC  0.817549 -0.773044    doublet  1.590593\n",
       "\n",
       "[78 rows x 4 columns]"
      ]
     },
     "execution_count": 48,
     "metadata": {},
     "output_type": "execute_result"
    }
   ],
   "source": [
    "doublets = df[(df.prediction == 'doublet') & (df.dif > 1)]\n",
    "doublets"
   ]
  },
  {
   "cell_type": "code",
   "execution_count": 49,
   "id": "a17a4910-b735-4722-b273-4025aa697dbe",
   "metadata": {},
   "outputs": [
    {
     "data": {
      "text/plain": [
       "AnnData object with n_obs × n_vars = 985 × 2000\n",
       "    obs: '_scvi_batch', '_scvi_labels'\n",
       "    var: 'n_cells', 'highly_variable', 'highly_variable_rank', 'means', 'variances', 'variances_norm'\n",
       "    uns: 'hvg', '_scvi_uuid', '_scvi_manager_uuid'"
      ]
     },
     "execution_count": 49,
     "metadata": {},
     "output_type": "execute_result"
    }
   ],
   "source": [
    "adata"
   ]
  },
  {
   "cell_type": "code",
   "execution_count": 50,
   "id": "f6da26fb-593f-4ce6-b4ce-0f56ce1fbf8f",
   "metadata": {},
   "outputs": [],
   "source": [
    "adata_reLoad=sc.read_csv('/data2/ZenNa/DFU_Project/Data/Footskin/GSM5050522_Diabetic.csv').T"
   ]
  },
  {
   "cell_type": "code",
   "execution_count": 51,
   "id": "337a0951-8846-4b00-854d-adb6e9f26b69",
   "metadata": {},
   "outputs": [],
   "source": [
    "adata_reLoad.obs['doublet'] = adata.obs.index.isin(doublets.index)"
   ]
  },
  {
   "cell_type": "code",
   "execution_count": 52,
   "id": "74daf705-e3e9-4f7b-b422-2f5c1b273212",
   "metadata": {},
   "outputs": [
    {
     "data": {
      "text/html": [
       "<div>\n",
       "<style scoped>\n",
       "    .dataframe tbody tr th:only-of-type {\n",
       "        vertical-align: middle;\n",
       "    }\n",
       "\n",
       "    .dataframe tbody tr th {\n",
       "        vertical-align: top;\n",
       "    }\n",
       "\n",
       "    .dataframe thead th {\n",
       "        text-align: right;\n",
       "    }\n",
       "</style>\n",
       "<table border=\"1\" class=\"dataframe\">\n",
       "  <thead>\n",
       "    <tr style=\"text-align: right;\">\n",
       "      <th></th>\n",
       "      <th>doublet</th>\n",
       "    </tr>\n",
       "  </thead>\n",
       "  <tbody>\n",
       "    <tr>\n",
       "      <th>AAACCTGCATGTAAGA</th>\n",
       "      <td>False</td>\n",
       "    </tr>\n",
       "    <tr>\n",
       "      <th>AAACCTGGTGTGACGA</th>\n",
       "      <td>False</td>\n",
       "    </tr>\n",
       "    <tr>\n",
       "      <th>AAACGGGAGGCTACGA</th>\n",
       "      <td>False</td>\n",
       "    </tr>\n",
       "    <tr>\n",
       "      <th>AAACGGGTCTTGTTTG</th>\n",
       "      <td>False</td>\n",
       "    </tr>\n",
       "    <tr>\n",
       "      <th>AAAGATGGTCAGAGGT</th>\n",
       "      <td>False</td>\n",
       "    </tr>\n",
       "    <tr>\n",
       "      <th>...</th>\n",
       "      <td>...</td>\n",
       "    </tr>\n",
       "    <tr>\n",
       "      <th>TTTGGTTAGGGCTTGA</th>\n",
       "      <td>False</td>\n",
       "    </tr>\n",
       "    <tr>\n",
       "      <th>TTTGGTTGTGAGTGAC</th>\n",
       "      <td>False</td>\n",
       "    </tr>\n",
       "    <tr>\n",
       "      <th>TTTGTCAAGATGTCGG</th>\n",
       "      <td>False</td>\n",
       "    </tr>\n",
       "    <tr>\n",
       "      <th>TTTGTCACAAGCCGTC</th>\n",
       "      <td>True</td>\n",
       "    </tr>\n",
       "    <tr>\n",
       "      <th>TTTGTCATCTTCGAGA</th>\n",
       "      <td>False</td>\n",
       "    </tr>\n",
       "  </tbody>\n",
       "</table>\n",
       "<p>985 rows × 1 columns</p>\n",
       "</div>"
      ],
      "text/plain": [
       "                  doublet\n",
       "AAACCTGCATGTAAGA    False\n",
       "AAACCTGGTGTGACGA    False\n",
       "AAACGGGAGGCTACGA    False\n",
       "AAACGGGTCTTGTTTG    False\n",
       "AAAGATGGTCAGAGGT    False\n",
       "...                   ...\n",
       "TTTGGTTAGGGCTTGA    False\n",
       "TTTGGTTGTGAGTGAC    False\n",
       "TTTGTCAAGATGTCGG    False\n",
       "TTTGTCACAAGCCGTC     True\n",
       "TTTGTCATCTTCGAGA    False\n",
       "\n",
       "[985 rows x 1 columns]"
      ]
     },
     "execution_count": 52,
     "metadata": {},
     "output_type": "execute_result"
    }
   ],
   "source": [
    "adata_reLoad.obs"
   ]
  },
  {
   "cell_type": "code",
   "execution_count": 53,
   "id": "b4202519-372f-40df-922c-0cd9cb69655d",
   "metadata": {},
   "outputs": [
    {
     "name": "stderr",
     "output_type": "stream",
     "text": [
      "/data1/tools/anaconda3/envs/zennaenv/lib/python3.9/site-packages/anndata/_core/anndata.py:1113: FutureWarning: is_categorical_dtype is deprecated and will be removed in a future version. Use isinstance(dtype, CategoricalDtype) instead\n",
      "  if not is_categorical_dtype(df_full[k]):\n"
     ]
    }
   ],
   "source": [
    "adata_reMoveDoublet = adata_reLoad[~adata_reLoad.obs.doublet] #the~ mean you keep the False"
   ]
  },
  {
   "cell_type": "code",
   "execution_count": 54,
   "id": "3957a899-3499-4f7e-974e-5c2856bece69",
   "metadata": {},
   "outputs": [
    {
     "data": {
      "text/plain": [
       "AnnData object with n_obs × n_vars = 985 × 14364\n",
       "    obs: 'doublet'"
      ]
     },
     "execution_count": 54,
     "metadata": {},
     "output_type": "execute_result"
    }
   ],
   "source": [
    "adata_reLoad"
   ]
  },
  {
   "cell_type": "code",
   "execution_count": 55,
   "id": "412415ef-08ec-4ff0-ba53-2f1187dd76d6",
   "metadata": {},
   "outputs": [
    {
     "data": {
      "text/plain": [
       "View of AnnData object with n_obs × n_vars = 907 × 14364\n",
       "    obs: 'doublet'"
      ]
     },
     "execution_count": 55,
     "metadata": {},
     "output_type": "execute_result"
    }
   ],
   "source": [
    "adata_reMoveDoublet"
   ]
  },
  {
   "cell_type": "code",
   "execution_count": 56,
   "id": "bac4bb24-7127-44e5-b878-85ec159c4166",
   "metadata": {},
   "outputs": [
    {
     "data": {
      "text/plain": [
       "View of AnnData object with n_obs × n_vars = 907 × 14364\n",
       "    obs: 'doublet'"
      ]
     },
     "execution_count": 56,
     "metadata": {},
     "output_type": "execute_result"
    }
   ],
   "source": [
    "adata_reMoveDoublet"
   ]
  },
  {
   "cell_type": "markdown",
   "id": "e3e181d3-482d-47b2-bfd7-36f6507deeea",
   "metadata": {},
   "source": [
    "#Preprocessing"
   ]
  },
  {
   "cell_type": "code",
   "execution_count": 57,
   "id": "a4def700-64c6-4cbb-88bd-ab65c39008ce",
   "metadata": {},
   "outputs": [
    {
     "data": {
      "text/html": [
       "<div>\n",
       "<style scoped>\n",
       "    .dataframe tbody tr th:only-of-type {\n",
       "        vertical-align: middle;\n",
       "    }\n",
       "\n",
       "    .dataframe tbody tr th {\n",
       "        vertical-align: top;\n",
       "    }\n",
       "\n",
       "    .dataframe thead th {\n",
       "        text-align: right;\n",
       "    }\n",
       "</style>\n",
       "<table border=\"1\" class=\"dataframe\">\n",
       "  <thead>\n",
       "    <tr style=\"text-align: right;\">\n",
       "      <th></th>\n",
       "    </tr>\n",
       "  </thead>\n",
       "  <tbody>\n",
       "    <tr>\n",
       "      <th>MT-ND1</th>\n",
       "    </tr>\n",
       "    <tr>\n",
       "      <th>MT-ND2</th>\n",
       "    </tr>\n",
       "    <tr>\n",
       "      <th>MT-CO1</th>\n",
       "    </tr>\n",
       "    <tr>\n",
       "      <th>MT-CO2</th>\n",
       "    </tr>\n",
       "    <tr>\n",
       "      <th>MT-ATP8</th>\n",
       "    </tr>\n",
       "    <tr>\n",
       "      <th>MT-ATP6</th>\n",
       "    </tr>\n",
       "    <tr>\n",
       "      <th>MT-CO3</th>\n",
       "    </tr>\n",
       "    <tr>\n",
       "      <th>MT-ND3</th>\n",
       "    </tr>\n",
       "    <tr>\n",
       "      <th>MT-ND4L</th>\n",
       "    </tr>\n",
       "    <tr>\n",
       "      <th>MT-ND4</th>\n",
       "    </tr>\n",
       "    <tr>\n",
       "      <th>MT-ND5</th>\n",
       "    </tr>\n",
       "    <tr>\n",
       "      <th>MT-ND6</th>\n",
       "    </tr>\n",
       "    <tr>\n",
       "      <th>MT-CYB</th>\n",
       "    </tr>\n",
       "  </tbody>\n",
       "</table>\n",
       "</div>"
      ],
      "text/plain": [
       "Empty DataFrame\n",
       "Columns: []\n",
       "Index: [MT-ND1, MT-ND2, MT-CO1, MT-CO2, MT-ATP8, MT-ATP6, MT-CO3, MT-ND3, MT-ND4L, MT-ND4, MT-ND5, MT-ND6, MT-CYB]"
      ]
     },
     "execution_count": 57,
     "metadata": {},
     "output_type": "execute_result"
    }
   ],
   "source": [
    "adata_reMoveDoublet.var[adata_reMoveDoublet.var.index.str.startswith('MT-')] #gene name"
   ]
  },
  {
   "cell_type": "code",
   "execution_count": 58,
   "id": "3b7f72d0-76b2-4f76-aeec-9b9679f8fdfe",
   "metadata": {},
   "outputs": [
    {
     "name": "stderr",
     "output_type": "stream",
     "text": [
      "/tmp/ipykernel_927275/2620672669.py:1: ImplicitModificationWarning: Trying to modify attribute `.var` of view, initializing view as actual.\n",
      "  adata_reMoveDoublet.var['mt'] = adata_reMoveDoublet.var.index.str.startswith('MT-') #mitochondria\n"
     ]
    }
   ],
   "source": [
    "adata_reMoveDoublet.var['mt'] = adata_reMoveDoublet.var.index.str.startswith('MT-') #mitochondria\n"
   ]
  },
  {
   "cell_type": "code",
   "execution_count": 59,
   "id": "dc39a730-5ba7-4d2d-8185-071f728f9bf1",
   "metadata": {},
   "outputs": [
    {
     "data": {
      "text/html": [
       "<div>\n",
       "<style scoped>\n",
       "    .dataframe tbody tr th:only-of-type {\n",
       "        vertical-align: middle;\n",
       "    }\n",
       "\n",
       "    .dataframe tbody tr th {\n",
       "        vertical-align: top;\n",
       "    }\n",
       "\n",
       "    .dataframe thead th {\n",
       "        text-align: right;\n",
       "    }\n",
       "</style>\n",
       "<table border=\"1\" class=\"dataframe\">\n",
       "  <thead>\n",
       "    <tr style=\"text-align: right;\">\n",
       "      <th></th>\n",
       "      <th>mt</th>\n",
       "    </tr>\n",
       "  </thead>\n",
       "  <tbody>\n",
       "    <tr>\n",
       "      <th>FO538757.2</th>\n",
       "      <td>False</td>\n",
       "    </tr>\n",
       "    <tr>\n",
       "      <th>AP006222.2</th>\n",
       "      <td>False</td>\n",
       "    </tr>\n",
       "    <tr>\n",
       "      <th>RP11-206L10.9</th>\n",
       "      <td>False</td>\n",
       "    </tr>\n",
       "    <tr>\n",
       "      <th>LINC00115</th>\n",
       "      <td>False</td>\n",
       "    </tr>\n",
       "    <tr>\n",
       "      <th>FAM41C</th>\n",
       "      <td>False</td>\n",
       "    </tr>\n",
       "    <tr>\n",
       "      <th>...</th>\n",
       "      <td>...</td>\n",
       "    </tr>\n",
       "    <tr>\n",
       "      <th>AC145212.4</th>\n",
       "      <td>False</td>\n",
       "    </tr>\n",
       "    <tr>\n",
       "      <th>AC011043.1</th>\n",
       "      <td>False</td>\n",
       "    </tr>\n",
       "    <tr>\n",
       "      <th>AL592183.1</th>\n",
       "      <td>False</td>\n",
       "    </tr>\n",
       "    <tr>\n",
       "      <th>AC007325.4</th>\n",
       "      <td>False</td>\n",
       "    </tr>\n",
       "    <tr>\n",
       "      <th>AC240274.1</th>\n",
       "      <td>False</td>\n",
       "    </tr>\n",
       "  </tbody>\n",
       "</table>\n",
       "<p>14364 rows × 1 columns</p>\n",
       "</div>"
      ],
      "text/plain": [
       "                  mt\n",
       "FO538757.2     False\n",
       "AP006222.2     False\n",
       "RP11-206L10.9  False\n",
       "LINC00115      False\n",
       "FAM41C         False\n",
       "...              ...\n",
       "AC145212.4     False\n",
       "AC011043.1     False\n",
       "AL592183.1     False\n",
       "AC007325.4     False\n",
       "AC240274.1     False\n",
       "\n",
       "[14364 rows x 1 columns]"
      ]
     },
     "execution_count": 59,
     "metadata": {},
     "output_type": "execute_result"
    }
   ],
   "source": [
    "adata_reMoveDoublet.var"
   ]
  },
  {
   "cell_type": "code",
   "execution_count": 60,
   "id": "65b458d1-042a-4bee-92be-0f023eabb5ce",
   "metadata": {},
   "outputs": [
    {
     "data": {
      "text/html": [
       "<div>\n",
       "<style scoped>\n",
       "    .dataframe tbody tr th:only-of-type {\n",
       "        vertical-align: middle;\n",
       "    }\n",
       "\n",
       "    .dataframe tbody tr th {\n",
       "        vertical-align: top;\n",
       "    }\n",
       "\n",
       "    .dataframe thead th {\n",
       "        text-align: right;\n",
       "    }\n",
       "</style>\n",
       "<table border=\"1\" class=\"dataframe\">\n",
       "  <thead>\n",
       "    <tr style=\"text-align: right;\">\n",
       "      <th></th>\n",
       "      <th>mt</th>\n",
       "    </tr>\n",
       "  </thead>\n",
       "  <tbody>\n",
       "    <tr>\n",
       "      <th>FO538757.2</th>\n",
       "      <td>False</td>\n",
       "    </tr>\n",
       "    <tr>\n",
       "      <th>AP006222.2</th>\n",
       "      <td>False</td>\n",
       "    </tr>\n",
       "    <tr>\n",
       "      <th>RP11-206L10.9</th>\n",
       "      <td>False</td>\n",
       "    </tr>\n",
       "    <tr>\n",
       "      <th>LINC00115</th>\n",
       "      <td>False</td>\n",
       "    </tr>\n",
       "    <tr>\n",
       "      <th>FAM41C</th>\n",
       "      <td>False</td>\n",
       "    </tr>\n",
       "    <tr>\n",
       "      <th>...</th>\n",
       "      <td>...</td>\n",
       "    </tr>\n",
       "    <tr>\n",
       "      <th>AC145212.4</th>\n",
       "      <td>False</td>\n",
       "    </tr>\n",
       "    <tr>\n",
       "      <th>AC011043.1</th>\n",
       "      <td>False</td>\n",
       "    </tr>\n",
       "    <tr>\n",
       "      <th>AL592183.1</th>\n",
       "      <td>False</td>\n",
       "    </tr>\n",
       "    <tr>\n",
       "      <th>AC007325.4</th>\n",
       "      <td>False</td>\n",
       "    </tr>\n",
       "    <tr>\n",
       "      <th>AC240274.1</th>\n",
       "      <td>False</td>\n",
       "    </tr>\n",
       "  </tbody>\n",
       "</table>\n",
       "<p>14364 rows × 1 columns</p>\n",
       "</div>"
      ],
      "text/plain": [
       "                  mt\n",
       "FO538757.2     False\n",
       "AP006222.2     False\n",
       "RP11-206L10.9  False\n",
       "LINC00115      False\n",
       "FAM41C         False\n",
       "...              ...\n",
       "AC145212.4     False\n",
       "AC011043.1     False\n",
       "AL592183.1     False\n",
       "AC007325.4     False\n",
       "AC240274.1     False\n",
       "\n",
       "[14364 rows x 1 columns]"
      ]
     },
     "execution_count": 60,
     "metadata": {},
     "output_type": "execute_result"
    }
   ],
   "source": [
    "adata_reMoveDoublet.var"
   ]
  },
  {
   "cell_type": "code",
   "execution_count": 61,
   "id": "9ac896f1-c69b-4cd1-8d9e-e02ea9491ca2",
   "metadata": {},
   "outputs": [
    {
     "data": {
      "text/html": [
       "<div>\n",
       "<style scoped>\n",
       "    .dataframe tbody tr th:only-of-type {\n",
       "        vertical-align: middle;\n",
       "    }\n",
       "\n",
       "    .dataframe tbody tr th {\n",
       "        vertical-align: top;\n",
       "    }\n",
       "\n",
       "    .dataframe thead th {\n",
       "        text-align: right;\n",
       "    }\n",
       "</style>\n",
       "<table border=\"1\" class=\"dataframe\">\n",
       "  <thead>\n",
       "    <tr style=\"text-align: right;\">\n",
       "      <th></th>\n",
       "      <th>0</th>\n",
       "    </tr>\n",
       "  </thead>\n",
       "  <tbody>\n",
       "    <tr>\n",
       "      <th>0</th>\n",
       "      <td>FAU</td>\n",
       "    </tr>\n",
       "    <tr>\n",
       "      <th>1</th>\n",
       "      <td>MRPL13</td>\n",
       "    </tr>\n",
       "    <tr>\n",
       "      <th>2</th>\n",
       "      <td>RPL10</td>\n",
       "    </tr>\n",
       "    <tr>\n",
       "      <th>3</th>\n",
       "      <td>RPL10A</td>\n",
       "    </tr>\n",
       "    <tr>\n",
       "      <th>4</th>\n",
       "      <td>RPL10L</td>\n",
       "    </tr>\n",
       "    <tr>\n",
       "      <th>...</th>\n",
       "      <td>...</td>\n",
       "    </tr>\n",
       "    <tr>\n",
       "      <th>83</th>\n",
       "      <td>RPS9</td>\n",
       "    </tr>\n",
       "    <tr>\n",
       "      <th>84</th>\n",
       "      <td>RPSA</td>\n",
       "    </tr>\n",
       "    <tr>\n",
       "      <th>85</th>\n",
       "      <td>RSL24D1</td>\n",
       "    </tr>\n",
       "    <tr>\n",
       "      <th>86</th>\n",
       "      <td>RSL24D1P11</td>\n",
       "    </tr>\n",
       "    <tr>\n",
       "      <th>87</th>\n",
       "      <td>UBA52</td>\n",
       "    </tr>\n",
       "  </tbody>\n",
       "</table>\n",
       "<p>88 rows × 1 columns</p>\n",
       "</div>"
      ],
      "text/plain": [
       "             0\n",
       "0          FAU\n",
       "1       MRPL13\n",
       "2        RPL10\n",
       "3       RPL10A\n",
       "4       RPL10L\n",
       "..         ...\n",
       "83        RPS9\n",
       "84        RPSA\n",
       "85     RSL24D1\n",
       "86  RSL24D1P11\n",
       "87       UBA52\n",
       "\n",
       "[88 rows x 1 columns]"
      ]
     },
     "execution_count": 61,
     "metadata": {},
     "output_type": "execute_result"
    }
   ],
   "source": [
    "ribo_url = \"http://software.broadinstitute.org/gsea/msigdb/download_geneset.jsp?geneSetName=KEGG_RIBOSOME&fileType=txt\"\n",
    "ribo_genes = pd.read_table(ribo_url, skiprows=2, header = None)\n",
    "ribo_genes"
   ]
  },
  {
   "cell_type": "code",
   "execution_count": 62,
   "id": "32a42aa8-4695-4385-96f8-da1f2504e1dc",
   "metadata": {},
   "outputs": [
    {
     "data": {
      "text/html": [
       "<div>\n",
       "<style scoped>\n",
       "    .dataframe tbody tr th:only-of-type {\n",
       "        vertical-align: middle;\n",
       "    }\n",
       "\n",
       "    .dataframe tbody tr th {\n",
       "        vertical-align: top;\n",
       "    }\n",
       "\n",
       "    .dataframe thead th {\n",
       "        text-align: right;\n",
       "    }\n",
       "</style>\n",
       "<table border=\"1\" class=\"dataframe\">\n",
       "  <thead>\n",
       "    <tr style=\"text-align: right;\">\n",
       "      <th></th>\n",
       "      <th>0</th>\n",
       "    </tr>\n",
       "  </thead>\n",
       "  <tbody>\n",
       "    <tr>\n",
       "      <th>0</th>\n",
       "      <td>FAU</td>\n",
       "    </tr>\n",
       "    <tr>\n",
       "      <th>1</th>\n",
       "      <td>MRPL13</td>\n",
       "    </tr>\n",
       "    <tr>\n",
       "      <th>2</th>\n",
       "      <td>RPL10</td>\n",
       "    </tr>\n",
       "    <tr>\n",
       "      <th>3</th>\n",
       "      <td>RPL10A</td>\n",
       "    </tr>\n",
       "    <tr>\n",
       "      <th>4</th>\n",
       "      <td>RPL10L</td>\n",
       "    </tr>\n",
       "    <tr>\n",
       "      <th>...</th>\n",
       "      <td>...</td>\n",
       "    </tr>\n",
       "    <tr>\n",
       "      <th>83</th>\n",
       "      <td>RPS9</td>\n",
       "    </tr>\n",
       "    <tr>\n",
       "      <th>84</th>\n",
       "      <td>RPSA</td>\n",
       "    </tr>\n",
       "    <tr>\n",
       "      <th>85</th>\n",
       "      <td>RSL24D1</td>\n",
       "    </tr>\n",
       "    <tr>\n",
       "      <th>86</th>\n",
       "      <td>RSL24D1P11</td>\n",
       "    </tr>\n",
       "    <tr>\n",
       "      <th>87</th>\n",
       "      <td>UBA52</td>\n",
       "    </tr>\n",
       "  </tbody>\n",
       "</table>\n",
       "<p>88 rows × 1 columns</p>\n",
       "</div>"
      ],
      "text/plain": [
       "             0\n",
       "0          FAU\n",
       "1       MRPL13\n",
       "2        RPL10\n",
       "3       RPL10A\n",
       "4       RPL10L\n",
       "..         ...\n",
       "83        RPS9\n",
       "84        RPSA\n",
       "85     RSL24D1\n",
       "86  RSL24D1P11\n",
       "87       UBA52\n",
       "\n",
       "[88 rows x 1 columns]"
      ]
     },
     "execution_count": 62,
     "metadata": {},
     "output_type": "execute_result"
    }
   ],
   "source": [
    "ribo_genes = pd.read_table(ribo_url, skiprows=2, header = None)\n",
    "ribo_genes"
   ]
  },
  {
   "cell_type": "code",
   "execution_count": 63,
   "id": "1ce5cfe5-002f-4876-ad8d-cb278369cce5",
   "metadata": {},
   "outputs": [],
   "source": [
    "adata_reMoveDoublet.var['ribo'] = adata_reMoveDoublet.var_names.isin(ribo_genes[0].values)\n"
   ]
  },
  {
   "cell_type": "code",
   "execution_count": 64,
   "id": "420f25d8-e3a3-4c66-a79e-65c8ca9e9ede",
   "metadata": {},
   "outputs": [
    {
     "data": {
      "text/html": [
       "<div>\n",
       "<style scoped>\n",
       "    .dataframe tbody tr th:only-of-type {\n",
       "        vertical-align: middle;\n",
       "    }\n",
       "\n",
       "    .dataframe tbody tr th {\n",
       "        vertical-align: top;\n",
       "    }\n",
       "\n",
       "    .dataframe thead th {\n",
       "        text-align: right;\n",
       "    }\n",
       "</style>\n",
       "<table border=\"1\" class=\"dataframe\">\n",
       "  <thead>\n",
       "    <tr style=\"text-align: right;\">\n",
       "      <th></th>\n",
       "      <th>mt</th>\n",
       "      <th>ribo</th>\n",
       "    </tr>\n",
       "  </thead>\n",
       "  <tbody>\n",
       "    <tr>\n",
       "      <th>FO538757.2</th>\n",
       "      <td>False</td>\n",
       "      <td>False</td>\n",
       "    </tr>\n",
       "    <tr>\n",
       "      <th>AP006222.2</th>\n",
       "      <td>False</td>\n",
       "      <td>False</td>\n",
       "    </tr>\n",
       "    <tr>\n",
       "      <th>RP11-206L10.9</th>\n",
       "      <td>False</td>\n",
       "      <td>False</td>\n",
       "    </tr>\n",
       "    <tr>\n",
       "      <th>LINC00115</th>\n",
       "      <td>False</td>\n",
       "      <td>False</td>\n",
       "    </tr>\n",
       "    <tr>\n",
       "      <th>FAM41C</th>\n",
       "      <td>False</td>\n",
       "      <td>False</td>\n",
       "    </tr>\n",
       "    <tr>\n",
       "      <th>...</th>\n",
       "      <td>...</td>\n",
       "      <td>...</td>\n",
       "    </tr>\n",
       "    <tr>\n",
       "      <th>AC145212.4</th>\n",
       "      <td>False</td>\n",
       "      <td>False</td>\n",
       "    </tr>\n",
       "    <tr>\n",
       "      <th>AC011043.1</th>\n",
       "      <td>False</td>\n",
       "      <td>False</td>\n",
       "    </tr>\n",
       "    <tr>\n",
       "      <th>AL592183.1</th>\n",
       "      <td>False</td>\n",
       "      <td>False</td>\n",
       "    </tr>\n",
       "    <tr>\n",
       "      <th>AC007325.4</th>\n",
       "      <td>False</td>\n",
       "      <td>False</td>\n",
       "    </tr>\n",
       "    <tr>\n",
       "      <th>AC240274.1</th>\n",
       "      <td>False</td>\n",
       "      <td>False</td>\n",
       "    </tr>\n",
       "  </tbody>\n",
       "</table>\n",
       "<p>14364 rows × 2 columns</p>\n",
       "</div>"
      ],
      "text/plain": [
       "                  mt   ribo\n",
       "FO538757.2     False  False\n",
       "AP006222.2     False  False\n",
       "RP11-206L10.9  False  False\n",
       "LINC00115      False  False\n",
       "FAM41C         False  False\n",
       "...              ...    ...\n",
       "AC145212.4     False  False\n",
       "AC011043.1     False  False\n",
       "AL592183.1     False  False\n",
       "AC007325.4     False  False\n",
       "AC240274.1     False  False\n",
       "\n",
       "[14364 rows x 2 columns]"
      ]
     },
     "execution_count": 64,
     "metadata": {},
     "output_type": "execute_result"
    }
   ],
   "source": [
    "adata_reMoveDoublet.var"
   ]
  },
  {
   "cell_type": "code",
   "execution_count": 65,
   "id": "9dec7dcd-1a39-413e-b80b-418e7ba65873",
   "metadata": {},
   "outputs": [
    {
     "data": {
      "text/html": [
       "<div>\n",
       "<style scoped>\n",
       "    .dataframe tbody tr th:only-of-type {\n",
       "        vertical-align: middle;\n",
       "    }\n",
       "\n",
       "    .dataframe tbody tr th {\n",
       "        vertical-align: top;\n",
       "    }\n",
       "\n",
       "    .dataframe thead th {\n",
       "        text-align: right;\n",
       "    }\n",
       "</style>\n",
       "<table border=\"1\" class=\"dataframe\">\n",
       "  <thead>\n",
       "    <tr style=\"text-align: right;\">\n",
       "      <th></th>\n",
       "      <th>doublet</th>\n",
       "    </tr>\n",
       "  </thead>\n",
       "  <tbody>\n",
       "    <tr>\n",
       "      <th>AAACCTGCATGTAAGA</th>\n",
       "      <td>False</td>\n",
       "    </tr>\n",
       "    <tr>\n",
       "      <th>AAACCTGGTGTGACGA</th>\n",
       "      <td>False</td>\n",
       "    </tr>\n",
       "    <tr>\n",
       "      <th>AAACGGGAGGCTACGA</th>\n",
       "      <td>False</td>\n",
       "    </tr>\n",
       "    <tr>\n",
       "      <th>AAACGGGTCTTGTTTG</th>\n",
       "      <td>False</td>\n",
       "    </tr>\n",
       "    <tr>\n",
       "      <th>AAAGATGGTCAGAGGT</th>\n",
       "      <td>False</td>\n",
       "    </tr>\n",
       "    <tr>\n",
       "      <th>...</th>\n",
       "      <td>...</td>\n",
       "    </tr>\n",
       "    <tr>\n",
       "      <th>TTTGCGCTCCTAGTGA</th>\n",
       "      <td>False</td>\n",
       "    </tr>\n",
       "    <tr>\n",
       "      <th>TTTGGTTAGGGCTTGA</th>\n",
       "      <td>False</td>\n",
       "    </tr>\n",
       "    <tr>\n",
       "      <th>TTTGGTTGTGAGTGAC</th>\n",
       "      <td>False</td>\n",
       "    </tr>\n",
       "    <tr>\n",
       "      <th>TTTGTCAAGATGTCGG</th>\n",
       "      <td>False</td>\n",
       "    </tr>\n",
       "    <tr>\n",
       "      <th>TTTGTCATCTTCGAGA</th>\n",
       "      <td>False</td>\n",
       "    </tr>\n",
       "  </tbody>\n",
       "</table>\n",
       "<p>907 rows × 1 columns</p>\n",
       "</div>"
      ],
      "text/plain": [
       "                  doublet\n",
       "AAACCTGCATGTAAGA    False\n",
       "AAACCTGGTGTGACGA    False\n",
       "AAACGGGAGGCTACGA    False\n",
       "AAACGGGTCTTGTTTG    False\n",
       "AAAGATGGTCAGAGGT    False\n",
       "...                   ...\n",
       "TTTGCGCTCCTAGTGA    False\n",
       "TTTGGTTAGGGCTTGA    False\n",
       "TTTGGTTGTGAGTGAC    False\n",
       "TTTGTCAAGATGTCGG    False\n",
       "TTTGTCATCTTCGAGA    False\n",
       "\n",
       "[907 rows x 1 columns]"
      ]
     },
     "execution_count": 65,
     "metadata": {},
     "output_type": "execute_result"
    }
   ],
   "source": [
    "adata_reMoveDoublet.obs"
   ]
  },
  {
   "cell_type": "code",
   "execution_count": 66,
   "id": "48f5074b-186e-4fa9-94c7-b6e86dd761c1",
   "metadata": {},
   "outputs": [],
   "source": [
    "sc.pp.calculate_qc_metrics(adata_reMoveDoublet, qc_vars=['mt', 'ribo'], percent_top=None, log1p=False, inplace=True) #callacular qc matrix\n"
   ]
  },
  {
   "cell_type": "code",
   "execution_count": 67,
   "id": "acbf0355-2b03-4c65-87ca-482ca7705c68",
   "metadata": {},
   "outputs": [
    {
     "data": {
      "text/html": [
       "<div>\n",
       "<style scoped>\n",
       "    .dataframe tbody tr th:only-of-type {\n",
       "        vertical-align: middle;\n",
       "    }\n",
       "\n",
       "    .dataframe tbody tr th {\n",
       "        vertical-align: top;\n",
       "    }\n",
       "\n",
       "    .dataframe thead th {\n",
       "        text-align: right;\n",
       "    }\n",
       "</style>\n",
       "<table border=\"1\" class=\"dataframe\">\n",
       "  <thead>\n",
       "    <tr style=\"text-align: right;\">\n",
       "      <th></th>\n",
       "      <th>mt</th>\n",
       "      <th>ribo</th>\n",
       "      <th>n_cells_by_counts</th>\n",
       "      <th>mean_counts</th>\n",
       "      <th>pct_dropout_by_counts</th>\n",
       "      <th>total_counts</th>\n",
       "    </tr>\n",
       "  </thead>\n",
       "  <tbody>\n",
       "    <tr>\n",
       "      <th>CERS3-AS1</th>\n",
       "      <td>False</td>\n",
       "      <td>False</td>\n",
       "      <td>0</td>\n",
       "      <td>0.000000</td>\n",
       "      <td>100.000000</td>\n",
       "      <td>0.0</td>\n",
       "    </tr>\n",
       "    <tr>\n",
       "      <th>ASGR2</th>\n",
       "      <td>False</td>\n",
       "      <td>False</td>\n",
       "      <td>1</td>\n",
       "      <td>0.001103</td>\n",
       "      <td>99.889746</td>\n",
       "      <td>1.0</td>\n",
       "    </tr>\n",
       "    <tr>\n",
       "      <th>AFF3</th>\n",
       "      <td>False</td>\n",
       "      <td>False</td>\n",
       "      <td>1</td>\n",
       "      <td>0.001103</td>\n",
       "      <td>99.889746</td>\n",
       "      <td>1.0</td>\n",
       "    </tr>\n",
       "    <tr>\n",
       "      <th>RP3-324O17.8</th>\n",
       "      <td>False</td>\n",
       "      <td>False</td>\n",
       "      <td>1</td>\n",
       "      <td>0.001103</td>\n",
       "      <td>99.889746</td>\n",
       "      <td>1.0</td>\n",
       "    </tr>\n",
       "    <tr>\n",
       "      <th>RP11-97C16.1</th>\n",
       "      <td>False</td>\n",
       "      <td>False</td>\n",
       "      <td>1</td>\n",
       "      <td>0.001103</td>\n",
       "      <td>99.889746</td>\n",
       "      <td>1.0</td>\n",
       "    </tr>\n",
       "    <tr>\n",
       "      <th>...</th>\n",
       "      <td>...</td>\n",
       "      <td>...</td>\n",
       "      <td>...</td>\n",
       "      <td>...</td>\n",
       "      <td>...</td>\n",
       "      <td>...</td>\n",
       "    </tr>\n",
       "    <tr>\n",
       "      <th>RPL13</th>\n",
       "      <td>False</td>\n",
       "      <td>True</td>\n",
       "      <td>905</td>\n",
       "      <td>13.426682</td>\n",
       "      <td>0.220507</td>\n",
       "      <td>12178.0</td>\n",
       "    </tr>\n",
       "    <tr>\n",
       "      <th>B2M</th>\n",
       "      <td>False</td>\n",
       "      <td>False</td>\n",
       "      <td>905</td>\n",
       "      <td>20.595369</td>\n",
       "      <td>0.220507</td>\n",
       "      <td>18680.0</td>\n",
       "    </tr>\n",
       "    <tr>\n",
       "      <th>MALAT1</th>\n",
       "      <td>False</td>\n",
       "      <td>False</td>\n",
       "      <td>906</td>\n",
       "      <td>93.403526</td>\n",
       "      <td>0.110254</td>\n",
       "      <td>84717.0</td>\n",
       "    </tr>\n",
       "    <tr>\n",
       "      <th>RPL10</th>\n",
       "      <td>False</td>\n",
       "      <td>True</td>\n",
       "      <td>906</td>\n",
       "      <td>21.512680</td>\n",
       "      <td>0.110254</td>\n",
       "      <td>19512.0</td>\n",
       "    </tr>\n",
       "    <tr>\n",
       "      <th>TMSB4X</th>\n",
       "      <td>False</td>\n",
       "      <td>False</td>\n",
       "      <td>907</td>\n",
       "      <td>40.515987</td>\n",
       "      <td>0.000000</td>\n",
       "      <td>36748.0</td>\n",
       "    </tr>\n",
       "  </tbody>\n",
       "</table>\n",
       "<p>14364 rows × 6 columns</p>\n",
       "</div>"
      ],
      "text/plain": [
       "                 mt   ribo  n_cells_by_counts  mean_counts  \\\n",
       "CERS3-AS1     False  False                  0     0.000000   \n",
       "ASGR2         False  False                  1     0.001103   \n",
       "AFF3          False  False                  1     0.001103   \n",
       "RP3-324O17.8  False  False                  1     0.001103   \n",
       "RP11-97C16.1  False  False                  1     0.001103   \n",
       "...             ...    ...                ...          ...   \n",
       "RPL13         False   True                905    13.426682   \n",
       "B2M           False  False                905    20.595369   \n",
       "MALAT1        False  False                906    93.403526   \n",
       "RPL10         False   True                906    21.512680   \n",
       "TMSB4X        False  False                907    40.515987   \n",
       "\n",
       "              pct_dropout_by_counts  total_counts  \n",
       "CERS3-AS1                100.000000           0.0  \n",
       "ASGR2                     99.889746           1.0  \n",
       "AFF3                      99.889746           1.0  \n",
       "RP3-324O17.8              99.889746           1.0  \n",
       "RP11-97C16.1              99.889746           1.0  \n",
       "...                             ...           ...  \n",
       "RPL13                      0.220507       12178.0  \n",
       "B2M                        0.220507       18680.0  \n",
       "MALAT1                     0.110254       84717.0  \n",
       "RPL10                      0.110254       19512.0  \n",
       "TMSB4X                     0.000000       36748.0  \n",
       "\n",
       "[14364 rows x 6 columns]"
      ]
     },
     "execution_count": 67,
     "metadata": {},
     "output_type": "execute_result"
    }
   ],
   "source": [
    "adata_reMoveDoublet.var.sort_values('n_cells_by_counts')"
   ]
  },
  {
   "cell_type": "code",
   "execution_count": 68,
   "id": "0cd20e70-ac9a-4797-8f72-bacffe5e7735",
   "metadata": {},
   "outputs": [
    {
     "data": {
      "text/html": [
       "<div>\n",
       "<style scoped>\n",
       "    .dataframe tbody tr th:only-of-type {\n",
       "        vertical-align: middle;\n",
       "    }\n",
       "\n",
       "    .dataframe tbody tr th {\n",
       "        vertical-align: top;\n",
       "    }\n",
       "\n",
       "    .dataframe thead th {\n",
       "        text-align: right;\n",
       "    }\n",
       "</style>\n",
       "<table border=\"1\" class=\"dataframe\">\n",
       "  <thead>\n",
       "    <tr style=\"text-align: right;\">\n",
       "      <th></th>\n",
       "      <th>doublet</th>\n",
       "      <th>n_genes_by_counts</th>\n",
       "      <th>total_counts</th>\n",
       "      <th>total_counts_mt</th>\n",
       "      <th>pct_counts_mt</th>\n",
       "      <th>total_counts_ribo</th>\n",
       "      <th>pct_counts_ribo</th>\n",
       "    </tr>\n",
       "  </thead>\n",
       "  <tbody>\n",
       "    <tr>\n",
       "      <th>AAACCTGCATGTAAGA</th>\n",
       "      <td>False</td>\n",
       "      <td>1109</td>\n",
       "      <td>2493.0</td>\n",
       "      <td>138.0</td>\n",
       "      <td>5.535500</td>\n",
       "      <td>575.0</td>\n",
       "      <td>23.064581</td>\n",
       "    </tr>\n",
       "    <tr>\n",
       "      <th>AAACCTGGTGTGACGA</th>\n",
       "      <td>False</td>\n",
       "      <td>832</td>\n",
       "      <td>1487.0</td>\n",
       "      <td>52.0</td>\n",
       "      <td>3.496974</td>\n",
       "      <td>297.0</td>\n",
       "      <td>19.973101</td>\n",
       "    </tr>\n",
       "    <tr>\n",
       "      <th>AAACGGGAGGCTACGA</th>\n",
       "      <td>False</td>\n",
       "      <td>2730</td>\n",
       "      <td>9072.0</td>\n",
       "      <td>142.0</td>\n",
       "      <td>1.565256</td>\n",
       "      <td>1387.0</td>\n",
       "      <td>15.288800</td>\n",
       "    </tr>\n",
       "    <tr>\n",
       "      <th>AAACGGGTCTTGTTTG</th>\n",
       "      <td>False</td>\n",
       "      <td>1501</td>\n",
       "      <td>3134.0</td>\n",
       "      <td>59.0</td>\n",
       "      <td>1.882578</td>\n",
       "      <td>772.0</td>\n",
       "      <td>24.633057</td>\n",
       "    </tr>\n",
       "    <tr>\n",
       "      <th>AAAGATGGTCAGAGGT</th>\n",
       "      <td>False</td>\n",
       "      <td>1078</td>\n",
       "      <td>2467.0</td>\n",
       "      <td>30.0</td>\n",
       "      <td>1.216052</td>\n",
       "      <td>523.0</td>\n",
       "      <td>21.199837</td>\n",
       "    </tr>\n",
       "    <tr>\n",
       "      <th>...</th>\n",
       "      <td>...</td>\n",
       "      <td>...</td>\n",
       "      <td>...</td>\n",
       "      <td>...</td>\n",
       "      <td>...</td>\n",
       "      <td>...</td>\n",
       "      <td>...</td>\n",
       "    </tr>\n",
       "    <tr>\n",
       "      <th>TTTGCGCTCCTAGTGA</th>\n",
       "      <td>False</td>\n",
       "      <td>1006</td>\n",
       "      <td>1939.0</td>\n",
       "      <td>28.0</td>\n",
       "      <td>1.444043</td>\n",
       "      <td>507.0</td>\n",
       "      <td>26.147499</td>\n",
       "    </tr>\n",
       "    <tr>\n",
       "      <th>TTTGGTTAGGGCTTGA</th>\n",
       "      <td>False</td>\n",
       "      <td>1329</td>\n",
       "      <td>2816.0</td>\n",
       "      <td>34.0</td>\n",
       "      <td>1.207386</td>\n",
       "      <td>583.0</td>\n",
       "      <td>20.703125</td>\n",
       "    </tr>\n",
       "    <tr>\n",
       "      <th>TTTGGTTGTGAGTGAC</th>\n",
       "      <td>False</td>\n",
       "      <td>709</td>\n",
       "      <td>1193.0</td>\n",
       "      <td>24.0</td>\n",
       "      <td>2.011735</td>\n",
       "      <td>199.0</td>\n",
       "      <td>16.680637</td>\n",
       "    </tr>\n",
       "    <tr>\n",
       "      <th>TTTGTCAAGATGTCGG</th>\n",
       "      <td>False</td>\n",
       "      <td>1537</td>\n",
       "      <td>3629.0</td>\n",
       "      <td>64.0</td>\n",
       "      <td>1.763571</td>\n",
       "      <td>693.0</td>\n",
       "      <td>19.096170</td>\n",
       "    </tr>\n",
       "    <tr>\n",
       "      <th>TTTGTCATCTTCGAGA</th>\n",
       "      <td>False</td>\n",
       "      <td>1790</td>\n",
       "      <td>5028.0</td>\n",
       "      <td>79.0</td>\n",
       "      <td>1.571201</td>\n",
       "      <td>831.0</td>\n",
       "      <td>16.527445</td>\n",
       "    </tr>\n",
       "  </tbody>\n",
       "</table>\n",
       "<p>907 rows × 7 columns</p>\n",
       "</div>"
      ],
      "text/plain": [
       "                  doublet  n_genes_by_counts  total_counts  total_counts_mt  \\\n",
       "AAACCTGCATGTAAGA    False               1109        2493.0            138.0   \n",
       "AAACCTGGTGTGACGA    False                832        1487.0             52.0   \n",
       "AAACGGGAGGCTACGA    False               2730        9072.0            142.0   \n",
       "AAACGGGTCTTGTTTG    False               1501        3134.0             59.0   \n",
       "AAAGATGGTCAGAGGT    False               1078        2467.0             30.0   \n",
       "...                   ...                ...           ...              ...   \n",
       "TTTGCGCTCCTAGTGA    False               1006        1939.0             28.0   \n",
       "TTTGGTTAGGGCTTGA    False               1329        2816.0             34.0   \n",
       "TTTGGTTGTGAGTGAC    False                709        1193.0             24.0   \n",
       "TTTGTCAAGATGTCGG    False               1537        3629.0             64.0   \n",
       "TTTGTCATCTTCGAGA    False               1790        5028.0             79.0   \n",
       "\n",
       "                  pct_counts_mt  total_counts_ribo  pct_counts_ribo  \n",
       "AAACCTGCATGTAAGA       5.535500              575.0        23.064581  \n",
       "AAACCTGGTGTGACGA       3.496974              297.0        19.973101  \n",
       "AAACGGGAGGCTACGA       1.565256             1387.0        15.288800  \n",
       "AAACGGGTCTTGTTTG       1.882578              772.0        24.633057  \n",
       "AAAGATGGTCAGAGGT       1.216052              523.0        21.199837  \n",
       "...                         ...                ...              ...  \n",
       "TTTGCGCTCCTAGTGA       1.444043              507.0        26.147499  \n",
       "TTTGGTTAGGGCTTGA       1.207386              583.0        20.703125  \n",
       "TTTGGTTGTGAGTGAC       2.011735              199.0        16.680637  \n",
       "TTTGTCAAGATGTCGG       1.763571              693.0        19.096170  \n",
       "TTTGTCATCTTCGAGA       1.571201              831.0        16.527445  \n",
       "\n",
       "[907 rows x 7 columns]"
      ]
     },
     "execution_count": 68,
     "metadata": {},
     "output_type": "execute_result"
    }
   ],
   "source": [
    "adata_reMoveDoublet.obs"
   ]
  },
  {
   "cell_type": "code",
   "execution_count": 69,
   "id": "ec1cbe03-2c95-48bc-8121-39dd6288596e",
   "metadata": {},
   "outputs": [
    {
     "name": "stderr",
     "output_type": "stream",
     "text": [
      "/data1/tools/anaconda3/envs/zennaenv/lib/python3.9/site-packages/anndata/_core/anndata.py:1113: FutureWarning: is_categorical_dtype is deprecated and will be removed in a future version. Use isinstance(dtype, CategoricalDtype) instead\n",
      "  if not is_categorical_dtype(df_full[k]):\n"
     ]
    }
   ],
   "source": [
    "sc.pp.filter_genes(adata_reMoveDoublet, min_cells=3)"
   ]
  },
  {
   "cell_type": "code",
   "execution_count": 70,
   "id": "5c17ba23-0dfd-4292-b9d6-02c95a0d1bd1",
   "metadata": {},
   "outputs": [
    {
     "data": {
      "text/html": [
       "<div>\n",
       "<style scoped>\n",
       "    .dataframe tbody tr th:only-of-type {\n",
       "        vertical-align: middle;\n",
       "    }\n",
       "\n",
       "    .dataframe tbody tr th {\n",
       "        vertical-align: top;\n",
       "    }\n",
       "\n",
       "    .dataframe thead th {\n",
       "        text-align: right;\n",
       "    }\n",
       "</style>\n",
       "<table border=\"1\" class=\"dataframe\">\n",
       "  <thead>\n",
       "    <tr style=\"text-align: right;\">\n",
       "      <th></th>\n",
       "      <th>doublet</th>\n",
       "      <th>n_genes_by_counts</th>\n",
       "      <th>total_counts</th>\n",
       "      <th>total_counts_mt</th>\n",
       "      <th>pct_counts_mt</th>\n",
       "      <th>total_counts_ribo</th>\n",
       "      <th>pct_counts_ribo</th>\n",
       "    </tr>\n",
       "  </thead>\n",
       "  <tbody>\n",
       "    <tr>\n",
       "      <th>AAACCTGCATGTAAGA</th>\n",
       "      <td>False</td>\n",
       "      <td>1109</td>\n",
       "      <td>2493.0</td>\n",
       "      <td>138.0</td>\n",
       "      <td>5.535500</td>\n",
       "      <td>575.0</td>\n",
       "      <td>23.064581</td>\n",
       "    </tr>\n",
       "    <tr>\n",
       "      <th>AAACCTGGTGTGACGA</th>\n",
       "      <td>False</td>\n",
       "      <td>832</td>\n",
       "      <td>1487.0</td>\n",
       "      <td>52.0</td>\n",
       "      <td>3.496974</td>\n",
       "      <td>297.0</td>\n",
       "      <td>19.973101</td>\n",
       "    </tr>\n",
       "    <tr>\n",
       "      <th>AAACGGGAGGCTACGA</th>\n",
       "      <td>False</td>\n",
       "      <td>2730</td>\n",
       "      <td>9072.0</td>\n",
       "      <td>142.0</td>\n",
       "      <td>1.565256</td>\n",
       "      <td>1387.0</td>\n",
       "      <td>15.288800</td>\n",
       "    </tr>\n",
       "    <tr>\n",
       "      <th>AAACGGGTCTTGTTTG</th>\n",
       "      <td>False</td>\n",
       "      <td>1501</td>\n",
       "      <td>3134.0</td>\n",
       "      <td>59.0</td>\n",
       "      <td>1.882578</td>\n",
       "      <td>772.0</td>\n",
       "      <td>24.633057</td>\n",
       "    </tr>\n",
       "    <tr>\n",
       "      <th>AAAGATGGTCAGAGGT</th>\n",
       "      <td>False</td>\n",
       "      <td>1078</td>\n",
       "      <td>2467.0</td>\n",
       "      <td>30.0</td>\n",
       "      <td>1.216052</td>\n",
       "      <td>523.0</td>\n",
       "      <td>21.199837</td>\n",
       "    </tr>\n",
       "    <tr>\n",
       "      <th>...</th>\n",
       "      <td>...</td>\n",
       "      <td>...</td>\n",
       "      <td>...</td>\n",
       "      <td>...</td>\n",
       "      <td>...</td>\n",
       "      <td>...</td>\n",
       "      <td>...</td>\n",
       "    </tr>\n",
       "    <tr>\n",
       "      <th>TTTGCGCTCCTAGTGA</th>\n",
       "      <td>False</td>\n",
       "      <td>1006</td>\n",
       "      <td>1939.0</td>\n",
       "      <td>28.0</td>\n",
       "      <td>1.444043</td>\n",
       "      <td>507.0</td>\n",
       "      <td>26.147499</td>\n",
       "    </tr>\n",
       "    <tr>\n",
       "      <th>TTTGGTTAGGGCTTGA</th>\n",
       "      <td>False</td>\n",
       "      <td>1329</td>\n",
       "      <td>2816.0</td>\n",
       "      <td>34.0</td>\n",
       "      <td>1.207386</td>\n",
       "      <td>583.0</td>\n",
       "      <td>20.703125</td>\n",
       "    </tr>\n",
       "    <tr>\n",
       "      <th>TTTGGTTGTGAGTGAC</th>\n",
       "      <td>False</td>\n",
       "      <td>709</td>\n",
       "      <td>1193.0</td>\n",
       "      <td>24.0</td>\n",
       "      <td>2.011735</td>\n",
       "      <td>199.0</td>\n",
       "      <td>16.680637</td>\n",
       "    </tr>\n",
       "    <tr>\n",
       "      <th>TTTGTCAAGATGTCGG</th>\n",
       "      <td>False</td>\n",
       "      <td>1537</td>\n",
       "      <td>3629.0</td>\n",
       "      <td>64.0</td>\n",
       "      <td>1.763571</td>\n",
       "      <td>693.0</td>\n",
       "      <td>19.096170</td>\n",
       "    </tr>\n",
       "    <tr>\n",
       "      <th>TTTGTCATCTTCGAGA</th>\n",
       "      <td>False</td>\n",
       "      <td>1790</td>\n",
       "      <td>5028.0</td>\n",
       "      <td>79.0</td>\n",
       "      <td>1.571201</td>\n",
       "      <td>831.0</td>\n",
       "      <td>16.527445</td>\n",
       "    </tr>\n",
       "  </tbody>\n",
       "</table>\n",
       "<p>907 rows × 7 columns</p>\n",
       "</div>"
      ],
      "text/plain": [
       "                  doublet  n_genes_by_counts  total_counts  total_counts_mt  \\\n",
       "AAACCTGCATGTAAGA    False               1109        2493.0            138.0   \n",
       "AAACCTGGTGTGACGA    False                832        1487.0             52.0   \n",
       "AAACGGGAGGCTACGA    False               2730        9072.0            142.0   \n",
       "AAACGGGTCTTGTTTG    False               1501        3134.0             59.0   \n",
       "AAAGATGGTCAGAGGT    False               1078        2467.0             30.0   \n",
       "...                   ...                ...           ...              ...   \n",
       "TTTGCGCTCCTAGTGA    False               1006        1939.0             28.0   \n",
       "TTTGGTTAGGGCTTGA    False               1329        2816.0             34.0   \n",
       "TTTGGTTGTGAGTGAC    False                709        1193.0             24.0   \n",
       "TTTGTCAAGATGTCGG    False               1537        3629.0             64.0   \n",
       "TTTGTCATCTTCGAGA    False               1790        5028.0             79.0   \n",
       "\n",
       "                  pct_counts_mt  total_counts_ribo  pct_counts_ribo  \n",
       "AAACCTGCATGTAAGA       5.535500              575.0        23.064581  \n",
       "AAACCTGGTGTGACGA       3.496974              297.0        19.973101  \n",
       "AAACGGGAGGCTACGA       1.565256             1387.0        15.288800  \n",
       "AAACGGGTCTTGTTTG       1.882578              772.0        24.633057  \n",
       "AAAGATGGTCAGAGGT       1.216052              523.0        21.199837  \n",
       "...                         ...                ...              ...  \n",
       "TTTGCGCTCCTAGTGA       1.444043              507.0        26.147499  \n",
       "TTTGGTTAGGGCTTGA       1.207386              583.0        20.703125  \n",
       "TTTGGTTGTGAGTGAC       2.011735              199.0        16.680637  \n",
       "TTTGTCAAGATGTCGG       1.763571              693.0        19.096170  \n",
       "TTTGTCATCTTCGAGA       1.571201              831.0        16.527445  \n",
       "\n",
       "[907 rows x 7 columns]"
      ]
     },
     "execution_count": 70,
     "metadata": {},
     "output_type": "execute_result"
    }
   ],
   "source": [
    "adata_reMoveDoublet.obs"
   ]
  },
  {
   "cell_type": "code",
   "execution_count": 71,
   "id": "9a3f50cc-b4dc-4cdb-9533-d40a75098972",
   "metadata": {},
   "outputs": [
    {
     "data": {
      "text/html": [
       "<div>\n",
       "<style scoped>\n",
       "    .dataframe tbody tr th:only-of-type {\n",
       "        vertical-align: middle;\n",
       "    }\n",
       "\n",
       "    .dataframe tbody tr th {\n",
       "        vertical-align: top;\n",
       "    }\n",
       "\n",
       "    .dataframe thead th {\n",
       "        text-align: right;\n",
       "    }\n",
       "</style>\n",
       "<table border=\"1\" class=\"dataframe\">\n",
       "  <thead>\n",
       "    <tr style=\"text-align: right;\">\n",
       "      <th></th>\n",
       "      <th>mt</th>\n",
       "      <th>ribo</th>\n",
       "      <th>n_cells_by_counts</th>\n",
       "      <th>mean_counts</th>\n",
       "      <th>pct_dropout_by_counts</th>\n",
       "      <th>total_counts</th>\n",
       "      <th>n_cells</th>\n",
       "    </tr>\n",
       "  </thead>\n",
       "  <tbody>\n",
       "    <tr>\n",
       "      <th>AC240274.1</th>\n",
       "      <td>False</td>\n",
       "      <td>False</td>\n",
       "      <td>3</td>\n",
       "      <td>0.003308</td>\n",
       "      <td>99.669239</td>\n",
       "      <td>3.0</td>\n",
       "      <td>3</td>\n",
       "    </tr>\n",
       "    <tr>\n",
       "      <th>RP11-227G15.8</th>\n",
       "      <td>False</td>\n",
       "      <td>False</td>\n",
       "      <td>3</td>\n",
       "      <td>0.003308</td>\n",
       "      <td>99.669239</td>\n",
       "      <td>3.0</td>\n",
       "      <td>3</td>\n",
       "    </tr>\n",
       "    <tr>\n",
       "      <th>RP11-227G15.11</th>\n",
       "      <td>False</td>\n",
       "      <td>False</td>\n",
       "      <td>3</td>\n",
       "      <td>0.003308</td>\n",
       "      <td>99.669239</td>\n",
       "      <td>3.0</td>\n",
       "      <td>3</td>\n",
       "    </tr>\n",
       "    <tr>\n",
       "      <th>PCDHGA11</th>\n",
       "      <td>False</td>\n",
       "      <td>False</td>\n",
       "      <td>3</td>\n",
       "      <td>0.003308</td>\n",
       "      <td>99.669239</td>\n",
       "      <td>3.0</td>\n",
       "      <td>3</td>\n",
       "    </tr>\n",
       "    <tr>\n",
       "      <th>DHH</th>\n",
       "      <td>False</td>\n",
       "      <td>False</td>\n",
       "      <td>3</td>\n",
       "      <td>0.003308</td>\n",
       "      <td>99.669239</td>\n",
       "      <td>3.0</td>\n",
       "      <td>3</td>\n",
       "    </tr>\n",
       "    <tr>\n",
       "      <th>...</th>\n",
       "      <td>...</td>\n",
       "      <td>...</td>\n",
       "      <td>...</td>\n",
       "      <td>...</td>\n",
       "      <td>...</td>\n",
       "      <td>...</td>\n",
       "      <td>...</td>\n",
       "    </tr>\n",
       "    <tr>\n",
       "      <th>RPL13</th>\n",
       "      <td>False</td>\n",
       "      <td>True</td>\n",
       "      <td>905</td>\n",
       "      <td>13.426682</td>\n",
       "      <td>0.220507</td>\n",
       "      <td>12178.0</td>\n",
       "      <td>905</td>\n",
       "    </tr>\n",
       "    <tr>\n",
       "      <th>B2M</th>\n",
       "      <td>False</td>\n",
       "      <td>False</td>\n",
       "      <td>905</td>\n",
       "      <td>20.595369</td>\n",
       "      <td>0.220507</td>\n",
       "      <td>18680.0</td>\n",
       "      <td>905</td>\n",
       "    </tr>\n",
       "    <tr>\n",
       "      <th>RPL10</th>\n",
       "      <td>False</td>\n",
       "      <td>True</td>\n",
       "      <td>906</td>\n",
       "      <td>21.512680</td>\n",
       "      <td>0.110254</td>\n",
       "      <td>19512.0</td>\n",
       "      <td>906</td>\n",
       "    </tr>\n",
       "    <tr>\n",
       "      <th>MALAT1</th>\n",
       "      <td>False</td>\n",
       "      <td>False</td>\n",
       "      <td>906</td>\n",
       "      <td>93.403526</td>\n",
       "      <td>0.110254</td>\n",
       "      <td>84717.0</td>\n",
       "      <td>906</td>\n",
       "    </tr>\n",
       "    <tr>\n",
       "      <th>TMSB4X</th>\n",
       "      <td>False</td>\n",
       "      <td>False</td>\n",
       "      <td>907</td>\n",
       "      <td>40.515987</td>\n",
       "      <td>0.000000</td>\n",
       "      <td>36748.0</td>\n",
       "      <td>907</td>\n",
       "    </tr>\n",
       "  </tbody>\n",
       "</table>\n",
       "<p>14003 rows × 7 columns</p>\n",
       "</div>"
      ],
      "text/plain": [
       "                   mt   ribo  n_cells_by_counts  mean_counts  \\\n",
       "AC240274.1      False  False                  3     0.003308   \n",
       "RP11-227G15.8   False  False                  3     0.003308   \n",
       "RP11-227G15.11  False  False                  3     0.003308   \n",
       "PCDHGA11        False  False                  3     0.003308   \n",
       "DHH             False  False                  3     0.003308   \n",
       "...               ...    ...                ...          ...   \n",
       "RPL13           False   True                905    13.426682   \n",
       "B2M             False  False                905    20.595369   \n",
       "RPL10           False   True                906    21.512680   \n",
       "MALAT1          False  False                906    93.403526   \n",
       "TMSB4X          False  False                907    40.515987   \n",
       "\n",
       "                pct_dropout_by_counts  total_counts  n_cells  \n",
       "AC240274.1                  99.669239           3.0        3  \n",
       "RP11-227G15.8               99.669239           3.0        3  \n",
       "RP11-227G15.11              99.669239           3.0        3  \n",
       "PCDHGA11                    99.669239           3.0        3  \n",
       "DHH                         99.669239           3.0        3  \n",
       "...                               ...           ...      ...  \n",
       "RPL13                        0.220507       12178.0      905  \n",
       "B2M                          0.220507       18680.0      905  \n",
       "RPL10                        0.110254       19512.0      906  \n",
       "MALAT1                       0.110254       84717.0      906  \n",
       "TMSB4X                       0.000000       36748.0      907  \n",
       "\n",
       "[14003 rows x 7 columns]"
      ]
     },
     "execution_count": 71,
     "metadata": {},
     "output_type": "execute_result"
    }
   ],
   "source": [
    "adata_reMoveDoublet.var.sort_values('n_cells_by_counts')\n",
    "# adata_reMoveDoublet.obs.sort_values('pct_counts_ribo')"
   ]
  },
  {
   "cell_type": "code",
   "execution_count": 72,
   "id": "5374dbb7-d72b-4070-a80e-2a79e20faedc",
   "metadata": {},
   "outputs": [
    {
     "data": {
      "text/html": [
       "<div>\n",
       "<style scoped>\n",
       "    .dataframe tbody tr th:only-of-type {\n",
       "        vertical-align: middle;\n",
       "    }\n",
       "\n",
       "    .dataframe tbody tr th {\n",
       "        vertical-align: top;\n",
       "    }\n",
       "\n",
       "    .dataframe thead th {\n",
       "        text-align: right;\n",
       "    }\n",
       "</style>\n",
       "<table border=\"1\" class=\"dataframe\">\n",
       "  <thead>\n",
       "    <tr style=\"text-align: right;\">\n",
       "      <th></th>\n",
       "      <th>doublet</th>\n",
       "      <th>n_genes_by_counts</th>\n",
       "      <th>total_counts</th>\n",
       "      <th>total_counts_mt</th>\n",
       "      <th>pct_counts_mt</th>\n",
       "      <th>total_counts_ribo</th>\n",
       "      <th>pct_counts_ribo</th>\n",
       "    </tr>\n",
       "  </thead>\n",
       "  <tbody>\n",
       "    <tr>\n",
       "      <th>TCAGGTATCATCGGAT</th>\n",
       "      <td>False</td>\n",
       "      <td>520</td>\n",
       "      <td>956.0</td>\n",
       "      <td>17.0</td>\n",
       "      <td>1.778243</td>\n",
       "      <td>104.0</td>\n",
       "      <td>10.878661</td>\n",
       "    </tr>\n",
       "    <tr>\n",
       "      <th>CCTATTACAGCCAGAA</th>\n",
       "      <td>False</td>\n",
       "      <td>556</td>\n",
       "      <td>956.0</td>\n",
       "      <td>13.0</td>\n",
       "      <td>1.359833</td>\n",
       "      <td>196.0</td>\n",
       "      <td>20.502092</td>\n",
       "    </tr>\n",
       "    <tr>\n",
       "      <th>CACATTTAGAGCTTCT</th>\n",
       "      <td>False</td>\n",
       "      <td>483</td>\n",
       "      <td>956.0</td>\n",
       "      <td>23.0</td>\n",
       "      <td>2.405858</td>\n",
       "      <td>131.0</td>\n",
       "      <td>13.702929</td>\n",
       "    </tr>\n",
       "    <tr>\n",
       "      <th>TTCTACACAGCCTTGG</th>\n",
       "      <td>False</td>\n",
       "      <td>534</td>\n",
       "      <td>957.0</td>\n",
       "      <td>27.0</td>\n",
       "      <td>2.821316</td>\n",
       "      <td>238.0</td>\n",
       "      <td>24.869385</td>\n",
       "    </tr>\n",
       "    <tr>\n",
       "      <th>AGGGAGTAGGACAGCT</th>\n",
       "      <td>False</td>\n",
       "      <td>516</td>\n",
       "      <td>958.0</td>\n",
       "      <td>96.0</td>\n",
       "      <td>10.020877</td>\n",
       "      <td>91.0</td>\n",
       "      <td>9.498956</td>\n",
       "    </tr>\n",
       "    <tr>\n",
       "      <th>...</th>\n",
       "      <td>...</td>\n",
       "      <td>...</td>\n",
       "      <td>...</td>\n",
       "      <td>...</td>\n",
       "      <td>...</td>\n",
       "      <td>...</td>\n",
       "      <td>...</td>\n",
       "    </tr>\n",
       "    <tr>\n",
       "      <th>GTGCGGTCACTTAAGC</th>\n",
       "      <td>False</td>\n",
       "      <td>3350</td>\n",
       "      <td>11050.0</td>\n",
       "      <td>88.0</td>\n",
       "      <td>0.796380</td>\n",
       "      <td>2176.0</td>\n",
       "      <td>19.692308</td>\n",
       "    </tr>\n",
       "    <tr>\n",
       "      <th>CATCAGACAGGGATTG</th>\n",
       "      <td>False</td>\n",
       "      <td>3061</td>\n",
       "      <td>11436.0</td>\n",
       "      <td>227.0</td>\n",
       "      <td>1.984960</td>\n",
       "      <td>2871.0</td>\n",
       "      <td>25.104931</td>\n",
       "    </tr>\n",
       "    <tr>\n",
       "      <th>GCAAACTGTCGTGGCT</th>\n",
       "      <td>False</td>\n",
       "      <td>3172</td>\n",
       "      <td>12358.0</td>\n",
       "      <td>177.0</td>\n",
       "      <td>1.432271</td>\n",
       "      <td>2402.0</td>\n",
       "      <td>19.436802</td>\n",
       "    </tr>\n",
       "    <tr>\n",
       "      <th>TCTTTCCCACGCTTTC</th>\n",
       "      <td>False</td>\n",
       "      <td>3346</td>\n",
       "      <td>12611.0</td>\n",
       "      <td>251.0</td>\n",
       "      <td>1.990326</td>\n",
       "      <td>2041.0</td>\n",
       "      <td>16.184284</td>\n",
       "    </tr>\n",
       "    <tr>\n",
       "      <th>TAGACCATCGCCCTTA</th>\n",
       "      <td>False</td>\n",
       "      <td>4280</td>\n",
       "      <td>16408.0</td>\n",
       "      <td>360.0</td>\n",
       "      <td>2.194052</td>\n",
       "      <td>2430.0</td>\n",
       "      <td>14.809849</td>\n",
       "    </tr>\n",
       "  </tbody>\n",
       "</table>\n",
       "<p>907 rows × 7 columns</p>\n",
       "</div>"
      ],
      "text/plain": [
       "                  doublet  n_genes_by_counts  total_counts  total_counts_mt  \\\n",
       "TCAGGTATCATCGGAT    False                520         956.0             17.0   \n",
       "CCTATTACAGCCAGAA    False                556         956.0             13.0   \n",
       "CACATTTAGAGCTTCT    False                483         956.0             23.0   \n",
       "TTCTACACAGCCTTGG    False                534         957.0             27.0   \n",
       "AGGGAGTAGGACAGCT    False                516         958.0             96.0   \n",
       "...                   ...                ...           ...              ...   \n",
       "GTGCGGTCACTTAAGC    False               3350       11050.0             88.0   \n",
       "CATCAGACAGGGATTG    False               3061       11436.0            227.0   \n",
       "GCAAACTGTCGTGGCT    False               3172       12358.0            177.0   \n",
       "TCTTTCCCACGCTTTC    False               3346       12611.0            251.0   \n",
       "TAGACCATCGCCCTTA    False               4280       16408.0            360.0   \n",
       "\n",
       "                  pct_counts_mt  total_counts_ribo  pct_counts_ribo  \n",
       "TCAGGTATCATCGGAT       1.778243              104.0        10.878661  \n",
       "CCTATTACAGCCAGAA       1.359833              196.0        20.502092  \n",
       "CACATTTAGAGCTTCT       2.405858              131.0        13.702929  \n",
       "TTCTACACAGCCTTGG       2.821316              238.0        24.869385  \n",
       "AGGGAGTAGGACAGCT      10.020877               91.0         9.498956  \n",
       "...                         ...                ...              ...  \n",
       "GTGCGGTCACTTAAGC       0.796380             2176.0        19.692308  \n",
       "CATCAGACAGGGATTG       1.984960             2871.0        25.104931  \n",
       "GCAAACTGTCGTGGCT       1.432271             2402.0        19.436802  \n",
       "TCTTTCCCACGCTTTC       1.990326             2041.0        16.184284  \n",
       "TAGACCATCGCCCTTA       2.194052             2430.0        14.809849  \n",
       "\n",
       "[907 rows x 7 columns]"
      ]
     },
     "execution_count": 72,
     "metadata": {},
     "output_type": "execute_result"
    }
   ],
   "source": [
    "adata_reMoveDoublet.obs.sort_values('total_counts')"
   ]
  },
  {
   "cell_type": "code",
   "execution_count": 73,
   "id": "ca8fc807-c5a3-4a0c-8c4f-aa30dc8f0b72",
   "metadata": {},
   "outputs": [
    {
     "name": "stderr",
     "output_type": "stream",
     "text": [
      "/data1/tools/anaconda3/envs/zennaenv/lib/python3.9/site-packages/seaborn/_oldcore.py:1498: FutureWarning: is_categorical_dtype is deprecated and will be removed in a future version. Use isinstance(dtype, CategoricalDtype) instead\n",
      "  if pd.api.types.is_categorical_dtype(vector):\n",
      "/data1/tools/anaconda3/envs/zennaenv/lib/python3.9/site-packages/seaborn/_oldcore.py:1498: FutureWarning: is_categorical_dtype is deprecated and will be removed in a future version. Use isinstance(dtype, CategoricalDtype) instead\n",
      "  if pd.api.types.is_categorical_dtype(vector):\n",
      "/data1/tools/anaconda3/envs/zennaenv/lib/python3.9/site-packages/seaborn/_oldcore.py:1498: FutureWarning: is_categorical_dtype is deprecated and will be removed in a future version. Use isinstance(dtype, CategoricalDtype) instead\n",
      "  if pd.api.types.is_categorical_dtype(vector):\n",
      "/data1/tools/anaconda3/envs/zennaenv/lib/python3.9/site-packages/seaborn/_oldcore.py:1498: FutureWarning: is_categorical_dtype is deprecated and will be removed in a future version. Use isinstance(dtype, CategoricalDtype) instead\n",
      "  if pd.api.types.is_categorical_dtype(vector):\n",
      "/data1/tools/anaconda3/envs/zennaenv/lib/python3.9/site-packages/seaborn/_oldcore.py:1498: FutureWarning: is_categorical_dtype is deprecated and will be removed in a future version. Use isinstance(dtype, CategoricalDtype) instead\n",
      "  if pd.api.types.is_categorical_dtype(vector):\n",
      "/data1/tools/anaconda3/envs/zennaenv/lib/python3.9/site-packages/seaborn/_oldcore.py:1498: FutureWarning: is_categorical_dtype is deprecated and will be removed in a future version. Use isinstance(dtype, CategoricalDtype) instead\n",
      "  if pd.api.types.is_categorical_dtype(vector):\n",
      "/data1/tools/anaconda3/envs/zennaenv/lib/python3.9/site-packages/seaborn/_oldcore.py:1498: FutureWarning: is_categorical_dtype is deprecated and will be removed in a future version. Use isinstance(dtype, CategoricalDtype) instead\n",
      "  if pd.api.types.is_categorical_dtype(vector):\n",
      "/data1/tools/anaconda3/envs/zennaenv/lib/python3.9/site-packages/seaborn/_oldcore.py:1498: FutureWarning: is_categorical_dtype is deprecated and will be removed in a future version. Use isinstance(dtype, CategoricalDtype) instead\n",
      "  if pd.api.types.is_categorical_dtype(vector):\n",
      "/data1/tools/anaconda3/envs/zennaenv/lib/python3.9/site-packages/seaborn/_oldcore.py:1498: FutureWarning: is_categorical_dtype is deprecated and will be removed in a future version. Use isinstance(dtype, CategoricalDtype) instead\n",
      "  if pd.api.types.is_categorical_dtype(vector):\n",
      "/data1/tools/anaconda3/envs/zennaenv/lib/python3.9/site-packages/seaborn/_oldcore.py:1498: FutureWarning: is_categorical_dtype is deprecated and will be removed in a future version. Use isinstance(dtype, CategoricalDtype) instead\n",
      "  if pd.api.types.is_categorical_dtype(vector):\n",
      "/data1/tools/anaconda3/envs/zennaenv/lib/python3.9/site-packages/seaborn/_oldcore.py:1119: FutureWarning: use_inf_as_na option is deprecated and will be removed in a future version. Convert inf values to NaN before operating instead.\n",
      "  with pd.option_context('mode.use_inf_as_na', True):\n",
      "/data1/tools/anaconda3/envs/zennaenv/lib/python3.9/site-packages/seaborn/_oldcore.py:1119: FutureWarning: use_inf_as_na option is deprecated and will be removed in a future version. Convert inf values to NaN before operating instead.\n",
      "  with pd.option_context('mode.use_inf_as_na', True):\n",
      "/data1/tools/anaconda3/envs/zennaenv/lib/python3.9/site-packages/seaborn/_oldcore.py:1498: FutureWarning: is_categorical_dtype is deprecated and will be removed in a future version. Use isinstance(dtype, CategoricalDtype) instead\n",
      "  if pd.api.types.is_categorical_dtype(vector):\n",
      "/data1/tools/anaconda3/envs/zennaenv/lib/python3.9/site-packages/seaborn/_oldcore.py:1498: FutureWarning: is_categorical_dtype is deprecated and will be removed in a future version. Use isinstance(dtype, CategoricalDtype) instead\n",
      "  if pd.api.types.is_categorical_dtype(vector):\n",
      "/data1/tools/anaconda3/envs/zennaenv/lib/python3.9/site-packages/seaborn/_oldcore.py:1498: FutureWarning: is_categorical_dtype is deprecated and will be removed in a future version. Use isinstance(dtype, CategoricalDtype) instead\n",
      "  if pd.api.types.is_categorical_dtype(vector):\n",
      "/data1/tools/anaconda3/envs/zennaenv/lib/python3.9/site-packages/seaborn/_oldcore.py:1498: FutureWarning: is_categorical_dtype is deprecated and will be removed in a future version. Use isinstance(dtype, CategoricalDtype) instead\n",
      "  if pd.api.types.is_categorical_dtype(vector):\n",
      "/data1/tools/anaconda3/envs/zennaenv/lib/python3.9/site-packages/seaborn/_oldcore.py:1498: FutureWarning: is_categorical_dtype is deprecated and will be removed in a future version. Use isinstance(dtype, CategoricalDtype) instead\n",
      "  if pd.api.types.is_categorical_dtype(vector):\n",
      "/data1/tools/anaconda3/envs/zennaenv/lib/python3.9/site-packages/seaborn/_oldcore.py:1119: FutureWarning: use_inf_as_na option is deprecated and will be removed in a future version. Convert inf values to NaN before operating instead.\n",
      "  with pd.option_context('mode.use_inf_as_na', True):\n",
      "/data1/tools/anaconda3/envs/zennaenv/lib/python3.9/site-packages/seaborn/_oldcore.py:1119: FutureWarning: use_inf_as_na option is deprecated and will be removed in a future version. Convert inf values to NaN before operating instead.\n",
      "  with pd.option_context('mode.use_inf_as_na', True):\n",
      "/data1/tools/anaconda3/envs/zennaenv/lib/python3.9/site-packages/seaborn/_oldcore.py:1498: FutureWarning: is_categorical_dtype is deprecated and will be removed in a future version. Use isinstance(dtype, CategoricalDtype) instead\n",
      "  if pd.api.types.is_categorical_dtype(vector):\n",
      "/data1/tools/anaconda3/envs/zennaenv/lib/python3.9/site-packages/seaborn/_oldcore.py:1498: FutureWarning: is_categorical_dtype is deprecated and will be removed in a future version. Use isinstance(dtype, CategoricalDtype) instead\n",
      "  if pd.api.types.is_categorical_dtype(vector):\n",
      "/data1/tools/anaconda3/envs/zennaenv/lib/python3.9/site-packages/seaborn/_oldcore.py:1498: FutureWarning: is_categorical_dtype is deprecated and will be removed in a future version. Use isinstance(dtype, CategoricalDtype) instead\n",
      "  if pd.api.types.is_categorical_dtype(vector):\n",
      "/data1/tools/anaconda3/envs/zennaenv/lib/python3.9/site-packages/seaborn/_oldcore.py:1498: FutureWarning: is_categorical_dtype is deprecated and will be removed in a future version. Use isinstance(dtype, CategoricalDtype) instead\n",
      "  if pd.api.types.is_categorical_dtype(vector):\n",
      "/data1/tools/anaconda3/envs/zennaenv/lib/python3.9/site-packages/seaborn/_oldcore.py:1498: FutureWarning: is_categorical_dtype is deprecated and will be removed in a future version. Use isinstance(dtype, CategoricalDtype) instead\n",
      "  if pd.api.types.is_categorical_dtype(vector):\n",
      "/data1/tools/anaconda3/envs/zennaenv/lib/python3.9/site-packages/seaborn/_oldcore.py:1119: FutureWarning: use_inf_as_na option is deprecated and will be removed in a future version. Convert inf values to NaN before operating instead.\n",
      "  with pd.option_context('mode.use_inf_as_na', True):\n",
      "/data1/tools/anaconda3/envs/zennaenv/lib/python3.9/site-packages/seaborn/_oldcore.py:1119: FutureWarning: use_inf_as_na option is deprecated and will be removed in a future version. Convert inf values to NaN before operating instead.\n",
      "  with pd.option_context('mode.use_inf_as_na', True):\n",
      "/data1/tools/anaconda3/envs/zennaenv/lib/python3.9/site-packages/seaborn/_oldcore.py:1498: FutureWarning: is_categorical_dtype is deprecated and will be removed in a future version. Use isinstance(dtype, CategoricalDtype) instead\n",
      "  if pd.api.types.is_categorical_dtype(vector):\n",
      "/data1/tools/anaconda3/envs/zennaenv/lib/python3.9/site-packages/seaborn/_oldcore.py:1498: FutureWarning: is_categorical_dtype is deprecated and will be removed in a future version. Use isinstance(dtype, CategoricalDtype) instead\n",
      "  if pd.api.types.is_categorical_dtype(vector):\n",
      "/data1/tools/anaconda3/envs/zennaenv/lib/python3.9/site-packages/seaborn/_oldcore.py:1498: FutureWarning: is_categorical_dtype is deprecated and will be removed in a future version. Use isinstance(dtype, CategoricalDtype) instead\n",
      "  if pd.api.types.is_categorical_dtype(vector):\n",
      "/data1/tools/anaconda3/envs/zennaenv/lib/python3.9/site-packages/seaborn/_oldcore.py:1498: FutureWarning: is_categorical_dtype is deprecated and will be removed in a future version. Use isinstance(dtype, CategoricalDtype) instead\n",
      "  if pd.api.types.is_categorical_dtype(vector):\n",
      "/data1/tools/anaconda3/envs/zennaenv/lib/python3.9/site-packages/seaborn/_oldcore.py:1498: FutureWarning: is_categorical_dtype is deprecated and will be removed in a future version. Use isinstance(dtype, CategoricalDtype) instead\n",
      "  if pd.api.types.is_categorical_dtype(vector):\n",
      "/data1/tools/anaconda3/envs/zennaenv/lib/python3.9/site-packages/seaborn/_oldcore.py:1119: FutureWarning: use_inf_as_na option is deprecated and will be removed in a future version. Convert inf values to NaN before operating instead.\n",
      "  with pd.option_context('mode.use_inf_as_na', True):\n",
      "/data1/tools/anaconda3/envs/zennaenv/lib/python3.9/site-packages/seaborn/_oldcore.py:1119: FutureWarning: use_inf_as_na option is deprecated and will be removed in a future version. Convert inf values to NaN before operating instead.\n",
      "  with pd.option_context('mode.use_inf_as_na', True):\n"
     ]
    },
    {
     "data": {
      "image/png": "[encoded data removed]",
      "text/plain": [
       "<Figure size 2000x500 with 4 Axes>"
      ]
     },
     "metadata": {},
     "output_type": "display_data"
    }
   ],
   "source": [
    "sc.pl.violin(adata_reMoveDoublet, ['n_genes_by_counts', 'total_counts', 'pct_counts_mt', 'pct_counts_ribo'], \n",
    "             jitter=0.4, multi_panel=True) #QC"
   ]
  },
  {
   "cell_type": "code",
   "execution_count": 74,
   "id": "56ed844f-17c8-4115-9d0c-ccb2647c0abb",
   "metadata": {},
   "outputs": [],
   "source": [
    "upper_lim = np.quantile(adata_reMoveDoublet.obs.n_genes_by_counts.values, .98)\n",
    "#upper_lim = 3000"
   ]
  },
  {
   "cell_type": "code",
   "execution_count": 75,
   "id": "8e45e8e9-72d9-499a-a9ca-e4fbf7178c83",
   "metadata": {},
   "outputs": [
    {
     "data": {
      "text/plain": [
       "2571.88"
      ]
     },
     "execution_count": 75,
     "metadata": {},
     "output_type": "execute_result"
    }
   ],
   "source": [
    "upper_lim"
   ]
  },
  {
   "cell_type": "code",
   "execution_count": 76,
   "id": "172f04b0-04df-4814-96e2-16b66a03c2ca",
   "metadata": {},
   "outputs": [
    {
     "name": "stderr",
     "output_type": "stream",
     "text": [
      "/data1/tools/anaconda3/envs/zennaenv/lib/python3.9/site-packages/anndata/_core/anndata.py:1113: FutureWarning: is_categorical_dtype is deprecated and will be removed in a future version. Use isinstance(dtype, CategoricalDtype) instead\n",
      "  if not is_categorical_dtype(df_full[k]):\n"
     ]
    }
   ],
   "source": [
    "adata_lim = adata_reMoveDoublet[adata_reMoveDoublet.obs.n_genes_by_counts < upper_lim]"
   ]
  },
  {
   "cell_type": "code",
   "execution_count": 77,
   "id": "6d322fab-9c7e-4548-a594-8da4fc0c74cb",
   "metadata": {},
   "outputs": [
    {
     "data": {
      "text/html": [
       "<div>\n",
       "<style scoped>\n",
       "    .dataframe tbody tr th:only-of-type {\n",
       "        vertical-align: middle;\n",
       "    }\n",
       "\n",
       "    .dataframe tbody tr th {\n",
       "        vertical-align: top;\n",
       "    }\n",
       "\n",
       "    .dataframe thead th {\n",
       "        text-align: right;\n",
       "    }\n",
       "</style>\n",
       "<table border=\"1\" class=\"dataframe\">\n",
       "  <thead>\n",
       "    <tr style=\"text-align: right;\">\n",
       "      <th></th>\n",
       "      <th>doublet</th>\n",
       "      <th>n_genes_by_counts</th>\n",
       "      <th>total_counts</th>\n",
       "      <th>total_counts_mt</th>\n",
       "      <th>pct_counts_mt</th>\n",
       "      <th>total_counts_ribo</th>\n",
       "      <th>pct_counts_ribo</th>\n",
       "    </tr>\n",
       "  </thead>\n",
       "  <tbody>\n",
       "    <tr>\n",
       "      <th>AAACCTGCATGTAAGA</th>\n",
       "      <td>False</td>\n",
       "      <td>1109</td>\n",
       "      <td>2493.0</td>\n",
       "      <td>138.0</td>\n",
       "      <td>5.535500</td>\n",
       "      <td>575.0</td>\n",
       "      <td>23.064581</td>\n",
       "    </tr>\n",
       "    <tr>\n",
       "      <th>AAACCTGGTGTGACGA</th>\n",
       "      <td>False</td>\n",
       "      <td>832</td>\n",
       "      <td>1487.0</td>\n",
       "      <td>52.0</td>\n",
       "      <td>3.496974</td>\n",
       "      <td>297.0</td>\n",
       "      <td>19.973101</td>\n",
       "    </tr>\n",
       "    <tr>\n",
       "      <th>AAACGGGTCTTGTTTG</th>\n",
       "      <td>False</td>\n",
       "      <td>1501</td>\n",
       "      <td>3134.0</td>\n",
       "      <td>59.0</td>\n",
       "      <td>1.882578</td>\n",
       "      <td>772.0</td>\n",
       "      <td>24.633057</td>\n",
       "    </tr>\n",
       "    <tr>\n",
       "      <th>AAAGATGGTCAGAGGT</th>\n",
       "      <td>False</td>\n",
       "      <td>1078</td>\n",
       "      <td>2467.0</td>\n",
       "      <td>30.0</td>\n",
       "      <td>1.216052</td>\n",
       "      <td>523.0</td>\n",
       "      <td>21.199837</td>\n",
       "    </tr>\n",
       "    <tr>\n",
       "      <th>AAAGATGGTCCAAGTT</th>\n",
       "      <td>False</td>\n",
       "      <td>1648</td>\n",
       "      <td>3816.0</td>\n",
       "      <td>55.0</td>\n",
       "      <td>1.441300</td>\n",
       "      <td>500.0</td>\n",
       "      <td>13.102725</td>\n",
       "    </tr>\n",
       "    <tr>\n",
       "      <th>...</th>\n",
       "      <td>...</td>\n",
       "      <td>...</td>\n",
       "      <td>...</td>\n",
       "      <td>...</td>\n",
       "      <td>...</td>\n",
       "      <td>...</td>\n",
       "      <td>...</td>\n",
       "    </tr>\n",
       "    <tr>\n",
       "      <th>TTTGCGCTCCTAGTGA</th>\n",
       "      <td>False</td>\n",
       "      <td>1006</td>\n",
       "      <td>1939.0</td>\n",
       "      <td>28.0</td>\n",
       "      <td>1.444043</td>\n",
       "      <td>507.0</td>\n",
       "      <td>26.147499</td>\n",
       "    </tr>\n",
       "    <tr>\n",
       "      <th>TTTGGTTAGGGCTTGA</th>\n",
       "      <td>False</td>\n",
       "      <td>1329</td>\n",
       "      <td>2816.0</td>\n",
       "      <td>34.0</td>\n",
       "      <td>1.207386</td>\n",
       "      <td>583.0</td>\n",
       "      <td>20.703125</td>\n",
       "    </tr>\n",
       "    <tr>\n",
       "      <th>TTTGGTTGTGAGTGAC</th>\n",
       "      <td>False</td>\n",
       "      <td>709</td>\n",
       "      <td>1193.0</td>\n",
       "      <td>24.0</td>\n",
       "      <td>2.011735</td>\n",
       "      <td>199.0</td>\n",
       "      <td>16.680637</td>\n",
       "    </tr>\n",
       "    <tr>\n",
       "      <th>TTTGTCAAGATGTCGG</th>\n",
       "      <td>False</td>\n",
       "      <td>1537</td>\n",
       "      <td>3629.0</td>\n",
       "      <td>64.0</td>\n",
       "      <td>1.763571</td>\n",
       "      <td>693.0</td>\n",
       "      <td>19.096170</td>\n",
       "    </tr>\n",
       "    <tr>\n",
       "      <th>TTTGTCATCTTCGAGA</th>\n",
       "      <td>False</td>\n",
       "      <td>1790</td>\n",
       "      <td>5028.0</td>\n",
       "      <td>79.0</td>\n",
       "      <td>1.571201</td>\n",
       "      <td>831.0</td>\n",
       "      <td>16.527445</td>\n",
       "    </tr>\n",
       "  </tbody>\n",
       "</table>\n",
       "<p>888 rows × 7 columns</p>\n",
       "</div>"
      ],
      "text/plain": [
       "                  doublet  n_genes_by_counts  total_counts  total_counts_mt  \\\n",
       "AAACCTGCATGTAAGA    False               1109        2493.0            138.0   \n",
       "AAACCTGGTGTGACGA    False                832        1487.0             52.0   \n",
       "AAACGGGTCTTGTTTG    False               1501        3134.0             59.0   \n",
       "AAAGATGGTCAGAGGT    False               1078        2467.0             30.0   \n",
       "AAAGATGGTCCAAGTT    False               1648        3816.0             55.0   \n",
       "...                   ...                ...           ...              ...   \n",
       "TTTGCGCTCCTAGTGA    False               1006        1939.0             28.0   \n",
       "TTTGGTTAGGGCTTGA    False               1329        2816.0             34.0   \n",
       "TTTGGTTGTGAGTGAC    False                709        1193.0             24.0   \n",
       "TTTGTCAAGATGTCGG    False               1537        3629.0             64.0   \n",
       "TTTGTCATCTTCGAGA    False               1790        5028.0             79.0   \n",
       "\n",
       "                  pct_counts_mt  total_counts_ribo  pct_counts_ribo  \n",
       "AAACCTGCATGTAAGA       5.535500              575.0        23.064581  \n",
       "AAACCTGGTGTGACGA       3.496974              297.0        19.973101  \n",
       "AAACGGGTCTTGTTTG       1.882578              772.0        24.633057  \n",
       "AAAGATGGTCAGAGGT       1.216052              523.0        21.199837  \n",
       "AAAGATGGTCCAAGTT       1.441300              500.0        13.102725  \n",
       "...                         ...                ...              ...  \n",
       "TTTGCGCTCCTAGTGA       1.444043              507.0        26.147499  \n",
       "TTTGGTTAGGGCTTGA       1.207386              583.0        20.703125  \n",
       "TTTGGTTGTGAGTGAC       2.011735              199.0        16.680637  \n",
       "TTTGTCAAGATGTCGG       1.763571              693.0        19.096170  \n",
       "TTTGTCATCTTCGAGA       1.571201              831.0        16.527445  \n",
       "\n",
       "[888 rows x 7 columns]"
      ]
     },
     "execution_count": 77,
     "metadata": {},
     "output_type": "execute_result"
    }
   ],
   "source": [
    "adata_lim.obs"
   ]
  },
  {
   "cell_type": "code",
   "execution_count": 78,
   "id": "7f009148-41e1-4a7a-8086-ef329507edb7",
   "metadata": {},
   "outputs": [
    {
     "name": "stderr",
     "output_type": "stream",
     "text": [
      "/data1/tools/anaconda3/envs/zennaenv/lib/python3.9/site-packages/anndata/_core/anndata.py:1113: FutureWarning: is_categorical_dtype is deprecated and will be removed in a future version. Use isinstance(dtype, CategoricalDtype) instead\n",
      "  if not is_categorical_dtype(df_full[k]):\n"
     ]
    }
   ],
   "source": [
    "adata_mt_filter_20 = adata_lim[adata_lim.obs.pct_counts_mt < 20]"
   ]
  },
  {
   "cell_type": "markdown",
   "id": "14f2d0e6-6783-4ed8-9a6c-3967c8eba1c9",
   "metadata": {},
   "source": [
    "#Normalize"
   ]
  },
  {
   "cell_type": "code",
   "execution_count": 79,
   "id": "8efa5a29-cb70-4732-b811-661d7c16257f",
   "metadata": {},
   "outputs": [
    {
     "data": {
      "text/plain": [
       "array([2493., 1486., 3131., 2466., 3815., 3868., 3654., 1740., 1253.,\n",
       "       2130., 6707., 2303.,  959., 3277., 3470., 1270., 3483., 1815.,\n",
       "       3358., 3307., 4237., 1768., 1432., 5615., 2648.,  989., 3431.,\n",
       "        995., 3263., 4573., 5542., 1021., 6079., 1568., 1781., 1916.,\n",
       "       1630., 1710., 2809., 1428., 2462., 5721., 2552., 2367., 1896.,\n",
       "       7316., 2276., 2370., 2269., 3593., 1243., 2974., 1407., 5379.,\n",
       "       4089., 1100., 2869., 4314., 2051., 1704., 2614., 1969., 2731.,\n",
       "       3386., 1632., 2621., 3746.,  999., 1377., 3046., 1115., 1223.,\n",
       "       5601., 2330.,  964., 1412., 1440., 2122., 1935., 1014., 6806.,\n",
       "       1500., 1255., 1211., 1683., 3007., 1714., 7060., 1012., 2837.,\n",
       "       4565., 1093., 2630., 1347., 1053., 2350., 2446., 1270., 1710.,\n",
       "       2707., 4998., 1073., 1007., 2159., 3180., 5608., 3260., 1495.,\n",
       "       1709., 1658., 5986., 3757., 3530., 2120., 1602., 1173., 2676.,\n",
       "       2494., 2159., 2508., 2577.,  961., 4326., 3367., 1861., 1763.,\n",
       "       1531., 3144., 3519., 1553., 4386., 4942., 6150., 3032., 1687.,\n",
       "       1071., 1632., 1730., 2997.,  958., 2171., 3025., 4796., 3786.,\n",
       "       4423., 4530., 3239., 3404., 1269., 3715., 3999., 1136., 3371.,\n",
       "       1320., 1613., 3246.,  995., 3548., 3462., 1155., 3444., 1772.,\n",
       "       3665., 3522., 1414., 2741., 1346., 2384., 3238., 5645., 1049.,\n",
       "       3138., 4546., 1783., 1065., 2688., 1712., 4965., 6394., 2146.,\n",
       "       4574., 2064., 1334., 5150., 1309., 1197., 2576., 1635., 2510.,\n",
       "       6653., 1597., 4912., 3914., 5684., 1916., 2002., 1587., 4999.,\n",
       "       2336., 3455., 4842., 1340., 1636., 2106., 4128., 3113., 6046.,\n",
       "       3680., 2763., 3072., 4035., 3233., 3395., 5672., 5507.,  956.,\n",
       "       1468., 4799., 1618., 2705., 3678., 2503., 4469., 1675., 6202.,\n",
       "       1465., 1006., 1771., 1785., 3616.,  991., 1277., 4942., 2556.,\n",
       "       1462., 5377., 2677.,  984., 1030., 1012., 5686., 1021., 1583.,\n",
       "       4225., 8322., 6158., 3949., 2718., 1974., 1334., 1629., 2005.,\n",
       "       3625., 3700., 1622., 3649., 4399., 2957., 1265., 3593., 1985.,\n",
       "       2560., 3229., 1148., 2019., 2824., 2085., 3261., 4072., 4897.,\n",
       "       1624., 3366., 2064., 3173., 2396., 4951., 1073., 4161., 2569.,\n",
       "       1504., 2240., 3054., 1145., 1766., 2193., 2156., 2263., 3856.,\n",
       "       2539., 1163., 1144., 3934., 2099., 1232., 2346., 2886., 1019.,\n",
       "       3040., 2944., 3503., 1309., 2694., 2250., 3110., 4243., 5263.,\n",
       "       1915., 1843., 2713., 4104., 1734., 2086., 3065., 3154., 2118.,\n",
       "       2583., 1882.,  956., 3229., 3679., 4446., 1180., 4088., 2757.,\n",
       "       1374., 1295., 1425., 3490., 4731., 1669., 1541., 2314., 1836.,\n",
       "       2426., 3999., 7169., 3223., 1393., 1627., 2200., 1869., 3587.,\n",
       "       3659., 1999., 2076., 2699., 2303., 1098., 1308., 1234., 2814.,\n",
       "       5789., 2589., 1186., 3101., 2883., 1914., 2330., 2558., 1735.,\n",
       "       3104., 3535., 1480., 2072., 3451., 2465., 2663., 3114., 4708.,\n",
       "       4006., 1841., 2037., 3957., 1835., 1515., 2087., 1063., 2014.,\n",
       "       4709.,  988., 1100., 1658., 1278., 2957., 1413., 1412., 2266.,\n",
       "       2312., 3835., 2097., 2285., 1773.,  983., 3212., 1337., 2691.,\n",
       "       5037., 1792.,  997., 3487., 1707., 2282., 1143., 3160., 1490.,\n",
       "       1336., 3355., 2373., 1856., 2682., 1738., 3145., 1298., 2489.,\n",
       "       2121., 5206., 1041., 2109., 2133., 1224., 3708., 5767., 2614.,\n",
       "        976., 2433., 2347., 1742., 3602., 1666., 7365.,  985., 4843.,\n",
       "       1029., 1149., 2025., 4879., 5483., 6380., 1133., 1580.,  987.,\n",
       "       2172., 1719., 1779., 3990., 1766.,  965., 2183., 2779., 5282.,\n",
       "       2165., 2119., 2740., 1898., 3313., 1539., 7283., 2537., 3926.,\n",
       "       3441., 5019., 4255., 4983., 1139., 1623., 2981., 3618., 1004.,\n",
       "       1984., 2280., 2487., 4411., 1865., 2878., 3124., 3667., 2159.,\n",
       "       3789., 6337., 2249., 5224., 1963., 1835., 1058., 3002., 1071.,\n",
       "       2499., 3092., 4312., 2911., 1712., 2653., 1383., 1936., 1962.,\n",
       "       2007., 2455., 1206., 3441., 3403., 1400., 3247., 2083., 2979.,\n",
       "       5181., 5083., 2840., 2277., 6008., 1455., 1774., 1413., 3837.,\n",
       "       1103., 1831., 2757., 3278., 1234., 3495., 3617., 6073., 6818.,\n",
       "       5929., 1462., 5254., 4758., 5902., 2590., 4872., 1746., 2532.,\n",
       "       2151., 1693., 1574., 1938., 8101., 4191., 3921., 1374., 4806.,\n",
       "       2263., 6930., 2712., 3262., 4719., 1629., 5944., 2444., 1430.,\n",
       "       2449., 1186., 3605., 1563., 3992., 3359., 4152., 1078., 2217.,\n",
       "       2006., 4128., 1247., 4785., 2814., 3651., 1922., 2636., 1836.,\n",
       "       2299., 2909., 4125., 4589., 1590., 2385., 3081., 1826., 2036.,\n",
       "       1221., 3558., 1638., 2951., 2285., 7005., 2586., 1985., 2893.,\n",
       "       4054., 3228., 1430., 4998., 2865., 5026., 1179., 2082., 5323.,\n",
       "       2274., 3328., 1910.,  963., 1771., 4963., 1198., 3851., 3405.,\n",
       "       3128., 2782., 1507.,  963., 1051., 1668., 4322., 4865., 2144.,\n",
       "       4274., 3938., 4663., 1731., 1853., 2020., 3660., 1645., 2200.,\n",
       "       3835., 3146.,  970., 3464., 3243., 7066., 1399., 4646., 3218.,\n",
       "       2143., 6409., 2116., 3289., 3386., 3034., 2289., 2174., 3808.,\n",
       "       1591., 3103., 5803., 1038., 2950., 1937., 2635., 1472., 3545.,\n",
       "       1149., 4402., 3678., 2134., 1275., 4668., 2650., 2765., 2728.,\n",
       "       1309., 2798., 5939., 5409., 2053., 1319., 1614., 1419., 2042.,\n",
       "       1010., 2135., 4077., 1048., 7131., 5862., 5721., 2398., 1633.,\n",
       "        992., 5018., 2472., 2656., 4978., 2686., 1489., 3660., 1002.,\n",
       "       1405., 2408., 4496., 1414., 2610., 2774., 1182., 1705., 1577.,\n",
       "       3711., 2674., 1702., 1060., 1154., 4386., 2741., 2905., 2379.,\n",
       "       3435., 6567., 3269., 3413., 2791., 2650., 4006., 1973., 7180.,\n",
       "       3375., 2317., 1289., 1867., 1771., 1875., 2436., 1390., 3562.,\n",
       "       2229., 1042., 2254., 2048., 2231., 3336., 1816., 1721., 4161.,\n",
       "       1912., 1652., 1603., 5306., 1783., 1472., 4184., 1251., 2827.,\n",
       "       2570., 2420., 5192., 1344., 3534., 6551., 3708., 3745.,  956.,\n",
       "       6307., 2285., 2222., 6516., 3326., 2553., 3392., 2613., 2632.,\n",
       "       1328.,  965.,  966., 4239., 5159., 2654., 5606., 2552., 7597.,\n",
       "       4299., 1675., 1568., 2892., 4991., 4745., 2467., 5940., 3929.,\n",
       "       2558., 1380., 2398., 2931., 3562., 1571., 1547., 1208., 1572.,\n",
       "       2603., 2191., 4610., 3526., 3576., 2351., 2889.,  967., 2885.,\n",
       "       1707., 6021., 2219., 2834., 1886., 3215., 1463., 1220., 2534.,\n",
       "       4311., 1036., 1608., 3202., 5625., 1366., 1918., 3946., 4601.,\n",
       "       3798., 4182., 1380., 4087., 1433., 1323., 4836., 2714., 4088.,\n",
       "       2909., 3338., 2122., 1164., 1659., 1657., 5425., 6122., 1165.,\n",
       "        998., 3446., 1760., 2508., 1765., 1710., 2031., 3867., 4931.,\n",
       "       2142., 2254., 4043., 2422., 4399., 1975., 1274., 1214., 4216.,\n",
       "       4790., 5480., 2079., 1637., 3080., 3564., 5035., 2653., 2354.,\n",
       "       4743., 2799., 6277., 2080., 2731., 1260., 3234.,  957., 1221.,\n",
       "       3721., 1768., 1538., 6245., 2528., 5643., 8905., 4964., 3345.,\n",
       "       3417., 3685., 1420., 3964., 3324., 1700., 1018., 2867., 1570.,\n",
       "       2418., 1939., 2816., 1191., 3627., 5028.], dtype=float32)"
      ]
     },
     "execution_count": 79,
     "metadata": {},
     "output_type": "execute_result"
    }
   ],
   "source": [
    "adata_mt_filter_20.X.sum(axis=1)"
   ]
  },
  {
   "cell_type": "code",
   "execution_count": 80,
   "id": "f0f23c6b-31a6-47ca-b1c0-194293af6bc3",
   "metadata": {},
   "outputs": [
    {
     "name": "stderr",
     "output_type": "stream",
     "text": [
      "/data1/tools/anaconda3/envs/zennaenv/lib/python3.9/site-packages/scanpy/preprocessing/_normalization.py:169: UserWarning: Received a view of an AnnData. Making a copy.\n",
      "  view_to_actual(adata)\n"
     ]
    }
   ],
   "source": [
    "sc.pp.normalize_total(adata_mt_filter_20, target_sum=1e4) #normalize every cell to 10,000 UMI"
   ]
  },
  {
   "cell_type": "code",
   "execution_count": 81,
   "id": "f41974ce-7949-4e05-94e9-8e4b317d8d8e",
   "metadata": {},
   "outputs": [
    {
     "data": {
      "text/plain": [
       "array([10000.   , 10000.   , 10000.   , 10000.   , 10000.   , 10000.   ,\n",
       "       10000.001, 10000.   , 10000.   , 10000.   , 10000.   , 10000.   ,\n",
       "       10000.   , 10000.   , 10000.   ,  9999.999,  9999.999, 10000.   ,\n",
       "       10000.   , 10000.   , 10000.   , 10000.   , 10000.   , 10000.   ,\n",
       "       10000.   , 10000.   , 10000.   , 10000.   , 10000.   , 10000.   ,\n",
       "       10000.   , 10000.   , 10000.   ,  9999.999, 10000.   , 10000.   ,\n",
       "       10000.   , 10000.   , 10000.   , 10000.   , 10000.   , 10000.   ,\n",
       "       10000.   , 10000.   , 10000.   , 10000.001, 10000.001, 10000.   ,\n",
       "       10000.   , 10000.   , 10000.   , 10000.   , 10000.001, 10000.   ,\n",
       "       10000.   , 10000.   , 10000.   , 10000.   , 10000.   , 10000.001,\n",
       "       10000.   , 10000.   , 10000.   , 10000.   , 10000.   ,  9999.999,\n",
       "       10000.   , 10000.   , 10000.   , 10000.   , 10000.   , 10000.   ,\n",
       "       10000.   , 10000.   , 10000.   ,  9999.999, 10000.   , 10000.   ,\n",
       "       10000.   , 10000.   , 10000.   , 10000.   , 10000.   , 10000.   ,\n",
       "       10000.   , 10000.   , 10000.   , 10000.001, 10000.   , 10000.   ,\n",
       "       10000.001, 10000.   , 10000.   , 10000.001, 10000.   , 10000.   ,\n",
       "       10000.   , 10000.   , 10000.   ,  9999.999, 10000.   , 10000.   ,\n",
       "       10000.   , 10000.   , 10000.001, 10000.   , 10000.   , 10000.   ,\n",
       "       10000.   , 10000.   , 10000.   , 10000.   , 10000.   , 10000.   ,\n",
       "       10000.   , 10000.   , 10000.   , 10000.   , 10000.   ,  9999.999,\n",
       "       10000.   ,  9999.999, 10000.   , 10000.   , 10000.   ,  9999.999,\n",
       "       10000.   , 10000.   , 10000.   ,  9999.999, 10000.001, 10000.   ,\n",
       "       10000.   , 10000.   , 10000.001, 10000.   , 10000.   , 10000.   ,\n",
       "       10000.   , 10000.   , 10000.   , 10000.   , 10000.   , 10000.   ,\n",
       "       10000.   , 10000.   ,  9999.999, 10000.   , 10000.   , 10000.   ,\n",
       "       10000.   , 10000.   , 10000.   , 10000.   ,  9999.999, 10000.   ,\n",
       "       10000.   , 10000.   , 10000.   , 10000.   , 10000.   , 10000.   ,\n",
       "       10000.   , 10000.   , 10000.   , 10000.   , 10000.   , 10000.   ,\n",
       "       10000.   , 10000.001, 10000.   ,  9999.999, 10000.   , 10000.   ,\n",
       "       10000.   , 10000.001,  9999.999, 10000.   , 10000.   , 10000.   ,\n",
       "       10000.   , 10000.   , 10000.   , 10000.   , 10000.   , 10000.   ,\n",
       "        9999.999, 10000.   , 10000.   , 10000.   , 10000.   , 10000.   ,\n",
       "       10000.   ,  9999.999, 10000.   , 10000.   , 10000.   , 10000.   ,\n",
       "       10000.   , 10000.   , 10000.   , 10000.   , 10000.   , 10000.   ,\n",
       "       10000.   , 10000.   , 10000.   , 10000.   ,  9999.999, 10000.   ,\n",
       "       10000.   , 10000.   , 10000.   , 10000.   , 10000.   , 10000.   ,\n",
       "       10000.   , 10000.   , 10000.   , 10000.   , 10000.   , 10000.   ,\n",
       "       10000.   , 10000.   , 10000.   ,  9999.999, 10000.001, 10000.   ,\n",
       "       10000.   , 10000.   , 10000.   , 10000.   , 10000.   ,  9999.999,\n",
       "       10000.   , 10000.   , 10000.001, 10000.   , 10000.   , 10000.   ,\n",
       "       10000.   , 10000.   , 10000.   ,  9999.999, 10000.   , 10000.   ,\n",
       "       10000.   , 10000.   , 10000.   , 10000.001, 10000.   , 10000.   ,\n",
       "       10000.   , 10000.   , 10000.   , 10000.   , 10000.   , 10000.   ,\n",
       "       10000.   , 10000.   , 10000.   , 10000.   , 10000.   , 10000.   ,\n",
       "       10000.   ,  9999.999, 10000.   , 10000.   , 10000.   , 10000.   ,\n",
       "       10000.   , 10000.   , 10000.   , 10000.   , 10000.   , 10000.   ,\n",
       "       10000.   , 10000.   , 10000.   , 10000.   , 10000.   , 10000.   ,\n",
       "       10000.   , 10000.   , 10000.   , 10000.   , 10000.   , 10000.   ,\n",
       "       10000.001, 10000.   , 10000.   , 10000.   ,  9999.999, 10000.001,\n",
       "       10000.   , 10000.   , 10000.001, 10000.   , 10000.   , 10000.   ,\n",
       "       10000.   , 10000.   , 10000.   , 10000.   , 10000.   , 10000.   ,\n",
       "       10000.   , 10000.   , 10000.   , 10000.   , 10000.   , 10000.   ,\n",
       "       10000.   , 10000.   , 10000.   , 10000.   , 10000.   , 10000.   ,\n",
       "       10000.   , 10000.   , 10000.   , 10000.   , 10000.   , 10000.   ,\n",
       "       10000.   , 10000.   , 10000.   , 10000.   , 10000.   , 10000.   ,\n",
       "       10000.   , 10000.   , 10000.   , 10000.   , 10000.   , 10000.   ,\n",
       "       10000.001,  9999.999, 10000.   , 10000.   , 10000.   , 10000.   ,\n",
       "       10000.   , 10000.   ,  9999.999, 10000.   , 10000.   , 10000.   ,\n",
       "       10000.   , 10000.   , 10000.001, 10000.   , 10000.   , 10000.   ,\n",
       "       10000.   , 10000.   , 10000.   , 10000.   ,  9999.999, 10000.   ,\n",
       "       10000.   , 10000.   , 10000.   , 10000.   , 10000.   , 10000.   ,\n",
       "       10000.   , 10000.   , 10000.   , 10000.   , 10000.   , 10000.001,\n",
       "       10000.   , 10000.   , 10000.   , 10000.   , 10000.   , 10000.   ,\n",
       "       10000.   , 10000.   , 10000.   , 10000.   , 10000.   , 10000.   ,\n",
       "       10000.001, 10000.   , 10000.   , 10000.   , 10000.   , 10000.   ,\n",
       "       10000.   , 10000.   , 10000.   ,  9999.999, 10000.001, 10000.   ,\n",
       "        9999.999, 10000.   , 10000.   , 10000.   , 10000.   , 10000.   ,\n",
       "       10000.   ,  9999.999, 10000.   , 10000.   , 10000.   , 10000.   ,\n",
       "       10000.   , 10000.   , 10000.   , 10000.   , 10000.   , 10000.   ,\n",
       "       10000.   , 10000.   , 10000.001, 10000.   , 10000.   , 10000.   ,\n",
       "       10000.   , 10000.   ,  9999.999, 10000.   , 10000.   , 10000.   ,\n",
       "       10000.   , 10000.   , 10000.   ,  9999.999, 10000.   , 10000.   ,\n",
       "       10000.   , 10000.   , 10000.   , 10000.   , 10000.   , 10000.   ,\n",
       "       10000.   , 10000.   , 10000.   , 10000.   , 10000.   , 10000.   ,\n",
       "       10000.   , 10000.   , 10000.   , 10000.   , 10000.   , 10000.   ,\n",
       "       10000.   , 10000.   , 10000.   , 10000.   , 10000.   , 10000.   ,\n",
       "       10000.   , 10000.   , 10000.   , 10000.   , 10000.   , 10000.   ,\n",
       "       10000.   , 10000.   , 10000.   , 10000.   , 10000.   , 10000.   ,\n",
       "        9999.999, 10000.   , 10000.   , 10000.   , 10000.   ,  9999.999,\n",
       "       10000.   , 10000.   , 10000.   , 10000.   , 10000.   , 10000.   ,\n",
       "       10000.   , 10000.   , 10000.   , 10000.   , 10000.   , 10000.   ,\n",
       "       10000.   , 10000.001, 10000.   , 10000.001,  9999.999, 10000.   ,\n",
       "       10000.   , 10000.   , 10000.   , 10000.   , 10000.   , 10000.   ,\n",
       "       10000.   , 10000.   , 10000.   , 10000.   , 10000.   , 10000.   ,\n",
       "       10000.   , 10000.   , 10000.   , 10000.   , 10000.   , 10000.   ,\n",
       "       10000.   , 10000.   ,  9999.999, 10000.   , 10000.   , 10000.   ,\n",
       "       10000.   , 10000.   , 10000.   , 10000.   , 10000.001, 10000.   ,\n",
       "       10000.   , 10000.   , 10000.001, 10000.001, 10000.   , 10000.   ,\n",
       "       10000.   , 10000.   , 10000.   ,  9999.999, 10000.   , 10000.   ,\n",
       "       10000.   , 10000.   , 10000.   ,  9999.999, 10000.   , 10000.   ,\n",
       "       10000.   , 10000.   , 10000.   , 10000.   , 10000.   , 10000.   ,\n",
       "       10000.   , 10000.   , 10000.   , 10000.   , 10000.   , 10000.   ,\n",
       "       10000.   , 10000.   , 10000.   , 10000.   , 10000.   , 10000.   ,\n",
       "       10000.   , 10000.   , 10000.   ,  9999.999, 10000.   , 10000.   ,\n",
       "       10000.   , 10000.   , 10000.001, 10000.   , 10000.   , 10000.   ,\n",
       "        9999.999, 10000.001, 10000.   , 10000.001,  9999.999, 10000.   ,\n",
       "       10000.   , 10000.   , 10000.   , 10000.   , 10000.   , 10000.   ,\n",
       "       10000.   ,  9999.999, 10000.001, 10000.   , 10000.   ,  9999.999,\n",
       "       10000.   , 10000.   ,  9999.999, 10000.   , 10000.001, 10000.   ,\n",
       "       10000.   , 10000.   , 10000.   , 10000.001, 10000.   , 10000.   ,\n",
       "       10000.   , 10000.   , 10000.   , 10000.001, 10000.   , 10000.   ,\n",
       "       10000.   , 10000.   , 10000.   , 10000.   , 10000.   , 10000.   ,\n",
       "       10000.   , 10000.   , 10000.   , 10000.   , 10000.   , 10000.   ,\n",
       "       10000.   , 10000.   , 10000.   , 10000.   , 10000.   , 10000.   ,\n",
       "       10000.   , 10000.   , 10000.   , 10000.   , 10000.   , 10000.   ,\n",
       "       10000.   , 10000.   , 10000.   , 10000.   , 10000.   , 10000.   ,\n",
       "       10000.   , 10000.   , 10000.   , 10000.   , 10000.   , 10000.   ,\n",
       "       10000.   , 10000.001, 10000.   , 10000.   , 10000.   , 10000.   ,\n",
       "       10000.   , 10000.   , 10000.   , 10000.001, 10000.   , 10000.   ,\n",
       "       10000.   , 10000.   , 10000.   , 10000.   , 10000.   , 10000.   ,\n",
       "       10000.   , 10000.   , 10000.   , 10000.   , 10000.   , 10000.   ,\n",
       "       10000.   , 10000.   , 10000.   , 10000.   , 10000.   , 10000.   ,\n",
       "       10000.   , 10000.   , 10000.   , 10000.   , 10000.   , 10000.   ,\n",
       "       10000.   , 10000.   , 10000.   , 10000.   , 10000.   , 10000.   ,\n",
       "       10000.   , 10000.   , 10000.   , 10000.   , 10000.   , 10000.   ,\n",
       "       10000.   , 10000.   , 10000.   , 10000.   , 10000.   , 10000.   ,\n",
       "       10000.   , 10000.   , 10000.   , 10000.   , 10000.   , 10000.   ,\n",
       "       10000.   , 10000.   , 10000.   , 10000.   , 10000.   , 10000.   ,\n",
       "       10000.   , 10000.   , 10000.   , 10000.   , 10000.   , 10000.   ,\n",
       "       10000.   , 10000.   , 10000.   , 10000.   , 10000.   , 10000.   ,\n",
       "       10000.   , 10000.   , 10000.   , 10000.   , 10000.   , 10000.   ,\n",
       "       10000.   , 10000.   , 10000.   , 10000.   , 10000.   , 10000.   ,\n",
       "       10000.   , 10000.   , 10000.   , 10000.   , 10000.   , 10000.   ,\n",
       "       10000.   , 10000.   , 10000.   , 10000.   , 10000.   , 10000.   ,\n",
       "       10000.   , 10000.   , 10000.   , 10000.   , 10000.   , 10000.   ,\n",
       "       10000.   , 10000.   , 10000.001, 10000.   , 10000.   , 10000.   ,\n",
       "       10000.   , 10000.   , 10000.   , 10000.   ,  9999.999, 10000.   ,\n",
       "       10000.   , 10000.   , 10000.   , 10000.001, 10000.   , 10000.   ,\n",
       "       10000.   , 10000.   , 10000.   , 10000.001, 10000.001, 10000.   ,\n",
       "       10000.   , 10000.   , 10000.   , 10000.   , 10000.   , 10000.   ,\n",
       "       10000.   , 10000.   , 10000.   , 10000.   , 10000.   , 10000.   ,\n",
       "       10000.   , 10000.   , 10000.   , 10000.001, 10000.   , 10000.   ,\n",
       "       10000.   ,  9999.999, 10000.   , 10000.   , 10000.   , 10000.   ,\n",
       "       10000.   , 10000.   , 10000.   , 10000.   , 10000.   , 10000.   ,\n",
       "       10000.   , 10000.   , 10000.   , 10000.   , 10000.   , 10000.   ,\n",
       "       10000.   , 10000.   , 10000.   , 10000.   , 10000.   , 10000.   ,\n",
       "       10000.   , 10000.   , 10000.   , 10000.   , 10000.   , 10000.   ,\n",
       "       10000.001, 10000.   ,  9999.999, 10000.   , 10000.   , 10000.   ,\n",
       "       10000.001, 10000.   , 10000.   ,  9999.999, 10000.001, 10000.   ,\n",
       "       10000.   , 10000.   , 10000.   , 10000.   , 10000.   , 10000.001,\n",
       "       10000.   , 10000.   , 10000.   , 10000.   , 10000.   , 10000.   ,\n",
       "       10000.   , 10000.   , 10000.   , 10000.   , 10000.   , 10000.   ,\n",
       "       10000.   , 10000.   , 10000.   , 10000.   , 10000.   , 10000.001,\n",
       "       10000.   , 10000.   , 10000.   , 10000.   , 10000.   , 10000.   ,\n",
       "       10000.   , 10000.001, 10000.   , 10000.   , 10000.001, 10000.   ,\n",
       "       10000.   , 10000.   , 10000.   , 10000.   , 10000.   ,  9999.999,\n",
       "       10000.   , 10000.   , 10000.   , 10000.   ,  9999.999, 10000.   ,\n",
       "       10000.   , 10000.   , 10000.   , 10000.   , 10000.   , 10000.   ],\n",
       "      dtype=float32)"
      ]
     },
     "execution_count": 81,
     "metadata": {},
     "output_type": "execute_result"
    }
   ],
   "source": [
    "adata_mt_filter_20.X.sum(axis = 1)"
   ]
  },
  {
   "cell_type": "code",
   "execution_count": 82,
   "id": "fbff32bb-d448-4d6b-8047-80509d99f867",
   "metadata": {},
   "outputs": [],
   "source": [
    "sc.pp.log1p(adata_mt_filter_20) #change to log counts"
   ]
  },
  {
   "cell_type": "code",
   "execution_count": 83,
   "id": "143bfb3a-8f14-4df5-b77e-e7b6d6638d4a",
   "metadata": {},
   "outputs": [
    {
     "data": {
      "text/plain": [
       "array([2168.9329 , 1940.8333 , 2611.372  , 2089.6099 , 2679.9497 ,\n",
       "       2632.1973 , 2705.8389 , 2080.3982 , 1708.2314 , 2193.     ,\n",
       "       2966.4844 , 2039.5693 , 1212.4568 , 2486.9307 , 2428.887  ,\n",
       "       1738.3214 , 2477.2988 , 2192.6396 , 2532.962  , 2441.7517 ,\n",
       "       2557.3872 , 2090.3481 , 1769.5714 , 2662.0396 , 2385.7195 ,\n",
       "       1395.2593 , 2492.918  , 1684.825  , 2455.0093 , 2601.755  ,\n",
       "       2693.7852 , 1661.1577 , 2924.838  , 1732.0862 , 1829.0122 ,\n",
       "       2066.2437 , 1846.0665 , 1879.755  , 2302.1187 , 1886.084  ,\n",
       "       2230.0122 , 3042.5217 , 2419.6152 , 1946.2308 , 1660.5032 ,\n",
       "       3121.859  , 2305.4492 , 2005.5879 , 2362.4097 , 2615.8357 ,\n",
       "       1497.7537 , 2502.9524 , 1759.0015 , 2730.2114 , 2662.2627 ,\n",
       "       1453.3477 , 2324.933  , 2417.675  , 2096.768  , 1731.2864 ,\n",
       "       2491.3486 , 1850.4836 , 2428.1357 , 2276.7769 , 1843.7255 ,\n",
       "       2255.4512 , 2405.8032 , 1345.1345 , 1668.8943 , 2535.8384 ,\n",
       "       1296.7468 , 1738.2708 , 2614.7754 , 2287.6616 , 1674.1986 ,\n",
       "       1625.7876 , 1678.1873 , 2112.501  , 1858.273  , 1800.042  ,\n",
       "       2999.735  , 1910.6176 , 1838.9089 , 1548.0577 , 1764.3475 ,\n",
       "       2516.6396 , 2010.2034 , 3022.265  , 1653.7625 , 2440.7195 ,\n",
       "       2671.3086 , 1616.3018 , 2212.9363 , 1682.676  , 1595.7235 ,\n",
       "       2270.2183 , 2197.8242 , 1567.8451 , 2158.5513 , 2179.92   ,\n",
       "       2423.8308 , 1042.3522 , 1642.7882 , 2232.5107 , 2275.5022 ,\n",
       "       2709.0928 , 2463.6602 , 1986.8462 , 2141.7861 , 2085.0088 ,\n",
       "       2959.6743 , 2778.273  , 2152.9458 , 2160.8635 , 1947.717  ,\n",
       "       1562.9451 , 2337.6326 , 2059.1558 , 2098.8015 , 2299.008  ,\n",
       "       2221.7231 , 1683.1875 , 2587.7173 , 2430.066  , 2105.6663 ,\n",
       "       2097.33   , 1826.571  , 2423.4956 , 2373.9558 , 2035.9515 ,\n",
       "       2699.7236 , 2869.2324 , 2837.417  , 2153.532  , 1966.497  ,\n",
       "       1229.6964 , 1948.8108 , 1969.7638 , 2589.1611 , 1405.343  ,\n",
       "       2316.651  , 2161.7915 , 2733.6558 , 2394.6145 , 2615.065  ,\n",
       "       2541.4614 , 2449.5566 , 2428.162  , 1822.8208 , 2582.831  ,\n",
       "       2554.2136 , 1600.9592 , 2422.7007 , 1491.4723 , 2031.6866 ,\n",
       "       2432.2356 , 1492.1931 , 2311.6877 , 2433.4897 , 1606.9556 ,\n",
       "       2627.2769 , 1764.3678 , 2536.53   , 2246.373  , 1813.4393 ,\n",
       "       2333.4458 , 1668.918  , 1989.0228 , 2500.0127 , 3132.0024 ,\n",
       "       1441.8091 , 2520.8765 , 2726.0493 , 2140.3706 , 1566.8315 ,\n",
       "       2364.5002 , 1894.4132 , 2485.3723 , 2885.957  , 2283.223  ,\n",
       "       2936.1987 , 2058.9443 , 1910.585  , 2840.9124 , 1706.4119 ,\n",
       "       1677.6716 , 2400.9001 , 2098.7449 , 2250.2622 , 2973.018  ,\n",
       "       2026.8569 , 2689.8142 , 2608.7231 , 2637.3794 , 1749.5334 ,\n",
       "       2136.039  , 1943.9602 , 2683.8777 , 2305.1304 , 2554.1377 ,\n",
       "       2624.567  , 1652.7847 , 1920.5265 , 2009.4297 , 2670.2158 ,\n",
       "       2505.4072 , 2731.7515 , 2618.1016 , 2402.4849 , 2245.0166 ,\n",
       "       2757.0625 , 2260.5547 , 2460.3647 , 3155.2373 , 2799.3596 ,\n",
       "       1315.8591 , 1861.3807 , 2470.205  , 2136.976  , 2139.505  ,\n",
       "       2454.6528 , 2138.4622 , 2455.4395 , 2125.1558 , 2699.1484 ,\n",
       "       1883.4126 , 1418.7524 , 1584.9966 , 1976.3259 , 2626.2158 ,\n",
       "       1416.7236 , 1943.0388 , 2734.004  , 2408.6108 , 1548.3245 ,\n",
       "       2688.8574 , 2215.2266 , 1370.7742 , 1358.1147 , 1197.8123 ,\n",
       "       2701.2705 , 1704.6287 , 1919.9124 , 2825.0024 , 2879.858  ,\n",
       "       2791.3213 , 2698.915  , 2370.141  , 2156.894  , 1879.7355 ,\n",
       "       1792.9004 , 2020.1229 , 2667.756  , 2756.8062 , 1806.2054 ,\n",
       "       2661.3865 , 2688.9673 , 2424.1655 , 1553.5961 , 2476.2764 ,\n",
       "       2266.566  , 2325.6365 , 2662.399  , 1648.0647 , 1932.2687 ,\n",
       "       2670.546  , 1877.9076 , 2541.0393 , 2682.9106 , 2756.0002 ,\n",
       "       1876.2031 , 2231.1714 , 1936.9056 , 2720.337  , 2136.4404 ,\n",
       "       2745.3628 , 1362.8905 , 2543.815  , 2280.8418 , 2008.8098 ,\n",
       "       2112.293  , 2358.6162 , 1477.042  , 2238.6782 , 2020.6597 ,\n",
       "       2271.6404 , 2379.3584 , 2573.248  , 2222.326  , 1665.5754 ,\n",
       "       1687.9764 , 2510.3027 , 2292.6372 , 1856.4513 , 2228.5068 ,\n",
       "       2385.6355 , 1546.2968 , 2562.726  , 2422.6646 , 2608.022  ,\n",
       "       1712.647  , 2419.5498 , 2387.392  , 2527.1746 , 2593.1182 ,\n",
       "       2967.1963 , 2160.9229 , 1859.4845 , 2297.7134 , 2532.6194 ,\n",
       "       2035.9363 , 2022.0963 , 2119.2966 , 2543.0254 , 2166.6558 ,\n",
       "       2189.2952 , 2124.7778 , 1504.1144 , 2349.4346 , 2952.9272 ,\n",
       "       2616.5537 , 1627.5442 , 2549.9678 , 2414.4924 , 1850.196  ,\n",
       "       1578.104  , 1917.7623 , 2616.7097 , 2661.5193 , 1844.0591 ,\n",
       "       2145.784  , 2399.85   , 1991.543  , 1927.6353 , 2432.1086 ,\n",
       "       2902.4517 , 2409.296  , 1758.3176 , 1314.1284 , 1942.393  ,\n",
       "       2262.21   , 2577.8872 , 2624.7285 , 2193.8748 , 2229.4368 ,\n",
       "       2302.0361 , 2338.9731 , 1562.8074 , 1498.3802 , 1654.345  ,\n",
       "       2314.4868 , 2713.4758 , 2118.744  , 1395.9467 , 2280.124  ,\n",
       "       2382.536  , 2077.012  , 2218.6377 , 2227.8462 , 1984.3824 ,\n",
       "       2241.254  , 2256.6235 , 1966.9232 , 2055.4666 , 2371.4924 ,\n",
       "       2048.6167 , 2127.7656 , 2465.3792 , 2663.526  , 2926.1985 ,\n",
       "       2016.1274 , 2319.1619 , 2301.4526 , 2007.4758 , 1893.7836 ,\n",
       "       2174.2722 , 1134.2255 , 1970.874  , 2624.2454 , 1686.6837 ,\n",
       "       1570.4121 , 2019.7764 , 1661.4481 , 2347.2354 , 2038.6118 ,\n",
       "       1831.3217 , 2383.0916 , 2264.9639 , 2676.4517 , 1975.7798 ,\n",
       "       2294.533  , 1999.7238 , 1685.9916 , 2553.44   , 1899.6456 ,\n",
       "       2429.2527 , 2679.4805 , 2067.9927 , 1417.1289 , 2670.595  ,\n",
       "       1718.2008 , 2361.2373 , 1470.7588 , 2372.8755 , 1665.7798 ,\n",
       "       1805.3335 , 2509.0576 , 2259.9324 , 2052.9036 , 2266.1897 ,\n",
       "       1902.354  , 2355.3914 , 1755.0723 , 2326.2263 , 2226.3357 ,\n",
       "       2945.7703 , 1555.2451 , 1966.187  , 2329.0813 , 1736.8141 ,\n",
       "       2547.4185 , 2767.4746 , 2295.9321 , 1492.7676 , 2367.2585 ,\n",
       "       2332.9917 , 2102.7017 , 2300.083  , 1932.0881 , 2396.0955 ,\n",
       "       1520.3949 , 2802.9785 , 1562.8013 , 1390.4413 , 1949.0247 ,\n",
       "       2791.7864 , 2968.4692 , 2674.351  , 1678.1898 , 1829.5295 ,\n",
       "       1430.8022 , 2181.8484 , 2081.4634 , 2155.3005 , 2637.73   ,\n",
       "       2082.9739 , 1533.7454 , 2319.2847 , 2180.443  , 2738.5525 ,\n",
       "       2272.7446 , 1945.6162 , 2483.6348 , 1773.1283 , 2474.4692 ,\n",
       "       1820.9414 , 3051.463  , 2291.6597 , 2631.5122 , 2431.8638 ,\n",
       "       2853.5269 , 2733.4402 , 2624.9548 , 1315.6097 , 1890.1587 ,\n",
       "       2508.342  , 2465.967  ,  654.70776, 2042.2416 , 2446.3643 ,\n",
       "       1983.1449 , 2689.854  , 2137.5667 , 2600.4595 , 2488.7146 ,\n",
       "       2519.9336 , 2085.8135 , 2697.01   , 2838.7085 , 2321.6042 ,\n",
       "       2884.026  , 2299.457  , 1480.6099 , 1304.8726 , 2470.4888 ,\n",
       "       1442.485  , 2128.308  , 2466.668  , 2244.603  , 2367.833  ,\n",
       "       2028.3918 , 2416.0918 , 1815.994  , 2174.3062 , 2043.7626 ,\n",
       "       2065.5044 , 2382.3335 , 1837.3007 , 2618.4888 , 2576.9473 ,\n",
       "       1901.8591 , 2368.6519 , 2108.4282 , 2438.0474 , 2780.8125 ,\n",
       "       2571.3774 , 2386.1387 , 2221.7754 , 2777.4453 , 1580.1874 ,\n",
       "       1894.5006 , 1440.1544 , 2205.1035 , 1466.5464 , 2055.5112 ,\n",
       "       2411.5178 , 2513.5251 , 2001.7947 , 2388.4016 , 2782.205  ,\n",
       "       2668.6816 , 3027.1772 , 2783.6738 , 1877.5034 , 2783.94   ,\n",
       "       2860.689  , 2832.9565 , 2272.933  , 2545.1191 , 1986.2483 ,\n",
       "       2313.5327 , 2141.4595 , 1942.565  , 1789.106  , 1853.5398 ,\n",
       "       2770.4487 , 2750.8335 , 2792.3494 , 1676.1152 , 2524.6785 ,\n",
       "       2023.7152 , 2832.8037 , 2279.674  , 2321.21   , 2932.1367 ,\n",
       "       1848.0518 , 2896.8257 , 2411.1763 , 1965.4473 , 2280.7388 ,\n",
       "       1307.0397 , 2646.6323 , 1986.64   , 2606.4932 , 2527.9744 ,\n",
       "       2410.5225 , 1388.5442 , 2165.925  , 2017.4707 , 2649.0962 ,\n",
       "       1478.9473 , 2643.8972 , 2566.6016 , 2608.0654 , 2173.647  ,\n",
       "       2430.8213 , 1965.8378 , 2307.6401 , 2414.485  , 2739.7974 ,\n",
       "       2841.7053 , 1998.5884 , 2269.0718 , 2565.8667 , 2168.0298 ,\n",
       "       2036.2544 , 1401.2758 , 2728.9202 , 1859.5117 , 2541.5142 ,\n",
       "       2281.9849 , 3027.7605 , 2303.5752 , 1528.7133 , 2339.321  ,\n",
       "       2612.8218 , 2243.912  , 1652.3491 , 2901.0342 , 2524.289  ,\n",
       "       2696.4321 , 1806.6768 , 2083.7192 , 2739.684  , 2027.3843 ,\n",
       "       2292.829  , 2137.8438 , 1647.7689 , 2064.5554 , 2706.899  ,\n",
       "       1476.0197 , 2586.1594 , 2456.845  , 2235.5254 , 2625.59   ,\n",
       "       1762.8519 , 1508.5295 , 1460.2523 , 2096.3008 , 2820.6992 ,\n",
       "       2783.9316 , 2031.0173 , 2804.247  , 2635.2817 , 2852.6646 ,\n",
       "       1938.6755 , 2003.0214 , 1938.2971 , 2455.1733 , 2152.7607 ,\n",
       "       2416.4233 , 2552.3494 , 2528.5608 , 1264.0452 , 2336.139  ,\n",
       "       2456.9463 , 2795.5295 , 1870.5446 , 2774.7705 , 2204.8376 ,\n",
       "       2174.439  , 2896.7737 , 2205.3042 , 2592.7642 , 2623.8887 ,\n",
       "       2330.8855 , 2162.688  , 2420.2603 , 2735.2947 , 2101.393  ,\n",
       "       2509.6467 , 2712.8447 , 1550.0759 , 2438.1172 , 2237.6787 ,\n",
       "       2371.791  , 1760.2225 , 2309.351  , 1698.0983 , 2802.2737 ,\n",
       "       2582.7554 , 2287.717  , 1863.6761 , 2563.812  , 2310.5742 ,\n",
       "       2478.1094 , 2263.9473 , 1606.3911 , 2294.6934 , 2561.7517 ,\n",
       "       2804.9097 , 2200.2244 , 1778.1431 , 1857.331  , 1686.0298 ,\n",
       "       2262.5737 , 1638.9154 , 2095.6135 , 2579.6445 , 1538.9899 ,\n",
       "       2817.6858 , 2869.069  , 2775.1284 , 2277.6492 , 1766.9146 ,\n",
       "       1493.423  , 2872.8926 , 2228.0586 , 2191.5286 , 2581.4185 ,\n",
       "       2196.6665 , 2172.8225 , 2255.4468 , 1688.0532 , 1758.0569 ,\n",
       "       2197.3057 , 2629.2256 , 1984.2794 , 2340.125  , 2431.2986 ,\n",
       "       1751.1445 , 1781.0496 , 1951.8413 , 2521.583  , 2067.7231 ,\n",
       "       1895.7253 , 1705.0449 , 1807.1562 , 2819.1592 , 2343.6543 ,\n",
       "       2535.027  , 2309.3354 , 2382.1138 , 3062.1506 , 2369.1006 ,\n",
       "       2681.3208 , 2145.7173 , 2222.329  , 2737.5027 , 2320.2966 ,\n",
       "       2956.6792 , 2557.0781 , 2224.738  , 1879.3192 , 1935.1505 ,\n",
       "       2026.7344 , 1917.8275 , 2346.747  , 1742.7902 , 2425.6572 ,\n",
       "       2160.1062 , 1632.7239 , 2203.9294 , 1885.2279 , 2250.182  ,\n",
       "       2602.713  , 2263.8474 , 1947.5002 , 2478.0825 , 1926.5037 ,\n",
       "       1801.6167 , 2076.3628 , 2691.0557 , 2022.7166 , 1749.8081 ,\n",
       "       2523.686  , 1628.6931 , 2145.615  , 2275.0288 , 2487.1787 ,\n",
       "       2390.2896 , 1838.7817 , 2687.0308 , 3004.6543 , 2475.9983 ,\n",
       "       2827.53   , 1403.484  , 3297.3252 , 2195.9143 , 2109.6106 ,\n",
       "       3107.933  , 2681.3086 , 2409.0786 , 2489.662  , 2214.4558 ,\n",
       "       2466.9233 , 1826.068  , 1392.9951 , 1291.5552 , 2744.076  ,\n",
       "       2859.9575 , 2494.2556 , 3114.1306 , 2304.2935 , 3064.1377 ,\n",
       "       2769.02   , 2048.7085 , 1967.7113 , 2299.4043 , 2885.9307 ,\n",
       "       2544.4805 , 2079.021  , 2873.1914 , 2675.141  , 2471.4429 ,\n",
       "       1648.0645 , 2149.1475 , 2652.5703 , 2430.455  , 1935.842  ,\n",
       "       2005.3108 , 1897.5992 , 2027.4786 , 2232.0732 , 2288.7656 ,\n",
       "       2608.9604 , 2490.8167 , 2645.2188 , 2479.3315 , 2416.6062 ,\n",
       "       1309.6226 , 2147.3003 , 2036.6854 , 2701.9526 , 2357.334  ,\n",
       "       2128.9595 , 2005.0444 , 2329.7002 , 1616.4895 , 1497.8878 ,\n",
       "       2138.5012 , 2563.9016 , 1490.3943 , 2054.1938 , 2501.1355 ,\n",
       "       3049.3774 , 1907.7583 , 2007.8594 , 2272.753  , 2675.7783 ,\n",
       "       2255.8376 , 2722.1455 , 1904.8027 , 2648.4717 , 1758.8452 ,\n",
       "       1764.5769 , 2537.161  , 2328.2966 , 2536.095  , 2165.0605 ,\n",
       "       2562.1018 , 2199.602  , 1675.5797 , 1820.5205 , 1653.7328 ,\n",
       "       2560.1196 , 2827.673  , 1569.3774 , 1659.5369 , 2608.9224 ,\n",
       "       1931.3062 , 2237.642  , 1870.1265 , 2021.1185 , 2230.9067 ,\n",
       "       2709.5847 , 2680.0918 , 2208.7773 , 2198.6191 , 2415.9849 ,\n",
       "       2203.8577 , 2567.4314 , 1940.5566 , 1682.0302 , 1566.9473 ,\n",
       "       2734.1196 , 2522.0767 , 2800.692  , 1815.0815 , 2020.8966 ,\n",
       "       2437.664  , 2579.245  , 2735.7974 , 2435.2617 , 2220.7607 ,\n",
       "       2480.976  , 2409.94   , 3107.3076 , 2036.4944 , 2383.7002 ,\n",
       "       1859.1265 , 2216.8242 , 1456.9043 , 1832.813  , 2543.4868 ,\n",
       "       1882.9407 , 1783.2212 , 2879.8376 , 2345.0798 , 2729.2441 ,\n",
       "       2935.7903 , 2724.4993 , 2523.834  , 2638.288  , 2580.1753 ,\n",
       "       2026.2273 , 2591.1865 , 2529.8086 , 1825.7317 , 1445.3093 ,\n",
       "       2179.2832 , 1880.5527 , 2259.7617 , 2122.8184 , 2437.7886 ,\n",
       "       1756.8618 , 2544.5073 , 2610.274  ], dtype=float32)"
      ]
     },
     "execution_count": 83,
     "metadata": {},
     "output_type": "execute_result"
    }
   ],
   "source": [
    "adata_mt_filter_20.X.sum(axis = 1)"
   ]
  },
  {
   "cell_type": "code",
   "execution_count": 84,
   "id": "864a9239-8739-4ba6-a79d-83e52381469a",
   "metadata": {},
   "outputs": [],
   "source": [
    "adata_raw = adata_mt_filter_20"
   ]
  },
  {
   "cell_type": "markdown",
   "id": "282cd8b4-8c55-4597-9c34-1879db4bcaf8",
   "metadata": {},
   "source": [
    "#Clustering\n"
   ]
  },
  {
   "cell_type": "code",
   "execution_count": 85,
   "id": "88ce8518-241d-437f-88ca-5a987b786f84",
   "metadata": {},
   "outputs": [
    {
     "name": "stderr",
     "output_type": "stream",
     "text": [
      "/data1/tools/anaconda3/envs/zennaenv/lib/python3.9/site-packages/scanpy/preprocessing/_highly_variable_genes.py:215: FutureWarning: The default of observed=False is deprecated and will be changed to True in a future version of pandas. Pass observed=False to retain current behavior or observed=True to adopt the future default and silence this warning.\n",
      "  disp_grouped = df.groupby('mean_bin')['dispersions']\n"
     ]
    }
   ],
   "source": [
    "sc.pp.highly_variable_genes(adata_raw, n_top_genes = 2000)\n"
   ]
  },
  {
   "cell_type": "code",
   "execution_count": 86,
   "id": "52af5863-4e55-497c-a93a-734ca6f78af5",
   "metadata": {},
   "outputs": [
    {
     "data": {
      "text/html": [
       "<div>\n",
       "<style scoped>\n",
       "    .dataframe tbody tr th:only-of-type {\n",
       "        vertical-align: middle;\n",
       "    }\n",
       "\n",
       "    .dataframe tbody tr th {\n",
       "        vertical-align: top;\n",
       "    }\n",
       "\n",
       "    .dataframe thead th {\n",
       "        text-align: right;\n",
       "    }\n",
       "</style>\n",
       "<table border=\"1\" class=\"dataframe\">\n",
       "  <thead>\n",
       "    <tr style=\"text-align: right;\">\n",
       "      <th></th>\n",
       "      <th>mt</th>\n",
       "      <th>ribo</th>\n",
       "      <th>n_cells_by_counts</th>\n",
       "      <th>mean_counts</th>\n",
       "      <th>pct_dropout_by_counts</th>\n",
       "      <th>total_counts</th>\n",
       "      <th>n_cells</th>\n",
       "      <th>highly_variable</th>\n",
       "      <th>means</th>\n",
       "      <th>dispersions</th>\n",
       "      <th>dispersions_norm</th>\n",
       "    </tr>\n",
       "  </thead>\n",
       "  <tbody>\n",
       "    <tr>\n",
       "      <th>FO538757.2</th>\n",
       "      <td>False</td>\n",
       "      <td>False</td>\n",
       "      <td>31</td>\n",
       "      <td>0.035281</td>\n",
       "      <td>96.582139</td>\n",
       "      <td>32.0</td>\n",
       "      <td>31</td>\n",
       "      <td>False</td>\n",
       "      <td>0.127594</td>\n",
       "      <td>1.580912</td>\n",
       "      <td>0.077909</td>\n",
       "    </tr>\n",
       "    <tr>\n",
       "      <th>AP006222.2</th>\n",
       "      <td>False</td>\n",
       "      <td>False</td>\n",
       "      <td>54</td>\n",
       "      <td>0.065050</td>\n",
       "      <td>94.046307</td>\n",
       "      <td>59.0</td>\n",
       "      <td>54</td>\n",
       "      <td>False</td>\n",
       "      <td>0.167203</td>\n",
       "      <td>1.574600</td>\n",
       "      <td>0.057828</td>\n",
       "    </tr>\n",
       "    <tr>\n",
       "      <th>RP11-206L10.9</th>\n",
       "      <td>False</td>\n",
       "      <td>False</td>\n",
       "      <td>9</td>\n",
       "      <td>0.009923</td>\n",
       "      <td>99.007718</td>\n",
       "      <td>9.0</td>\n",
       "      <td>9</td>\n",
       "      <td>False</td>\n",
       "      <td>0.036360</td>\n",
       "      <td>1.446015</td>\n",
       "      <td>-0.351286</td>\n",
       "    </tr>\n",
       "    <tr>\n",
       "      <th>LINC00115</th>\n",
       "      <td>False</td>\n",
       "      <td>False</td>\n",
       "      <td>5</td>\n",
       "      <td>0.005513</td>\n",
       "      <td>99.448732</td>\n",
       "      <td>5.0</td>\n",
       "      <td>5</td>\n",
       "      <td>True</td>\n",
       "      <td>0.023670</td>\n",
       "      <td>1.813175</td>\n",
       "      <td>0.816895</td>\n",
       "    </tr>\n",
       "    <tr>\n",
       "      <th>FAM41C</th>\n",
       "      <td>False</td>\n",
       "      <td>False</td>\n",
       "      <td>12</td>\n",
       "      <td>0.015436</td>\n",
       "      <td>98.676957</td>\n",
       "      <td>14.0</td>\n",
       "      <td>12</td>\n",
       "      <td>False</td>\n",
       "      <td>0.036749</td>\n",
       "      <td>1.344087</td>\n",
       "      <td>-0.675587</td>\n",
       "    </tr>\n",
       "    <tr>\n",
       "      <th>...</th>\n",
       "      <td>...</td>\n",
       "      <td>...</td>\n",
       "      <td>...</td>\n",
       "      <td>...</td>\n",
       "      <td>...</td>\n",
       "      <td>...</td>\n",
       "      <td>...</td>\n",
       "      <td>...</td>\n",
       "      <td>...</td>\n",
       "      <td>...</td>\n",
       "      <td>...</td>\n",
       "    </tr>\n",
       "    <tr>\n",
       "      <th>AC145212.4</th>\n",
       "      <td>False</td>\n",
       "      <td>False</td>\n",
       "      <td>3</td>\n",
       "      <td>0.003308</td>\n",
       "      <td>99.669239</td>\n",
       "      <td>3.0</td>\n",
       "      <td>3</td>\n",
       "      <td>False</td>\n",
       "      <td>0.010568</td>\n",
       "      <td>1.331752</td>\n",
       "      <td>-0.714833</td>\n",
       "    </tr>\n",
       "    <tr>\n",
       "      <th>AC011043.1</th>\n",
       "      <td>False</td>\n",
       "      <td>False</td>\n",
       "      <td>20</td>\n",
       "      <td>0.023153</td>\n",
       "      <td>97.794928</td>\n",
       "      <td>21.0</td>\n",
       "      <td>20</td>\n",
       "      <td>False</td>\n",
       "      <td>0.070031</td>\n",
       "      <td>1.494305</td>\n",
       "      <td>-0.197645</td>\n",
       "    </tr>\n",
       "    <tr>\n",
       "      <th>AL592183.1</th>\n",
       "      <td>False</td>\n",
       "      <td>False</td>\n",
       "      <td>9</td>\n",
       "      <td>0.009923</td>\n",
       "      <td>99.007718</td>\n",
       "      <td>9.0</td>\n",
       "      <td>9</td>\n",
       "      <td>False</td>\n",
       "      <td>0.037559</td>\n",
       "      <td>1.464225</td>\n",
       "      <td>-0.293349</td>\n",
       "    </tr>\n",
       "    <tr>\n",
       "      <th>AC007325.4</th>\n",
       "      <td>False</td>\n",
       "      <td>False</td>\n",
       "      <td>21</td>\n",
       "      <td>0.024256</td>\n",
       "      <td>97.684675</td>\n",
       "      <td>22.0</td>\n",
       "      <td>21</td>\n",
       "      <td>False</td>\n",
       "      <td>0.068897</td>\n",
       "      <td>1.314251</td>\n",
       "      <td>-0.770517</td>\n",
       "    </tr>\n",
       "    <tr>\n",
       "      <th>AC240274.1</th>\n",
       "      <td>False</td>\n",
       "      <td>False</td>\n",
       "      <td>3</td>\n",
       "      <td>0.003308</td>\n",
       "      <td>99.669239</td>\n",
       "      <td>3.0</td>\n",
       "      <td>3</td>\n",
       "      <td>False</td>\n",
       "      <td>0.008097</td>\n",
       "      <td>0.974238</td>\n",
       "      <td>-1.852323</td>\n",
       "    </tr>\n",
       "  </tbody>\n",
       "</table>\n",
       "<p>14003 rows × 11 columns</p>\n",
       "</div>"
      ],
      "text/plain": [
       "                  mt   ribo  n_cells_by_counts  mean_counts  \\\n",
       "FO538757.2     False  False                 31     0.035281   \n",
       "AP006222.2     False  False                 54     0.065050   \n",
       "RP11-206L10.9  False  False                  9     0.009923   \n",
       "LINC00115      False  False                  5     0.005513   \n",
       "FAM41C         False  False                 12     0.015436   \n",
       "...              ...    ...                ...          ...   \n",
       "AC145212.4     False  False                  3     0.003308   \n",
       "AC011043.1     False  False                 20     0.023153   \n",
       "AL592183.1     False  False                  9     0.009923   \n",
       "AC007325.4     False  False                 21     0.024256   \n",
       "AC240274.1     False  False                  3     0.003308   \n",
       "\n",
       "               pct_dropout_by_counts  total_counts  n_cells  highly_variable  \\\n",
       "FO538757.2                 96.582139          32.0       31            False   \n",
       "AP006222.2                 94.046307          59.0       54            False   \n",
       "RP11-206L10.9              99.007718           9.0        9            False   \n",
       "LINC00115                  99.448732           5.0        5             True   \n",
       "FAM41C                     98.676957          14.0       12            False   \n",
       "...                              ...           ...      ...              ...   \n",
       "AC145212.4                 99.669239           3.0        3            False   \n",
       "AC011043.1                 97.794928          21.0       20            False   \n",
       "AL592183.1                 99.007718           9.0        9            False   \n",
       "AC007325.4                 97.684675          22.0       21            False   \n",
       "AC240274.1                 99.669239           3.0        3            False   \n",
       "\n",
       "                  means  dispersions  dispersions_norm  \n",
       "FO538757.2     0.127594     1.580912          0.077909  \n",
       "AP006222.2     0.167203     1.574600          0.057828  \n",
       "RP11-206L10.9  0.036360     1.446015         -0.351286  \n",
       "LINC00115      0.023670     1.813175          0.816895  \n",
       "FAM41C         0.036749     1.344087         -0.675587  \n",
       "...                 ...          ...               ...  \n",
       "AC145212.4     0.010568     1.331752         -0.714833  \n",
       "AC011043.1     0.070031     1.494305         -0.197645  \n",
       "AL592183.1     0.037559     1.464225         -0.293349  \n",
       "AC007325.4     0.068897     1.314251         -0.770517  \n",
       "AC240274.1     0.008097     0.974238         -1.852323  \n",
       "\n",
       "[14003 rows x 11 columns]"
      ]
     },
     "execution_count": 86,
     "metadata": {},
     "output_type": "execute_result"
    }
   ],
   "source": [
    "adata_raw.var"
   ]
  },
  {
   "cell_type": "code",
   "execution_count": 87,
   "id": "015e814c-25db-4a08-a4fc-68ae1dd1b777",
   "metadata": {},
   "outputs": [
    {
     "data": {
      "image/png": "[encoded data removed]",
      "text/plain": [
       "<Figure size 1280x480 with 2 Axes>"
      ]
     },
     "metadata": {},
     "output_type": "display_data"
    }
   ],
   "source": [
    "sc.pl.highly_variable_genes(adata_raw)"
   ]
  },
  {
   "cell_type": "code",
   "execution_count": 88,
   "id": "96a6d8ac-3342-4195-b79a-9a9d5831aab1",
   "metadata": {},
   "outputs": [
    {
     "name": "stderr",
     "output_type": "stream",
     "text": [
      "/data1/tools/anaconda3/envs/zennaenv/lib/python3.9/site-packages/anndata/_core/anndata.py:1113: FutureWarning: is_categorical_dtype is deprecated and will be removed in a future version. Use isinstance(dtype, CategoricalDtype) instead\n",
      "  if not is_categorical_dtype(df_full[k]):\n"
     ]
    }
   ],
   "source": [
    "adata_top_gene = adata_raw[:, adata_raw.var.highly_variable]"
   ]
  },
  {
   "cell_type": "code",
   "execution_count": 89,
   "id": "f06b296f-2fb0-4e6c-8bab-9865f32b268d",
   "metadata": {},
   "outputs": [
    {
     "name": "stderr",
     "output_type": "stream",
     "text": [
      "/data1/tools/anaconda3/envs/zennaenv/lib/python3.9/site-packages/scanpy/preprocessing/_simple.py:619: FutureWarning: is_categorical_dtype is deprecated and will be removed in a future version. Use isinstance(dtype, CategoricalDtype) instead\n",
      "  if keys[0] in adata.obs_keys() and is_categorical_dtype(adata.obs[keys[0]]):\n"
     ]
    }
   ],
   "source": [
    "sc.pp.regress_out(adata_top_gene, ['total_counts', 'pct_counts_mt', 'pct_counts_ribo'])\n"
   ]
  },
  {
   "cell_type": "code",
   "execution_count": 90,
   "id": "a5de0f57-83a4-448d-b7e3-b5c4e8e54258",
   "metadata": {},
   "outputs": [],
   "source": [
    "sc.pp.scale(adata_top_gene, max_value=10)\n"
   ]
  },
  {
   "cell_type": "code",
   "execution_count": 91,
   "id": "85ec119d-089b-40c4-8101-ad75c2b17877",
   "metadata": {},
   "outputs": [
    {
     "name": "stderr",
     "output_type": "stream",
     "text": [
      "/data1/tools/anaconda3/envs/zennaenv/lib/python3.9/site-packages/anndata/_core/anndata.py:1113: FutureWarning: is_categorical_dtype is deprecated and will be removed in a future version. Use isinstance(dtype, CategoricalDtype) instead\n",
      "  if not is_categorical_dtype(df_full[k]):\n"
     ]
    }
   ],
   "source": [
    "sc.tl.pca(adata_top_gene, svd_solver='arpack')\n"
   ]
  },
  {
   "cell_type": "code",
   "execution_count": 92,
   "id": "4b6d24c2-bb9e-416b-9201-8e2f36545423",
   "metadata": {},
   "outputs": [
    {
     "data": {
      "image/png": "[encoded data removed]",
      "text/plain": [
       "<Figure size 640x480 with 1 Axes>"
      ]
     },
     "metadata": {},
     "output_type": "display_data"
    }
   ],
   "source": [
    "sc.pl.pca_variance_ratio(adata_top_gene, log=True, n_pcs = 50)\n"
   ]
  },
  {
   "cell_type": "code",
   "execution_count": 93,
   "id": "0f2b178f-f081-46e3-baea-07c5cd733d43",
   "metadata": {},
   "outputs": [
    {
     "name": "stderr",
     "output_type": "stream",
     "text": [
      "/data1/tools/anaconda3/envs/zennaenv/lib/python3.9/site-packages/umap/distances.py:1063: NumbaDeprecationWarning: \u001b[1mThe 'nopython' keyword argument was not supplied to the 'numba.jit' decorator. The implicit default value for this argument is currently False, but it will be changed to True in Numba 0.59.0. See https://numba.readthedocs.io/en/stable/reference/deprecation.html#deprecation-of-object-mode-fall-back-behaviour-when-using-jit for details.\u001b[0m\n",
      "  @numba.jit()\n",
      "/data1/tools/anaconda3/envs/zennaenv/lib/python3.9/site-packages/umap/distances.py:1071: NumbaDeprecationWarning: \u001b[1mThe 'nopython' keyword argument was not supplied to the 'numba.jit' decorator. The implicit default value for this argument is currently False, but it will be changed to True in Numba 0.59.0. See https://numba.readthedocs.io/en/stable/reference/deprecation.html#deprecation-of-object-mode-fall-back-behaviour-when-using-jit for details.\u001b[0m\n",
      "  @numba.jit()\n",
      "/data1/tools/anaconda3/envs/zennaenv/lib/python3.9/site-packages/umap/distances.py:1086: NumbaDeprecationWarning: \u001b[1mThe 'nopython' keyword argument was not supplied to the 'numba.jit' decorator. The implicit default value for this argument is currently False, but it will be changed to True in Numba 0.59.0. See https://numba.readthedocs.io/en/stable/reference/deprecation.html#deprecation-of-object-mode-fall-back-behaviour-when-using-jit for details.\u001b[0m\n",
      "  @numba.jit()\n",
      "/data1/tools/anaconda3/envs/zennaenv/lib/python3.9/site-packages/umap/umap_.py:660: NumbaDeprecationWarning: \u001b[1mThe 'nopython' keyword argument was not supplied to the 'numba.jit' decorator. The implicit default value for this argument is currently False, but it will be changed to True in Numba 0.59.0. See https://numba.readthedocs.io/en/stable/reference/deprecation.html#deprecation-of-object-mode-fall-back-behaviour-when-using-jit for details.\u001b[0m\n",
      "  @numba.jit()\n"
     ]
    }
   ],
   "source": [
    "sc.pp.neighbors(adata_top_gene, n_pcs = 30)"
   ]
  },
  {
   "cell_type": "code",
   "execution_count": 94,
   "id": "b87b4aed-8998-4654-bbb5-b4464dc2cc20",
   "metadata": {},
   "outputs": [
    {
     "data": {
      "text/plain": [
       "array([[0., 0., 0., ..., 0., 0., 0.],\n",
       "       [0., 0., 0., ..., 0., 0., 0.],\n",
       "       [0., 0., 0., ..., 0., 0., 0.],\n",
       "       ...,\n",
       "       [0., 0., 0., ..., 0., 0., 0.],\n",
       "       [0., 0., 0., ..., 0., 0., 0.],\n",
       "       [0., 0., 0., ..., 0., 0., 0.]])"
      ]
     },
     "execution_count": 94,
     "metadata": {},
     "output_type": "execute_result"
    }
   ],
   "source": [
    "adata_top_gene.obsp['distances'].toarray()"
   ]
  },
  {
   "cell_type": "code",
   "execution_count": 95,
   "id": "74f197a1-55cc-4971-b8c9-ef711d1bb45c",
   "metadata": {},
   "outputs": [],
   "source": [
    "sc.tl.umap(adata_top_gene)"
   ]
  },
  {
   "cell_type": "code",
   "execution_count": 96,
   "id": "a743592e-8393-4d5a-99bb-f20f799804be",
   "metadata": {},
   "outputs": [
    {
     "name": "stderr",
     "output_type": "stream",
     "text": [
      "/data1/tools/anaconda3/envs/zennaenv/lib/python3.9/site-packages/scanpy/plotting/_tools/scatterplots.py:391: UserWarning: No data for colormapping provided via 'c'. Parameters 'cmap', 'norm' will be ignored\n",
      "  cax = scatter(\n"
     ]
    },
    {
     "data": {
      "image/png": "[encoded data removed]",
      "text/plain": [
       "<Figure size 640x480 with 1 Axes>"
      ]
     },
     "metadata": {},
     "output_type": "display_data"
    }
   ],
   "source": [
    "sc.pl.umap(adata_top_gene)"
   ]
  },
  {
   "cell_type": "code",
   "execution_count": 97,
   "id": "de463d05-0ee7-4665-945c-d5298cbb6e44",
   "metadata": {},
   "outputs": [],
   "source": [
    "sc.tl.leiden(adata_top_gene, resolution = 0.5)"
   ]
  },
  {
   "cell_type": "code",
   "execution_count": 98,
   "id": "72c4e030-c632-4303-9bcc-f829e4c274a8",
   "metadata": {},
   "outputs": [
    {
     "data": {
      "text/html": [
       "<div>\n",
       "<style scoped>\n",
       "    .dataframe tbody tr th:only-of-type {\n",
       "        vertical-align: middle;\n",
       "    }\n",
       "\n",
       "    .dataframe tbody tr th {\n",
       "        vertical-align: top;\n",
       "    }\n",
       "\n",
       "    .dataframe thead th {\n",
       "        text-align: right;\n",
       "    }\n",
       "</style>\n",
       "<table border=\"1\" class=\"dataframe\">\n",
       "  <thead>\n",
       "    <tr style=\"text-align: right;\">\n",
       "      <th></th>\n",
       "      <th>doublet</th>\n",
       "      <th>n_genes_by_counts</th>\n",
       "      <th>total_counts</th>\n",
       "      <th>total_counts_mt</th>\n",
       "      <th>pct_counts_mt</th>\n",
       "      <th>total_counts_ribo</th>\n",
       "      <th>pct_counts_ribo</th>\n",
       "      <th>leiden</th>\n",
       "    </tr>\n",
       "  </thead>\n",
       "  <tbody>\n",
       "    <tr>\n",
       "      <th>AAACCTGCATGTAAGA</th>\n",
       "      <td>False</td>\n",
       "      <td>1109</td>\n",
       "      <td>2493.0</td>\n",
       "      <td>138.0</td>\n",
       "      <td>5.535500</td>\n",
       "      <td>575.0</td>\n",
       "      <td>23.064581</td>\n",
       "      <td>2</td>\n",
       "    </tr>\n",
       "    <tr>\n",
       "      <th>AAACCTGGTGTGACGA</th>\n",
       "      <td>False</td>\n",
       "      <td>832</td>\n",
       "      <td>1487.0</td>\n",
       "      <td>52.0</td>\n",
       "      <td>3.496974</td>\n",
       "      <td>297.0</td>\n",
       "      <td>19.973101</td>\n",
       "      <td>1</td>\n",
       "    </tr>\n",
       "    <tr>\n",
       "      <th>AAACGGGTCTTGTTTG</th>\n",
       "      <td>False</td>\n",
       "      <td>1501</td>\n",
       "      <td>3134.0</td>\n",
       "      <td>59.0</td>\n",
       "      <td>1.882578</td>\n",
       "      <td>772.0</td>\n",
       "      <td>24.633057</td>\n",
       "      <td>1</td>\n",
       "    </tr>\n",
       "    <tr>\n",
       "      <th>AAAGATGGTCAGAGGT</th>\n",
       "      <td>False</td>\n",
       "      <td>1078</td>\n",
       "      <td>2467.0</td>\n",
       "      <td>30.0</td>\n",
       "      <td>1.216052</td>\n",
       "      <td>523.0</td>\n",
       "      <td>21.199837</td>\n",
       "      <td>3</td>\n",
       "    </tr>\n",
       "    <tr>\n",
       "      <th>AAAGATGGTCCAAGTT</th>\n",
       "      <td>False</td>\n",
       "      <td>1648</td>\n",
       "      <td>3816.0</td>\n",
       "      <td>55.0</td>\n",
       "      <td>1.441300</td>\n",
       "      <td>500.0</td>\n",
       "      <td>13.102725</td>\n",
       "      <td>6</td>\n",
       "    </tr>\n",
       "    <tr>\n",
       "      <th>...</th>\n",
       "      <td>...</td>\n",
       "      <td>...</td>\n",
       "      <td>...</td>\n",
       "      <td>...</td>\n",
       "      <td>...</td>\n",
       "      <td>...</td>\n",
       "      <td>...</td>\n",
       "      <td>...</td>\n",
       "    </tr>\n",
       "    <tr>\n",
       "      <th>TTTGCGCTCCTAGTGA</th>\n",
       "      <td>False</td>\n",
       "      <td>1006</td>\n",
       "      <td>1939.0</td>\n",
       "      <td>28.0</td>\n",
       "      <td>1.444043</td>\n",
       "      <td>507.0</td>\n",
       "      <td>26.147499</td>\n",
       "      <td>2</td>\n",
       "    </tr>\n",
       "    <tr>\n",
       "      <th>TTTGGTTAGGGCTTGA</th>\n",
       "      <td>False</td>\n",
       "      <td>1329</td>\n",
       "      <td>2816.0</td>\n",
       "      <td>34.0</td>\n",
       "      <td>1.207386</td>\n",
       "      <td>583.0</td>\n",
       "      <td>20.703125</td>\n",
       "      <td>3</td>\n",
       "    </tr>\n",
       "    <tr>\n",
       "      <th>TTTGGTTGTGAGTGAC</th>\n",
       "      <td>False</td>\n",
       "      <td>709</td>\n",
       "      <td>1193.0</td>\n",
       "      <td>24.0</td>\n",
       "      <td>2.011735</td>\n",
       "      <td>199.0</td>\n",
       "      <td>16.680637</td>\n",
       "      <td>2</td>\n",
       "    </tr>\n",
       "    <tr>\n",
       "      <th>TTTGTCAAGATGTCGG</th>\n",
       "      <td>False</td>\n",
       "      <td>1537</td>\n",
       "      <td>3629.0</td>\n",
       "      <td>64.0</td>\n",
       "      <td>1.763571</td>\n",
       "      <td>693.0</td>\n",
       "      <td>19.096170</td>\n",
       "      <td>7</td>\n",
       "    </tr>\n",
       "    <tr>\n",
       "      <th>TTTGTCATCTTCGAGA</th>\n",
       "      <td>False</td>\n",
       "      <td>1790</td>\n",
       "      <td>5028.0</td>\n",
       "      <td>79.0</td>\n",
       "      <td>1.571201</td>\n",
       "      <td>831.0</td>\n",
       "      <td>16.527445</td>\n",
       "      <td>0</td>\n",
       "    </tr>\n",
       "  </tbody>\n",
       "</table>\n",
       "<p>888 rows × 8 columns</p>\n",
       "</div>"
      ],
      "text/plain": [
       "                  doublet  n_genes_by_counts  total_counts  total_counts_mt  \\\n",
       "AAACCTGCATGTAAGA    False               1109        2493.0            138.0   \n",
       "AAACCTGGTGTGACGA    False                832        1487.0             52.0   \n",
       "AAACGGGTCTTGTTTG    False               1501        3134.0             59.0   \n",
       "AAAGATGGTCAGAGGT    False               1078        2467.0             30.0   \n",
       "AAAGATGGTCCAAGTT    False               1648        3816.0             55.0   \n",
       "...                   ...                ...           ...              ...   \n",
       "TTTGCGCTCCTAGTGA    False               1006        1939.0             28.0   \n",
       "TTTGGTTAGGGCTTGA    False               1329        2816.0             34.0   \n",
       "TTTGGTTGTGAGTGAC    False                709        1193.0             24.0   \n",
       "TTTGTCAAGATGTCGG    False               1537        3629.0             64.0   \n",
       "TTTGTCATCTTCGAGA    False               1790        5028.0             79.0   \n",
       "\n",
       "                  pct_counts_mt  total_counts_ribo  pct_counts_ribo leiden  \n",
       "AAACCTGCATGTAAGA       5.535500              575.0        23.064581      2  \n",
       "AAACCTGGTGTGACGA       3.496974              297.0        19.973101      1  \n",
       "AAACGGGTCTTGTTTG       1.882578              772.0        24.633057      1  \n",
       "AAAGATGGTCAGAGGT       1.216052              523.0        21.199837      3  \n",
       "AAAGATGGTCCAAGTT       1.441300              500.0        13.102725      6  \n",
       "...                         ...                ...              ...    ...  \n",
       "TTTGCGCTCCTAGTGA       1.444043              507.0        26.147499      2  \n",
       "TTTGGTTAGGGCTTGA       1.207386              583.0        20.703125      3  \n",
       "TTTGGTTGTGAGTGAC       2.011735              199.0        16.680637      2  \n",
       "TTTGTCAAGATGTCGG       1.763571              693.0        19.096170      7  \n",
       "TTTGTCATCTTCGAGA       1.571201              831.0        16.527445      0  \n",
       "\n",
       "[888 rows x 8 columns]"
      ]
     },
     "execution_count": 98,
     "metadata": {},
     "output_type": "execute_result"
    }
   ],
   "source": [
    "adata_top_gene.obs"
   ]
  },
  {
   "cell_type": "code",
   "execution_count": 99,
   "id": "afbcd863-2bf1-42a8-b4b3-6c5e77c0a290",
   "metadata": {},
   "outputs": [
    {
     "name": "stderr",
     "output_type": "stream",
     "text": [
      "/data1/tools/anaconda3/envs/zennaenv/lib/python3.9/site-packages/scanpy/plotting/_tools/scatterplots.py:1207: FutureWarning: is_categorical_dtype is deprecated and will be removed in a future version. Use isinstance(dtype, CategoricalDtype) instead\n",
      "  if not is_categorical_dtype(values):\n",
      "/data1/tools/anaconda3/envs/zennaenv/lib/python3.9/site-packages/scanpy/plotting/_tools/scatterplots.py:1216: FutureWarning: The default value of 'ignore' for the `na_action` parameter in pandas.Categorical.map is deprecated and will be changed to 'None' in a future version. Please set na_action to the desired value to avoid seeing this warning\n",
      "  color_vector = pd.Categorical(values.map(color_map))\n",
      "/data1/tools/anaconda3/envs/zennaenv/lib/python3.9/site-packages/scanpy/plotting/_tools/scatterplots.py:391: UserWarning: No data for colormapping provided via 'c'. Parameters 'cmap' will be ignored\n",
      "  cax = scatter(\n"
     ]
    },
    {
     "data": {
      "image/png": "[encoded data removed]",
      "text/plain": [
       "<Figure size 640x480 with 1 Axes>"
      ]
     },
     "metadata": {},
     "output_type": "display_data"
    }
   ],
   "source": [
    "sc.pl.umap(adata_top_gene,color=['leiden'])"
   ]
  },
  {
   "cell_type": "code",
   "execution_count": 100,
   "id": "ce5ade82-d995-4275-bfe7-7a6ca667921a",
   "metadata": {},
   "outputs": [],
   "source": [
    "def extract_name(filePath):\n",
    "    filename = os.path.basename(filePath)\n",
    "    status = filename.split('_')[-1].split('.')[0]\n",
    "    return status"
   ]
  },
  {
   "cell_type": "code",
   "execution_count": 101,
   "id": "ca6b151e-6838-47bc-9620-64e527c73b73",
   "metadata": {},
   "outputs": [],
   "source": [
    "def extract_name_index(filePath):\n",
    "    # Get the file name without extension\n",
    "    filename = os.path.splitext(os.path.basename(filePath))[0]\n",
    "    # Split the filename by underscore and return the last part\n",
    "    parts = filename.split('_')\n",
    "    return parts[-2] + \"_\" + parts[-1]"
   ]
  },
  {
   "cell_type": "code",
   "execution_count": 102,
   "id": "eab6d87c-201c-4220-87be-5ff5ea00b0e4",
   "metadata": {},
   "outputs": [],
   "source": [
    "def pp(csv_path):\n",
    "    new_adata = sc.read_csv(csv_path).T\n",
    "    sc.pp.filter_genes(new_adata, min_cells = 10)\n",
    "    sc.pp.highly_variable_genes(new_adata, n_top_genes = 2000, subset = True, flavor = 'seurat_v3')\n",
    "    scvi.model.SCVI.setup_anndata(new_adata)\n",
    "    vae = scvi.model.SCVI(new_adata)\n",
    "    vae.train()\n",
    "    solo = scvi.external.SOLO.from_scvi_model(vae)\n",
    "    solo.train()\n",
    "    df = solo.predict()\n",
    "    df['prediction'] = solo.predict(soft = False)\n",
    "    df.index = df.index.map(lambda x: x[:-2])\n",
    "    df['dif'] = df.doublet - df.singlet\n",
    "    doublets = df[(df.prediction == 'doublet') & (df.dif > 1)]\n",
    "    \n",
    "    new_adata = sc.read_csv(csv_path).T\n",
    "    new_adata.obs['Sample'] = extract_name_index(csv_path) # csv_path.split('_')[2] #'raw_counts/GSM5226574_Diabetes_raw_counts.csv'\n",
    "    \n",
    "    new_adata.obs['doublet'] = new_adata.obs.index.isin(doublets.index)\n",
    "    new_adata = new_adata[~new_adata.obs.doublet]\n",
    "    \n",
    "    \n",
    "    sc.pp.filter_cells(new_adata, min_genes=200) #get rid of cells with fewer than 200 genes\n",
    "    #sc.pp.filter_genes(new_adata, min_cells=3) #get rid of genes that are found in fewer than 3 cells\n",
    "    new_adata.var['mt'] = new_adata.var_names.str.startswith('mt-')  # annotate the group of mitochondrial genes as 'mt'\n",
    "    new_adata.var['ribo'] = new_adata.var_names.isin(ribo_genes[0].values)\n",
    "    sc.pp.calculate_qc_metrics(new_adata, qc_vars=['mt', 'ribo'], percent_top=None, log1p=False, inplace=True)\n",
    "    upper_lim = np.quantile(new_adata.obs.n_genes_by_counts.values, .98)\n",
    "    new_adata = new_adata[new_adata.obs.n_genes_by_counts < upper_lim]\n",
    "    new_adata = new_adata[new_adata.obs.pct_counts_mt < 20]\n",
    "\n",
    "    return new_adata"
   ]
  },
  {
   "cell_type": "code",
   "execution_count": 103,
   "id": "e996a343-8216-48e8-be32-ad360303b320",
   "metadata": {},
   "outputs": [],
   "source": [
    "import os"
   ]
  },
  {
   "cell_type": "code",
   "execution_count": null,
   "id": "b67e0620-58b0-4986-aca9-3a83cd7ede14",
   "metadata": {
    "scrolled": true
   },
   "outputs": [
    {
     "name": "stderr",
     "output_type": "stream",
     "text": [
      "/data1/tools/anaconda3/envs/zennaenv/lib/python3.9/site-packages/anndata/_core/anndata.py:1113: FutureWarning: is_categorical_dtype is deprecated and will be removed in a future version. Use isinstance(dtype, CategoricalDtype) instead\n",
      "  if not is_categorical_dtype(df_full[k]):\n",
      "/data1/tools/anaconda3/envs/zennaenv/lib/python3.9/site-packages/anndata/_core/anndata.py:1113: FutureWarning: is_categorical_dtype is deprecated and will be removed in a future version. Use isinstance(dtype, CategoricalDtype) instead\n",
      "  if not is_categorical_dtype(df_full[k]):\n",
      "GPU available: True (cuda), used: True\n",
      "TPU available: False, using: 0 TPU cores\n",
      "IPU available: False, using: 0 IPUs\n",
      "HPU available: False, using: 0 HPUs\n",
      "LOCAL_RANK: 0 - CUDA_VISIBLE_DEVICES: [0]\n",
      "/data1/tools/anaconda3/envs/zennaenv/lib/python3.9/site-packages/lightning/pytorch/loops/fit_loop.py:281: PossibleUserWarning: The number of training batches (8) is smaller than the logging interval Trainer(log_every_n_steps=10). Set a lower value for log_every_n_steps if you want to see logs for the training epoch.\n",
      "  rank_zero_warn(\n"
     ]
    },
    {
     "name": "stdout",
     "output_type": "stream",
     "text": [
      "Epoch 400/400: 100%|█| 400/400 [00:22<00:00, 18.86it/s, v_num=1, train_loss_step"
     ]
    },
    {
     "name": "stderr",
     "output_type": "stream",
     "text": [
      "`Trainer.fit` stopped: `max_epochs=400` reached.\n"
     ]
    },
    {
     "name": "stdout",
     "output_type": "stream",
     "text": [
      "Epoch 400/400: 100%|█| 400/400 [00:22<00:00, 17.85it/s, v_num=1, train_loss_step\n",
      "\u001b[34mINFO    \u001b[0m Creating doublets, preparing SOLO model.                                                                  \n"
     ]
    },
    {
     "name": "stderr",
     "output_type": "stream",
     "text": [
      "/data1/tools/anaconda3/envs/zennaenv/lib/python3.9/site-packages/anndata/_core/merge.py:217: FutureWarning: is_categorical_dtype is deprecated and will be removed in a future version. Use isinstance(dtype, CategoricalDtype) instead\n",
      "  if pd.api.types.is_categorical_dtype(dtype):\n",
      "GPU available: True (cuda), used: True\n",
      "TPU available: False, using: 0 TPU cores\n",
      "IPU available: False, using: 0 IPUs\n",
      "HPU available: False, using: 0 HPUs\n",
      "LOCAL_RANK: 0 - CUDA_VISIBLE_DEVICES: [0]\n"
     ]
    },
    {
     "name": "stdout",
     "output_type": "stream",
     "text": [
      "Epoch 307/400:  77%|▊| 307/400 [00:13<00:04, 22.37it/s, v_num=1, train_loss_step\n",
      "Monitored metric validation_loss did not improve in the last 30 records. Best score: 0.410. Signaling Trainer to stop.\n"
     ]
    },
    {
     "name": "stderr",
     "output_type": "stream",
     "text": [
      "/data1/tools/anaconda3/envs/zennaenv/lib/python3.9/site-packages/anndata/_core/anndata.py:1113: FutureWarning: is_categorical_dtype is deprecated and will be removed in a future version. Use isinstance(dtype, CategoricalDtype) instead\n",
      "  if not is_categorical_dtype(df_full[k]):\n",
      "/data1/tools/anaconda3/envs/zennaenv/lib/python3.9/site-packages/scanpy/preprocessing/_simple.py:139: ImplicitModificationWarning: Trying to modify attribute `.obs` of view, initializing view as actual.\n",
      "  adata.obs['n_genes'] = number\n",
      "/data1/tools/anaconda3/envs/zennaenv/lib/python3.9/site-packages/anndata/_core/anndata.py:1113: FutureWarning: is_categorical_dtype is deprecated and will be removed in a future version. Use isinstance(dtype, CategoricalDtype) instead\n",
      "  if not is_categorical_dtype(df_full[k]):\n",
      "/data1/tools/anaconda3/envs/zennaenv/lib/python3.9/site-packages/anndata/_core/anndata.py:1113: FutureWarning: is_categorical_dtype is deprecated and will be removed in a future version. Use isinstance(dtype, CategoricalDtype) instead\n",
      "  if not is_categorical_dtype(df_full[k]):\n",
      "/data1/tools/anaconda3/envs/zennaenv/lib/python3.9/site-packages/anndata/_core/anndata.py:1113: FutureWarning: is_categorical_dtype is deprecated and will be removed in a future version. Use isinstance(dtype, CategoricalDtype) instead\n",
      "  if not is_categorical_dtype(df_full[k]):\n",
      "/data1/tools/anaconda3/envs/zennaenv/lib/python3.9/site-packages/anndata/_core/anndata.py:1113: FutureWarning: is_categorical_dtype is deprecated and will be removed in a future version. Use isinstance(dtype, CategoricalDtype) instead\n",
      "  if not is_categorical_dtype(df_full[k]):\n",
      "GPU available: True (cuda), used: True\n",
      "TPU available: False, using: 0 TPU cores\n",
      "IPU available: False, using: 0 IPUs\n",
      "HPU available: False, using: 0 HPUs\n",
      "LOCAL_RANK: 0 - CUDA_VISIBLE_DEVICES: [0]\n"
     ]
    },
    {
     "name": "stdout",
     "output_type": "stream",
     "text": [
      "Epoch 400/400: 100%|█| 400/400 [01:23<00:00,  4.85it/s, v_num=1, train_loss_step"
     ]
    },
    {
     "name": "stderr",
     "output_type": "stream",
     "text": [
      "`Trainer.fit` stopped: `max_epochs=400` reached.\n"
     ]
    },
    {
     "name": "stdout",
     "output_type": "stream",
     "text": [
      "Epoch 400/400: 100%|█| 400/400 [01:23<00:00,  4.79it/s, v_num=1, train_loss_step\n",
      "\u001b[34mINFO    \u001b[0m Creating doublets, preparing SOLO model.                                                                  \n"
     ]
    },
    {
     "name": "stderr",
     "output_type": "stream",
     "text": [
      "/data1/tools/anaconda3/envs/zennaenv/lib/python3.9/site-packages/anndata/_core/merge.py:217: FutureWarning: is_categorical_dtype is deprecated and will be removed in a future version. Use isinstance(dtype, CategoricalDtype) instead\n",
      "  if pd.api.types.is_categorical_dtype(dtype):\n",
      "GPU available: True (cuda), used: True\n",
      "TPU available: False, using: 0 TPU cores\n",
      "IPU available: False, using: 0 IPUs\n",
      "HPU available: False, using: 0 HPUs\n",
      "LOCAL_RANK: 0 - CUDA_VISIBLE_DEVICES: [0]\n"
     ]
    },
    {
     "name": "stdout",
     "output_type": "stream",
     "text": [
      "Epoch 400/400: 100%|█| 400/400 [01:08<00:00,  5.93it/s, v_num=1, train_loss_step"
     ]
    },
    {
     "name": "stderr",
     "output_type": "stream",
     "text": [
      "`Trainer.fit` stopped: `max_epochs=400` reached.\n"
     ]
    },
    {
     "name": "stdout",
     "output_type": "stream",
     "text": [
      "Epoch 400/400: 100%|█| 400/400 [01:08<00:00,  5.88it/s, v_num=1, train_loss_step\n"
     ]
    },
    {
     "name": "stderr",
     "output_type": "stream",
     "text": [
      "/data1/tools/anaconda3/envs/zennaenv/lib/python3.9/site-packages/anndata/_core/anndata.py:1113: FutureWarning: is_categorical_dtype is deprecated and will be removed in a future version. Use isinstance(dtype, CategoricalDtype) instead\n",
      "  if not is_categorical_dtype(df_full[k]):\n",
      "/data1/tools/anaconda3/envs/zennaenv/lib/python3.9/site-packages/scanpy/preprocessing/_simple.py:139: ImplicitModificationWarning: Trying to modify attribute `.obs` of view, initializing view as actual.\n",
      "  adata.obs['n_genes'] = number\n",
      "/data1/tools/anaconda3/envs/zennaenv/lib/python3.9/site-packages/anndata/_core/anndata.py:1113: FutureWarning: is_categorical_dtype is deprecated and will be removed in a future version. Use isinstance(dtype, CategoricalDtype) instead\n",
      "  if not is_categorical_dtype(df_full[k]):\n",
      "/data1/tools/anaconda3/envs/zennaenv/lib/python3.9/site-packages/anndata/_core/anndata.py:1113: FutureWarning: is_categorical_dtype is deprecated and will be removed in a future version. Use isinstance(dtype, CategoricalDtype) instead\n",
      "  if not is_categorical_dtype(df_full[k]):\n",
      "/data1/tools/anaconda3/envs/zennaenv/lib/python3.9/site-packages/anndata/_core/anndata.py:1113: FutureWarning: is_categorical_dtype is deprecated and will be removed in a future version. Use isinstance(dtype, CategoricalDtype) instead\n",
      "  if not is_categorical_dtype(df_full[k]):\n",
      "/data1/tools/anaconda3/envs/zennaenv/lib/python3.9/site-packages/anndata/_core/anndata.py:1113: FutureWarning: is_categorical_dtype is deprecated and will be removed in a future version. Use isinstance(dtype, CategoricalDtype) instead\n",
      "  if not is_categorical_dtype(df_full[k]):\n",
      "GPU available: True (cuda), used: True\n",
      "TPU available: False, using: 0 TPU cores\n",
      "IPU available: False, using: 0 IPUs\n",
      "HPU available: False, using: 0 HPUs\n",
      "LOCAL_RANK: 0 - CUDA_VISIBLE_DEVICES: [0]\n"
     ]
    },
    {
     "name": "stdout",
     "output_type": "stream",
     "text": [
      "Epoch 400/400: 100%|█| 400/400 [01:21<00:00,  4.95it/s, v_num=1, train_loss_step"
     ]
    },
    {
     "name": "stderr",
     "output_type": "stream",
     "text": [
      "`Trainer.fit` stopped: `max_epochs=400` reached.\n"
     ]
    },
    {
     "name": "stdout",
     "output_type": "stream",
     "text": [
      "Epoch 400/400: 100%|█| 400/400 [01:21<00:00,  4.91it/s, v_num=1, train_loss_step\n",
      "\u001b[34mINFO    \u001b[0m Creating doublets, preparing SOLO model.                                                                  \n"
     ]
    },
    {
     "name": "stderr",
     "output_type": "stream",
     "text": [
      "/data1/tools/anaconda3/envs/zennaenv/lib/python3.9/site-packages/anndata/_core/merge.py:217: FutureWarning: is_categorical_dtype is deprecated and will be removed in a future version. Use isinstance(dtype, CategoricalDtype) instead\n",
      "  if pd.api.types.is_categorical_dtype(dtype):\n",
      "GPU available: True (cuda), used: True\n",
      "TPU available: False, using: 0 TPU cores\n",
      "IPU available: False, using: 0 IPUs\n",
      "HPU available: False, using: 0 HPUs\n",
      "LOCAL_RANK: 0 - CUDA_VISIBLE_DEVICES: [0]\n"
     ]
    },
    {
     "name": "stdout",
     "output_type": "stream",
     "text": [
      "Epoch 317/400:  79%|▊| 317/400 [00:52<00:13,  6.09it/s, v_num=1, train_loss_step\n",
      "Monitored metric validation_loss did not improve in the last 30 records. Best score: 0.226. Signaling Trainer to stop.\n"
     ]
    },
    {
     "name": "stderr",
     "output_type": "stream",
     "text": [
      "/data1/tools/anaconda3/envs/zennaenv/lib/python3.9/site-packages/anndata/_core/anndata.py:1113: FutureWarning: is_categorical_dtype is deprecated and will be removed in a future version. Use isinstance(dtype, CategoricalDtype) instead\n",
      "  if not is_categorical_dtype(df_full[k]):\n",
      "/data1/tools/anaconda3/envs/zennaenv/lib/python3.9/site-packages/scanpy/preprocessing/_simple.py:139: ImplicitModificationWarning: Trying to modify attribute `.obs` of view, initializing view as actual.\n",
      "  adata.obs['n_genes'] = number\n",
      "/data1/tools/anaconda3/envs/zennaenv/lib/python3.9/site-packages/anndata/_core/anndata.py:1113: FutureWarning: is_categorical_dtype is deprecated and will be removed in a future version. Use isinstance(dtype, CategoricalDtype) instead\n",
      "  if not is_categorical_dtype(df_full[k]):\n",
      "/data1/tools/anaconda3/envs/zennaenv/lib/python3.9/site-packages/anndata/_core/anndata.py:1113: FutureWarning: is_categorical_dtype is deprecated and will be removed in a future version. Use isinstance(dtype, CategoricalDtype) instead\n",
      "  if not is_categorical_dtype(df_full[k]):\n",
      "/data1/tools/anaconda3/envs/zennaenv/lib/python3.9/site-packages/anndata/_core/anndata.py:1113: FutureWarning: is_categorical_dtype is deprecated and will be removed in a future version. Use isinstance(dtype, CategoricalDtype) instead\n",
      "  if not is_categorical_dtype(df_full[k]):\n",
      "/data1/tools/anaconda3/envs/zennaenv/lib/python3.9/site-packages/anndata/_core/anndata.py:1113: FutureWarning: is_categorical_dtype is deprecated and will be removed in a future version. Use isinstance(dtype, CategoricalDtype) instead\n",
      "  if not is_categorical_dtype(df_full[k]):\n",
      "GPU available: True (cuda), used: True\n",
      "TPU available: False, using: 0 TPU cores\n",
      "IPU available: False, using: 0 IPUs\n",
      "HPU available: False, using: 0 HPUs\n",
      "LOCAL_RANK: 0 - CUDA_VISIBLE_DEVICES: [0]\n"
     ]
    },
    {
     "name": "stdout",
     "output_type": "stream",
     "text": [
      "Epoch 400/400: 100%|█| 400/400 [00:52<00:00,  7.74it/s, v_num=1, train_loss_step"
     ]
    },
    {
     "name": "stderr",
     "output_type": "stream",
     "text": [
      "`Trainer.fit` stopped: `max_epochs=400` reached.\n"
     ]
    },
    {
     "name": "stdout",
     "output_type": "stream",
     "text": [
      "Epoch 400/400: 100%|█| 400/400 [00:52<00:00,  7.57it/s, v_num=1, train_loss_step\n",
      "\u001b[34mINFO    \u001b[0m Creating doublets, preparing SOLO model.                                                                  \n"
     ]
    },
    {
     "name": "stderr",
     "output_type": "stream",
     "text": [
      "/data1/tools/anaconda3/envs/zennaenv/lib/python3.9/site-packages/anndata/_core/merge.py:217: FutureWarning: is_categorical_dtype is deprecated and will be removed in a future version. Use isinstance(dtype, CategoricalDtype) instead\n",
      "  if pd.api.types.is_categorical_dtype(dtype):\n",
      "GPU available: True (cuda), used: True\n",
      "TPU available: False, using: 0 TPU cores\n",
      "IPU available: False, using: 0 IPUs\n",
      "HPU available: False, using: 0 HPUs\n",
      "LOCAL_RANK: 0 - CUDA_VISIBLE_DEVICES: [0]\n"
     ]
    },
    {
     "name": "stdout",
     "output_type": "stream",
     "text": [
      "Epoch 344/400:  86%|▊| 344/400 [00:35<00:05,  9.71it/s, v_num=1, train_loss_step"
     ]
    }
   ],
   "source": [
    "out = []\n",
    "file_path = '/data2/ZenNa/DFU_Project/Data/Footskin/'\n",
    "for file in os.listdir(file_path):\n",
    "    out.append(pp(file_path + file))"
   ]
  },
  {
   "cell_type": "code",
   "execution_count": null,
   "id": "d80f207b-9589-4880-b67e-78ada8dd44ae",
   "metadata": {},
   "outputs": [],
   "source": [
    "out [0]\n",
    "adata_integrate = sc.concat(out)\n",
    "sc.pp.filter_genes(adata_integrate, min_cells = 10)\n",
    "adata_integrate.X\n",
    "from scipy.sparse import csr_matrix\n"
   ]
  },
  {
   "cell_type": "code",
   "execution_count": null,
   "id": "9915ce3f-a07e-417e-af71-6d131648ca45",
   "metadata": {},
   "outputs": [],
   "source": [
    "adata_integrate.X = csr_matrix(adata_integrate.X)"
   ]
  },
  {
   "cell_type": "code",
   "execution_count": null,
   "id": "0b3c6d03-6520-4809-adbf-a5b4590163f0",
   "metadata": {},
   "outputs": [],
   "source": [
    "adata_integrate.X"
   ]
  },
  {
   "cell_type": "code",
   "execution_count": null,
   "id": "4f84a5b1-f69a-4900-9f43-4d4ff972a5b7",
   "metadata": {},
   "outputs": [],
   "source": [
    "adata_integrate.write_h5ad('combined.h5ad')"
   ]
  },
  {
   "cell_type": "code",
   "execution_count": null,
   "id": "63bc921d-b4c6-4c0e-b988-4239b93166ad",
   "metadata": {},
   "outputs": [],
   "source": [
    "adata_integrate = sc.read_h5ad('combined.h5ad')"
   ]
  },
  {
   "cell_type": "code",
   "execution_count": null,
   "id": "d16946aa-ba42-4e53-b9fd-a39ab9881cb2",
   "metadata": {},
   "outputs": [],
   "source": [
    "adata_integrate.obs.groupby('Sample').count()"
   ]
  },
  {
   "cell_type": "code",
   "execution_count": null,
   "id": "427eea98-4f1e-4079-9d58-d342d725f46f",
   "metadata": {},
   "outputs": [],
   "source": [
    "sc.pp.filter_genes(adata_integrate, min_cells = 100)"
   ]
  },
  {
   "cell_type": "code",
   "execution_count": null,
   "id": "79ba79a2-4249-400a-81db-610f266c386d",
   "metadata": {},
   "outputs": [],
   "source": [
    "adata_integrate"
   ]
  },
  {
   "cell_type": "code",
   "execution_count": null,
   "id": "27f1757e-fc6c-4043-a9e1-b68f233b1ba9",
   "metadata": {},
   "outputs": [],
   "source": [
    "adata_integrate.layers['counts'] = adata_integrate.X.copy()"
   ]
  },
  {
   "cell_type": "code",
   "execution_count": null,
   "id": "2a25e2de-436e-4d12-9842-17d9c1520973",
   "metadata": {},
   "outputs": [],
   "source": [
    "sc.pp.normalize_total(adata_integrate, target_sum = 1e4)\n",
    "sc.pp.log1p(adata_integrate)\n",
    "adata_integrate.raw = adata_integrate"
   ]
  },
  {
   "cell_type": "code",
   "execution_count": null,
   "id": "866facee-ee49-449c-9733-68921b56ebab",
   "metadata": {},
   "outputs": [],
   "source": [
    "adata_integrate.obs.head()"
   ]
  },
  {
   "cell_type": "code",
   "execution_count": null,
   "id": "03ff02ea-a9da-4ec4-977e-18fe8dcfa9c9",
   "metadata": {},
   "outputs": [],
   "source": [
    "adata_integrate"
   ]
  },
  {
   "cell_type": "code",
   "execution_count": null,
   "id": "442e8523-1251-4487-9183-df1150f49ff2",
   "metadata": {},
   "outputs": [],
   "source": [
    "sc.pp.normalize_total(adata_integrate, target_sum = 1e4)\n",
    "sc.pp.log1p(adata_integrate)\n",
    "adata_integrate_raw = adata_integrate"
   ]
  },
  {
   "cell_type": "code",
   "execution_count": null,
   "id": "7593640a-ba6d-459a-9ffb-eb3fcce3769f",
   "metadata": {},
   "outputs": [],
   "source": [
    "adata_integrate_raw.obs.head()"
   ]
  },
  {
   "cell_type": "code",
   "execution_count": null,
   "id": "3c9fa27c-daad-46ca-a3a8-cbb0a09940bd",
   "metadata": {},
   "outputs": [],
   "source": [
    "scvi.model.SCVI.setup_anndata(adata_integrate_raw, layer = \"counts\",\n",
    "                             categorical_covariate_keys=[\"Sample\"],\n",
    "                             continuous_covariate_keys=['pct_counts_mt', 'total_counts', 'pct_counts_ribo'])\n",
    "\n",
    "model = scvi.model.SCVI(adata_integrate_raw)\n"
   ]
  },
  {
   "cell_type": "code",
   "execution_count": null,
   "id": "5e3b7a97-b062-4125-a0b1-10dbe94ee6bb",
   "metadata": {},
   "outputs": [],
   "source": [
    "model.train() #may take a while without GPU"
   ]
  },
  {
   "cell_type": "code",
   "execution_count": null,
   "id": "44ecf358-e284-4158-8251-6887b40503fc",
   "metadata": {},
   "outputs": [],
   "source": [
    "## save model after training finish\n",
    "dir_path2 = '/data2/ZenNa/DFU_Project/Code/Model' \n",
    "model.save(dir_path,overwrite=True)\n",
    "adata_integrate_raw.write_h5ad('adata_integrate_raw.h5ad')"
   ]
  },
  {
   "cell_type": "code",
   "execution_count": null,
   "id": "bbfa4ced-db93-4d75-a6bf-c41ab8395caf",
   "metadata": {},
   "outputs": [],
   "source": [
    "adata_integrate_raw.obsm['X_scVI'] = model.get_latent_representation()"
   ]
  },
  {
   "cell_type": "code",
   "execution_count": null,
   "id": "f6349a7c-f41a-4ed9-aa43-da85b85d382c",
   "metadata": {},
   "outputs": [],
   "source": [
    "adata_integrate_raw.layers['scvi_normalized'] = model.get_normalized_expression(library_size = 1e4)"
   ]
  },
  {
   "cell_type": "code",
   "execution_count": null,
   "id": "f30cc7be-d723-4c31-9637-38100d5a6640",
   "metadata": {},
   "outputs": [],
   "source": [
    "sc.pp.neighbors(adata_integrate_raw, use_rep = 'X_scVI')"
   ]
  },
  {
   "cell_type": "code",
   "execution_count": null,
   "id": "8a5f347f-4aff-47ed-911d-ec1ce97dd586",
   "metadata": {},
   "outputs": [],
   "source": [
    "sc.tl.umap(adata_integrate_raw)\n",
    "sc.tl.leiden(adata_integrate_raw, resolution = 0.2)"
   ]
  },
  {
   "cell_type": "code",
   "execution_count": null,
   "id": "2d3aae0b-92f5-49dd-a834-a828c4410e68",
   "metadata": {
    "scrolled": true
   },
   "outputs": [],
   "source": [
    "sc.pl.umap(adata_integrate_raw, color = ['leiden', 'Sample'], frameon = False)"
   ]
  },
  {
   "cell_type": "code",
   "execution_count": null,
   "id": "18f0954c-5c9c-4489-907d-dc9d60e7ecf8",
   "metadata": {},
   "outputs": [],
   "source": [
    "sc.tl.rank_genes_groups(adata_integrate_raw, 'leiden')"
   ]
  },
  {
   "cell_type": "code",
   "execution_count": null,
   "id": "94f81d9d-ff06-4aa3-b6fd-16dfff0024c8",
   "metadata": {},
   "outputs": [],
   "source": [
    "markers = sc.get.rank_genes_groups_df(adata_integrate_raw, None)\n",
    "markers = markers[(markers.pvals_adj < 0.05) & (markers.logfoldchanges > .5)]\n",
    "markers"
   ]
  },
  {
   "cell_type": "code",
   "execution_count": null,
   "id": "4ba281c0-e66e-4a02-8851-e4cf387c3803",
   "metadata": {},
   "outputs": [],
   "source": [
    "markers_scvi = model.differential_expression(groupby = 'leiden')\n",
    "markers_scvi"
   ]
  },
  {
   "cell_type": "code",
   "execution_count": null,
   "id": "58746e85-e8d6-438e-8293-312b96b6e2bc",
   "metadata": {},
   "outputs": [],
   "source": [
    "markers_scvi_filled = markers_scvi[(markers_scvi['is_de_fdr_0.05']) & (markers_scvi.lfc_mean > .5)]\n",
    "markers_scvi_filled"
   ]
  },
  {
   "cell_type": "code",
   "execution_count": null,
   "id": "1d50527e-6a1b-4e45-8086-9a5e0d3e04e2",
   "metadata": {
    "scrolled": true
   },
   "outputs": [],
   "source": [
    "sc.pl.umap(adata_integrate_raw, color = ['leiden'], frameon = False, legend_loc = \"on data\")"
   ]
  },
  {
   "cell_type": "code",
   "execution_count": null,
   "id": "19e820d4-3e44-40bc-98d8-2417316f3186",
   "metadata": {},
   "outputs": [],
   "source": [
    "sc.pl.umap(adata_integrate_raw, color = ['PECAM1', 'ACKR1'], frameon = False, layer = 'scvi_normalized', vmax = 5) #Vascular epithelial\n"
   ]
  },
  {
   "cell_type": "code",
   "execution_count": null,
   "id": "82a90277-1b64-4204-89e8-f8c864b70f7a",
   "metadata": {},
   "outputs": [],
   "source": [
    "markers[markers.names == 'PECAM1']"
   ]
  },
  {
   "cell_type": "code",
   "execution_count": null,
   "id": "e7a0f36f-f971-4a78-93d8-b31059774659",
   "metadata": {},
   "outputs": [],
   "source": [
    "markers[markers.names == 'ACKR1']\n"
   ]
  },
  {
   "cell_type": "code",
   "execution_count": null,
   "id": "b5ad6276-5c8d-4bfa-b14a-b60df638361b",
   "metadata": {},
   "outputs": [],
   "source": [
    "sc.pl.umap(adata_integrate_raw, color = ['CD68', 'CSF1R'], frameon = False, layer = 'scvi_normalized', vmax = 5) #M2 macrophage-6\n",
    "sc.pl.umap(adata_integrate_raw, color = ['CD86', 'IL1B', 'IL6','TLR4'], frameon = False, layer = 'scvi_normalized', vmax = 5) #M1 macrophage\n",
    "\n"
   ]
  },
  {
   "cell_type": "code",
   "execution_count": null,
   "id": "40fc3c7d-3596-4743-a7d9-2c820cc322c9",
   "metadata": {},
   "outputs": [],
   "source": [
    "sc.pl.umap(adata_integrate_raw, color = ['COL6A2', 'LUM','PDGFRB'], frameon = False, layer = 'scvi_normalized', vmax = 30)  #Fibroblast 0 4\n"
   ]
  },
  {
   "cell_type": "code",
   "execution_count": null,
   "id": "c2a0ebeb-ff79-443e-b53c-3fab2b59d33a",
   "metadata": {},
   "outputs": [],
   "source": [
    "sc.pl.umap(adata_integrate_raw, color = ['TRBC2', 'CD3D'], frameon = False, layer = 'scvi_normalized', vmax = 5) #Tcell \n"
   ]
  },
  {
   "cell_type": "code",
   "execution_count": null,
   "id": "5b23a4c3-f03c-46cd-8f6f-6514910441dc",
   "metadata": {},
   "outputs": [],
   "source": [
    "sc.pl.umap(adata_integrate_raw, color = ['DCN','CFD'], frameon = False, layer = 'scvi_normalized', vmax = 20) #Fibrobast"
   ]
  },
  {
   "cell_type": "code",
   "execution_count": null,
   "id": "3865b07d-6d31-4445-a5b0-57b89effa762",
   "metadata": {},
   "outputs": [],
   "source": [
    "sc.pl.umap(adata_integrate_raw, color = ['LTC4S'], frameon = False, layer = 'scvi_normalized', vmax = 5) #Mastcell\n"
   ]
  },
  {
   "cell_type": "code",
   "execution_count": null,
   "id": "24d91e8a-9bfc-4a83-b97b-71aeb0cc9385",
   "metadata": {},
   "outputs": [],
   "source": [
    "sc.pl.umap(adata_integrate_raw, color = ['ACTA2','TAGLN','MYL9'], frameon = False, layer = 'scvi_normalized', vmax = 20) #SMC"
   ]
  },
  {
   "cell_type": "code",
   "execution_count": null,
   "id": "a23b0bbe-7d1a-4958-96bb-4199cb8af596",
   "metadata": {},
   "outputs": [],
   "source": [
    "sc.pl.umap(adata_integrate_raw, color = ['KRT5'], frameon = False, layer = 'scvi_normalized', vmax = 5) #BasalKera"
   ]
  },
  {
   "cell_type": "code",
   "execution_count": null,
   "id": "dbdf90b6-55ab-44c2-922c-47f87282c5d4",
   "metadata": {},
   "outputs": [],
   "source": [
    "sc.pl.umap(adata_integrate_raw, color = ['MITF','RAB38'], frameon = False, layer = 'scvi_normalized', vmax = 5) #Melanocytes"
   ]
  },
  {
   "cell_type": "code",
   "execution_count": null,
   "id": "874a5734-2d35-4960-aff9-0c0b1de66a24",
   "metadata": {},
   "outputs": [],
   "source": [
    "sc.pl.umap(adata_integrate_raw, color = ['IGKC'], frameon = False, layer = 'scvi_normalized', vmax = 30) #erythroid-like "
   ]
  },
  {
   "cell_type": "code",
   "execution_count": null,
   "id": "e14b0602-87cf-4c90-8ca8-9c179a819322",
   "metadata": {},
   "outputs": [],
   "source": [
    "cell_type = {\"0\":\"Fibroblast\",\n",
    "\"1\":\"SMC\",\n",
    "\"2\":\"Basalkera\",\n",
    "\"3\":\"VasEpithelial\",\n",
    "\"4\":\"Macrophage\",\n",
    "\"5\":\"Tcell\",\n",
    "\"6\":\"Basalkera\",\n",
    "\"7\":\"Mastcell\",\n",
    "\"8\":\"Melanocytes\",\n",
    "\"9\":\"VasEpithelial\",\n",
    "\"10\":\"Erythroid-like\",\n",
    "            }"
   ]
  },
  {
   "cell_type": "code",
   "execution_count": null,
   "id": "64fdc0e6-7bd7-4650-9280-0e7874612c94",
   "metadata": {},
   "outputs": [],
   "source": [
    "adata_integrate_raw.obs['cell type'] = adata_integrate_raw.obs.leiden.map(cell_type)\n",
    "sc.pl.umap(adata_integrate_raw, color = ['cell type'], frameon = False)\n"
   ]
  },
  {
   "cell_type": "code",
   "execution_count": null,
   "id": "9d29ffc0-df9f-4be5-8280-30b22bf3d1b1",
   "metadata": {},
   "outputs": [],
   "source": [
    "adata_integrate_raw"
   ]
  },
  {
   "cell_type": "code",
   "execution_count": null,
   "id": "f53b714c-0f53-4df7-abb9-086b7f3e35b2",
   "metadata": {},
   "outputs": [],
   "source": [
    "adata_integrate_raw.obs.Sample.unique().tolist()\n"
   ]
  },
  {
   "cell_type": "markdown",
   "id": "05e03e92-41cb-4e15-b376-d4d517086411",
   "metadata": {},
   "source": [
    "#Counting cell"
   ]
  },
  {
   "cell_type": "code",
   "execution_count": null,
   "id": "9c8ccc5e-a9b0-4583-acdd-5ab05498a41d",
   "metadata": {},
   "outputs": [],
   "source": [
    "def map_condition(x):\n",
    "    if 'Healthy' in x:\n",
    "        return 'Healthy'\n",
    "    elif 'Diabetic' in x:\n",
    "        return 'Diabetic'\n",
    "    elif 'DFU- healer' in x:\n",
    "        return 'DFU- healer'\n",
    "    else:\n",
    "        return 'DFU-non healer'"
   ]
  },
  {
   "cell_type": "code",
   "execution_count": null,
   "id": "95e614f8-2f9f-4eec-ab2b-3552e581515b",
   "metadata": {},
   "outputs": [],
   "source": [
    "adata_integrate_raw.obs['condition'] = adata_integrate_raw.obs.Sample.map(map_condition)\n",
    "print(adata_integrate_raw.obs)"
   ]
  },
  {
   "cell_type": "code",
   "execution_count": null,
   "id": "4c35fce6-65fd-420f-b006-7d62a05affc7",
   "metadata": {},
   "outputs": [],
   "source": [
    "num_tot_cells = adata_integrate_raw.obs.groupby(['Sample']).count()\n",
    "num_tot_cells = dict(zip(num_tot_cells.index, num_tot_cells.doublet))\n",
    "num_tot_cells"
   ]
  },
  {
   "cell_type": "code",
   "execution_count": null,
   "id": "b5e46596-d573-4064-9d1b-8058fe854ec4",
   "metadata": {},
   "outputs": [],
   "source": [
    "cell_type_counts = adata_integrate_raw.obs.groupby(['Sample', 'condition', 'cell type']).count()\n",
    "cell_type_counts = cell_type_counts[cell_type_counts.sum(axis = 1) > 0].reset_index()\n",
    "cell_type_counts = cell_type_counts[cell_type_counts.columns[0:4]]\n"
   ]
  },
  {
   "cell_type": "code",
   "execution_count": null,
   "id": "a6fb1391-6e90-4fcc-95ce-6c317a381b33",
   "metadata": {},
   "outputs": [],
   "source": [
    "import matplotlib.pyplot as plt\n",
    "\n",
    "plt.figure(figsize = (10,4))\n",
    "\n",
    "ax = sns.boxplot(data = cell_type_counts, x = 'cell type', y = 'frequency', hue = 'condition')\n",
    "\n",
    "plt.xticks(rotation = 45, rotation_mode = 'anchor', ha = 'right')\n",
    "\n",
    "plt.show()"
   ]
  },
  {
   "cell_type": "code",
   "execution_count": null,
   "id": "d64c16f4-c175-4323-bffa-b6bfe196bb71",
   "metadata": {},
   "outputs": [],
   "source": [
    "subset = adata_integrate_raw[adata_integrate_raw.obs['cell type'].isin(['Fibroblast'])].copy()\n"
   ]
  },
  {
   "cell_type": "code",
   "execution_count": null,
   "id": "1775835c-c70b-41af-84e2-40d890335ffb",
   "metadata": {},
   "outputs": [],
   "source": []
  },
  {
   "cell_type": "markdown",
   "id": "a0950511-abbb-4ac4-90bd-3a62b9eee9bd",
   "metadata": {},
   "source": [
    "# Extract DFU-Healer, DFU-Non-Healer "
   ]
  },
  {
   "cell_type": "code",
   "execution_count": null,
   "id": "8fd35bcf-c954-4147-9636-8940c9dd5aa9",
   "metadata": {},
   "outputs": [],
   "source": [
    "group_column = 'condition'\n",
    "groups_to_extract = ['DFU- healer', 'DFU-non healer']\n",
    "filter_adata_integrate_raw = adata_integrate_raw[adata_integrate_raw.obs['condition'].isin(groups_to_extract)]\n",
    "print(filter_adata_integrate_raw.obs)"
   ]
  },
  {
   "cell_type": "markdown",
   "id": "c6a4d1e8-294b-41d9-bc5b-0e3d248a8720",
   "metadata": {},
   "source": [
    "# Extract Fibroblast"
   ]
  },
  {
   "cell_type": "code",
   "execution_count": null,
   "id": "3bf33e2a-97e4-4134-b7b2-f026a895901d",
   "metadata": {},
   "outputs": [],
   "source": [
    "subset_cell_Fibroblast = filter_adata_integrate_raw[filter_adata_integrate_raw.obs['cell type'].isin(['Fibroblast'])].copy()"
   ]
  },
  {
   "cell_type": "code",
   "execution_count": null,
   "id": "0f377665-ed43-45bb-ad72-e67fb0fd8d42",
   "metadata": {},
   "outputs": [],
   "source": [
    "subset_cell_Fibroblast.obs"
   ]
  },
  {
   "cell_type": "code",
   "execution_count": null,
   "id": "f632f537-cfeb-454c-8728-d7a636ccebdc",
   "metadata": {},
   "outputs": [],
   "source": [
    "import diffxpy.api as de"
   ]
  },
  {
   "cell_type": "code",
   "execution_count": null,
   "id": "ec2b5789-27c3-4cf2-b004-32a82d4be1e7",
   "metadata": {},
   "outputs": [],
   "source": [
    "sc.pp.filter_genes(subset_cell_Fibroblast, min_cells=100)\n",
    "len(subset_cell_Fibroblast.var)\n"
   ]
  },
  {
   "cell_type": "code",
   "execution_count": null,
   "id": "ec59b10f-2011-40cb-9b7b-a017a5a208cb",
   "metadata": {},
   "outputs": [],
   "source": [
    "subset_cell_Macrophage = filter_adata_integrate_raw[filter_adata_integrate_raw.obs['cell type'].isin(['Macrophage'])].copy()"
   ]
  },
  {
   "cell_type": "code",
   "execution_count": null,
   "id": "27866d33-149f-41b6-9e95-b26bf7a6dac2",
   "metadata": {},
   "outputs": [],
   "source": []
  }
 ],
 "metadata": {
  "kernelspec": {
   "display_name": "Python 3 (ipykernel)",
   "language": "python",
   "name": "python3"
  },
  "language_info": {
   "codemirror_mode": {
    "name": "ipython",
    "version": 3
   },
   "file_extension": ".py",
   "mimetype": "text/x-python",
   "name": "python",
   "nbconvert_exporter": "python",
   "pygments_lexer": "ipython3",
   "version": "3.9.18"
  }
 },
 "nbformat": 4,
 "nbformat_minor": 5
}
